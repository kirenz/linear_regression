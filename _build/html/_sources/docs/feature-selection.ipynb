{
 "cells": [
  {
   "cell_type": "markdown",
   "id": "846de90e",
   "metadata": {},
   "source": [
    "# Feature selection"
   ]
  },
  {
   "cell_type": "markdown",
   "id": "efb8e7f7",
   "metadata": {},
   "source": [
    "The following content is mainly based on scikit learn documentations:\n",
    "\n",
    "- [Feature selection](https://scikit-learn.org/stable/modules/feature_selection.html)\n",
    "- [Model-based and sequential feature selection](https://scikit-learn.org/stable/auto_examples/feature_selection/plot_select_from_model_diabetes.html#sphx-glr-auto-examples-feature-selection-plot-select-from-model-diabetes-py) from Manoj Kumar, Maria Telenczuk and Nicolas Hug.\n",
    "- [Common pitfalls in the interpretation of coefficients of linear models](https://scikit-learn.org/stable/auto_examples/inspection/plot_linear_model_coefficient_interpretation.html#sphx-glr-auto-examples-inspection-plot-linear-model-coefficient-interpretation-py)"
   ]
  },
  {
   "cell_type": "markdown",
   "id": "1eac38e3",
   "metadata": {},
   "source": [
    "## Prepara data\n",
    "\n",
    "We use a data frame of major league baseball players to predict their salaries from some career statistics ([more information about data](https://rdrr.io/cran/ISLR/man/Hitters.html)). Note that the data is already preprocessed. \n",
    "\n",
    "*To get an overview about the data preparation, visit [this tutorial](https://kirenz.github.io/regression/docs/lasso.html#data).*"
   ]
  },
  {
   "cell_type": "code",
   "execution_count": 27,
   "id": "99101478",
   "metadata": {},
   "outputs": [
    {
     "name": "stdout",
     "output_type": "stream",
     "text": [
      "<class 'pandas.core.frame.DataFrame'>\n",
      "RangeIndex: 263 entries, 0 to 262\n",
      "Data columns (total 20 columns):\n",
      " #   Column       Non-Null Count  Dtype  \n",
      "---  ------       --------------  -----  \n",
      " 0   AtBat        263 non-null    float64\n",
      " 1   Hits         263 non-null    float64\n",
      " 2   HmRun        263 non-null    float64\n",
      " 3   Runs         263 non-null    float64\n",
      " 4   RBI          263 non-null    float64\n",
      " 5   Walks        263 non-null    float64\n",
      " 6   Years        263 non-null    float64\n",
      " 7   CAtBat       263 non-null    float64\n",
      " 8   CHits        263 non-null    float64\n",
      " 9   CHmRun       263 non-null    float64\n",
      " 10  CRuns        263 non-null    float64\n",
      " 11  CRBI         263 non-null    float64\n",
      " 12  CWalks       263 non-null    float64\n",
      " 13  PutOuts      263 non-null    float64\n",
      " 14  Assists      263 non-null    float64\n",
      " 15  Errors       263 non-null    float64\n",
      " 16  Salary       263 non-null    float64\n",
      " 17  League_N     263 non-null    int64  \n",
      " 18  Division_W   263 non-null    int64  \n",
      " 19  NewLeague_N  263 non-null    int64  \n",
      "dtypes: float64(17), int64(3)\n",
      "memory usage: 41.2 KB\n"
     ]
    }
   ],
   "source": [
    "import pandas as pd\n",
    "\n",
    "# import data\n",
    "df = pd.read_csv(\"https://raw.githubusercontent.com/kirenz/datasets/master/hitters-clean.csv\")\n",
    "df.info()"
   ]
  },
  {
   "cell_type": "code",
   "execution_count": 28,
   "id": "63b3ed2d",
   "metadata": {},
   "outputs": [],
   "source": [
    "# create label\n",
    "y = df['Salary']\n",
    "\n",
    "# create features\n",
    "X = df.drop(['Salary'], axis=1).astype(float)\n",
    "\n",
    "# create list of feature names\n",
    "feature_names =  X.columns"
   ]
  },
  {
   "cell_type": "code",
   "execution_count": 29,
   "id": "c6a0c04b",
   "metadata": {},
   "outputs": [],
   "source": [
    "from sklearn.model_selection import train_test_split\n",
    "\n",
    "# data split\n",
    "X_train, X_test, y_train, y_test = train_test_split(X, y, test_size=0.3, random_state=10)"
   ]
  },
  {
   "cell_type": "code",
   "execution_count": 30,
   "id": "019b4ea6",
   "metadata": {},
   "outputs": [],
   "source": [
    "from sklearn.preprocessing import StandardScaler\n",
    "\n",
    "# make list of numerical features (League_N, Division_W and NewLeague_N are categorcial) \n",
    "list_numerical = X.drop(['League_N', 'Division_W', 'NewLeague_N'], axis=1).columns\n",
    "\n",
    "# standardize numerical features\n",
    "scaler = StandardScaler().fit(X_train[list_numerical]) \n",
    "X_train[list_numerical] = scaler.transform(X_train[list_numerical])\n",
    "X_test[list_numerical] = scaler.transform(X_test[list_numerical])"
   ]
  },
  {
   "cell_type": "markdown",
   "id": "77371e54",
   "metadata": {},
   "source": [
    "## Model"
   ]
  },
  {
   "cell_type": "markdown",
   "id": "fda80d7c",
   "metadata": {},
   "source": [
    "We fit a lasso regression with 5-fold cross validation to choose the best regularization parameter based on the mean squared error:"
   ]
  },
  {
   "cell_type": "code",
   "execution_count": 31,
   "id": "81135ffa",
   "metadata": {},
   "outputs": [],
   "source": [
    "from sklearn.linear_model import LassoCV\n",
    "\n",
    "reg = LassoCV(cv=5, random_state=10, max_iter=10000).fit(X_train, y_train)"
   ]
  },
  {
   "cell_type": "code",
   "execution_count": 32,
   "id": "67443d35",
   "metadata": {},
   "outputs": [
    {
     "data": {
      "text/plain": [
       "2.3441244939374593"
      ]
     },
     "execution_count": 32,
     "metadata": {},
     "output_type": "execute_result"
    }
   ],
   "source": [
    "# show best alpha parameter\n",
    "reg.alpha_"
   ]
  },
  {
   "cell_type": "markdown",
   "id": "4f009f40",
   "metadata": {},
   "source": [
    "Show feature importance:"
   ]
  },
  {
   "cell_type": "code",
   "execution_count": 33,
   "id": "67cb8e05",
   "metadata": {},
   "outputs": [
    {
     "data": {
      "image/png": "[encoded data removed]",
      "text/plain": [
       "<Figure size 432x288 with 1 Axes>"
      ]
     },
     "metadata": {
      "needs_background": "light"
     },
     "output_type": "display_data"
    }
   ],
   "source": [
    "import seaborn as sns\n",
    "import numpy as np\n",
    "\n",
    "# get absolute values of coefficients\n",
    "importance = np.abs(reg.coef_)\n",
    "\n",
    "sns.barplot(x=importance, \n",
    "            y=feature_names);"
   ]
  },
  {
   "cell_type": "markdown",
   "id": "554a2ff9",
   "metadata": {},
   "source": [
    "## Feature selection"
   ]
  },
  {
   "cell_type": "markdown",
   "id": "dd1991b6",
   "metadata": {},
   "source": [
    "### Filter method \n",
    "\n",
    "In this example, we use feature importance as a filter to select our features. In particular, we want to select the two features which are the most important according to the coefficients. The function `SelectFromModel` is meant just for that. `SelectFromModel` accepts a threshold parameter and will select the features whose importance (defined by the coefficients) are above this threshold.\n",
    "\n",
    "In our case, we want to select only 2 features. Hence, we will set the threshold slightly above the coefficient of the third most important feature. We also record the time the algorithm takes to obtain the results."
   ]
  },
  {
   "cell_type": "code",
   "execution_count": 34,
   "id": "93c6e421",
   "metadata": {},
   "outputs": [
    {
     "name": "stdout",
     "output_type": "stream",
     "text": [
      "Features selected by SelectFromModel: Index(['Hits', 'CRuns'], dtype='object')\n",
      "Done in 0.563s\n"
     ]
    }
   ],
   "source": [
    "from sklearn.feature_selection import SelectFromModel\n",
    "from time import time\n",
    "\n",
    "# set threshold\n",
    "threshold = np.sort(importance)[-3] + 1\n",
    "\n",
    "# obtain time\n",
    "tic = time()\n",
    "\n",
    "# fit model\n",
    "sfm = SelectFromModel(reg, threshold=threshold).fit(X_train, y_train)\n",
    "\n",
    "# obtain time\n",
    "toc = time()\n",
    "\n",
    "# print results\n",
    "print(f\"Features selected by SelectFromModel: {feature_names[sfm.get_support()]}\")\n",
    "print(f\"Done in {toc - tic:.3f}s\")"
   ]
  },
  {
   "cell_type": "markdown",
   "id": "b27303e4",
   "metadata": {},
   "source": [
    "### Wrapper method \n",
    "\n",
    "Another way of selecting features is to use a (greedy) wrapper method with scikit learn's `SequentialFeatureSelector` (SFS). SFS is a greedy procedure where, at each iteration, we choose the best new feature to add to our selected features based a cross-validation score: \n",
    "\n",
    "- `Forward-Selection`: That is, we start with 0 features and choose the best single feature with the highest score. The procedure is repeated until we reach the desired number of selected features.\n",
    "\n",
    "- `Backward selection`: We can also go in the reverse direction (backward SFS), i.e. start with all the features and greedily choose features to remove one by one. We illustrate both approaches here."
   ]
  },
  {
   "cell_type": "markdown",
   "id": "9371bdde",
   "metadata": {},
   "source": [
    "#### Forward selection"
   ]
  },
  {
   "cell_type": "code",
   "execution_count": 35,
   "id": "4ec95ef6",
   "metadata": {},
   "outputs": [],
   "source": [
    "from sklearn.feature_selection import SequentialFeatureSelector\n",
    "\n",
    "tic_fwd = time()\n",
    "\n",
    "sfs_forward = SequentialFeatureSelector(\n",
    "    reg, n_features_to_select=2, \n",
    "    direction=\"forward\").fit(X_train, y_train)\n",
    "\n",
    "toc_fwd = time()"
   ]
  },
  {
   "cell_type": "code",
   "execution_count": 36,
   "id": "b62761a4",
   "metadata": {},
   "outputs": [
    {
     "name": "stdout",
     "output_type": "stream",
     "text": [
      "Features selected by forward sequential selection: Index(['Hits', 'CRBI'], dtype='object')\n",
      "Done in 12.594s\n"
     ]
    }
   ],
   "source": [
    "print(\n",
    "    \"Features selected by forward sequential selection: \"\n",
    "    f\"{feature_names[sfs_forward.get_support()]}\"\n",
    ")\n",
    "print(f\"Done in {toc_fwd - tic_fwd:.3f}s\")"
   ]
  },
  {
   "cell_type": "markdown",
   "id": "b691e175",
   "metadata": {},
   "source": [
    "#### Backward selection"
   ]
  },
  {
   "cell_type": "code",
   "execution_count": 37,
   "id": "e6775ac5",
   "metadata": {},
   "outputs": [],
   "source": [
    "tic_bwd = time()\n",
    "\n",
    "sfs_backward = SequentialFeatureSelector(\n",
    "    reg, n_features_to_select=2, \n",
    "    direction=\"backward\").fit(X_train, y_train)\n",
    "\n",
    "toc_bwd = time()"
   ]
  },
  {
   "cell_type": "code",
   "execution_count": 39,
   "id": "ccba7858",
   "metadata": {},
   "outputs": [
    {
     "name": "stdout",
     "output_type": "stream",
     "text": [
      "Features selected by backward sequential selection: Index(['Walks', 'CRuns'], dtype='object')\n",
      "Done in 82.384s\n"
     ]
    }
   ],
   "source": [
    "print(\n",
    "    \"Features selected by backward sequential selection: \"\n",
    "    f\"{feature_names[sfs_backward.get_support()]}\"\n",
    ")\n",
    "print(f\"Done in {toc_bwd - tic_bwd:.3f}s\")"
   ]
  },
  {
   "cell_type": "markdown",
   "id": "ddda9477",
   "metadata": {},
   "source": [
    "## Discussion\n",
    "\n",
    "Note that: \n",
    "\n",
    "- `SelectFromModel` is significantly faster than SFS since `SelectFromModel` only needs to fit a model once, while SFS needs to cross-validate many different models for each of the iterations.\n",
    "\n",
    "- SFS however works with any model, while `SelectFromModel` requires the underlying estimator to expose a `coef_` attribute or a `feature_importances_` attribute. \n",
    "\n",
    "- Forward selection is much faster than backward selection because it only needs to perform `n_features_to_select = 2` iterations, while the backward selection needs to perform `n_features` - `n_features_to_select`."
   ]
  }
 ],
 "metadata": {
  "interpreter": {
   "hash": "463226f144cc21b006ce6927bfc93dd00694e52c8bc6857abb6e555b983749e9"
  },
  "jupytext": {
   "cell_metadata_filter": "message,warning,-all",
   "main_language": "R",
   "notebook_metadata_filter": "-all"
  },
  "kernelspec": {
   "display_name": "Python 3.8.2 64-bit ('base': conda)",
   "language": "python",
   "name": "python3"
  },
  "language_info": {
   "codemirror_mode": {
    "name": "ipython",
    "version": 3
   },
   "file_extension": ".py",
   "mimetype": "text/x-python",
   "name": "python",
   "nbconvert_exporter": "python",
   "pygments_lexer": "ipython3",
   "version": "3.7.11"
  }
 },
 "nbformat": 4,
 "nbformat_minor": 5
}
