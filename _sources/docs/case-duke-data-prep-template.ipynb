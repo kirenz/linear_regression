{
 "cells": [
  {
   "cell_type": "markdown",
   "metadata": {},
   "source": [
    "# Create data prep file\n",
    "\n",
    "In the following example, we will create a simple Python file (.py) with Jupyter's magic commands. You need to use this notebook inside the folder you want to store the file.\n",
    "\n",
    "First, create a variable with the name of the file:"
   ]
  },
  {
   "cell_type": "code",
   "execution_count": 1,
   "metadata": {},
   "outputs": [],
   "source": [
    "_data_preparation_file = 'case_duke_data_prep.py'"
   ]
  },
  {
   "cell_type": "markdown",
   "metadata": {},
   "source": [
    "The following code block needs to start with the magic command %%writefile:"
   ]
  },
  {
   "cell_type": "code",
   "execution_count": null,
   "metadata": {},
   "outputs": [],
   "source": [
    "%%writefile {_data_preparation_file}\n",
    "\n",
    "import pandas as pd\n",
    "\n",
    "ROOT = \"https://raw.githubusercontent.com/kirenz/modern-statistics/main/data/\"\n",
    "DATA = \"duke-forest.csv\"\n",
    "\n",
    "df = pd.read_csv(ROOT + DATA)\n",
    "\n",
    "# drop column with too many missing values\n",
    "df = df.drop(['hoa'], axis=1)\n",
    "\n",
    "# drop remaining row with one missing value\n",
    "df = df.dropna()\n",
    "\n",
    "# Drop irrelevant features\n",
    "df = df.drop(['url', 'address'], axis=1)\n",
    "\n",
    "# Convert data types\n",
    "categorical_list = ['type', 'heating', 'cooling', 'parking']\n",
    "\n",
    "for i in categorical_list:\n",
    "    df[i] = df[i].astype(\"category\")\n",
    "\n",
    "# drop irrelavant columns\n",
    "df = df.drop(['type', 'heating', 'parking'], axis=1)"
   ]
  }
 ],
 "metadata": {
  "interpreter": {
   "hash": "463226f144cc21b006ce6927bfc93dd00694e52c8bc6857abb6e555b983749e9"
  },
  "kernelspec": {
   "display_name": "Python 3.9.7 ('base')",
   "language": "python",
   "name": "python3"
  },
  "language_info": {
   "codemirror_mode": {
    "name": "ipython",
    "version": 3
   },
   "file_extension": ".py",
   "mimetype": "text/x-python",
   "name": "python",
   "nbconvert_exporter": "python",
   "pygments_lexer": "ipython3",
   "version": "3.9.7"
  },
  "orig_nbformat": 4
 },
 "nbformat": 4,
 "nbformat_minor": 2
}
