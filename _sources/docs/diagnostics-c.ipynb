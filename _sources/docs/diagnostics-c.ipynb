{
 "cells": [
  {
   "cell_type": "markdown",
   "metadata": {
    "slideshow": {
     "slide_type": "slide"
    }
   },
   "source": [
    "# Regression diagnostics"
   ]
  },
  {
   "cell_type": "markdown",
   "metadata": {
    "slideshow": {
     "slide_type": "subslide"
    }
   },
   "source": [
    "When we fit a linear regression model to a particular data set, many problems may occur. Most common among these are the following {cite:p}`James2021`:\n",
    "\n",
    "1. Outliers and high-leverage points\n",
    "2. Non-linearity of the response-predictor relationship\n",
    "3. Non-constant variance of error terms (heteroscedasticity)\n",
    "4. Non-normally distributed errors\n",
    "5. Correlation of error terms\n",
    "6. Collinearity"
   ]
  },
  {
   "cell_type": "markdown",
   "metadata": {
    "slideshow": {
     "slide_type": "notes"
    }
   },
   "source": [
    "As an example of how to identify these problems, we use data about the prestige of canadian occupations to estimate a regression model with `prestige` as the response and `income` and `education` as predictors. Review this [site](https://vincentarelbundock.github.io/Rdatasets/doc/carData/Prestige.html) to learn more about the data.\n",
    "\n",
    "*This tutorial is mainly based on the excellent [statmodels documentation](https://www.statsmodels.org/dev/examples/notebooks/generated/regression_plots.html#Partial-Regression-Plots-(Crime-Data)) about regression plots.*"
   ]
  },
  {
   "cell_type": "markdown",
   "metadata": {
    "slideshow": {
     "slide_type": "slide"
    }
   },
   "source": [
    " ## Python setup"
   ]
  },
  {
   "cell_type": "code",
   "execution_count": null,
   "metadata": {
    "execution": {
     "iopub.execute_input": "2021-11-08T19:26:48.684009Z",
     "iopub.status.busy": "2021-11-08T19:26:48.682866Z",
     "iopub.status.idle": "2021-11-08T19:26:49.638188Z",
     "shell.execute_reply": "2021-11-08T19:26:49.639067Z"
    },
    "slideshow": {
     "slide_type": "subslide"
    }
   },
   "outputs": [],
   "source": [
    "import numpy as np\n",
    "import pandas as pd\n",
    "from patsy import dmatrices\n",
    "\n",
    "from statsmodels.compat import lzip\n",
    "import statsmodels.api as sm\n",
    "from statsmodels.formula.api import ols\n",
    "from statsmodels.stats.outliers_influence import variance_inflation_factor\n",
    "from statsmodels.tools.tools import add_constant\n",
    "\n",
    "import matplotlib.pyplot as plt\n",
    "import seaborn as sns\n",
    "\n",
    "%matplotlib inline\n",
    "plt.rc(\"figure\", figsize=(16, 8))\n",
    "plt.rc(\"font\", size=14)"
   ]
  },
  {
   "cell_type": "markdown",
   "metadata": {
    "slideshow": {
     "slide_type": "slide"
    }
   },
   "source": [
    "## Import data\n",
    "\n",
    "We use the function `.datasets.get_rdataset` to load the dataset from the <a href=\"https://vincentarelbundock.github.io/Rdatasets/\">Rdatasets package</a>. "
   ]
  },
  {
   "cell_type": "code",
   "execution_count": null,
   "metadata": {
    "slideshow": {
     "slide_type": "subslide"
    }
   },
   "outputs": [],
   "source": [
    "# import data\n",
    "df = sm.datasets.get_rdataset(\"Duncan\", \"carData\", cache=True).data"
   ]
  },
  {
   "cell_type": "code",
   "execution_count": null,
   "metadata": {
    "execution": {
     "iopub.execute_input": "2021-11-08T19:26:49.739445Z",
     "iopub.status.busy": "2021-11-08T19:26:49.738348Z",
     "iopub.status.idle": "2021-11-08T19:26:49.828161Z",
     "shell.execute_reply": "2021-11-08T19:26:49.828970Z"
    },
    "slideshow": {
     "slide_type": "fragment"
    }
   },
   "outputs": [],
   "source": [
    "# show head of DataFrame\n",
    "df.head()"
   ]
  },
  {
   "cell_type": "code",
   "execution_count": null,
   "metadata": {
    "slideshow": {
     "slide_type": "slide"
    }
   },
   "outputs": [],
   "source": [
    "# plot numerical data as pairs\n",
    "sns.___(df);"
   ]
  },
  {
   "cell_type": "markdown",
   "metadata": {
    "slideshow": {
     "slide_type": "notes"
    }
   },
   "source": [
    "Findings:\n",
    "\n",
    "- Positive association between prestige and eduction as well as between prestige and income\n",
    "- Relationships seem to be linear in both cases."
   ]
  },
  {
   "cell_type": "markdown",
   "metadata": {
    "slideshow": {
     "slide_type": "slide"
    }
   },
   "source": [
    "## Model"
   ]
  },
  {
   "cell_type": "code",
   "execution_count": null,
   "metadata": {
    "execution": {
     "iopub.execute_input": "2021-11-08T19:26:49.832765Z",
     "iopub.status.busy": "2021-11-08T19:26:49.831662Z",
     "iopub.status.idle": "2021-11-08T19:26:49.844450Z",
     "shell.execute_reply": "2021-11-08T19:26:49.845237Z"
    },
    "slideshow": {
     "slide_type": "subslide"
    }
   },
   "outputs": [],
   "source": [
    "# estimate the model and save it as lm (linear model)\n",
    "# dependent: prestige; features: income and education, data = df\n",
    "lm = ols(\"___ ~ ___ + ___\", data=___).fit()"
   ]
  },
  {
   "cell_type": "code",
   "execution_count": null,
   "metadata": {
    "execution": {
     "iopub.execute_input": "2021-11-08T19:26:49.849037Z",
     "iopub.status.busy": "2021-11-08T19:26:49.847763Z",
     "iopub.status.idle": "2021-11-08T19:26:49.866489Z",
     "shell.execute_reply": "2021-11-08T19:26:49.865671Z"
    },
    "slideshow": {
     "slide_type": "slide"
    }
   },
   "outputs": [],
   "source": [
    "# print regression results with .summary()\n",
    "print(lm.___())"
   ]
  },
  {
   "cell_type": "markdown",
   "metadata": {
    "slideshow": {
     "slide_type": "slide"
    }
   },
   "source": [
    "# Regression diagnostics"
   ]
  },
  {
   "cell_type": "markdown",
   "metadata": {
    "slideshow": {
     "slide_type": "slide"
    }
   },
   "source": [
    "## Outliers and high-leverage points\n",
    "\n",
    "In a regression analysis, single observations can have a strong influence on the results of the model. "
   ]
  },
  {
   "cell_type": "markdown",
   "metadata": {
    "slideshow": {
     "slide_type": "skip"
    }
   },
   "source": [
    "For example, in the plot below we can see how a single outlying data point can affect a model."
   ]
  },
  {
   "cell_type": "code",
   "execution_count": null,
   "metadata": {
    "scrolled": true,
    "slideshow": {
     "slide_type": "slide"
    },
    "tags": [
     "hide-input"
    ]
   },
   "outputs": [],
   "source": [
    "# HIDE CODE\n",
    "df_outlier = pd.DataFrame(\n",
    "        { 'observation': pd.Categorical([ \"A\", \"B\", \"C\", \"D\", \"E\" ]),\n",
    "          'x': np.array([1, 2, 3, 4, 5],dtype='int32'),\n",
    "          'y': np.array([2, 4, 6, 8, 2],dtype='int32')}\n",
    "        )\n",
    "\n",
    "sns.lmplot(x=\"x\", y=\"y\", data=df_outlier, ci=False);"
   ]
  },
  {
   "cell_type": "markdown",
   "metadata": {
    "slideshow": {
     "slide_type": "skip"
    }
   },
   "source": [
    "We can spot outliers by using graphs like the scatterplot above."
   ]
  },
  {
   "cell_type": "code",
   "execution_count": null,
   "metadata": {
    "slideshow": {
     "slide_type": "slide"
    }
   },
   "outputs": [],
   "source": [
    "sns.scatterplot(x='x', y='y', data=___);"
   ]
  },
  {
   "cell_type": "markdown",
   "metadata": {
    "slideshow": {
     "slide_type": "slide"
    }
   },
   "source": [
    "We just saw that outliers are observations for which the response $y_i$ is unusual given the predictor $x_i$. \n",
    "\n",
    "In contrast, observations with high **leverage** have an unusual value for $x_i$."
   ]
  },
  {
   "cell_type": "code",
   "execution_count": null,
   "metadata": {
    "scrolled": true,
    "slideshow": {
     "slide_type": "slide"
    },
    "tags": [
     "hide-input"
    ]
   },
   "outputs": [],
   "source": [
    "# HIDE CODE\n",
    "df_leverage = pd.DataFrame(\n",
    "        { 'observation': pd.Categorical([ \"A\", \"B\", \"C\", \"D\", \"E\" ]),\n",
    "          'x': np.array([1, 2, 3, 4, 20],dtype='int32'),\n",
    "          'y': np.array([2, 4, 6, 8, 30],dtype='int32')}\n",
    "        )\n",
    "\n",
    "sns.lmplot(x=\"__\", y=\"___\", data=df_leverage, ci=False);"
   ]
  },
  {
   "cell_type": "markdown",
   "metadata": {
    "slideshow": {
     "slide_type": "notes"
    }
   },
   "source": [
    "For example, the observation with a value of $x=20$ has high leverage, in that the predictor value for this observation is large relative to the other observations. The removal of the high leverage observation would have a substantial impact on the regression line. In general, high leverage observations tend to have a sizable impact on the estimated regression line. Therefore, it is important to detect influential observations and to take them into consideration when interpreting the results."
   ]
  },
  {
   "cell_type": "markdown",
   "metadata": {
    "slideshow": {
     "slide_type": "slide"
    }
   },
   "source": [
    "Again, we could use simple graphs to identify unusual observations. "
   ]
  },
  {
   "cell_type": "code",
   "execution_count": null,
   "metadata": {
    "slideshow": {
     "slide_type": "subslide"
    }
   },
   "outputs": [],
   "source": [
    "sns.scatterplot(x='x', y='y', data=___);"
   ]
  },
  {
   "cell_type": "code",
   "execution_count": null,
   "metadata": {
    "slideshow": {
     "slide_type": "slide"
    }
   },
   "outputs": [],
   "source": [
    "# Boxplot\n",
    "sns.___(x='x', data=df_leverage);"
   ]
  },
  {
   "cell_type": "markdown",
   "metadata": {
    "slideshow": {
     "slide_type": "slide"
    }
   },
   "source": [
    "### Influence plots"
   ]
  },
  {
   "cell_type": "markdown",
   "metadata": {
    "slideshow": {
     "slide_type": "subslide"
    }
   },
   "source": [
    "> Influence plots are used to identify influential data points. \n",
    "\n",
    "> They depend on both the residual and leverage i.e they take into account both the $x$ value and $y$ value of the observation."
   ]
  },
  {
   "cell_type": "markdown",
   "metadata": {
    "slideshow": {
     "slide_type": "notes"
    }
   },
   "source": [
    "We can use **influence plots** to identify observations in our independent variables which have \"unusual\" values in comparison to other values. \n",
    "\n",
    "Influence plots show the (externally) studentized residuals vs. the leverage of each observation:\n",
    "\n",
    "Dividing a statistic by a sample standard deviation is called **studentizing**, in analogy with standardizing and normalizing. The basic idea is to: \n",
    "\n",
    "1. Delete the observations one at a time.\n",
    "2. Refit the regression model each time on the remaining n–1 observations. \n",
    "3. Compare the observed response values to their fitted values based on the models with the ith observation deleted. This produces unstandardized deleted residuals. \n",
    "4. Standardising the deleted residuals produces studentized deleted residuals (also known as externally studentized residuals)\n",
    "\n",
    "In essence, externally studentized residuals are residuals that are scaled by their standard deviation. If an observation has an externally studentized residual that is larger than 3 (in absolute value) we can call it an outlier. However, values greater then 2 (in absolute values) are usually also of interest.\n",
    "\n",
    "**Leverage** is a measure of how far away the independent variable values of an observation are from those of the other observations. High-leverage points are outliers with respect to the independent variables. \n",
    "\n",
    "\n",
    "In statsmodels `.influence_plot` the influence of each point can be visualized by the `criterion` keyword argument. Options are Cook's distance and DFFITS, two measures of influence. Steps to compute Cook’s distance:\n",
    "\n",
    "1. Delete observations one at a time.\n",
    "2. Refit the regression model on remaining (n−1) observations\n",
    "3. Examine how much all of the fitted values change when the ith observation is deleted."
   ]
  },
  {
   "cell_type": "code",
   "execution_count": null,
   "metadata": {
    "execution": {
     "iopub.execute_input": "2021-11-08T19:26:49.870389Z",
     "iopub.status.busy": "2021-11-08T19:26:49.869263Z",
     "iopub.status.idle": "2021-11-08T19:26:50.266422Z",
     "shell.execute_reply": "2021-11-08T19:26:50.265901Z"
    },
    "slideshow": {
     "slide_type": "slide"
    }
   },
   "outputs": [],
   "source": [
    "fig = sm.graphics.influence_plot(___, criterion=\"cooks\")\n",
    "fig.tight_layout(pad=1.0)"
   ]
  },
  {
   "cell_type": "markdown",
   "metadata": {
    "slideshow": {
     "slide_type": "notes"
    }
   },
   "source": [
    "To identify values with high influence, we look for observations with:\n",
    "\n",
    "1. big blue points (high Cook's distance) and \n",
    "1. high leverage (X-axis) which additionally have \n",
    "2. high or low studentized residuals (Y-axis). \n",
    "\n",
    "There are a few worrisome observations with big blue dots in the plot:\n",
    "\n",
    "- `RR.engineer` has large leverage but small residual. \n",
    "- Both `contractor` and `reporter` have low leverage but a large residual. \n",
    "- `Conductor` and `minister` have both high leverage and large residuals, and, therefore, large influence.\n",
    "\n",
    "A general rule of thumb is that observations with a **Cook’s distance** over $4/n$ (where n is the number of observations) are possible outliers with leverage.  "
   ]
  },
  {
   "cell_type": "markdown",
   "metadata": {
    "slideshow": {
     "slide_type": "slide"
    }
   },
   "source": [
    "In addition to our plot, we can use the function `.get_influence()` to assess the influence of each observation and compare them to the cricital Cook's distance :"
   ]
  },
  {
   "cell_type": "code",
   "execution_count": null,
   "metadata": {
    "slideshow": {
     "slide_type": "subslide"
    }
   },
   "outputs": [],
   "source": [
    "# obtain Cook's distance \n",
    "# get_influence()\n",
    "lm_cooksd = lm.___().cooks_distance[0]\n",
    "\n",
    "# get length of df to obtain n\n",
    "# len\n",
    "n = ___(df[\"income\"])\n",
    "\n",
    "# calculate critical d\n",
    "critical_d = 4/n\n",
    "print('Critical Cooks distance:', critical_d)\n",
    "\n",
    "# identification of potential outliers with leverage\n",
    "out_d = lm_cooksd > ___\n",
    "\n",
    "# output potential outliers with leverage\n",
    "print(df.index[out_d], \"\\n\", \n",
    "    lm_cooksd[out_d])"
   ]
  },
  {
   "cell_type": "markdown",
   "metadata": {
    "slideshow": {
     "slide_type": "slide"
    }
   },
   "source": [
    "### Solutions\n",
    "\n",
    "If you have unusual observations in your data (unusual depends on your use case and domain knowledge) here some approaches to deal with them:"
   ]
  },
  {
   "cell_type": "markdown",
   "metadata": {
    "slideshow": {
     "slide_type": "subslide"
    }
   },
   "source": [
    "1. **Drop** the identified unusual observations.\n",
    "\n",
    "1. Analyse your data with **robust methods** like bootstrapping (sampling with replacement).\n",
    "\n",
    "1. **Trim** the data (delete a certain amount of scores from the extremes)\n",
    "\n",
    "1. **Windsorizing** (substitute outliers with the highest value that isn’t an outlier)\n",
    "\n",
    "1. **Transform** the data (by applying a mathematical function to scores - like a log transformation to reduce positive skew)."
   ]
  },
  {
   "cell_type": "markdown",
   "metadata": {
    "slideshow": {
     "slide_type": "notes"
    }
   },
   "source": [
    "A note on data transformations:\n",
    "\n",
    "Be aware that transforming the data helps as often as it hinders model performance (Games & Lucas, 1966). According to Games (1984):\n",
    "\n",
    "- Because of the central limit theorem, the sampling distribution will be normal in samples > 40 anyway.\n",
    "- Transforming the data changes the hypothesis being tested (e.g. when using a log transformation and comparing means you change from comparing arithmetic means to comparing geometric means)\n",
    "- In small samples it is tricky to determine normality one way or another.\n",
    "- The consequences for the statistical model of applying the \"wrong\" transformation could be worse than the consequences of analysing the untransformed scores."
   ]
  },
  {
   "cell_type": "markdown",
   "metadata": {
    "slideshow": {
     "slide_type": "slide"
    }
   },
   "source": [
    "## Non-linearity and heteroscedasticity"
   ]
  },
  {
   "cell_type": "markdown",
   "metadata": {
    "cell_style": "center",
    "slideshow": {
     "slide_type": "notes"
    }
   },
   "source": [
    "One crucial assumption of the linear regression model is the linear relationship between the response and the dependent variables. We can identify non-linear relationships in the regression model residuals if the residuals are not equally spread around the horizontal line (where the residuals are zero) but instead show a pattern, then this gives us an indication for a non-linear relationship. \n",
    "\n",
    ":::{note}\n",
    "We can deal with non-linear relationships via basis expansions (e.g. polynomial regression) or regression splines ([see {cite:t}`Kuhn2019`](http://www.feat.engineering/numeric-one-to-many.html#numeric-basis-functions))\n",
    ":::\n",
    "\n",
    "Another important assumption is that the error terms have a constant variance (homoscedasticity). For instance, the variances of the error terms may increase with the value of the response. One can identify non-constant variances in the errors, or heteroscedasticity, from the presence of a funnel shape in a residual plot. \n",
    "\n",
    "When faced with this problem, one possible solution is to use [weighted regression](https://www.statsmodels.org/dev/examples/notebooks/generated/wls.html). This type of regression assigns a weight to each data point based on the variance of its fitted value. Essentially, this gives small weights to data points that have higher variances, which shrinks their squared residuals. When the proper weights are used, this can eliminate the problem of heteroscedasticity."
   ]
  },
  {
   "cell_type": "markdown",
   "metadata": {
    "cell_style": "center",
    "slideshow": {
     "slide_type": "slide"
    }
   },
   "source": [
    "### Partial Regression Plots"
   ]
  },
  {
   "cell_type": "markdown",
   "metadata": {
    "slideshow": {
     "slide_type": "notes"
    }
   },
   "source": [
    "Since we are doing multivariate regressions, we cannot just look at individual bivariate plots (e.g., prestige and income) to identify the type of relationships between response and predictor. \n",
    "\n",
    "Instead, we want to look at the relationship of the dependent variable and independent variables *conditional* on the other independent variables. We can do this through using **partial regression plots**, otherwise known as **added variable plots**. "
   ]
  },
  {
   "cell_type": "markdown",
   "metadata": {
    "slideshow": {
     "slide_type": "subslide"
    }
   },
   "source": [
    "With partial regression plots you can:\n",
    "\n",
    "1. Investigate the relationship between a dependent and independent variables conditional on other independent varibales.\n",
    "2. Identify the effects of the individual data values on the estimation of a coefficient. \n",
    "3. Investigate violations of underlying assumptions such as linearity and homoscedasticity."
   ]
  },
  {
   "cell_type": "markdown",
   "metadata": {
    "slideshow": {
     "slide_type": "notes"
    }
   },
   "source": [
    "If we want to identify the relationship between `prestige` and `income`, we would proceed as follows (we name the independent variable of interest $X_k$ and all other independent variables $X_{\\sim k}$):\n",
    "\n",
    "<br/>\n",
    "\n",
    "1. Compute a regression model by regressing the response variable versus the independent variables excluding $X_k$:\n",
    "    - response variable: `prestige`\n",
    "    - $X_k$: `income`\n",
    "    - $X_{\\sim k}$: `education`\n",
    "    - Model($X_{\\sim k}$): `(prestige ~ education)`  \n",
    "\n",
    "<br/>\n",
    "\n",
    "2. Compute the residuals of Model($X_{\\sim k}$): \n",
    "    - $R_{X_{\\sim k}}$: residuals of Model($X_{\\sim k}$): \n",
    "\n",
    "<br/>\n",
    "\n",
    "3. Compute a new regression model by regressing $R_{X_{\\sim k}}$ on $X_{\\sim k}$. \n",
    "    - Model($X_k$): $R_{X_{\\sim k}}$ ~ `income`\n",
    "\n",
    "<br/>\n",
    "\n",
    "4. Compute the residuals of Model($X_k$): \n",
    "    - $R_{X_{k}}$: residuals of Model($X_{k}$): \n",
    "\n",
    "<br/>\n",
    "\n",
    "5. Make a partial regression plot by plotting the residuals from $R_{X_{\\sim k}}$ against the residuals from $R_{X_{k}}$:\n",
    "    - Plot with X = $R_{X_{k}}$ and Y = $R_{X_{\\sim k}}$\n",
    "\n",
    "<br/>\n",
    "\n",
    "For a quick check of all the regressors, you can use `plot_partregress_grid`. These plots will not label the \n",
    "points, but you can use them to identify problems and then use `plot_partregress` to get more information."
   ]
  },
  {
   "cell_type": "code",
   "execution_count": null,
   "metadata": {
    "scrolled": true,
    "slideshow": {
     "slide_type": "slide"
    }
   },
   "outputs": [],
   "source": [
    "fig = sm.graphics.plot_partregress_grid(lm)\n",
    "fig.tight_layout(pad=1.0)"
   ]
  },
  {
   "cell_type": "markdown",
   "metadata": {
    "slideshow": {
     "slide_type": "notes"
    }
   },
   "source": [
    "We observe a positive relationship between prestige and income as well as between prestige and education. The relationship seems to be linear in both cases.\n",
    "\n",
    "Next, let's take a closer look at the observations."
   ]
  },
  {
   "cell_type": "code",
   "execution_count": null,
   "metadata": {
    "slideshow": {
     "slide_type": "slide"
    }
   },
   "outputs": [],
   "source": [
    "# feature of interest: exog_i = income; exog_others = education\n",
    "\n",
    "sm.graphics.plot_partregress(\n",
    "                             endog='___', # response\n",
    "                             exog_i='income', # variable of interest\n",
    "                             exog_others=['___'], # other predictors\n",
    "                             data=___,  # dataframe\n",
    "                             obs_labels=True # show labels\n",
    "                             );"
   ]
  },
  {
   "cell_type": "code",
   "execution_count": null,
   "metadata": {
    "slideshow": {
     "slide_type": "slide"
    }
   },
   "outputs": [],
   "source": [
    "# same plot for education\n",
    "fig = sm.graphics.plot_partregress(\"prestige\", \"education\", [\"income\"], data=df)\n",
    "fig.tight_layout(pad=1.0)"
   ]
  },
  {
   "cell_type": "markdown",
   "metadata": {
    "slideshow": {
     "slide_type": "notes"
    }
   },
   "source": [
    "The partial regression plots confirm the influence of `conductor`, `minister` on the partial relationships between prestige and the predictors income and education. The influence of `reporter` is less obvious but since the observation was considered critical according to Cook`s D, we also drop this case.\n",
    "\n",
    "Note that influential cases potentially bias the effect of income and education on prestige. Therefore, we will drop these cases and perform a linear regression without them."
   ]
  },
  {
   "cell_type": "code",
   "execution_count": null,
   "metadata": {
    "slideshow": {
     "slide_type": "slide"
    }
   },
   "outputs": [],
   "source": [
    "# make a subset and flag as TRUE if index doesn't contain ... use ~\n",
    "subset = __df.index.isin([\"conductor\", \"minister\", \"reporter\"])\n",
    "\n",
    "print(df.index, \"\\n\", subset)"
   ]
  },
  {
   "cell_type": "code",
   "execution_count": null,
   "metadata": {
    "slideshow": {
     "slide_type": "slide"
    }
   },
   "outputs": [],
   "source": [
    "# compute regression without influential cases\n",
    "lm2 = ols(\"prestige ~ income + education\", data=df, subset=___).fit()\n",
    "\n",
    "print(lm2.summary())"
   ]
  },
  {
   "cell_type": "markdown",
   "metadata": {
    "slideshow": {
     "slide_type": "notes"
    }
   },
   "source": [
    "\n",
    "Dropping the influential cases confirms our believe. The new regression model without the influential cases is superior to the initial one. To see this, compare the regression summary above with our initial summary (e.g., see $R^2$, adjusted $R^2$ and the F-statistic)."
   ]
  },
  {
   "cell_type": "markdown",
   "metadata": {
    "slideshow": {
     "slide_type": "slide"
    }
   },
   "source": [
    "### CCPR plots"
   ]
  },
  {
   "cell_type": "markdown",
   "metadata": {
    "slideshow": {
     "slide_type": "notes"
    }
   },
   "source": [
    "The Component-Component plus Residual (CCPR) plot provides another way to judge the effect of one regressor on the response variable by taking into account the effects of the other independent variables. They are also a good way to see if the predictors have a linear relationship with the dependent variable."
   ]
  },
  {
   "cell_type": "markdown",
   "metadata": {
    "slideshow": {
     "slide_type": "notes"
    }
   },
   "source": [
    "A CCPR plot consists of a partial residuals plot and a component: \n",
    "\n",
    "1. The partial residuals plot is defined as $\\text{Residuals} + \\hat\\beta_{i} X_i \\text{ }\\text{ }$ versus $X_i$, where\n",
    "  \n",
    "    - Residuals = residuals from the full model\n",
    "    - $\\hat\\beta_{i}$ = regression coefficient from the ith independent variable in the full model\n",
    "    - $X_i$ = the ith independent variable\n",
    "\n",
    "2. The component adds $\\hat\\beta_{i}$ $X_i$ versus $X_i$ to show where the fitted line would lie. "
   ]
  },
  {
   "cell_type": "markdown",
   "metadata": {
    "slideshow": {
     "slide_type": "notes"
    }
   },
   "source": [
    " A significant difference between the residual line and the actual distribution of values indicates that the predictor does not have a linear relationship with the dependent variable. \n",
    "\n",
    "*Care should be taken if $X_i$ is highly correlated with any of the other independent variables (see multicollinearity). If this is the case, the variance evident in the plot will be an underestimate of the true variance.*"
   ]
  },
  {
   "cell_type": "code",
   "execution_count": null,
   "metadata": {
    "execution": {
     "iopub.execute_input": "2021-11-08T19:26:52.749496Z",
     "iopub.status.busy": "2021-11-08T19:26:52.748867Z",
     "iopub.status.idle": "2021-11-08T19:26:53.057570Z",
     "shell.execute_reply": "2021-11-08T19:26:53.058362Z"
    },
    "slideshow": {
     "slide_type": "slide"
    }
   },
   "outputs": [],
   "source": [
    "fig = sm.graphics.plot_ccpr(lm, \"education\")\n",
    "fig.tight_layout(pad=1.0)"
   ]
  },
  {
   "cell_type": "markdown",
   "metadata": {
    "slideshow": {
     "slide_type": "notes"
    }
   },
   "source": [
    "As you can see the relationship between the variation in $y$ explained by education conditional on income seems to be linear, though you can see there are some observations that are exerting considerable influence on the relationship (see section leverage). \n",
    "\n",
    "We can quickly look at more than one variable by using `plot_ccpr_grid`."
   ]
  },
  {
   "cell_type": "code",
   "execution_count": null,
   "metadata": {
    "execution": {
     "iopub.execute_input": "2021-11-08T19:26:53.064018Z",
     "iopub.status.busy": "2021-11-08T19:26:53.063427Z",
     "iopub.status.idle": "2021-11-08T19:26:53.519520Z",
     "shell.execute_reply": "2021-11-08T19:26:53.520910Z"
    },
    "slideshow": {
     "slide_type": "slide"
    }
   },
   "outputs": [],
   "source": [
    "fig = sm.graphics.plot_ccpr_grid(lm)\n",
    "fig.tight_layout(pad=1.0)"
   ]
  },
  {
   "cell_type": "markdown",
   "metadata": {
    "slideshow": {
     "slide_type": "slide"
    }
   },
   "source": [
    "### Residuals vs fitted plot"
   ]
  },
  {
   "cell_type": "markdown",
   "metadata": {
    "slideshow": {
     "slide_type": "notes"
    }
   },
   "source": [
    "Residual plots are a useful graphical tool for identifying non-linearity as well as heteroscedasticity. The residuals of this plot are those of the regression fit with all predictors. \n",
    "\n",
    "You can use [seaborn's residplot](https://seaborn.pydata.org/generated/seaborn.residplot.html) to investigate possible violations of underlying assumptions such as linearity and homoskedasticity."
   ]
  },
  {
   "cell_type": "code",
   "execution_count": null,
   "metadata": {
    "slideshow": {
     "slide_type": "slide"
    }
   },
   "outputs": [],
   "source": [
    "# fitted values\n",
    "model_fitted_y = lm.fittedvalues\n",
    "\n",
    "#  Plot\n",
    "plot = sns.___(x=___, y='___', data=df, lowess=True, \n",
    "                     scatter_kws={'alpha': 0.5}, \n",
    "                     line_kws={'color': 'red', 'lw': 1, 'alpha': 0.8})\n",
    "\n",
    "# Titel and labels\n",
    "plot.set_title('Residuals vs Fitted')\n",
    "plot.set_xlabel('Fitted values')\n",
    "plot.set_ylabel('Residuals');"
   ]
  },
  {
   "cell_type": "markdown",
   "metadata": {
    "slideshow": {
     "slide_type": "notes"
    }
   },
   "source": [
    "This plot shows how residuals are spread along the ranges of predictors. It’s a good sign if we observe relatively equal (randomly) spreaded points along the dotted horizontal line where the residuals are zero. \n",
    "\n",
    "The red line indicates the fit of a locally weighted scatterplot smoothing (lowess), a local regression method, to the residual scatterplot. **Local regression** is a different approach for fitting flexible non-linear functions, which involves computing the fit at a target point $x_0$ using only the nearby training observations {see cite:t}`James2021` for more details). \n",
    "\n",
    ":::{note}\n",
    "lowess creates a smooth line through the scatter plot to help us investigate the relationship between the fitted values and the residuals.\n",
    ":::\n",
    "\n",
    "We can interpret the result of our lowess fit as follows: The fit is almost equal to the dotted horizontal line where the residuals are zero. This is an indication for a linear relationship. Note that in the case of non-linear relationships, we typically observe a pattern which deviates strongly from a horizontal line.  \n",
    "\n",
    "Regarding **homoscedasticity**, the residuals seem to spread equally wide with an increase of x. This is an indication of homoscedasticiy. Next, we use the Breusch-Pagan Lagrange Multiplier test to confirm our assumption."
   ]
  },
  {
   "cell_type": "markdown",
   "metadata": {
    "slideshow": {
     "slide_type": "slide"
    }
   },
   "source": [
    "### Breusch-Pagan Lagrange Multiplier test"
   ]
  },
  {
   "cell_type": "markdown",
   "metadata": {
    "slideshow": {
     "slide_type": "fragment"
    }
   },
   "source": [
    "> The Breusch-Pagan Lagrange Multiplier test can be used to identify heteroscedasticity. \n",
    "\n",
    "- The test assumes homoscedasticity (this is the null hypothesis $H_0$) \n",
    "- This means that the residual variance does not depend on the values of the variables in x."
   ]
  },
  {
   "cell_type": "markdown",
   "metadata": {
    "slideshow": {
     "slide_type": "notes"
    }
   },
   "source": [
    "*Note that this test may exaggerate the significance of results in small or moderately large samples {cite:p}`Greene2000`. In this case the F-statistic is preferable.*"
   ]
  },
  {
   "cell_type": "markdown",
   "metadata": {
    "slideshow": {
     "slide_type": "fragment"
    }
   },
   "source": [
    "- If one of the test statistics is significant (i.e., p <= 0.05), then you have indication of heteroscedasticity. "
   ]
  },
  {
   "cell_type": "code",
   "execution_count": null,
   "metadata": {
    "slideshow": {
     "slide_type": "slide"
    }
   },
   "outputs": [],
   "source": [
    "name = ['Lagrange multiplier statistic', 'p-value', 'f-value', 'f p-value']\n",
    "test = sm.stats.het_breuschpagan(lm.resid, lm.model.exog)\n",
    "lzip(___, ___)"
   ]
  },
  {
   "cell_type": "markdown",
   "metadata": {
    "slideshow": {
     "slide_type": "fragment"
    }
   },
   "source": [
    "- In our case, both p-values are above 0.05, \n",
    "- This means we ____ the null hypothesis. \n",
    "- Therefore, we have an indication of _______. "
   ]
  },
  {
   "cell_type": "markdown",
   "metadata": {
    "slideshow": {
     "slide_type": "slide"
    }
   },
   "source": [
    "### Single Variable Regression Diagnostics"
   ]
  },
  {
   "cell_type": "markdown",
   "metadata": {
    "slideshow": {
     "slide_type": "subslide"
    }
   },
   "source": [
    "The `plot_regress_exog` function is a convenience function which can be used for quickly checking modeling assumptions with respect to a single regressor."
   ]
  },
  {
   "cell_type": "markdown",
   "metadata": {
    "slideshow": {
     "slide_type": "subslide"
    }
   },
   "source": [
    "It gives a 2x2 plot containing the: \n",
    "\n",
    "1. dependent variable and fitted values with prediction confidence intervals vs. the independent variable chosen, \n",
    "2. the residuals of the model vs. the chosen independent variable, \n",
    "3. a partial regression plot, and a \n",
    "4. CCPR plot. "
   ]
  },
  {
   "cell_type": "code",
   "execution_count": null,
   "metadata": {
    "execution": {
     "iopub.execute_input": "2021-11-08T19:26:53.550486Z",
     "iopub.status.busy": "2021-11-08T19:26:53.526103Z",
     "iopub.status.idle": "2021-11-08T19:26:54.334123Z",
     "shell.execute_reply": "2021-11-08T19:26:54.335208Z"
    },
    "scrolled": true,
    "slideshow": {
     "slide_type": "slide"
    }
   },
   "outputs": [],
   "source": [
    "fig = sm.graphics.plot_regress_exog(lm, \"income\")\n",
    "fig.tight_layout(pad=1.0)"
   ]
  },
  {
   "cell_type": "markdown",
   "metadata": {
    "slideshow": {
     "slide_type": "slide"
    }
   },
   "source": [
    "### Solutions"
   ]
  },
  {
   "cell_type": "markdown",
   "metadata": {
    "slideshow": {
     "slide_type": "subslide"
    }
   },
   "source": [
    "If we are faced with non-linear relationships between the dependent and independent variables, we can adjust the linear model via different methods (for more details, [see {cite:t}`Kuhn2019`](http://www.feat.engineering/numeric-one-to-many.html)):\n",
    "\n",
    "- Basis expansions (polynomial features) \n",
    "- Regression splines (especially natural cubic splines)\n",
    "- Locally weighted scatterplot smoothing (loess)\n",
    "- Generalized additive models (GAMs)"
   ]
  },
  {
   "cell_type": "markdown",
   "metadata": {
    "slideshow": {
     "slide_type": "notes"
    }
   },
   "source": [
    "In particular, GAMs extend general linear models to have nonlinear terms for individual predictors. GAM models can adaptively model separate basis functions for different variables and estimate the complexity for each. In other words, different predictors can be modeled with different levels of complexity {cite:p}`Kuhn2019`. \n",
    "\n",
    "In case of heteroscedasticity, you have the following options to get realsitic estimates of the standard errors:\n",
    "\n",
    "- Use heteroskedasticity-consistent standard error estimators for OLS regression (see [statsmodels](https://www.statsmodels.org/dev/generated/statsmodels.regression.linear_model.OLSResults.get_robustcov_results.html)\n",
    "\n",
    "- Use weight least squares (see [statsmodels](https://www.statsmodels.org/dev/examples/notebooks/generated/wls.html)) "
   ]
  },
  {
   "cell_type": "markdown",
   "metadata": {
    "slideshow": {
     "slide_type": "slide"
    }
   },
   "source": [
    "## Non-normally distributed errors"
   ]
  },
  {
   "cell_type": "markdown",
   "metadata": {
    "slideshow": {
     "slide_type": "fragment"
    }
   },
   "source": [
    "It can be helpful if the residuals in the model are random, normally distributed variables with a mean of 0. This assumption means that the differences between the predicted and observed data are most frequently zero or very close to zero, and that differences much greater than zero happen only occasionally. \n",
    "\n",
    "Note that non-normally distributed errors are not problematic for our model parameters but they may effect significance tests and confidence intervals."
   ]
  },
  {
   "cell_type": "markdown",
   "metadata": {
    "slideshow": {
     "slide_type": "slide"
    }
   },
   "source": [
    "### Jarque-Bera test"
   ]
  },
  {
   "cell_type": "markdown",
   "metadata": {
    "slideshow": {
     "slide_type": "fragment"
    }
   },
   "source": [
    "The Jarque–Bera (JB) test is a goodness-of-fit test of whether sample data have the [*skewness*](https://en.wikipedia.org/wiki/Skewness) and [*kurtosis*](https://en.wikipedia.org/wiki/Kurtosis) matching a normal distribution. "
   ]
  },
  {
   "cell_type": "markdown",
   "metadata": {
    "slideshow": {
     "slide_type": "fragment"
    }
   },
   "source": [
    "The null hypothesis ($H_0$) is a joint hypothesis of: \n",
    "\n",
    "1. the skewness being zero and \n",
    "2. the kurtosis being 3. \n",
    "\n",
    "- This means normal distribution"
   ]
  },
  {
   "cell_type": "markdown",
   "metadata": {
    "slideshow": {
     "slide_type": "notes"
    }
   },
   "source": [
    "Samples from a normal distribution have an:\n",
    "\n",
    "1. expected skewness of 0 and \n",
    "2. an expected *excess* kurtosis of 0 (which is the same as a kurtosis of 3). \n",
    " \n",
    "Any deviation from this assumptions increases the JB statistic. \n",
    "\n",
    "Next, we calculate the statistics but you can also find the results of the Jarque-Bera test in the regression summary. "
   ]
  },
  {
   "cell_type": "code",
   "execution_count": null,
   "metadata": {
    "slideshow": {
     "slide_type": "slide"
    }
   },
   "outputs": [],
   "source": [
    "name = ['Jarque-Bera', 'Chi^2 two-tail prob.', 'Skew', 'Kurtosis']\n",
    "test = sm.stats.jarque_bera(lm.resid)\n",
    "\n",
    "lzip(name, test)"
   ]
  },
  {
   "cell_type": "markdown",
   "metadata": {
    "slideshow": {
     "slide_type": "fragment"
    }
   },
   "source": [
    "- The p-value is above 0.05 and we can ____ $H_0$. \n",
    "- Therefore, the test gives us an indication that the errors are ______ distributed."
   ]
  },
  {
   "cell_type": "markdown",
   "metadata": {
    "slideshow": {
     "slide_type": "slide"
    }
   },
   "source": [
    "### Omnibus normtest"
   ]
  },
  {
   "cell_type": "markdown",
   "metadata": {
    "slideshow": {
     "slide_type": "fragment"
    }
   },
   "source": [
    "- Another test for normal distribution of residuals is the Omnibus normtest (also included in the regression summary). \n",
    "- The test allows us to check whether or not the model residuals follow an approximately normal distribution."
   ]
  },
  {
   "cell_type": "markdown",
   "metadata": {
    "slideshow": {
     "slide_type": "slide"
    }
   },
   "source": [
    "- Our null hypothesis ($H_0$) is that the residuals are from a normal distribution."
   ]
  },
  {
   "cell_type": "code",
   "execution_count": null,
   "metadata": {
    "slideshow": {
     "slide_type": "fragment"
    }
   },
   "outputs": [],
   "source": [
    "name = ['Chi^2', 'Two-tail probability']\n",
    "test = sm.stats.omni_normtest(lm.resid)\n",
    "lzip(name, test)"
   ]
  },
  {
   "cell_type": "markdown",
   "metadata": {
    "slideshow": {
     "slide_type": "fragment"
    }
   },
   "source": [
    "- The p-value is above 0.05 and we can _____ $H_0$. \n",
    "- Therefore, the test gives us an indication that the errors are from a _____ distribution."
   ]
  },
  {
   "cell_type": "markdown",
   "metadata": {
    "slideshow": {
     "slide_type": "slide"
    }
   },
   "source": [
    "### Solution\n",
    "\n",
    "- Note that the assumption of normality can be (at least partly) relaxed if the sample size N is large enough; the errors need not follow a normal distribution because of the [Central Limit Theorem (CLT)](https://en.wikipedia.org/wiki/Central_limit_theorem). \n",
    "- In other words, the assumption of normality is in most of the cases not crucial with large enough N (usually if N ≥ 50)."
   ]
  },
  {
   "cell_type": "markdown",
   "metadata": {
    "slideshow": {
     "slide_type": "slide"
    }
   },
   "source": [
    "## Correlation of error terms"
   ]
  },
  {
   "cell_type": "markdown",
   "metadata": {
    "slideshow": {
     "slide_type": "notes"
    }
   },
   "source": [
    "Another important assumption of the linear regression model is that the error terms are uncorrelated. If they are not, then p-values associated with the model will be lower than they should be and confidence intervalls are not reliable {cite:p}`James2021`.\n",
    "\n",
    "Correlated errors occur especially in the context of time series data. In order to determine if this is the case for a given data set, we can plot the residuals from our model as a function of time. If the errors are uncorrelated, then there should be no evident pattern. This means if the errors are uncorrelated, then the fact that $ϵ_i$ is positive provides little or no information about the sign of $ϵ_{i+1}$.\n",
    "\n",
    "Correlation among the error terms can also occur outside of time series data. For instance, consider a study in which individuals’ heights are predicted from their weights. The assumption of uncorrelated errors could be violated if some of the individuals in the study are members of the same family, or eat the same diet, or have been exposed to the same environmental factors {cite:p}`Field2013`. "
   ]
  },
  {
   "cell_type": "markdown",
   "metadata": {
    "slideshow": {
     "slide_type": "slide"
    }
   },
   "source": [
    "### Durbin-Watson test"
   ]
  },
  {
   "cell_type": "markdown",
   "metadata": {
    "slideshow": {
     "slide_type": "notes"
    }
   },
   "source": [
    "A test of autocorrelation that is designed to take account of the regression model is the **Durbin-Watson test** (also included in the regression summary). It is used to test the hypothesis that there is no **lag one autocorrelation** in the residuals. This means if there is no lag one autocorrelation, then information about $ϵ_i$ provides little or no information about $ϵ_{i+1}$."
   ]
  },
  {
   "cell_type": "markdown",
   "metadata": {
    "slideshow": {
     "slide_type": "fragment"
    }
   },
   "source": [
    "If there is no autocorrelation, the test-statistic is around 2. \n",
    "\n",
    "- This statistic will always be between 0 and 4. \n",
    "- The closer to 0 the statistic, the more evidence for positive serial correlation. \n",
    "- The closer to 4, the more evidence for negative serial correlation."
   ]
  },
  {
   "cell_type": "markdown",
   "metadata": {
    "slideshow": {
     "slide_type": "slide"
    }
   },
   "source": [
    "As a rough rule of thumb {cite:p}`Field2013`: \n",
    "\n",
    "- If Durbin–Watson is less than 1.0, there may be cause for concern. \n",
    "- Small values of d indicate successive error terms are positively correlated. \n",
    "- If d > 2, successive error terms are negatively correlated."
   ]
  },
  {
   "cell_type": "code",
   "execution_count": null,
   "metadata": {
    "slideshow": {
     "slide_type": "fragment"
    }
   },
   "outputs": [],
   "source": [
    "sm.stats.durbin_watson(lm.resid)"
   ]
  },
  {
   "cell_type": "markdown",
   "metadata": {
    "slideshow": {
     "slide_type": "slide"
    }
   },
   "source": [
    "### Solution\n",
    "\n",
    "- We can get consistent estimates of the standard errors with [Newey-West standard errors](https://en.wikipedia.org/wiki/Newey%E2%80%93West_estimator). See [statsmodels documentation](https://www.statsmodels.org/dev/generated/statsmodels.stats.sandwich_covariance.cov_hac.html) for implementation details. \n",
    "\n",
    "- Furthermore, you can use a [generalized least squares (GLS)](https://www.statsmodels.org/dev/generated/statsmodels.regression.linear_model.GLS.html) model instead of the ordinary least squares (OLS)."
   ]
  },
  {
   "cell_type": "markdown",
   "metadata": {
    "slideshow": {
     "slide_type": "notes"
    }
   },
   "source": [
    "In the case of correlated errors, you may also use a multilevel model (also known as hierarchical linear models, linear mixed-effect model, mixed models, nested data models, random coefficient, random-effects models, random parameter models, or split-plot designs).\n",
    "\n",
    "Multilevel models are particularly appropriate for research designs where data for participants are organized at more than one level (i.e., nested data). The units of analysis are usually individuals (at a lower level) who are nested within contextual/aggregate units (at a higher level).\n",
    "\n",
    "See [statsmodels' documentation](https://www.statsmodels.org/stable/mixed_linear.html) to learn how to implement multilevel models."
   ]
  },
  {
   "cell_type": "markdown",
   "metadata": {
    "slideshow": {
     "slide_type": "slide"
    }
   },
   "source": [
    "## Collinearity"
   ]
  },
  {
   "cell_type": "markdown",
   "metadata": {
    "slideshow": {
     "slide_type": "notes"
    }
   },
   "source": [
    "Collinearity refers to the situation in which two or more predictor variables collinearity are closely related to one another. The presence of collinearity can pose problems in the regression context, since it can be difficult to separate out the individual effects of collinear variables on the response. \n",
    "\n",
    "It is possible for collinearity to exist between three or more variables even if no pair of variables has a particularly high correlation. We call this situation **multicollinearity**. "
   ]
  },
  {
   "cell_type": "markdown",
   "metadata": {
    "slideshow": {
     "slide_type": "subslide"
    }
   },
   "source": [
    "### Correlation matrix"
   ]
  },
  {
   "cell_type": "markdown",
   "metadata": {
    "slideshow": {
     "slide_type": "notes"
    }
   },
   "source": [
    "A simple way to detect collinearity is to look at the **correlation matrix** of the predictors. An element of this matrix that is large in absolute value indicates a pair of highly correlated variables, and therefore a collinearity problem in the data. \n",
    "\n",
    "Unfortunately, not all collinearity problems can be detected by inspection of the correlation matrix since it is possible for collinearity to exist between three or more variables even if no pair of variables has a particularly high correlation. "
   ]
  },
  {
   "cell_type": "code",
   "execution_count": null,
   "metadata": {
    "slideshow": {
     "slide_type": "slide"
    }
   },
   "outputs": [],
   "source": [
    "# Inspect correlation\n",
    "# Calculate correlation using the default method ( \"pearson\")\n",
    "corr = df.corr()\n",
    "# optimize aesthetics: generate mask for removing duplicate / unnecessary info\n",
    "mask = np.zeros_like(corr, dtype=bool)\n",
    "mask[np.triu_indices_from(mask)] = True\n",
    "# Generate a custom diverging colormap as indicator for correlations:\n",
    "cmap = sns.diverging_palette(220, 10, as_cmap=True)\n",
    "# Plot\n",
    "sns.heatmap(corr, mask=mask, cmap=cmap, annot=True,  square=True, annot_kws={\"size\": 12});"
   ]
  },
  {
   "cell_type": "markdown",
   "metadata": {
    "slideshow": {
     "slide_type": "slide"
    }
   },
   "source": [
    "### Variance inflation factor (VIF)"
   ]
  },
  {
   "cell_type": "markdown",
   "metadata": {
    "slideshow": {
     "slide_type": "fragment"
    }
   },
   "source": [
    "- Instead of inspecting the correlation matrix, a better way to assess **multicollinearity** is to compute the variance inflation factor (VIF). \n",
    "\n",
    "- Note that we ignore the intercept in this test."
   ]
  },
  {
   "cell_type": "markdown",
   "metadata": {
    "slideshow": {
     "slide_type": "subslide"
    }
   },
   "source": [
    "- The smallest possible value for VIF is 1, which indicates the complete absence of collinearity. \n",
    "- Typically in practice there is a small amount of collinearity among the predictors. \n",
    "- As a rule of thumb, a VIF value that exceeds 5 indicates a problematic amount of collinearity and the parameter estimates will have large standard errors because of this. "
   ]
  },
  {
   "cell_type": "markdown",
   "metadata": {
    "slideshow": {
     "slide_type": "subslide"
    }
   },
   "source": [
    "- Note that the function `variance_inflation_factor` expects the presence of a constant in the matrix of explanatory variables. \n",
    "\n",
    "- Therefore, we use `add_constant` from statsmodels to add the required constant to the dataframe before passing its values to the function."
   ]
  },
  {
   "cell_type": "code",
   "execution_count": null,
   "metadata": {
    "slideshow": {
     "slide_type": "slide"
    }
   },
   "outputs": [],
   "source": [
    "# choose features and add constant\n",
    "features = ___(df[['income', 'education']])\n",
    "\n",
    "# create empty DataFrame\n",
    "vif = pd.DataFrame()\n",
    "\n",
    "# calculate vif\n",
    "vif[\"VIF Factor\"] = [variance_inflation_factor(features.values, i) for i in range(features.shape[1])]\n",
    "\n",
    "# add feature names\n",
    "vif[\"Feature\"] = features.columns\n",
    "\n",
    "vif.round(2)"
   ]
  },
  {
   "cell_type": "markdown",
   "metadata": {
    "slideshow": {
     "slide_type": "notes"
    }
   },
   "source": [
    "We don't have a problematic amount of collinearity in our data."
   ]
  },
  {
   "cell_type": "markdown",
   "metadata": {
    "slideshow": {
     "slide_type": "slide"
    }
   },
   "source": [
    "### Solution\n",
    "\n",
    "- A simple solution would be to remove some of the highly correlated features. \n",
    "- Furthermore, you could manually combine some features (e.g. adding them together) or use a method which automatically combines features, such as principal components analysis or partial least squares regression."
   ]
  }
 ],
 "metadata": {
  "celltoolbar": "Slideshow",
  "kernelspec": {
   "display_name": "Python 3 (ipykernel)",
   "language": "python",
   "name": "python3"
  },
  "language_info": {
   "codemirror_mode": {
    "name": "ipython",
    "version": 3
   },
   "file_extension": ".py",
   "mimetype": "text/x-python",
   "name": "python",
   "nbconvert_exporter": "python",
   "pygments_lexer": "ipython3",
   "version": "3.9.12"
  },
  "toc": {
   "base_numbering": 1,
   "nav_menu": {},
   "number_sections": true,
   "sideBar": true,
   "skip_h1_title": true,
   "title_cell": "Table of Contents",
   "title_sidebar": "Contents",
   "toc_cell": true,
   "toc_position": {},
   "toc_section_display": true,
   "toc_window_display": true
  },
  "varInspector": {
   "cols": {
    "lenName": 16,
    "lenType": 16,
    "lenVar": 40
   },
   "kernels_config": {
    "python": {
     "delete_cmd_postfix": "",
     "delete_cmd_prefix": "del ",
     "library": "var_list.py",
     "varRefreshCmd": "print(var_dic_list())"
    },
    "r": {
     "delete_cmd_postfix": ") ",
     "delete_cmd_prefix": "rm(",
     "library": "var_list.r",
     "varRefreshCmd": "cat(var_dic_list()) "
    }
   },
   "types_to_exclude": [
    "module",
    "function",
    "builtin_function_or_method",
    "instance",
    "_Feature"
   ],
   "window_display": false
  }
 },
 "nbformat": 4,
 "nbformat_minor": 4
}
