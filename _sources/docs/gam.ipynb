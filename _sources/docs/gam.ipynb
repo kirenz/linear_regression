{
 "cells": [
  {
   "cell_type": "markdown",
   "metadata": {
    "slideshow": {
     "slide_type": "slide"
    }
   },
   "source": [
    "# Generalized Additive Models (GAM)"
   ]
  },
  {
   "cell_type": "markdown",
   "metadata": {
    "slideshow": {
     "slide_type": "notes"
    }
   },
   "source": [
    "*The following code tutorial is mainly based on the [statsmodels documentation](https://www.statsmodels.org/v0.10.0/gam.html) about generalized additive models (GAM). To learn more about this method, review [\"An Introduction to Statistical Learning\"](https://www.statlearning.com/) from {cite:t}`James2021`. GAMs were originally developed by Trevor Hastie and Robert Tibshirani (who are two coauthors of {cite:t}`James2021`) to blend properties of generalized linear models with additive models.*"
   ]
  },
  {
   "cell_type": "markdown",
   "metadata": {
    "slideshow": {
     "slide_type": "slide"
    }
   },
   "source": [
    "- A generalized additive model (GAM) is a way to extend the multiple linear regression model {cite:p}`James2021`). \n",
    "- Remember that the basic regression model can be stated as:\n",
    "\n",
    "$$y_i = \\beta_0 + \\beta_1 x_{i1} + \\beta_2 x_{i2} + ... + \\beta_P x_{iP} + \\epsilon_i$$\n",
    "\n",
    "- which equals\n",
    "\n",
    "$$y_i = \\beta_0 + \\sum_{j=1}^{p} \\beta x_{ij} + \\epsilon_i$$\n",
    "\n",
    "- In order to allow for non-linear relationships between each feature and the response we need to replace each linear component $\\beta_j x_{ij}$ with a (smooth) nonlinear function $f_j (x_{ij})$. We would then write the model as:\n",
    "\n",
    "$$y_i = \\beta_0 + \\sum_{j=1}^{p} f(x_{ij}) + \\epsilon_i$$\n",
    "\n",
    "- This is an example of a GAM. It is called an *additive* model because we calculate a separate $f_j$ for each $X_j$, and then add together all of their contributions."
   ]
  },
  {
   "cell_type": "markdown",
   "metadata": {
    "slideshow": {
     "slide_type": "slide"
    }
   },
   "source": [
    "In particular, generalized additive models allow us to use and combine regression splines, smoothing splines and local regression to deal with multiple predictors in one model. This means you can combine the different methods in your model and are able to decide which method to use for every feature. Note that in most situations, the differences in the GAMs obtained using smoothing splines versus natural splines are small {cite:p}`James2021`).\n",
    "\n",
    "In [](splines.ipynb), we discussed regression splines, which we created by specifying a set of knots, producing a sequence of basis functions, and then using least squares to estimate the spline coefficients. \n",
    "\n",
    "In this tutorial, we use a GAM with a reguralized estimation of [smooth components using B-Splines](https://www.statsmodels.org/stable/generated/statsmodels.gam.smooth_basis.BSplines.html#statsmodels.gam.smooth_basis.BSplines). We could also use additive smooth components using [cyclic cubic regression splines](https://www.statsmodels.org/stable/generated/statsmodels.gam.smooth_basis.CyclicCubicSplines.html#statsmodels.gam.smooth_basis.CyclicCubicSplines)."
   ]
  },
  {
   "cell_type": "markdown",
   "metadata": {
    "slideshow": {
     "slide_type": "slide"
    }
   },
   "source": [
    "## Data preparation\n",
    "\n",
    "See [](hitters_data.ipynb) for details about data preprocessing."
   ]
  },
  {
   "cell_type": "code",
   "execution_count": 1,
   "metadata": {
    "slideshow": {
     "slide_type": "fragment"
    }
   },
   "outputs": [],
   "source": [
    "from hitters_data import *"
   ]
  },
  {
   "cell_type": "code",
   "execution_count": 2,
   "metadata": {
    "slideshow": {
     "slide_type": "slide"
    }
   },
   "outputs": [
    {
     "data": {
      "text/html": [
       "<div>\n",
       "<style scoped>\n",
       "    .dataframe tbody tr th:only-of-type {\n",
       "        vertical-align: middle;\n",
       "    }\n",
       "\n",
       "    .dataframe tbody tr th {\n",
       "        vertical-align: top;\n",
       "    }\n",
       "\n",
       "    .dataframe thead th {\n",
       "        text-align: right;\n",
       "    }\n",
       "</style>\n",
       "<table border=\"1\" class=\"dataframe\">\n",
       "  <thead>\n",
       "    <tr style=\"text-align: right;\">\n",
       "      <th></th>\n",
       "      <th>AtBat</th>\n",
       "      <th>Hits</th>\n",
       "      <th>HmRun</th>\n",
       "      <th>Runs</th>\n",
       "      <th>RBI</th>\n",
       "      <th>Walks</th>\n",
       "      <th>Years</th>\n",
       "      <th>CAtBat</th>\n",
       "      <th>CHits</th>\n",
       "      <th>CHmRun</th>\n",
       "      <th>CRuns</th>\n",
       "      <th>CRBI</th>\n",
       "      <th>CWalks</th>\n",
       "      <th>PutOuts</th>\n",
       "      <th>Assists</th>\n",
       "      <th>Errors</th>\n",
       "      <th>League_N</th>\n",
       "      <th>Division_W</th>\n",
       "      <th>NewLeague_N</th>\n",
       "      <th>Salary</th>\n",
       "    </tr>\n",
       "  </thead>\n",
       "  <tbody>\n",
       "    <tr>\n",
       "      <th>260</th>\n",
       "      <td>496.0</td>\n",
       "      <td>119.0</td>\n",
       "      <td>8.0</td>\n",
       "      <td>57.0</td>\n",
       "      <td>33.0</td>\n",
       "      <td>21.0</td>\n",
       "      <td>7.0</td>\n",
       "      <td>3358.0</td>\n",
       "      <td>882.0</td>\n",
       "      <td>36.0</td>\n",
       "      <td>365.0</td>\n",
       "      <td>280.0</td>\n",
       "      <td>165.0</td>\n",
       "      <td>155.0</td>\n",
       "      <td>371.0</td>\n",
       "      <td>29.0</td>\n",
       "      <td>1</td>\n",
       "      <td>1</td>\n",
       "      <td>1</td>\n",
       "      <td>875.0</td>\n",
       "    </tr>\n",
       "    <tr>\n",
       "      <th>92</th>\n",
       "      <td>317.0</td>\n",
       "      <td>78.0</td>\n",
       "      <td>7.0</td>\n",
       "      <td>35.0</td>\n",
       "      <td>35.0</td>\n",
       "      <td>32.0</td>\n",
       "      <td>1.0</td>\n",
       "      <td>317.0</td>\n",
       "      <td>78.0</td>\n",
       "      <td>7.0</td>\n",
       "      <td>35.0</td>\n",
       "      <td>35.0</td>\n",
       "      <td>32.0</td>\n",
       "      <td>45.0</td>\n",
       "      <td>122.0</td>\n",
       "      <td>26.0</td>\n",
       "      <td>0</td>\n",
       "      <td>0</td>\n",
       "      <td>0</td>\n",
       "      <td>70.0</td>\n",
       "    </tr>\n",
       "    <tr>\n",
       "      <th>137</th>\n",
       "      <td>343.0</td>\n",
       "      <td>103.0</td>\n",
       "      <td>6.0</td>\n",
       "      <td>48.0</td>\n",
       "      <td>36.0</td>\n",
       "      <td>40.0</td>\n",
       "      <td>15.0</td>\n",
       "      <td>4338.0</td>\n",
       "      <td>1193.0</td>\n",
       "      <td>70.0</td>\n",
       "      <td>581.0</td>\n",
       "      <td>421.0</td>\n",
       "      <td>325.0</td>\n",
       "      <td>211.0</td>\n",
       "      <td>56.0</td>\n",
       "      <td>13.0</td>\n",
       "      <td>0</td>\n",
       "      <td>0</td>\n",
       "      <td>0</td>\n",
       "      <td>430.0</td>\n",
       "    </tr>\n",
       "    <tr>\n",
       "      <th>90</th>\n",
       "      <td>314.0</td>\n",
       "      <td>83.0</td>\n",
       "      <td>13.0</td>\n",
       "      <td>39.0</td>\n",
       "      <td>46.0</td>\n",
       "      <td>16.0</td>\n",
       "      <td>5.0</td>\n",
       "      <td>1457.0</td>\n",
       "      <td>405.0</td>\n",
       "      <td>28.0</td>\n",
       "      <td>156.0</td>\n",
       "      <td>159.0</td>\n",
       "      <td>76.0</td>\n",
       "      <td>533.0</td>\n",
       "      <td>40.0</td>\n",
       "      <td>4.0</td>\n",
       "      <td>0</td>\n",
       "      <td>1</td>\n",
       "      <td>0</td>\n",
       "      <td>431.5</td>\n",
       "    </tr>\n",
       "    <tr>\n",
       "      <th>100</th>\n",
       "      <td>495.0</td>\n",
       "      <td>151.0</td>\n",
       "      <td>17.0</td>\n",
       "      <td>61.0</td>\n",
       "      <td>84.0</td>\n",
       "      <td>78.0</td>\n",
       "      <td>10.0</td>\n",
       "      <td>5624.0</td>\n",
       "      <td>1679.0</td>\n",
       "      <td>275.0</td>\n",
       "      <td>884.0</td>\n",
       "      <td>1015.0</td>\n",
       "      <td>709.0</td>\n",
       "      <td>1045.0</td>\n",
       "      <td>88.0</td>\n",
       "      <td>13.0</td>\n",
       "      <td>0</td>\n",
       "      <td>0</td>\n",
       "      <td>0</td>\n",
       "      <td>2460.0</td>\n",
       "    </tr>\n",
       "    <tr>\n",
       "      <th>...</th>\n",
       "      <td>...</td>\n",
       "      <td>...</td>\n",
       "      <td>...</td>\n",
       "      <td>...</td>\n",
       "      <td>...</td>\n",
       "      <td>...</td>\n",
       "      <td>...</td>\n",
       "      <td>...</td>\n",
       "      <td>...</td>\n",
       "      <td>...</td>\n",
       "      <td>...</td>\n",
       "      <td>...</td>\n",
       "      <td>...</td>\n",
       "      <td>...</td>\n",
       "      <td>...</td>\n",
       "      <td>...</td>\n",
       "      <td>...</td>\n",
       "      <td>...</td>\n",
       "      <td>...</td>\n",
       "      <td>...</td>\n",
       "    </tr>\n",
       "    <tr>\n",
       "      <th>274</th>\n",
       "      <td>522.0</td>\n",
       "      <td>140.0</td>\n",
       "      <td>16.0</td>\n",
       "      <td>73.0</td>\n",
       "      <td>77.0</td>\n",
       "      <td>60.0</td>\n",
       "      <td>4.0</td>\n",
       "      <td>730.0</td>\n",
       "      <td>185.0</td>\n",
       "      <td>22.0</td>\n",
       "      <td>93.0</td>\n",
       "      <td>106.0</td>\n",
       "      <td>86.0</td>\n",
       "      <td>1320.0</td>\n",
       "      <td>166.0</td>\n",
       "      <td>17.0</td>\n",
       "      <td>1</td>\n",
       "      <td>0</td>\n",
       "      <td>1</td>\n",
       "      <td>200.0</td>\n",
       "    </tr>\n",
       "    <tr>\n",
       "      <th>196</th>\n",
       "      <td>464.0</td>\n",
       "      <td>128.0</td>\n",
       "      <td>28.0</td>\n",
       "      <td>67.0</td>\n",
       "      <td>94.0</td>\n",
       "      <td>52.0</td>\n",
       "      <td>13.0</td>\n",
       "      <td>5829.0</td>\n",
       "      <td>1552.0</td>\n",
       "      <td>210.0</td>\n",
       "      <td>740.0</td>\n",
       "      <td>840.0</td>\n",
       "      <td>452.0</td>\n",
       "      <td>0.0</td>\n",
       "      <td>0.0</td>\n",
       "      <td>0.0</td>\n",
       "      <td>0</td>\n",
       "      <td>1</td>\n",
       "      <td>0</td>\n",
       "      <td>587.5</td>\n",
       "    </tr>\n",
       "    <tr>\n",
       "      <th>159</th>\n",
       "      <td>616.0</td>\n",
       "      <td>163.0</td>\n",
       "      <td>27.0</td>\n",
       "      <td>83.0</td>\n",
       "      <td>107.0</td>\n",
       "      <td>32.0</td>\n",
       "      <td>3.0</td>\n",
       "      <td>1437.0</td>\n",
       "      <td>377.0</td>\n",
       "      <td>65.0</td>\n",
       "      <td>181.0</td>\n",
       "      <td>227.0</td>\n",
       "      <td>82.0</td>\n",
       "      <td>110.0</td>\n",
       "      <td>308.0</td>\n",
       "      <td>15.0</td>\n",
       "      <td>0</td>\n",
       "      <td>1</td>\n",
       "      <td>0</td>\n",
       "      <td>200.0</td>\n",
       "    </tr>\n",
       "    <tr>\n",
       "      <th>17</th>\n",
       "      <td>190.0</td>\n",
       "      <td>46.0</td>\n",
       "      <td>2.0</td>\n",
       "      <td>24.0</td>\n",
       "      <td>8.0</td>\n",
       "      <td>15.0</td>\n",
       "      <td>5.0</td>\n",
       "      <td>479.0</td>\n",
       "      <td>102.0</td>\n",
       "      <td>5.0</td>\n",
       "      <td>65.0</td>\n",
       "      <td>23.0</td>\n",
       "      <td>39.0</td>\n",
       "      <td>102.0</td>\n",
       "      <td>177.0</td>\n",
       "      <td>16.0</td>\n",
       "      <td>0</td>\n",
       "      <td>1</td>\n",
       "      <td>0</td>\n",
       "      <td>175.0</td>\n",
       "    </tr>\n",
       "    <tr>\n",
       "      <th>162</th>\n",
       "      <td>165.0</td>\n",
       "      <td>39.0</td>\n",
       "      <td>2.0</td>\n",
       "      <td>13.0</td>\n",
       "      <td>9.0</td>\n",
       "      <td>16.0</td>\n",
       "      <td>3.0</td>\n",
       "      <td>196.0</td>\n",
       "      <td>44.0</td>\n",
       "      <td>2.0</td>\n",
       "      <td>18.0</td>\n",
       "      <td>10.0</td>\n",
       "      <td>18.0</td>\n",
       "      <td>332.0</td>\n",
       "      <td>19.0</td>\n",
       "      <td>2.0</td>\n",
       "      <td>0</td>\n",
       "      <td>1</td>\n",
       "      <td>1</td>\n",
       "      <td>75.0</td>\n",
       "    </tr>\n",
       "  </tbody>\n",
       "</table>\n",
       "<p>184 rows × 20 columns</p>\n",
       "</div>"
      ],
      "text/plain": [
       "     AtBat   Hits  HmRun  Runs    RBI  Walks  Years  CAtBat   CHits  CHmRun  \\\n",
       "260  496.0  119.0    8.0  57.0   33.0   21.0    7.0  3358.0   882.0    36.0   \n",
       "92   317.0   78.0    7.0  35.0   35.0   32.0    1.0   317.0    78.0     7.0   \n",
       "137  343.0  103.0    6.0  48.0   36.0   40.0   15.0  4338.0  1193.0    70.0   \n",
       "90   314.0   83.0   13.0  39.0   46.0   16.0    5.0  1457.0   405.0    28.0   \n",
       "100  495.0  151.0   17.0  61.0   84.0   78.0   10.0  5624.0  1679.0   275.0   \n",
       "..     ...    ...    ...   ...    ...    ...    ...     ...     ...     ...   \n",
       "274  522.0  140.0   16.0  73.0   77.0   60.0    4.0   730.0   185.0    22.0   \n",
       "196  464.0  128.0   28.0  67.0   94.0   52.0   13.0  5829.0  1552.0   210.0   \n",
       "159  616.0  163.0   27.0  83.0  107.0   32.0    3.0  1437.0   377.0    65.0   \n",
       "17   190.0   46.0    2.0  24.0    8.0   15.0    5.0   479.0   102.0     5.0   \n",
       "162  165.0   39.0    2.0  13.0    9.0   16.0    3.0   196.0    44.0     2.0   \n",
       "\n",
       "     CRuns    CRBI  CWalks  PutOuts  Assists  Errors  League_N  Division_W  \\\n",
       "260  365.0   280.0   165.0    155.0    371.0    29.0         1           1   \n",
       "92    35.0    35.0    32.0     45.0    122.0    26.0         0           0   \n",
       "137  581.0   421.0   325.0    211.0     56.0    13.0         0           0   \n",
       "90   156.0   159.0    76.0    533.0     40.0     4.0         0           1   \n",
       "100  884.0  1015.0   709.0   1045.0     88.0    13.0         0           0   \n",
       "..     ...     ...     ...      ...      ...     ...       ...         ...   \n",
       "274   93.0   106.0    86.0   1320.0    166.0    17.0         1           0   \n",
       "196  740.0   840.0   452.0      0.0      0.0     0.0         0           1   \n",
       "159  181.0   227.0    82.0    110.0    308.0    15.0         0           1   \n",
       "17    65.0    23.0    39.0    102.0    177.0    16.0         0           1   \n",
       "162   18.0    10.0    18.0    332.0     19.0     2.0         0           1   \n",
       "\n",
       "     NewLeague_N  Salary  \n",
       "260            1   875.0  \n",
       "92             0    70.0  \n",
       "137            0   430.0  \n",
       "90             0   431.5  \n",
       "100            0  2460.0  \n",
       "..           ...     ...  \n",
       "274            1   200.0  \n",
       "196            0   587.5  \n",
       "159            0   200.0  \n",
       "17             0   175.0  \n",
       "162            1    75.0  \n",
       "\n",
       "[184 rows x 20 columns]"
      ]
     },
     "execution_count": 2,
     "metadata": {},
     "output_type": "execute_result"
    }
   ],
   "source": [
    "df_train"
   ]
  },
  {
   "cell_type": "markdown",
   "metadata": {
    "slideshow": {
     "slide_type": "slide"
    }
   },
   "source": [
    "## Spline basis\n",
    "\n",
    "First we have to create a basis spline (\"B-Spline\"). Here, we select only two features to demonstrate the procedere: `CRuns` and `Hits`."
   ]
  },
  {
   "cell_type": "code",
   "execution_count": 3,
   "metadata": {
    "slideshow": {
     "slide_type": "fragment"
    }
   },
   "outputs": [],
   "source": [
    "# choose features\n",
    "x_spline = df_train[['CRuns', 'Hits']]"
   ]
  },
  {
   "cell_type": "code",
   "execution_count": 4,
   "metadata": {
    "slideshow": {
     "slide_type": "slide"
    }
   },
   "outputs": [
    {
     "data": {
      "image/png": "[encoded data removed]",
      "text/plain": [
       "<Figure size 432x288 with 1 Axes>"
      ]
     },
     "metadata": {
      "needs_background": "light"
     },
     "output_type": "display_data"
    }
   ],
   "source": [
    "import seaborn as sns\n",
    "\n",
    "sns.scatterplot(x='CRuns', y='Salary', data=df_train);"
   ]
  },
  {
   "cell_type": "code",
   "execution_count": 5,
   "metadata": {
    "slideshow": {
     "slide_type": "slide"
    }
   },
   "outputs": [
    {
     "data": {
      "image/png": "[encoded data removed]",
      "text/plain": [
       "<Figure size 432x288 with 1 Axes>"
      ]
     },
     "metadata": {
      "needs_background": "light"
     },
     "output_type": "display_data"
    }
   ],
   "source": [
    "sns.scatterplot(x='Hits', y='Salary', data=df_train);"
   ]
  },
  {
   "cell_type": "markdown",
   "metadata": {
    "slideshow": {
     "slide_type": "notes"
    }
   },
   "source": [
    "- Now we need to divide the range of X into K distinct regions (for every feature). \n",
    "- Within each region, a polynomial function is fit to the data. \n",
    "\n",
    "In the statsmodels function `BSplines`, we need to provide `df` and `degree`:\n",
    "\n",
    "`df`: number of basis functions or degrees of freedom; should be equal in length to the number of columns of x; may be an integer if x has one column or is 1-D.  \n",
    "\n",
    "`degree`: degree(s) of the spline; the same length and type rules apply as to df.\n",
    "\n",
    "### Degrees of freedom\n",
    "\n",
    "- Instead of providing the number of knots, in statsmodels, we have to specify the degrees of freedom (df). \n",
    "- `df` defines how many parameters we have to estimate. \n",
    "- They have a specific relationship with the number of knots and the degree, which depends on the type of spline (see [Stackoverflow](https://stats.stackexchange.com/a/517479)):\n",
    "\n",
    "- In the case of **B-splines**: \n",
    "  - $df=𝑘+degree$ if you specify the knots or \n",
    "  - $𝑘=df−degree$ if you specify the degrees of freedom and the degree. \n",
    "\n",
    "As an example: \n",
    "\n",
    "- A cubic spline (degree=3) with 4 knots (K=4) will have $df=4+3=7$ degrees of freedom. If we use an intercept, we need to add an additional degree of freedom.\n",
    "- A cubic spline (degree=3) with 5 degrees of freedom (df=5) will have $𝑘=5−3=2$ knots (assuming the spline has no intercept).\n",
    "\n",
    "- In our case, we want to fit a cubic spline (degree=3) with an intercept and three knots (K=3). We use this values for both of our features (we also could use different values for one of the features). This equals $df=3+3+1=7$ for both of the features. This means that these degrees of freedom are used up by an intercept, plus six basis functions.\n",
    "\n",
    ":::{Note}\n",
    "The higher the degrees of freedom, the \"wigglier\" the spline gets because the number of knots is increased {cite:p}`James2021`.\n",
    ":::"
   ]
  },
  {
   "cell_type": "code",
   "execution_count": 6,
   "metadata": {
    "slideshow": {
     "slide_type": "slide"
    }
   },
   "outputs": [],
   "source": [
    "import statsmodels.api as sm\n",
    "from statsmodels.gam.api import BSplines\n",
    "\n",
    "# create basis spline\n",
    "bs = BSplines(x_spline, df=[7, 7], degree=[3, 3])"
   ]
  },
  {
   "cell_type": "markdown",
   "metadata": {
    "slideshow": {
     "slide_type": "slide"
    }
   },
   "source": [
    "## Model"
   ]
  },
  {
   "cell_type": "code",
   "execution_count": 7,
   "metadata": {
    "slideshow": {
     "slide_type": "slide"
    }
   },
   "outputs": [],
   "source": [
    "import numpy as np\n",
    "\n",
    "# we use an arbitrary penalization weight of 1 for both features\n",
    "alpha = np.array([1, 1])"
   ]
  },
  {
   "cell_type": "code",
   "execution_count": 8,
   "metadata": {
    "slideshow": {
     "slide_type": "fragment"
    }
   },
   "outputs": [],
   "source": [
    "from statsmodels.gam.api import GLMGam\n",
    "\n",
    "# build model\n",
    "gam_bs = GLMGam.from_formula('Salary ~ CRuns + Hits', \n",
    "                                data=df_train, \n",
    "                                smoother=bs, \n",
    "                                alpha=alpha)"
   ]
  },
  {
   "cell_type": "markdown",
   "metadata": {
    "slideshow": {
     "slide_type": "slide"
    }
   },
   "source": [
    "- Note that optimal penalization weights alpha could be obtained through generalized k-fold cross-validation by using the function [select_penweight_kfold](https://www.statsmodels.org/dev/generated/statsmodels.gam.generalized_additive_model.GLMGam.select_penweight_kfold.html)."
   ]
  },
  {
   "cell_type": "code",
   "execution_count": 9,
   "metadata": {
    "slideshow": {
     "slide_type": "fragment"
    }
   },
   "outputs": [
    {
     "name": "stdout",
     "output_type": "stream",
     "text": [
      "                 Generalized Linear Model Regression Results                  \n",
      "==============================================================================\n",
      "Dep. Variable:                 Salary   No. Observations:                  184\n",
      "Model:                         GLMGam   Df Residuals:                   171.00\n",
      "Model Family:                Gaussian   Df Model:                        12.00\n",
      "Link Function:               identity   Scale:                          90949.\n",
      "Method:                         PIRLS   Log-Likelihood:                -1304.8\n",
      "Date:                Fri, 22 Apr 2022   Deviance:                   1.5552e+07\n",
      "Time:                        22:19:13   Pearson chi2:                 1.56e+07\n",
      "No. Iterations:                     3   Pseudo R-squ. (CS):             0.7307\n",
      "Covariance Type:            nonrobust                                         \n",
      "==============================================================================\n",
      "                 coef    std err          z      P>|z|      [0.025      0.975]\n",
      "------------------------------------------------------------------------------\n",
      "Intercept    823.4889    303.577      2.713      0.007     228.489    1418.489\n",
      "CRuns          0.3242      0.217      1.491      0.136      -0.102       0.750\n",
      "Hits          -1.6509      2.588     -0.638      0.524      -6.724       3.422\n",
      "CRuns_s0    -313.4954    407.044     -0.770      0.441   -1111.287     484.296\n",
      "CRuns_s1    -209.9579    267.716     -0.784      0.433    -734.671     314.755\n",
      "CRuns_s2     104.5118    285.073      0.367      0.714    -454.221     663.244\n",
      "CRuns_s3     399.2930    324.056      1.232      0.218    -235.844    1034.430\n",
      "CRuns_s4     153.7883    417.845      0.368      0.713    -665.173     972.749\n",
      "CRuns_s5    -290.1995    252.539     -1.149      0.251    -785.167     204.768\n",
      "Hits_s0     -618.2287    496.526     -1.245      0.213   -1591.402     354.944\n",
      "Hits_s1     -444.4912    279.007     -1.593      0.111    -991.334     102.352\n",
      "Hits_s2     -303.3500    203.266     -1.492      0.136    -701.743      95.043\n",
      "Hits_s3       21.6155    175.459      0.123      0.902    -322.279     365.510\n",
      "Hits_s4      396.1958    257.028      1.541      0.123    -107.569     899.960\n",
      "Hits_s5      -57.6135    232.708     -0.248      0.804    -513.712     398.485\n",
      "==============================================================================\n"
     ]
    }
   ],
   "source": [
    "# fit model\n",
    "res_bs = gam_bs.fit()\n",
    "\n",
    "# print results\n",
    "print(res_bs.summary())"
   ]
  },
  {
   "cell_type": "markdown",
   "metadata": {
    "slideshow": {
     "slide_type": "slide"
    }
   },
   "source": [
    "## Plot"
   ]
  },
  {
   "cell_type": "markdown",
   "metadata": {
    "slideshow": {
     "slide_type": "fragment"
    }
   },
   "source": [
    "- The results classes provide a `plot_partial` method that plots the partial linear prediction of a smooth component. - The partial residual or component plus residual can be added as scatter point with cpr=True.\n",
    "\n",
    "- Spline for feature `CRuns`:"
   ]
  },
  {
   "cell_type": "code",
   "execution_count": 10,
   "metadata": {
    "slideshow": {
     "slide_type": "slide"
    }
   },
   "outputs": [
    {
     "data": {
      "image/png": "[encoded data removed]",
      "text/plain": [
       "<Figure size 432x288 with 1 Axes>"
      ]
     },
     "execution_count": 10,
     "metadata": {},
     "output_type": "execute_result"
    },
    {
     "data": {
      "image/png": "[encoded data removed]",
      "text/plain": [
       "<Figure size 432x288 with 1 Axes>"
      ]
     },
     "metadata": {
      "needs_background": "light"
     },
     "output_type": "display_data"
    }
   ],
   "source": [
    "res_bs.plot_partial(0, cpr=True, plot_se=False)"
   ]
  },
  {
   "cell_type": "markdown",
   "metadata": {
    "slideshow": {
     "slide_type": "slide"
    }
   },
   "source": [
    "- Spline for feature `Hits`:"
   ]
  },
  {
   "cell_type": "code",
   "execution_count": 11,
   "metadata": {
    "slideshow": {
     "slide_type": "slide"
    }
   },
   "outputs": [
    {
     "data": {
      "image/png": "[encoded data removed]",
      "text/plain": [
       "<Figure size 432x288 with 1 Axes>"
      ]
     },
     "execution_count": 11,
     "metadata": {},
     "output_type": "execute_result"
    },
    {
     "data": {
      "image/png": "[encoded data removed]",
      "text/plain": [
       "<Figure size 432x288 with 1 Axes>"
      ]
     },
     "metadata": {
      "needs_background": "light"
     },
     "output_type": "display_data"
    }
   ],
   "source": [
    "res_bs.plot_partial(1, cpr=True, plot_se=False)"
   ]
  },
  {
   "cell_type": "markdown",
   "metadata": {
    "slideshow": {
     "slide_type": "slide"
    }
   },
   "source": [
    "## First evaluation"
   ]
  },
  {
   "cell_type": "code",
   "execution_count": 12,
   "metadata": {
    "slideshow": {
     "slide_type": "fragment"
    }
   },
   "outputs": [],
   "source": [
    "df_train['y_pred'] = res_bs.predict()"
   ]
  },
  {
   "cell_type": "code",
   "execution_count": 13,
   "metadata": {
    "slideshow": {
     "slide_type": "fragment"
    }
   },
   "outputs": [
    {
     "name": "stdout",
     "output_type": "stream",
     "text": [
      "MSE: 84523.58788752233\n",
      "RMSE: 290.72940664391405\n"
     ]
    }
   ],
   "source": [
    "from statsmodels.tools.eval_measures import mse, rmse\n",
    "\n",
    "# MSE\n",
    "print('MSE:', mse(df_train['Salary'], df_train['y_pred']))\n",
    "print('RMSE:', rmse(df_train['Salary'], df_train['y_pred']))"
   ]
  }
 ],
 "metadata": {
  "celltoolbar": "Slideshow",
  "kernelspec": {
   "display_name": "Python 3 (ipykernel)",
   "language": "python",
   "name": "python3"
  },
  "language_info": {
   "codemirror_mode": {
    "name": "ipython",
    "version": 3
   },
   "file_extension": ".py",
   "mimetype": "text/x-python",
   "name": "python",
   "nbconvert_exporter": "python",
   "pygments_lexer": "ipython3",
   "version": "3.9.12"
  },
  "varInspector": {
   "cols": {
    "lenName": 16,
    "lenType": 16,
    "lenVar": 40
   },
   "kernels_config": {
    "python": {
     "delete_cmd_postfix": "",
     "delete_cmd_prefix": "del ",
     "library": "var_list.py",
     "varRefreshCmd": "print(var_dic_list())"
    },
    "r": {
     "delete_cmd_postfix": ") ",
     "delete_cmd_prefix": "rm(",
     "library": "var_list.r",
     "varRefreshCmd": "cat(var_dic_list()) "
    }
   },
   "types_to_exclude": [
    "module",
    "function",
    "builtin_function_or_method",
    "instance",
    "_Feature"
   ],
   "window_display": false
  }
 },
 "nbformat": 4,
 "nbformat_minor": 2
}
