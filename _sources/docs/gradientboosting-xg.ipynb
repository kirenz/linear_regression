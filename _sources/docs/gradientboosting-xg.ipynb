{
 "cells": [
  {
   "cell_type": "markdown",
   "metadata": {},
   "source": [
    "# Gradient Boosting with XGBoost"
   ]
  },
  {
   "cell_type": "markdown",
   "metadata": {},
   "source": [
    "## Setup"
   ]
  },
  {
   "cell_type": "code",
   "execution_count": 11,
   "metadata": {},
   "outputs": [],
   "source": [
    "import numpy as np\n",
    "import pandas as ps\n",
    "\n",
    "import xgboost as xgb\n",
    "\n",
    "from sklearn.ensemble import GradientBoostingRegressor\n",
    "from sklearn.metrics import mean_squared_error\n",
    "from sklearn.inspection import permutation_importance"
   ]
  },
  {
   "cell_type": "markdown",
   "metadata": {},
   "source": [
    "## Data\n",
    "\n",
    "- See [](hitters_data.ipynb) for details about the data preprocessing steps.\n",
    "- We simply import the preprocessed data by using this [Python script](https://github.com/kirenz/regression/blob/main/docs/hitters_data.py) which will yield:\n",
    "  - X_train, X_test, y_train, y_test\n",
    "  - df_train and df_tests\n",
    "\n"
   ]
  },
  {
   "cell_type": "code",
   "execution_count": 5,
   "metadata": {},
   "outputs": [],
   "source": [
    "from data_prep_hitters import *"
   ]
  },
  {
   "cell_type": "code",
   "execution_count": 12,
   "metadata": {},
   "outputs": [
    {
     "name": "stderr",
     "output_type": "stream",
     "text": [
      "/Users/jankirenz/opt/anaconda3/envs/xgboost/lib/python3.9/site-packages/xgboost/data.py:262: FutureWarning: pandas.Int64Index is deprecated and will be removed from pandas in a future version. Use pandas.Index with the appropriate dtype instead.\n",
      "  elif isinstance(data.columns, (pd.Int64Index, pd.RangeIndex)):\n"
     ]
    }
   ],
   "source": [
    "dtrain = xgb.DMatrix(X_train, label=y_train)"
   ]
  },
  {
   "cell_type": "markdown",
   "metadata": {},
   "source": [
    "## Model"
   ]
  },
  {
   "cell_type": "code",
   "execution_count": 21,
   "metadata": {},
   "outputs": [],
   "source": [
    "params = {\n",
    "    \"max_depth\": 4,\n",
    "    \"eta\": 0.01\n",
    "    }"
   ]
  },
  {
   "cell_type": "code",
   "execution_count": 18,
   "metadata": {},
   "outputs": [
    {
     "data": {
      "text/plain": [
       "2"
      ]
     },
     "execution_count": 18,
     "metadata": {},
     "output_type": "execute_result"
    }
   ],
   "source": [
    "num_round"
   ]
  },
  {
   "cell_type": "code",
   "execution_count": 55,
   "metadata": {},
   "outputs": [],
   "source": [
    "#params = {\n",
    "#    \"n_estimators\": 500,\n",
    "#    \"max_depth\": 4,\n",
    "#    \"min_samples_split\": 5,\n",
    "#    \"learning_rate\": 0.01,#\n",
    "#    \"loss\": \"squared_error\",\n",
    "#}"
   ]
  },
  {
   "cell_type": "code",
   "execution_count": 28,
   "metadata": {},
   "outputs": [
    {
     "data": {
      "text/plain": [
       "XGBRegressor(base_score=0.5, booster='gbtree', colsample_bylevel=1,\n",
       "             colsample_bynode=1, colsample_bytree=1, enable_categorical=False,\n",
       "             gamma=0, gpu_id=-1, importance_type=None,\n",
       "             interaction_constraints='', learning_rate=0.300000012,\n",
       "             max_delta_step=0, max_depth=6, min_child_weight=1, missing=nan,\n",
       "             monotone_constraints='()', n_estimators=100, n_jobs=4,\n",
       "             num_parallel_tree=1, predictor='auto', random_state=0, reg_alpha=0,\n",
       "             reg_lambda=1, scale_pos_weight=1, subsample=1, tree_method='exact',\n",
       "             validate_parameters=1, verbosity=None)"
      ]
     },
     "execution_count": 28,
     "metadata": {},
     "output_type": "execute_result"
    }
   ],
   "source": [
    "# Use \"gpu_hist\" for training the model.\n",
    "reg = xgb.XGBRegressor()\n",
    "# Fit the model using predictor X and response y.\n",
    "reg.fit(X_train, y_train)\n"
   ]
  },
  {
   "cell_type": "code",
   "execution_count": 33,
   "metadata": {},
   "outputs": [
    {
     "name": "stderr",
     "output_type": "stream",
     "text": [
      "/Users/jankirenz/opt/anaconda3/envs/xgboost/lib/python3.9/site-packages/xgboost/data.py:262: FutureWarning: pandas.Int64Index is deprecated and will be removed from pandas in a future version. Use pandas.Index with the appropriate dtype instead.\n",
      "  elif isinstance(data.columns, (pd.Int64Index, pd.RangeIndex)):\n"
     ]
    }
   ],
   "source": [
    "y_pred = reg.predict(X_train)"
   ]
  },
  {
   "cell_type": "code",
   "execution_count": null,
   "metadata": {},
   "outputs": [],
   "source": [
    "# Save model into JSON format.\n",
    "reg.save_model(\"regressor.json\")"
   ]
  },
  {
   "cell_type": "code",
   "execution_count": 35,
   "metadata": {},
   "outputs": [
    {
     "data": {
      "text/plain": [
       "array([ 874.9965  ,   69.998985,  429.99884 ,  431.49216 , 2460.0007  ,\n",
       "        320.00266 ,  145.00325 ,   89.99928 ,  179.99863 ,  134.99495 ,\n",
       "         75.002396,  517.139   ,  200.00252 , 1200.0002  ,  275.0018  ,\n",
       "        740.0008  ,  699.99585 ,  450.00156 ,  385.0039  ,   75.001854,\n",
       "        341.67102 ,  300.00922 ,  250.0015  , 1183.3342  ,  749.99835 ,\n",
       "        900.0008  ,  154.99905 ,  899.9998  ,  939.99945 ,  595.00275 ,\n",
       "        249.9989  ,  164.9997  ,  129.99976 ,  365.0024  ,  109.9972  ,\n",
       "         79.997055,  399.99802 ,  525.0003  ,  120.001465,  624.9852  ,\n",
       "        424.99988 ,  171.9961  ,  416.66705 ,   86.500305,  214.99953 ,\n",
       "        765.00055 ,  740.00073 ,  875.00104 ,  149.99799 ,  749.9957  ,\n",
       "         94.999115,  225.00139 ,  235.00232 ,   97.50122 , 1669.9996  ,\n",
       "        474.99823 ,  749.99603 ,  500.0118  ,  474.99304 ,  260.0041  ,\n",
       "       1049.999   ,  708.33496 ,  656.9986  ,  325.00113 ,  650.0025  ,\n",
       "       1043.331   , 1450.0037  ,  139.99103 ,  733.33655 ,  414.99808 ,\n",
       "       1500.0004  ,  530.0039  , 1299.996   ,  849.99994 ,  100.00429 ,\n",
       "        874.99744 ,  105.00016 ,  774.99884 ,  209.99997 ,  384.99435 ,\n",
       "        215.00146 ,  277.50534 ,  849.99945 ,   91.50419 ,  750.0006  ,\n",
       "        299.9991  ,  155.00081 ,  549.99036 ,   90.002014,  749.996   ,\n",
       "        662.50397 ,  100.00147 ,  340.00046 , 1259.9957  , 1174.9968  ,\n",
       "        286.66965 ,  699.9952  , 1008.3258  ,  550.00116 ,  139.99847 ,\n",
       "        900.0033  ,  450.00003 ,  124.98826 ,  189.99857 ,  424.98154 ,\n",
       "         90.00059 ,  214.99963 , 1939.9988  ,  165.00072 ,   75.00613 ,\n",
       "        580.00104 ,  500.013   ,  249.99974 ,  749.9995  ,  195.00406 ,\n",
       "       1349.999   ,  600.00134 ,  919.99817 ,  299.99924 ,  630.0038  ,\n",
       "        119.99648 ,  724.9954  ,  190.99919 , 1149.9957  ,  145.00992 ,\n",
       "        109.99972 ,  139.9998  ,  959.99896 , 1299.9983  ,  300.0012  ,\n",
       "        875.0014  , 1300.0002  ,  737.49585 ,  225.00595 ,  202.49673 ,\n",
       "        349.9984  ,  400.00198 ,  114.99903 ,  612.4989  ,  815.0043  ,\n",
       "        210.00194 ,   67.49885 ,  110.00159 , 1310.0016  ,  362.50006 ,\n",
       "        420.0123  ,   90.00046 ,  155.00648 ,  399.997   ,  737.4935  ,\n",
       "       2412.4993  ,  264.99966 ,  239.99905 ,  400.00443 ,  374.99536 ,\n",
       "        160.00195 ,  349.99808 ,  799.9979  ,  750.0004  ,  499.99796 ,\n",
       "        487.49945 ,  305.00607 , 1900.0021  ,  600.0002  ,   99.99892 ,\n",
       "        535.00397 ,  535.0006  , 1799.9993  ,  185.00128 ,  297.5028  ,\n",
       "        135.00288 ,  849.99786 ,  700.0001  ,  425.0057  ,  674.9946  ,\n",
       "        326.67276 ,  474.9982  , 1861.4595  , 1099.9916  ,  200.0008  ,\n",
       "        587.5009  ,  200.00113 ,  174.99988 ,   75.001816], dtype=float32)"
      ]
     },
     "execution_count": 35,
     "metadata": {},
     "output_type": "execute_result"
    }
   ],
   "source": [
    "y_pred"
   ]
  },
  {
   "cell_type": "code",
   "execution_count": 23,
   "metadata": {},
   "outputs": [],
   "source": [
    "ypred = reg.predict(dtrain)"
   ]
  },
  {
   "cell_type": "code",
   "execution_count": 34,
   "metadata": {},
   "outputs": [
    {
     "data": {
      "text/plain": [
       "array([ 84.8262  ,  10.00149 ,  50.3132  ,  28.710258, 141.12277 ,\n",
       "        36.7513  ,  18.127956,  10.00149 ,  18.127956,  14.075737,\n",
       "        10.00149 ,  68.84768 ,  36.7513  ,  84.8262  ,  38.218307,\n",
       "        84.8262  ,  50.3132  ,  50.3132  ,  42.987354,  10.00149 ,\n",
       "        50.3132  ,  28.710258,  15.515028, 114.21922 ,  68.84768 ,\n",
       "        98.2407  ,  18.127956,  51.171577,  84.8262  ,  70.71013 ,\n",
       "        18.127956,  18.127956,  10.00149 ,  42.987354,  10.00149 ,\n",
       "        18.127956,  38.218307,  61.24646 ,  10.00149 ,  42.987354,\n",
       "        42.987354,  18.127956,  49.15157 ,  10.00149 ,  18.127956,\n",
       "        78.65379 ,  84.8262  ,  70.71013 ,  14.075737,  70.71013 ,\n",
       "        10.00149 ,  18.127956,  37.030136,  10.00149 , 141.12277 ,\n",
       "        42.987354,  61.24646 ,  42.987354,  28.710258,  38.218307,\n",
       "        61.24646 ,  51.171577,  84.8262  ,  38.218307,  49.15157 ,\n",
       "        84.8262  , 111.729744,  14.075737,  70.71013 ,  28.710258,\n",
       "       141.12277 ,  84.8262  ,  61.24646 ,  68.84768 ,  10.00149 ,\n",
       "        64.53773 ,  18.127956,  95.44114 ,  18.127956,  28.710258,\n",
       "        28.710258,  28.710258,  70.71013 ,  10.00149 ,  70.71013 ,\n",
       "        18.127956,  14.075737,  42.987354,  10.00149 ,  51.171577,\n",
       "        84.8262  ,   5.364542,  28.710258,  84.8262  ,  84.8262  ,\n",
       "        18.127956,  40.238316,  84.8262  ,  42.987354,  18.127956,\n",
       "        84.8262  ,  49.15157 ,  10.00149 ,  28.710258,  28.710258,\n",
       "        10.00149 ,  18.127956, 108.00416 ,  18.127956,  10.00149 ,\n",
       "        84.8262  ,  70.71013 ,  18.127956,  68.84768 ,  18.127956,\n",
       "       114.21922 ,  70.71013 ,  45.45423 ,  28.710258,  42.987354,\n",
       "        10.00149 ,  62.675274,  28.710258,  84.8262  ,  18.127956,\n",
       "        10.00149 ,  14.075737, 108.00416 , 114.21922 ,  18.127956,\n",
       "       134.9077  , 108.00416 ,  70.71013 ,  28.214014,  18.127956,\n",
       "        28.710258,  42.987354,  10.00149 ,  42.987354,  78.65379 ,\n",
       "        28.710258,  10.00149 ,  10.00149 , 114.21922 ,  38.218307,\n",
       "        92.025635,  10.00149 ,  18.127956,  42.987354,  61.24646 ,\n",
       "       141.12277 ,  18.127956,  49.15157 ,  50.3132  ,  28.710258,\n",
       "        28.710258,  28.710258,  84.8262  ,  70.71013 ,  51.171577,\n",
       "        38.25438 ,  28.710258, 141.12277 ,  61.24646 ,  10.00149 ,\n",
       "        64.53773 ,  38.25438 , 141.12277 ,  18.127956,  28.710258,\n",
       "        14.075737,  68.84768 ,  68.84768 ,  42.987354,  70.71013 ,\n",
       "        42.987354,  49.15157 , 141.12277 , 100.10316 ,  18.127956,\n",
       "        68.84768 ,  28.710258,  10.00149 ,  10.00149 ], dtype=float32)"
      ]
     },
     "execution_count": 34,
     "metadata": {},
     "output_type": "execute_result"
    }
   ],
   "source": [
    "ypred"
   ]
  },
  {
   "cell_type": "code",
   "execution_count": null,
   "metadata": {},
   "outputs": [],
   "source": [
    "\n",
    "reg.fit(X_train, y_train)"
   ]
  },
  {
   "cell_type": "code",
   "execution_count": 57,
   "metadata": {},
   "outputs": [
    {
     "data": {
      "text/plain": [
       "90063.46990321972"
      ]
     },
     "execution_count": 57,
     "metadata": {},
     "output_type": "execute_result"
    }
   ],
   "source": [
    "mean_squared_error(y_test, reg.predict(X_test))"
   ]
  },
  {
   "cell_type": "markdown",
   "metadata": {},
   "source": [
    "### Plot training deviance\n",
    "\n",
    "Source: [scikit learn](https://scikit-learn.org/stable/auto_examples/ensemble/plot_gradient_boosting_regression.html#plot-training-deviance), provided by Peter Prettenhofer, Maria Telenczuk and Katrina Ni:"
   ]
  },
  {
   "cell_type": "code",
   "execution_count": 24,
   "metadata": {},
   "outputs": [
    {
     "data": {
      "text/plain": [
       "<AxesSubplot:title={'center':'Feature importance'}, xlabel='F score', ylabel='Features'>"
      ]
     },
     "execution_count": 24,
     "metadata": {},
     "output_type": "execute_result"
    },
    {
     "data": {
      "image/png": "[encoded data removed]",
      "text/plain": [
       "<Figure size 432x288 with 1 Axes>"
      ]
     },
     "metadata": {
      "needs_background": "light"
     },
     "output_type": "display_data"
    }
   ],
   "source": [
    "xgb.plot_importance(reg)\n"
   ]
  },
  {
   "cell_type": "markdown",
   "metadata": {},
   "source": [
    "## Feature importance\n",
    "\n",
    "- Next, we take a look at the tree based feature importance and the permutation importance.\n",
    "\n",
    "### Mean decrease in impurity (MDI)\n",
    "\n",
    "- Mean decrease in impurity (MDI) is a measure of feature importance for decision tree models.\n",
    "\n",
    "- They are computed as the mean and standard deviation of accumulation of the impurity decrease within each tree.\n",
    "\n",
    "- Note that impurity-based importances are computed on training set statistics and therefore do not reflect the ability of feature to be useful to make predictions that generalize to the test set (when the model has enough capacity).\n",
    "\n",
    "- Also note that impurity-based importances are biased towards high cardinality features (i.e., features with many unique values). See Permutation feature importance as an alternative below."
   ]
  },
  {
   "cell_type": "markdown",
   "metadata": {},
   "source": [
    "- Feature importances are provided by the fitted attribute `feature_importances_` \n"
   ]
  },
  {
   "cell_type": "code",
   "execution_count": 26,
   "metadata": {},
   "outputs": [
    {
     "data": {
      "image/png": "[encoded data removed]",
      "text/plain": [
       "<Figure size 432x288 with 1 Axes>"
      ]
     },
     "metadata": {
      "needs_background": "light"
     },
     "output_type": "display_data"
    }
   ],
   "source": [
    "xgb.plot_importance(reg);"
   ]
  },
  {
   "cell_type": "markdown",
   "metadata": {},
   "source": [
    "\n",
    "\n",
    "#### Permutation feature importance\n",
    "\n",
    "- Permutation feature importance overcomes limitations of the impurity-based feature importance ([scikit learn](https://scikit-learn.org/stable/auto_examples/ensemble/plot_forest_importances.html): \n",
    "  - they do not have a bias toward high-cardinality features\n",
    "  - they can be computed on a left-out test set.\n",
    "\n",
    "It is a model inspection technique that can be used for any fitted estimator when the data is tabular (see [scikit learn](https://scikit-learn.org/stable/modules/permutation_importance.html#permutation-importance) for more details):\n",
    "\n",
    "- The permutation feature importance is defined to be the decrease in a model score when a single feature value is randomly shuffled. \n",
    "- This procedure breaks the relationship between the feature and the target, thus the drop in the model score is indicative of how much the model depends on the feature. \n",
    "- This technique benefits from being model agnostic and can be calculated many times with different permutations of the feature.\n",
    "- The permutation importance is calculated on the training set to show how much the model relies on each feature during training."
   ]
  },
  {
   "cell_type": "markdown",
   "metadata": {},
   "source": [
    "- Features are shuffled n times and the model refitted to estimate the importance of it. "
   ]
  },
  {
   "cell_type": "markdown",
   "metadata": {},
   "source": [
    "\n",
    "Note however that when two features are correlated and one of the features is permuted, the model will still have access to the feature through its correlated feature. This will result in a lower importance value for both features, where they might actually be important. One way to handle this is to cluster features that are correlated and only keep one feature from each cluster. This strategy is explored in this example: [Permutation Importance with Multicollinear or Correlated Features](https://scikit-learn.org/stable/auto_examples/inspection/plot_permutation_importance_multicollinear.html#handling-multicollinear-features)."
   ]
  },
  {
   "cell_type": "code",
   "execution_count": 60,
   "metadata": {},
   "outputs": [],
   "source": [
    "result = permutation_importance(\n",
    "    reg, X_test, y_test, n_repeats=10, random_state=42, n_jobs=2\n",
    ")\n",
    "\n",
    "forest_importances = pd.Series(result.importances_mean, index=feature_names)"
   ]
  },
  {
   "cell_type": "code",
   "execution_count": 61,
   "metadata": {},
   "outputs": [
    {
     "data": {
      "image/png": "[encoded data removed]",
      "text/plain": [
       "<Figure size 432x288 with 1 Axes>"
      ]
     },
     "metadata": {
      "needs_background": "light"
     },
     "output_type": "display_data"
    }
   ],
   "source": [
    "# sort features according to importance\n",
    "sorted_idx = np.argsort(forest_importances)\n",
    "pos = np.arange(sorted_idx.shape[0])\n",
    "\n",
    "# plot feature importances\n",
    "plt.barh(pos, forest_importances[sorted_idx], align=\"center\")\n",
    "\n",
    "plt.yticks(pos, np.array(feature_names)[sorted_idx])\n",
    "plt.title(\"Feature Importance (MDI)\")\n",
    "plt.xlabel(\"Mean decrease in impurity\");"
   ]
  },
  {
   "cell_type": "markdown",
   "metadata": {},
   "source": [
    "- Same data plotted as boxplot:"
   ]
  },
  {
   "cell_type": "code",
   "execution_count": 62,
   "metadata": {},
   "outputs": [
    {
     "data": {
      "image/png": "[encoded data removed]",
      "text/plain": [
       "<Figure size 432x288 with 1 Axes>"
      ]
     },
     "metadata": {
      "needs_background": "light"
     },
     "output_type": "display_data"
    }
   ],
   "source": [
    "plt.boxplot(\n",
    "    result.importances[sorted_idx].T,\n",
    "    vert=False,\n",
    "    labels=np.array(feature_names)[sorted_idx],\n",
    ")\n",
    "\n",
    "plt.title(\"Permutation Importance (test set)\")\n",
    "fig.tight_layout()\n",
    "plt.show()"
   ]
  },
  {
   "cell_type": "markdown",
   "metadata": {},
   "source": [
    "- We observe that the same features are detected as most important using both methods (e.g., `CAtBat`, `CRBI`, `CHits`, `Walks`, `Years`). Although the relative importances vary (especially for feature `Years`)."
   ]
  }
 ],
 "metadata": {
  "interpreter": {
   "hash": "463226f144cc21b006ce6927bfc93dd00694e52c8bc6857abb6e555b983749e9"
  },
  "kernelspec": {
   "display_name": "Python 3.7.11 64-bit ('base': conda)",
   "language": "python",
   "name": "python3"
  },
  "language_info": {
   "codemirror_mode": {
    "name": "ipython",
    "version": 3
   },
   "file_extension": ".py",
   "mimetype": "text/x-python",
   "name": "python",
   "nbconvert_exporter": "python",
   "pygments_lexer": "ipython3",
   "version": "3.9.12"
  },
  "orig_nbformat": 4
 },
 "nbformat": 4,
 "nbformat_minor": 2
}
