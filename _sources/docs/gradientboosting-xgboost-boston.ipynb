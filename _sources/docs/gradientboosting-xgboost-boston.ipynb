{
 "cells": [
  {
   "cell_type": "markdown",
   "metadata": {},
   "source": [
    "# XGBoost regression"
   ]
  },
  {
   "cell_type": "markdown",
   "metadata": {},
   "source": [
    "## Setup"
   ]
  },
  {
   "cell_type": "code",
   "execution_count": 19,
   "metadata": {},
   "outputs": [
    {
     "name": "stdout",
     "output_type": "stream",
     "text": [
      "XGB Version: 1.5.1\n"
     ]
    }
   ],
   "source": [
    "%matplotlib inline\n",
    "\n",
    "import warnings\n",
    "warnings.simplefilter(action='ignore', category=FutureWarning)\n",
    "\n",
    "import numpy as np\n",
    "import pandas as pd\n",
    "import matplotlib.pyplot as plt\n",
    "\n",
    "import xgboost as xgb\n",
    "print(\"XGB Version:\", xgb.__version__)\n",
    "\n",
    "from sklearn import datasets\n",
    "from sklearn.model_selection import train_test_split\n",
    "from sklearn.metrics import mean_squared_error\n",
    "from sklearn.inspection import permutation_importance"
   ]
  },
  {
   "cell_type": "markdown",
   "metadata": {},
   "source": [
    "## Data\n",
    "\n",
    "- See [](hitters_data.ipynb) for details about the data preprocessing steps."
   ]
  },
  {
   "cell_type": "code",
   "execution_count": 20,
   "metadata": {},
   "outputs": [],
   "source": [
    "X, y = datasets.fetch_california_housing(return_X_y=True, as_frame=True) "
   ]
  },
  {
   "cell_type": "code",
   "execution_count": 21,
   "metadata": {},
   "outputs": [],
   "source": [
    "X_train, X_test, y_train, y_test = train_test_split(X, y, test_size=0.1, random_state=0)"
   ]
  },
  {
   "cell_type": "markdown",
   "metadata": {},
   "source": [
    "## Model"
   ]
  },
  {
   "cell_type": "markdown",
   "metadata": {},
   "source": [
    "- Define hyperparameters"
   ]
  },
  {
   "cell_type": "code",
   "execution_count": 22,
   "metadata": {},
   "outputs": [],
   "source": [
    "params = {\n",
    "    \"n_estimators\":50,\n",
    "    \"max_depth\": 4,\n",
    "    \"learning_rate\": 0.01,\n",
    "    \"eval_metric\": \"rmse\",\n",
    "    \"early_stopping_rounds\": 5,\n",
    "}"
   ]
  },
  {
   "cell_type": "markdown",
   "metadata": {},
   "source": [
    "- Prepare evaluation data\n",
    "- If there’s more than one item in eval_set, the last entry will be used for early stopping.\n",
    "- If we want to plot the learning curves for both training and test data, we need to provide both training and test data as eval_set"
   ]
  },
  {
   "cell_type": "code",
   "execution_count": 23,
   "metadata": {},
   "outputs": [],
   "source": [
    "eval_set = [(X_train, y_train), (X_test, y_test)]"
   ]
  },
  {
   "cell_type": "markdown",
   "metadata": {},
   "source": [
    "- Build and fit model"
   ]
  },
  {
   "cell_type": "code",
   "execution_count": 24,
   "metadata": {},
   "outputs": [
    {
     "name": "stdout",
     "output_type": "stream",
     "text": [
      "[21:21:24] WARNING: /Users/runner/miniforge3/conda-bld/xgboost-split_1645117948562/work/src/learner.cc:576: \n",
      "Parameters: { \"early_stopping_rounds\" } might not be used.\n",
      "\n",
      "  This could be a false alarm, with some parameters getting used by language bindings but\n",
      "  then being mistakenly passed down to XGBoost core, or some parameter actually being used\n",
      "  but getting flagged wrongly here. Please open an issue if you find any such cases.\n",
      "\n",
      "\n",
      "[0]\tvalidation_0-rmse:1.93036\tvalidation_1-rmse:1.93354\n",
      "[1]\tvalidation_0-rmse:1.91394\tvalidation_1-rmse:1.91718\n",
      "[2]\tvalidation_0-rmse:1.89770\tvalidation_1-rmse:1.90098\n",
      "[3]\tvalidation_0-rmse:1.88164\tvalidation_1-rmse:1.88499\n",
      "[4]\tvalidation_0-rmse:1.86577\tvalidation_1-rmse:1.86919\n",
      "[5]\tvalidation_0-rmse:1.85008\tvalidation_1-rmse:1.85355\n",
      "[6]\tvalidation_0-rmse:1.83458\tvalidation_1-rmse:1.83820\n",
      "[7]\tvalidation_0-rmse:1.81924\tvalidation_1-rmse:1.82291\n",
      "[8]\tvalidation_0-rmse:1.80407\tvalidation_1-rmse:1.80786\n",
      "[9]\tvalidation_0-rmse:1.78907\tvalidation_1-rmse:1.79295\n",
      "[10]\tvalidation_0-rmse:1.77425\tvalidation_1-rmse:1.77822\n",
      "[11]\tvalidation_0-rmse:1.75960\tvalidation_1-rmse:1.76372\n",
      "[12]\tvalidation_0-rmse:1.74510\tvalidation_1-rmse:1.74932\n",
      "[13]\tvalidation_0-rmse:1.73076\tvalidation_1-rmse:1.73510\n",
      "[14]\tvalidation_0-rmse:1.71660\tvalidation_1-rmse:1.72108\n",
      "[15]\tvalidation_0-rmse:1.70256\tvalidation_1-rmse:1.70712\n",
      "[16]\tvalidation_0-rmse:1.68871\tvalidation_1-rmse:1.69342\n",
      "[17]\tvalidation_0-rmse:1.67500\tvalidation_1-rmse:1.67983\n",
      "[18]\tvalidation_0-rmse:1.66144\tvalidation_1-rmse:1.66635\n",
      "[19]\tvalidation_0-rmse:1.64798\tvalidation_1-rmse:1.65304\n",
      "[20]\tvalidation_0-rmse:1.63468\tvalidation_1-rmse:1.63981\n",
      "[21]\tvalidation_0-rmse:1.62159\tvalidation_1-rmse:1.62672\n",
      "[22]\tvalidation_0-rmse:1.60867\tvalidation_1-rmse:1.61392\n",
      "[23]\tvalidation_0-rmse:1.59582\tvalidation_1-rmse:1.60122\n",
      "[24]\tvalidation_0-rmse:1.58318\tvalidation_1-rmse:1.58864\n",
      "[25]\tvalidation_0-rmse:1.57062\tvalidation_1-rmse:1.57614\n",
      "[26]\tvalidation_0-rmse:1.55826\tvalidation_1-rmse:1.56395\n",
      "[27]\tvalidation_0-rmse:1.54605\tvalidation_1-rmse:1.55186\n",
      "[28]\tvalidation_0-rmse:1.53394\tvalidation_1-rmse:1.53988\n",
      "[29]\tvalidation_0-rmse:1.52197\tvalidation_1-rmse:1.52798\n",
      "[30]\tvalidation_0-rmse:1.51015\tvalidation_1-rmse:1.51636\n",
      "[31]\tvalidation_0-rmse:1.49846\tvalidation_1-rmse:1.50480\n",
      "[32]\tvalidation_0-rmse:1.48694\tvalidation_1-rmse:1.49337\n",
      "[33]\tvalidation_0-rmse:1.47551\tvalidation_1-rmse:1.48211\n",
      "[34]\tvalidation_0-rmse:1.46422\tvalidation_1-rmse:1.47091\n",
      "[35]\tvalidation_0-rmse:1.45308\tvalidation_1-rmse:1.45987\n",
      "[36]\tvalidation_0-rmse:1.44207\tvalidation_1-rmse:1.44904\n",
      "[37]\tvalidation_0-rmse:1.43117\tvalidation_1-rmse:1.43826\n",
      "[38]\tvalidation_0-rmse:1.42040\tvalidation_1-rmse:1.42756\n",
      "[39]\tvalidation_0-rmse:1.40979\tvalidation_1-rmse:1.41706\n",
      "[40]\tvalidation_0-rmse:1.39927\tvalidation_1-rmse:1.40673\n",
      "[41]\tvalidation_0-rmse:1.38892\tvalidation_1-rmse:1.39654\n",
      "[42]\tvalidation_0-rmse:1.37865\tvalidation_1-rmse:1.38641\n",
      "[43]\tvalidation_0-rmse:1.36850\tvalidation_1-rmse:1.37637\n",
      "[44]\tvalidation_0-rmse:1.35850\tvalidation_1-rmse:1.36655\n",
      "[45]\tvalidation_0-rmse:1.34858\tvalidation_1-rmse:1.35678\n",
      "[46]\tvalidation_0-rmse:1.33876\tvalidation_1-rmse:1.34706\n",
      "[47]\tvalidation_0-rmse:1.32909\tvalidation_1-rmse:1.33751\n",
      "[48]\tvalidation_0-rmse:1.31950\tvalidation_1-rmse:1.32810\n",
      "[49]\tvalidation_0-rmse:1.31007\tvalidation_1-rmse:1.31881\n"
     ]
    },
    {
     "data": {
      "text/plain": [
       "XGBRegressor(base_score=0.5, booster='gbtree', colsample_bylevel=1,\n",
       "             colsample_bynode=1, colsample_bytree=1, early_stopping_rounds=5,\n",
       "             enable_categorical=False, eval_metric='rmse', gamma=0, gpu_id=-1,\n",
       "             importance_type=None, interaction_constraints='',\n",
       "             learning_rate=0.01, max_delta_step=0, max_depth=4,\n",
       "             min_child_weight=1, missing=nan, monotone_constraints='()',\n",
       "             n_estimators=50, n_jobs=10, num_parallel_tree=1, predictor='auto',\n",
       "             random_state=0, reg_alpha=0, reg_lambda=1, scale_pos_weight=1,\n",
       "             subsample=1, tree_method='exact', validate_parameters=1,\n",
       "             verbosity=None)"
      ]
     },
     "execution_count": 24,
     "metadata": {},
     "output_type": "execute_result"
    }
   ],
   "source": [
    "reg = xgb.XGBRegressor(**params)\n",
    "\n",
    "reg.fit(X_train, \n",
    "        y_train, \n",
    "        verbose=True,\n",
    "        eval_set= eval_set)"
   ]
  },
  {
   "cell_type": "code",
   "execution_count": 25,
   "metadata": {},
   "outputs": [
    {
     "data": {
      "text/plain": [
       "{'validation_0': OrderedDict([('rmse',\n",
       "               [1.93036,\n",
       "                1.913936,\n",
       "                1.897696,\n",
       "                1.881644,\n",
       "                1.865773,\n",
       "                1.850085,\n",
       "                1.834582,\n",
       "                1.819236,\n",
       "                1.80407,\n",
       "                1.789071,\n",
       "                1.774255,\n",
       "                1.759603,\n",
       "                1.745095,\n",
       "                1.730761,\n",
       "                1.716599,\n",
       "                1.70256,\n",
       "                1.688709,\n",
       "                1.674996,\n",
       "                1.661438,\n",
       "                1.647982,\n",
       "                1.634684,\n",
       "                1.621588,\n",
       "                1.608669,\n",
       "                1.595824,\n",
       "                1.583178,\n",
       "                1.570625,\n",
       "                1.558256,\n",
       "                1.546054,\n",
       "                1.533939,\n",
       "                1.521966,\n",
       "                1.510154,\n",
       "                1.498459,\n",
       "                1.486938,\n",
       "                1.475511,\n",
       "                1.464224,\n",
       "                1.453085,\n",
       "                1.442069,\n",
       "                1.431173,\n",
       "                1.420403,\n",
       "                1.409787,\n",
       "                1.399267,\n",
       "                1.388916,\n",
       "                1.378654,\n",
       "                1.368496,\n",
       "                1.358502,\n",
       "                1.348583,\n",
       "                1.338761,\n",
       "                1.329085,\n",
       "                1.319504,\n",
       "                1.310071])]),\n",
       " 'validation_1': OrderedDict([('rmse',\n",
       "               [1.933542,\n",
       "                1.917176,\n",
       "                1.900983,\n",
       "                1.884991,\n",
       "                1.869189,\n",
       "                1.853547,\n",
       "                1.838201,\n",
       "                1.822914,\n",
       "                1.807856,\n",
       "                1.792949,\n",
       "                1.778225,\n",
       "                1.763721,\n",
       "                1.749318,\n",
       "                1.735098,\n",
       "                1.721079,\n",
       "                1.707123,\n",
       "                1.693416,\n",
       "                1.679829,\n",
       "                1.666346,\n",
       "                1.65304,\n",
       "                1.639814,\n",
       "                1.626722,\n",
       "                1.613918,\n",
       "                1.601224,\n",
       "                1.588642,\n",
       "                1.576136,\n",
       "                1.563955,\n",
       "                1.551863,\n",
       "                1.539882,\n",
       "                1.527975,\n",
       "                1.516359,\n",
       "                1.504795,\n",
       "                1.493372,\n",
       "                1.482111,\n",
       "                1.470912,\n",
       "                1.45987,\n",
       "                1.449041,\n",
       "                1.43826,\n",
       "                1.42756,\n",
       "                1.41706,\n",
       "                1.406729,\n",
       "                1.396541,\n",
       "                1.386409,\n",
       "                1.37637,\n",
       "                1.366547,\n",
       "                1.356777,\n",
       "                1.347056,\n",
       "                1.337506,\n",
       "                1.328102,\n",
       "                1.318808])])}"
      ]
     },
     "execution_count": 25,
     "metadata": {},
     "output_type": "execute_result"
    }
   ],
   "source": [
    "reg.evals_result()"
   ]
  },
  {
   "cell_type": "markdown",
   "metadata": {},
   "source": [
    "- The best iteration obtained by early stopping. This attribute is 0-based, for instance if the best iteration is the first round, then best_iteration is 0.\n",
    "\n"
   ]
  },
  {
   "cell_type": "code",
   "execution_count": 26,
   "metadata": {},
   "outputs": [
    {
     "data": {
      "text/plain": [
       "49"
      ]
     },
     "execution_count": 26,
     "metadata": {},
     "output_type": "execute_result"
    }
   ],
   "source": [
    "reg.best_iteration"
   ]
  },
  {
   "cell_type": "markdown",
   "metadata": {},
   "source": [
    "- Make predictions"
   ]
  },
  {
   "cell_type": "code",
   "execution_count": 29,
   "metadata": {},
   "outputs": [],
   "source": [
    "y_pred = reg.predict(X_test)"
   ]
  },
  {
   "cell_type": "markdown",
   "metadata": {},
   "source": [
    "- Obtain RMSE"
   ]
  },
  {
   "cell_type": "code",
   "execution_count": 31,
   "metadata": {},
   "outputs": [
    {
     "data": {
      "text/plain": [
       "1.3188079378718305"
      ]
     },
     "execution_count": 31,
     "metadata": {},
     "output_type": "execute_result"
    }
   ],
   "source": [
    "mean_squared_error(y_test, y_pred, squared = False)"
   ]
  },
  {
   "cell_type": "markdown",
   "metadata": {},
   "source": [
    "- Save the model"
   ]
  },
  {
   "cell_type": "code",
   "execution_count": 32,
   "metadata": {},
   "outputs": [],
   "source": [
    "# Save model into JSON format.\n",
    "reg.save_model(\"regressor.json\")"
   ]
  },
  {
   "cell_type": "markdown",
   "metadata": {},
   "source": [
    "### Plot training test deviance"
   ]
  },
  {
   "cell_type": "markdown",
   "metadata": {},
   "source": [
    "\n",
    "- Obtain evaluation metrics"
   ]
  },
  {
   "cell_type": "code",
   "execution_count": 33,
   "metadata": {},
   "outputs": [],
   "source": [
    "results = reg.evals_result()"
   ]
  },
  {
   "cell_type": "markdown",
   "metadata": {},
   "source": [
    "- Plot training test deviance"
   ]
  },
  {
   "cell_type": "code",
   "execution_count": 34,
   "metadata": {},
   "outputs": [
    {
     "data": {
      "image/png": "[encoded data removed]",
      "text/plain": [
       "<Figure size 432x288 with 1 Axes>"
      ]
     },
     "metadata": {
      "needs_background": "light"
     },
     "output_type": "display_data"
    }
   ],
   "source": [
    "# Prepare x-axis\n",
    "epochs = len(results['validation_0']['rmse'])\n",
    "x_axis = range(0, epochs)\n",
    "\n",
    "fig, ax = plt.subplots()\n",
    "\n",
    "ax.plot(x_axis, results['validation_0']['rmse'], label='Train')\n",
    "ax.plot(x_axis, results['validation_1']['rmse'], label='Test')\n",
    "\n",
    "plt.title('XGBoost RMSE')\n",
    "plt.xlabel(\"Boosting Iterations\")\n",
    "plt.ylabel(\"RMSE Deviance\")\n",
    "plt.legend(loc=\"upper right\");\n"
   ]
  },
  {
   "cell_type": "markdown",
   "metadata": {},
   "source": [
    "## Feature importance\n",
    "\n",
    "- Next, we take a look at the tree based feature importance and the permutation importance.\n",
    "\n",
    "### Mean decrease in impurity (MDI)\n",
    "\n",
    "- Mean decrease in impurity (MDI) is a measure of feature importance for decision tree models. \n",
    "\n",
    "```{Note}\n",
    "Visit [this notebook](https://kirenz.github.io/feature-engineering/docs/mdi.html#) to learn more about MDI\n",
    "```"
   ]
  },
  {
   "cell_type": "code",
   "execution_count": 35,
   "metadata": {},
   "outputs": [
    {
     "data": {
      "text/plain": [
       "array([0.5389647 , 0.04911011, 0.10514385, 0.        , 0.01159318,\n",
       "       0.17180622, 0.07378276, 0.04959917], dtype=float32)"
      ]
     },
     "execution_count": 35,
     "metadata": {},
     "output_type": "execute_result"
    }
   ],
   "source": [
    "reg.feature_importances_"
   ]
  },
  {
   "cell_type": "markdown",
   "metadata": {},
   "source": [
    "- Feature importances are provided by the function `plot_importance` "
   ]
  },
  {
   "cell_type": "code",
   "execution_count": 37,
   "metadata": {},
   "outputs": [
    {
     "data": {
      "image/png": "[encoded data removed]",
      "text/plain": [
       "<Figure size 432x288 with 1 Axes>"
      ]
     },
     "metadata": {
      "needs_background": "light"
     },
     "output_type": "display_data"
    }
   ],
   "source": [
    "xgb.plot_importance(reg);"
   ]
  },
  {
   "cell_type": "markdown",
   "metadata": {},
   "source": [
    "### Permutation feature importance\n",
    "\n",
    "The permutation feature importance is defined to be the decrease in a model score when a single feature value is randomly shuffled. \n",
    "\n",
    "```{Note}\n",
    "Visit [this notebook](https://kirenz.github.io/feature-engineering/docs/permutation-feature-importance.html) to learn more about permutation feature importance.\n",
    "```"
   ]
  },
  {
   "cell_type": "code",
   "execution_count": 38,
   "metadata": {},
   "outputs": [],
   "source": [
    "\n",
    "result = permutation_importance(\n",
    "    reg, X_test, y_test, n_repeats=10, random_state=42, n_jobs=2\n",
    ")"
   ]
  },
  {
   "cell_type": "code",
   "execution_count": 42,
   "metadata": {},
   "outputs": [
    {
     "data": {
      "text/plain": [
       "{'importances_mean': array([0.42380621, 0.01296257, 0.01401125, 0.        , 0.00051886,\n",
       "        0.06618216, 0.00650385, 0.00071611]),\n",
       " 'importances_std': array([0.00836628, 0.00211472, 0.00110466, 0.        , 0.00035793,\n",
       "        0.0039604 , 0.00101385, 0.00013158]),\n",
       " 'importances': array([[4.13977358e-01, 4.27543189e-01, 4.17442947e-01, 4.16331701e-01,\n",
       "         4.34321970e-01, 4.41830028e-01, 4.21468045e-01, 4.26686162e-01,\n",
       "         4.20214924e-01, 4.18245811e-01],\n",
       "        [1.41752693e-02, 1.48520626e-02, 1.29326333e-02, 1.34002596e-02,\n",
       "         1.62666310e-02, 7.98938369e-03, 1.34120866e-02, 1.13797786e-02,\n",
       "         1.32721925e-02, 1.19453894e-02],\n",
       "        [1.39285213e-02, 1.34339251e-02, 1.34097396e-02, 1.38147796e-02,\n",
       "         1.18717642e-02, 1.37149863e-02, 1.36394990e-02, 1.57344377e-02,\n",
       "         1.48039360e-02, 1.57608739e-02],\n",
       "        [0.00000000e+00, 0.00000000e+00, 0.00000000e+00, 0.00000000e+00,\n",
       "         0.00000000e+00, 0.00000000e+00, 0.00000000e+00, 0.00000000e+00,\n",
       "         0.00000000e+00, 0.00000000e+00],\n",
       "        [0.00000000e+00, 5.46793615e-04, 6.08834627e-04, 9.50120896e-04,\n",
       "         8.91410415e-04, 0.00000000e+00, 7.90584276e-04, 6.96437734e-04,\n",
       "         0.00000000e+00, 7.04456317e-04],\n",
       "        [6.38934510e-02, 7.14004762e-02, 6.69274284e-02, 6.13092732e-02,\n",
       "         6.97169736e-02, 6.04855223e-02, 7.25240382e-02, 6.24236987e-02,\n",
       "         6.60779391e-02, 6.70627886e-02],\n",
       "        [5.77971653e-03, 7.37457385e-03, 6.06607086e-03, 7.20450230e-03,\n",
       "         7.70175919e-03, 7.20906794e-03, 4.97455791e-03, 7.71497798e-03,\n",
       "         6.04839287e-03, 4.96485211e-03],\n",
       "        [8.19306075e-04, 8.23486541e-04, 7.41532888e-04, 7.28411453e-04,\n",
       "         6.22548872e-04, 7.89207941e-04, 8.83724057e-04, 4.28268846e-04,\n",
       "         7.60586101e-04, 5.63995683e-04]])}"
      ]
     },
     "execution_count": 42,
     "metadata": {},
     "output_type": "execute_result"
    }
   ],
   "source": [
    "result"
   ]
  },
  {
   "cell_type": "code",
   "execution_count": 44,
   "metadata": {},
   "outputs": [],
   "source": [
    "tree_importances = pd.Series(result.importances_mean)"
   ]
  },
  {
   "cell_type": "code",
   "execution_count": 41,
   "metadata": {},
   "outputs": [
    {
     "ename": "NameError",
     "evalue": "name 'tree_importances' is not defined",
     "output_type": "error",
     "traceback": [
      "\u001b[0;31m---------------------------------------------------------------------------\u001b[0m",
      "\u001b[0;31mNameError\u001b[0m                                 Traceback (most recent call last)",
      "\u001b[1;32m/Users/jankirenz/books/regression/docs/gradientboosting-xgboost-boston.ipynb Cell 36'\u001b[0m in \u001b[0;36m<cell line: 2>\u001b[0;34m()\u001b[0m\n\u001b[1;32m      <a href='vscode-notebook-cell:/Users/jankirenz/books/regression/docs/gradientboosting-xgboost-boston.ipynb#ch0000038?line=0'>1</a>\u001b[0m \u001b[39m# sort features according to importance\u001b[39;00m\n\u001b[0;32m----> <a href='vscode-notebook-cell:/Users/jankirenz/books/regression/docs/gradientboosting-xgboost-boston.ipynb#ch0000038?line=1'>2</a>\u001b[0m sorted_idx \u001b[39m=\u001b[39m np\u001b[39m.\u001b[39margsort(tree_importances)\n\u001b[1;32m      <a href='vscode-notebook-cell:/Users/jankirenz/books/regression/docs/gradientboosting-xgboost-boston.ipynb#ch0000038?line=2'>3</a>\u001b[0m pos \u001b[39m=\u001b[39m np\u001b[39m.\u001b[39marange(sorted_idx\u001b[39m.\u001b[39mshape[\u001b[39m0\u001b[39m])\n\u001b[1;32m      <a href='vscode-notebook-cell:/Users/jankirenz/books/regression/docs/gradientboosting-xgboost-boston.ipynb#ch0000038?line=4'>5</a>\u001b[0m \u001b[39m# plot feature importances\u001b[39;00m\n",
      "\u001b[0;31mNameError\u001b[0m: name 'tree_importances' is not defined"
     ]
    }
   ],
   "source": [
    "# sort features according to importance\n",
    "sorted_idx = np.argsort(tree_importances)\n",
    "pos = np.arange(sorted_idx.shape[0])\n",
    "\n",
    "# plot feature importances\n",
    "plt.barh(pos, tree_importances[sorted_idx], align=\"center\")\n",
    "\n",
    "#plt.yticks(pos, np.array(feature_names)[sorted_idx])\n",
    "plt.title(\"Feature Importance (MDI)\")\n",
    "plt.xlabel(\"Mean decrease in impurity\");"
   ]
  },
  {
   "cell_type": "markdown",
   "metadata": {},
   "source": [
    "- Same data plotted as boxplot:"
   ]
  },
  {
   "cell_type": "code",
   "execution_count": 59,
   "metadata": {},
   "outputs": [
    {
     "data": {
      "image/png": "[encoded data removed]",
      "text/plain": [
       "<Figure size 432x288 with 1 Axes>"
      ]
     },
     "metadata": {
      "needs_background": "light"
     },
     "output_type": "display_data"
    }
   ],
   "source": [
    "plt.boxplot(\n",
    "    result.importances[sorted_idx].T,\n",
    "    vert=False,\n",
    "    labels=np.array(feature_names)[sorted_idx],\n",
    ")\n",
    "\n",
    "plt.title(\"Permutation Importance (test set)\")\n",
    "plt.show()"
   ]
  },
  {
   "cell_type": "markdown",
   "metadata": {},
   "source": [
    "- We observe that the same features are detected as most important using both methods. Although the relative importances vary (especially for feature `Years`)."
   ]
  },
  {
   "cell_type": "markdown",
   "metadata": {},
   "source": [
    "## Hyperparameter Tuning"
   ]
  }
 ],
 "metadata": {
  "interpreter": {
   "hash": "463226f144cc21b006ce6927bfc93dd00694e52c8bc6857abb6e555b983749e9"
  },
  "kernelspec": {
   "display_name": "Python 3.7.11 64-bit ('base': conda)",
   "language": "python",
   "name": "python3"
  },
  "language_info": {
   "codemirror_mode": {
    "name": "ipython",
    "version": 3
   },
   "file_extension": ".py",
   "mimetype": "text/x-python",
   "name": "python",
   "nbconvert_exporter": "python",
   "pygments_lexer": "ipython3",
   "version": "3.9.12"
  },
  "orig_nbformat": 4
 },
 "nbformat": 4,
 "nbformat_minor": 2
}
