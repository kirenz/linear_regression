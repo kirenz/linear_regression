{
 "cells": [
  {
   "cell_type": "markdown",
   "metadata": {},
   "source": [
    "# Gradient Boosting with XGBoost"
   ]
  },
  {
   "cell_type": "markdown",
   "metadata": {},
   "source": [
    "\n",
    "\n",
    "We illustrate the following regression method on a data set called \"Hitters\", which includes 20 variables and 322 observations of major league baseball players. The goal is to predict a baseball player’s salary on the basis of various features associated with performance in the previous year. We don't cover the topic of exploratory data analysis in this notebook. \n",
    "\n",
    "- Visit [this documentation](https://cran.r-project.org/web/packages/ISLR/ISLR.pdf) if you want to learn more about the data"
   ]
  },
  {
   "cell_type": "markdown",
   "metadata": {},
   "source": [
    "## Setup"
   ]
  },
  {
   "cell_type": "code",
   "execution_count": 1,
   "metadata": {},
   "outputs": [
    {
     "name": "stdout",
     "output_type": "stream",
     "text": [
      "XGB Version: 1.6.0\n"
     ]
    }
   ],
   "source": [
    "%matplotlib inline\n",
    "\n",
    "import warnings\n",
    "warnings.simplefilter(action='ignore', category=FutureWarning)\n",
    "\n",
    "import numpy as np\n",
    "import matplotlib.pyplot as plt\n",
    "\n",
    "import xgboost as xgb\n",
    "print(\"XGB Version:\", xgb.__version__)\n",
    "\n",
    "from sklearn.metrics import mean_squared_error\n",
    "from sklearn.inspection import permutation_importance"
   ]
  },
  {
   "cell_type": "markdown",
   "metadata": {},
   "source": [
    "## Data\n",
    "\n",
    "- See [](hitters_data.ipynb) for details about the data preprocessing steps.\n",
    "- We simply import the preprocessed data by using this [Python script](https://github.com/kirenz/regression/blob/main/docs/hitters_data.py) which will yield:\n",
    "  - X_train, X_test, y_train, y_test\n",
    "  - df_train and df_tests\n",
    "  - feature_names"
   ]
  },
  {
   "cell_type": "code",
   "execution_count": 2,
   "metadata": {},
   "outputs": [],
   "source": [
    "from hitters_data import *"
   ]
  },
  {
   "cell_type": "markdown",
   "metadata": {},
   "source": [
    "## Model"
   ]
  },
  {
   "cell_type": "markdown",
   "metadata": {},
   "source": [
    "- Define hyperparameters"
   ]
  },
  {
   "cell_type": "code",
   "execution_count": 3,
   "metadata": {},
   "outputs": [],
   "source": [
    "params = {\n",
    "    \"n_estimators\":50,\n",
    "    \"max_depth\": 4,\n",
    "    \"learning_rate\": 0.01,\n",
    "    \"eval_metric\": \"rmse\"\n",
    "}"
   ]
  },
  {
   "cell_type": "markdown",
   "metadata": {},
   "source": [
    "- Prepare evaluation data"
   ]
  },
  {
   "cell_type": "code",
   "execution_count": 4,
   "metadata": {},
   "outputs": [],
   "source": [
    "eval_set = [(X_train, y_train), (X_test, y_test)]"
   ]
  },
  {
   "cell_type": "markdown",
   "metadata": {},
   "source": [
    "- Build and fit model"
   ]
  },
  {
   "cell_type": "code",
   "execution_count": 5,
   "metadata": {},
   "outputs": [
    {
     "name": "stdout",
     "output_type": "stream",
     "text": [
      "[0]\tvalidation_0-rmse:693.13939\tvalidation_1-rmse:694.51649\n",
      "[1]\tvalidation_0-rmse:687.25191\tvalidation_1-rmse:688.37644\n",
      "[2]\tvalidation_0-rmse:681.42445\tvalidation_1-rmse:682.31515\n",
      "[3]\tvalidation_0-rmse:675.64867\tvalidation_1-rmse:677.35826\n",
      "[4]\tvalidation_0-rmse:669.93320\tvalidation_1-rmse:672.46290\n",
      "[5]\tvalidation_0-rmse:664.27350\tvalidation_1-rmse:666.60591\n",
      "[6]\tvalidation_0-rmse:658.67121\tvalidation_1-rmse:661.82838\n",
      "[7]\tvalidation_0-rmse:653.12688\tvalidation_1-rmse:656.90319\n",
      "[8]\tvalidation_0-rmse:647.63961\tvalidation_1-rmse:652.24138\n",
      "[9]\tvalidation_0-rmse:642.19390\tvalidation_1-rmse:646.64970\n",
      "[10]\tvalidation_0-rmse:636.80992\tvalidation_1-rmse:641.92285\n",
      "[11]\tvalidation_0-rmse:631.48134\tvalidation_1-rmse:637.27762\n",
      "[12]\tvalidation_0-rmse:626.19614\tvalidation_1-rmse:631.90670\n",
      "[13]\tvalidation_0-rmse:620.97255\tvalidation_1-rmse:627.37414\n",
      "[14]\tvalidation_0-rmse:615.80413\tvalidation_1-rmse:622.82286\n",
      "[15]\tvalidation_0-rmse:610.68529\tvalidation_1-rmse:618.45032\n",
      "[16]\tvalidation_0-rmse:605.60407\tvalidation_1-rmse:613.33537\n",
      "[17]\tvalidation_0-rmse:600.57906\tvalidation_1-rmse:609.34508\n",
      "[18]\tvalidation_0-rmse:595.60970\tvalidation_1-rmse:605.29294\n",
      "[19]\tvalidation_0-rmse:590.69058\tvalidation_1-rmse:601.35710\n",
      "[20]\tvalidation_0-rmse:585.80052\tvalidation_1-rmse:596.47644\n",
      "[21]\tvalidation_0-rmse:580.97580\tvalidation_1-rmse:592.68846\n",
      "[22]\tvalidation_0-rmse:576.20465\tvalidation_1-rmse:588.83853\n",
      "[23]\tvalidation_0-rmse:571.47605\tvalidation_1-rmse:585.00430\n",
      "[24]\tvalidation_0-rmse:566.76789\tvalidation_1-rmse:580.46276\n",
      "[25]\tvalidation_0-rmse:562.13473\tvalidation_1-rmse:576.72806\n",
      "[26]\tvalidation_0-rmse:557.55151\tvalidation_1-rmse:573.04329\n",
      "[27]\tvalidation_0-rmse:552.98293\tvalidation_1-rmse:568.56142\n",
      "[28]\tvalidation_0-rmse:548.47424\tvalidation_1-rmse:564.78179\n",
      "[29]\tvalidation_0-rmse:544.02571\tvalidation_1-rmse:561.24016\n",
      "[30]\tvalidation_0-rmse:539.58015\tvalidation_1-rmse:557.70367\n",
      "[31]\tvalidation_0-rmse:535.22326\tvalidation_1-rmse:554.25781\n",
      "[32]\tvalidation_0-rmse:530.91185\tvalidation_1-rmse:550.87278\n",
      "[33]\tvalidation_0-rmse:526.59696\tvalidation_1-rmse:546.80625\n",
      "[34]\tvalidation_0-rmse:522.37363\tvalidation_1-rmse:543.51320\n",
      "[35]\tvalidation_0-rmse:518.14474\tvalidation_1-rmse:539.55518\n",
      "[36]\tvalidation_0-rmse:513.98339\tvalidation_1-rmse:536.03011\n",
      "[37]\tvalidation_0-rmse:509.83863\tvalidation_1-rmse:532.21427\n",
      "[38]\tvalidation_0-rmse:505.74956\tvalidation_1-rmse:528.81269\n",
      "[39]\tvalidation_0-rmse:501.70899\tvalidation_1-rmse:525.42317\n",
      "[40]\tvalidation_0-rmse:497.69725\tvalidation_1-rmse:522.18693\n",
      "[41]\tvalidation_0-rmse:493.72723\tvalidation_1-rmse:519.00022\n",
      "[42]\tvalidation_0-rmse:489.80529\tvalidation_1-rmse:515.74005\n",
      "[43]\tvalidation_0-rmse:485.91322\tvalidation_1-rmse:512.64781\n",
      "[44]\tvalidation_0-rmse:482.06295\tvalidation_1-rmse:509.52443\n",
      "[45]\tvalidation_0-rmse:478.25068\tvalidation_1-rmse:506.52609\n",
      "[46]\tvalidation_0-rmse:474.47971\tvalidation_1-rmse:503.42672\n",
      "[47]\tvalidation_0-rmse:470.70649\tvalidation_1-rmse:500.40295\n",
      "[48]\tvalidation_0-rmse:466.97397\tvalidation_1-rmse:497.36221\n",
      "[49]\tvalidation_0-rmse:463.27880\tvalidation_1-rmse:494.61958\n"
     ]
    },
    {
     "data": {
      "text/plain": [
       "XGBRegressor(base_score=0.5, booster='gbtree', callbacks=None,\n",
       "             colsample_bylevel=1, colsample_bynode=1, colsample_bytree=1,\n",
       "             early_stopping_rounds=None, enable_categorical=False,\n",
       "             eval_metric='rmse', gamma=0, gpu_id=-1, grow_policy='depthwise',\n",
       "             importance_type=None, interaction_constraints='',\n",
       "             learning_rate=0.01, max_bin=256, max_cat_to_onehot=4,\n",
       "             max_delta_step=0, max_depth=4, max_leaves=0, min_child_weight=1,\n",
       "             missing=nan, monotone_constraints='()', n_estimators=50, n_jobs=0,\n",
       "             num_parallel_tree=1, predictor='auto', random_state=0, reg_alpha=0,\n",
       "             reg_lambda=1, ...)"
      ]
     },
     "execution_count": 5,
     "metadata": {},
     "output_type": "execute_result"
    }
   ],
   "source": [
    "reg = xgb.XGBRegressor(**params)\n",
    "\n",
    "reg.fit(X_train, y_train, eval_set=eval_set)"
   ]
  },
  {
   "cell_type": "markdown",
   "metadata": {},
   "source": [
    "- Make predictions"
   ]
  },
  {
   "cell_type": "code",
   "execution_count": 6,
   "metadata": {},
   "outputs": [],
   "source": [
    "y_pred = reg.predict(X_test)"
   ]
  },
  {
   "cell_type": "markdown",
   "metadata": {},
   "source": [
    "- Obtain RMSE"
   ]
  },
  {
   "cell_type": "code",
   "execution_count": 7,
   "metadata": {},
   "outputs": [
    {
     "data": {
      "text/plain": [
       "494.61957203317934"
      ]
     },
     "execution_count": 7,
     "metadata": {},
     "output_type": "execute_result"
    }
   ],
   "source": [
    "mean_squared_error(y_test, y_pred, squared = False)"
   ]
  },
  {
   "cell_type": "markdown",
   "metadata": {},
   "source": [
    "- Save te model"
   ]
  },
  {
   "cell_type": "code",
   "execution_count": 8,
   "metadata": {},
   "outputs": [],
   "source": [
    "# Save model into JSON format.\n",
    "reg.save_model(\"regressor.json\")"
   ]
  },
  {
   "cell_type": "markdown",
   "metadata": {},
   "source": [
    "### Plot training test deviance"
   ]
  },
  {
   "cell_type": "markdown",
   "metadata": {},
   "source": [
    "\n",
    "- Obtain evaluation metrics"
   ]
  },
  {
   "cell_type": "code",
   "execution_count": 9,
   "metadata": {},
   "outputs": [],
   "source": [
    "results = reg.evals_result()"
   ]
  },
  {
   "cell_type": "markdown",
   "metadata": {},
   "source": [
    "- Plot training test deviance"
   ]
  },
  {
   "cell_type": "code",
   "execution_count": 10,
   "metadata": {},
   "outputs": [
    {
     "data": {
      "image/png": "[encoded data removed]",
      "text/plain": [
       "<Figure size 432x288 with 1 Axes>"
      ]
     },
     "metadata": {
      "needs_background": "light"
     },
     "output_type": "display_data"
    }
   ],
   "source": [
    "# Prepare x-axis\n",
    "epochs = len(results['validation_0']['rmse'])\n",
    "x_axis = range(0, epochs)\n",
    "\n",
    "fig, ax = plt.subplots()\n",
    "\n",
    "ax.plot(x_axis, results['validation_0']['rmse'], label='Train')\n",
    "ax.plot(x_axis, results['validation_1']['rmse'], label='Test')\n",
    "\n",
    "plt.title('XGBoost RMSE')\n",
    "plt.xlabel(\"Boosting Iterations\")\n",
    "plt.ylabel(\"RMSE Deviance\")\n",
    "plt.legend(loc=\"upper right\");\n"
   ]
  },
  {
   "cell_type": "markdown",
   "metadata": {},
   "source": [
    "## Feature importance\n",
    "\n",
    "- Next, we take a look at the tree based feature importance and the permutation importance.\n",
    "\n",
    "### Mean decrease in impurity (MDI)\n",
    "\n",
    "- Mean decrease in impurity (MDI) is a measure of feature importance for decision tree models. \n",
    "\n",
    "```{Note}\n",
    "Visit [this notebook](https://kirenz.github.io/feature-engineering/docs/mdi.html#) to learn more about MDI\n",
    "```"
   ]
  },
  {
   "cell_type": "markdown",
   "metadata": {},
   "source": [
    "- Feature importances are provided by the function `plot_importance` "
   ]
  },
  {
   "cell_type": "code",
   "execution_count": 11,
   "metadata": {},
   "outputs": [
    {
     "data": {
      "image/png": "[encoded data removed]",
      "text/plain": [
       "<Figure size 432x288 with 1 Axes>"
      ]
     },
     "metadata": {
      "needs_background": "light"
     },
     "output_type": "display_data"
    }
   ],
   "source": [
    "xgb.plot_importance(reg);"
   ]
  },
  {
   "cell_type": "markdown",
   "metadata": {},
   "source": [
    "### Permutation feature importance\n",
    "\n",
    "The permutation feature importance is defined to be the decrease in a model score when a single feature value is randomly shuffled. \n",
    "\n",
    "```{Note}\n",
    "Visit [this notebook](https://kirenz.github.io/feature-engineering/docs/permutation-feature-importance.html) to learn more about permutation feature importance.\n",
    "```"
   ]
  },
  {
   "cell_type": "code",
   "execution_count": 12,
   "metadata": {},
   "outputs": [],
   "source": [
    "\n",
    "result = permutation_importance(\n",
    "    reg, X_test, y_test, n_repeats=10, random_state=42, n_jobs=2\n",
    ")"
   ]
  },
  {
   "cell_type": "code",
   "execution_count": 13,
   "metadata": {},
   "outputs": [
    {
     "data": {
      "text/plain": [
       "Index(['AtBat', 'Hits', 'HmRun', 'Runs', 'RBI', 'Walks', 'Years', 'CAtBat',\n",
       "       'CHits', 'CHmRun', 'CRuns', 'CRBI', 'CWalks', 'PutOuts', 'Assists',\n",
       "       'Errors', 'League_N', 'Division_W', 'NewLeague_N'],\n",
       "      dtype='object')"
      ]
     },
     "execution_count": 13,
     "metadata": {},
     "output_type": "execute_result"
    }
   ],
   "source": [
    "feature_names"
   ]
  },
  {
   "cell_type": "code",
   "execution_count": 14,
   "metadata": {},
   "outputs": [],
   "source": [
    "tree_importances = pd.Series(result.importances_mean, index=feature_names)"
   ]
  },
  {
   "cell_type": "code",
   "execution_count": 15,
   "metadata": {},
   "outputs": [
    {
     "data": {
      "image/png": "[encoded data removed]",
      "text/plain": [
       "<Figure size 432x288 with 1 Axes>"
      ]
     },
     "metadata": {
      "needs_background": "light"
     },
     "output_type": "display_data"
    }
   ],
   "source": [
    "# sort features according to importance\n",
    "sorted_idx = np.argsort(tree_importances)\n",
    "pos = np.arange(sorted_idx.shape[0])\n",
    "\n",
    "# plot feature importances\n",
    "plt.barh(pos, tree_importances[sorted_idx], align=\"center\")\n",
    "\n",
    "plt.yticks(pos, np.array(feature_names)[sorted_idx])\n",
    "plt.title(\"Feature Importance (MDI)\")\n",
    "plt.xlabel(\"Mean decrease in impurity\");"
   ]
  },
  {
   "cell_type": "markdown",
   "metadata": {},
   "source": [
    "- Same data plotted as boxplot:"
   ]
  },
  {
   "cell_type": "code",
   "execution_count": 16,
   "metadata": {},
   "outputs": [
    {
     "data": {
      "image/png": "[encoded data removed]",
      "text/plain": [
       "<Figure size 432x288 with 1 Axes>"
      ]
     },
     "metadata": {
      "needs_background": "light"
     },
     "output_type": "display_data"
    }
   ],
   "source": [
    "plt.boxplot(\n",
    "    result.importances[sorted_idx].T,\n",
    "    vert=False,\n",
    "    labels=np.array(feature_names)[sorted_idx],\n",
    ")\n",
    "\n",
    "plt.title(\"Permutation Importance (test set)\")\n",
    "plt.show()"
   ]
  },
  {
   "cell_type": "markdown",
   "metadata": {},
   "source": [
    "- We observe that the same features are detected as most important using both methods. Although the relative importances vary (especially for feature `Years`)."
   ]
  }
 ],
 "metadata": {
  "interpreter": {
   "hash": "463226f144cc21b006ce6927bfc93dd00694e52c8bc6857abb6e555b983749e9"
  },
  "kernelspec": {
   "display_name": "Python 3.7.11 64-bit ('base': conda)",
   "language": "python",
   "name": "python3"
  },
  "language_info": {
   "codemirror_mode": {
    "name": "ipython",
    "version": 3
   },
   "file_extension": ".py",
   "mimetype": "text/x-python",
   "name": "python",
   "nbconvert_exporter": "python",
   "pygments_lexer": "ipython3",
   "version": "3.9.12"
  },
  "orig_nbformat": 4
 },
 "nbformat": 4,
 "nbformat_minor": 2
}
