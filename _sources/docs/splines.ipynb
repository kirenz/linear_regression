{
 "cells": [
  {
   "cell_type": "markdown",
   "metadata": {
    "slideshow": {
     "slide_type": "slide"
    }
   },
   "source": [
    "# Regression splines"
   ]
  },
  {
   "cell_type": "markdown",
   "metadata": {
    "slideshow": {
     "slide_type": "notes"
    }
   },
   "source": [
    "*The following code tutorial is mainly based on the [scikit learn documentation](https://scikit-learn.org/stable/auto_examples/linear_model/plot_polynomial_interpolation.html#sphx-glr-auto-examples-linear-model-plot-polynomial-interpolation-py) about splines provided by Mathieu Blondel, Jake Vanderplas, Christian Lorentzen and Malte Londschien and code from [Jordi Warmenhoven](https://nbviewer.org/github/JWarmenhoven/ISL-python/blob/master/Notebooks/Chapter%207.ipynb)*. To learn more about the spline regression method, review [\"An Introduction to Statistical Learning\"](https://www.statlearning.com/) from {cite:p}`James2021`."
   ]
  },
  {
   "cell_type": "markdown",
   "metadata": {},
   "source": [
    "- Regression splines involve dividing the range of a feature X into K distinct regions (by using so called knots). Within each region, a polynomial function is fit to the data. \n",
    "\n",
    "- In the following example, various piecewise polynomials are fit to the data, with one knot at age=50 {cite:p}`James2021`: "
   ]
  },
  {
   "cell_type": "markdown",
   "metadata": {},
   "source": [
    "![](../_static/img/splines.png)"
   ]
  },
  {
   "cell_type": "markdown",
   "metadata": {},
   "source": [
    "Figures: \n",
    "\n",
    "- Top Left: The cubic polynomials are unconstrained.\n",
    "- Top Right: The cubic polynomials are constrained to be continuous at age=50.\n",
    "- Bottom Left: The cubic polynomials are constrained to be continuous, and to\n",
    "have continuous first and second derivatives. \n",
    "- Bottom Right: A linear spline is shown, which is constrained to be continuous."
   ]
  },
  {
   "cell_type": "markdown",
   "metadata": {},
   "source": [
    "- The polynomials are ususally constrained so that they join smoothly at the region boundaries, or knots. \n",
    "- Provided that the interval is divided into enough regions, this can produce an extremely flexibel fit {cite:p}`James2021`:"
   ]
  },
  {
   "cell_type": "markdown",
   "metadata": {},
   "source": [
    "![](../_static/img/splines-2.png)"
   ]
  },
  {
   "cell_type": "markdown",
   "metadata": {},
   "source": [
    "Figure: A cubic spline and a natural cubic spline, with three knots. The dashed lines denote the knot locations."
   ]
  },
  {
   "cell_type": "markdown",
   "metadata": {},
   "source": [
    "\n",
    "\n",
    "\n",
    "- To understand the advantages of regression splines, we first start with a linear ridge regression model, build a simple polynomial regression and then proceed to splines.\n",
    "\n",
    "\n",
    "\n",
    "\n"
   ]
  },
  {
   "cell_type": "markdown",
   "metadata": {
    "slideshow": {
     "slide_type": "slide"
    }
   },
   "source": [
    "## Data"
   ]
  },
  {
   "cell_type": "markdown",
   "metadata": {
    "slideshow": {
     "slide_type": "slide"
    }
   },
   "source": [
    "### Import"
   ]
  },
  {
   "cell_type": "code",
   "execution_count": 24,
   "metadata": {
    "slideshow": {
     "slide_type": "fragment"
    }
   },
   "outputs": [
    {
     "data": {
      "text/html": [
       "<div>\n",
       "<style scoped>\n",
       "    .dataframe tbody tr th:only-of-type {\n",
       "        vertical-align: middle;\n",
       "    }\n",
       "\n",
       "    .dataframe tbody tr th {\n",
       "        vertical-align: top;\n",
       "    }\n",
       "\n",
       "    .dataframe thead th {\n",
       "        text-align: right;\n",
       "    }\n",
       "</style>\n",
       "<table border=\"1\" class=\"dataframe\">\n",
       "  <thead>\n",
       "    <tr style=\"text-align: right;\">\n",
       "      <th></th>\n",
       "      <th>Unnamed: 0</th>\n",
       "      <th>year</th>\n",
       "      <th>age</th>\n",
       "      <th>maritl</th>\n",
       "      <th>race</th>\n",
       "      <th>education</th>\n",
       "      <th>region</th>\n",
       "      <th>jobclass</th>\n",
       "      <th>health</th>\n",
       "      <th>health_ins</th>\n",
       "      <th>logwage</th>\n",
       "      <th>wage</th>\n",
       "    </tr>\n",
       "  </thead>\n",
       "  <tbody>\n",
       "    <tr>\n",
       "      <th>0</th>\n",
       "      <td>231655</td>\n",
       "      <td>2006</td>\n",
       "      <td>18</td>\n",
       "      <td>1. Never Married</td>\n",
       "      <td>1. White</td>\n",
       "      <td>1. &lt; HS Grad</td>\n",
       "      <td>2. Middle Atlantic</td>\n",
       "      <td>1. Industrial</td>\n",
       "      <td>1. &lt;=Good</td>\n",
       "      <td>2. No</td>\n",
       "      <td>4.318063</td>\n",
       "      <td>75.043154</td>\n",
       "    </tr>\n",
       "    <tr>\n",
       "      <th>1</th>\n",
       "      <td>86582</td>\n",
       "      <td>2004</td>\n",
       "      <td>24</td>\n",
       "      <td>1. Never Married</td>\n",
       "      <td>1. White</td>\n",
       "      <td>4. College Grad</td>\n",
       "      <td>2. Middle Atlantic</td>\n",
       "      <td>2. Information</td>\n",
       "      <td>2. &gt;=Very Good</td>\n",
       "      <td>2. No</td>\n",
       "      <td>4.255273</td>\n",
       "      <td>70.476020</td>\n",
       "    </tr>\n",
       "    <tr>\n",
       "      <th>2</th>\n",
       "      <td>161300</td>\n",
       "      <td>2003</td>\n",
       "      <td>45</td>\n",
       "      <td>2. Married</td>\n",
       "      <td>1. White</td>\n",
       "      <td>3. Some College</td>\n",
       "      <td>2. Middle Atlantic</td>\n",
       "      <td>1. Industrial</td>\n",
       "      <td>1. &lt;=Good</td>\n",
       "      <td>1. Yes</td>\n",
       "      <td>4.875061</td>\n",
       "      <td>130.982177</td>\n",
       "    </tr>\n",
       "    <tr>\n",
       "      <th>3</th>\n",
       "      <td>155159</td>\n",
       "      <td>2003</td>\n",
       "      <td>43</td>\n",
       "      <td>2. Married</td>\n",
       "      <td>3. Asian</td>\n",
       "      <td>4. College Grad</td>\n",
       "      <td>2. Middle Atlantic</td>\n",
       "      <td>2. Information</td>\n",
       "      <td>2. &gt;=Very Good</td>\n",
       "      <td>1. Yes</td>\n",
       "      <td>5.041393</td>\n",
       "      <td>154.685293</td>\n",
       "    </tr>\n",
       "    <tr>\n",
       "      <th>4</th>\n",
       "      <td>11443</td>\n",
       "      <td>2005</td>\n",
       "      <td>50</td>\n",
       "      <td>4. Divorced</td>\n",
       "      <td>1. White</td>\n",
       "      <td>2. HS Grad</td>\n",
       "      <td>2. Middle Atlantic</td>\n",
       "      <td>2. Information</td>\n",
       "      <td>1. &lt;=Good</td>\n",
       "      <td>1. Yes</td>\n",
       "      <td>4.318063</td>\n",
       "      <td>75.043154</td>\n",
       "    </tr>\n",
       "    <tr>\n",
       "      <th>...</th>\n",
       "      <td>...</td>\n",
       "      <td>...</td>\n",
       "      <td>...</td>\n",
       "      <td>...</td>\n",
       "      <td>...</td>\n",
       "      <td>...</td>\n",
       "      <td>...</td>\n",
       "      <td>...</td>\n",
       "      <td>...</td>\n",
       "      <td>...</td>\n",
       "      <td>...</td>\n",
       "      <td>...</td>\n",
       "    </tr>\n",
       "    <tr>\n",
       "      <th>2995</th>\n",
       "      <td>376816</td>\n",
       "      <td>2008</td>\n",
       "      <td>44</td>\n",
       "      <td>2. Married</td>\n",
       "      <td>1. White</td>\n",
       "      <td>3. Some College</td>\n",
       "      <td>2. Middle Atlantic</td>\n",
       "      <td>1. Industrial</td>\n",
       "      <td>2. &gt;=Very Good</td>\n",
       "      <td>1. Yes</td>\n",
       "      <td>5.041393</td>\n",
       "      <td>154.685293</td>\n",
       "    </tr>\n",
       "    <tr>\n",
       "      <th>2996</th>\n",
       "      <td>302281</td>\n",
       "      <td>2007</td>\n",
       "      <td>30</td>\n",
       "      <td>2. Married</td>\n",
       "      <td>1. White</td>\n",
       "      <td>2. HS Grad</td>\n",
       "      <td>2. Middle Atlantic</td>\n",
       "      <td>1. Industrial</td>\n",
       "      <td>2. &gt;=Very Good</td>\n",
       "      <td>2. No</td>\n",
       "      <td>4.602060</td>\n",
       "      <td>99.689464</td>\n",
       "    </tr>\n",
       "    <tr>\n",
       "      <th>2997</th>\n",
       "      <td>10033</td>\n",
       "      <td>2005</td>\n",
       "      <td>27</td>\n",
       "      <td>2. Married</td>\n",
       "      <td>2. Black</td>\n",
       "      <td>1. &lt; HS Grad</td>\n",
       "      <td>2. Middle Atlantic</td>\n",
       "      <td>1. Industrial</td>\n",
       "      <td>1. &lt;=Good</td>\n",
       "      <td>2. No</td>\n",
       "      <td>4.193125</td>\n",
       "      <td>66.229408</td>\n",
       "    </tr>\n",
       "    <tr>\n",
       "      <th>2998</th>\n",
       "      <td>14375</td>\n",
       "      <td>2005</td>\n",
       "      <td>27</td>\n",
       "      <td>1. Never Married</td>\n",
       "      <td>1. White</td>\n",
       "      <td>3. Some College</td>\n",
       "      <td>2. Middle Atlantic</td>\n",
       "      <td>1. Industrial</td>\n",
       "      <td>2. &gt;=Very Good</td>\n",
       "      <td>1. Yes</td>\n",
       "      <td>4.477121</td>\n",
       "      <td>87.981033</td>\n",
       "    </tr>\n",
       "    <tr>\n",
       "      <th>2999</th>\n",
       "      <td>453557</td>\n",
       "      <td>2009</td>\n",
       "      <td>55</td>\n",
       "      <td>5. Separated</td>\n",
       "      <td>1. White</td>\n",
       "      <td>2. HS Grad</td>\n",
       "      <td>2. Middle Atlantic</td>\n",
       "      <td>1. Industrial</td>\n",
       "      <td>1. &lt;=Good</td>\n",
       "      <td>1. Yes</td>\n",
       "      <td>4.505150</td>\n",
       "      <td>90.481913</td>\n",
       "    </tr>\n",
       "  </tbody>\n",
       "</table>\n",
       "<p>3000 rows × 12 columns</p>\n",
       "</div>"
      ],
      "text/plain": [
       "      Unnamed: 0  year  age            maritl      race        education  \\\n",
       "0         231655  2006   18  1. Never Married  1. White     1. < HS Grad   \n",
       "1          86582  2004   24  1. Never Married  1. White  4. College Grad   \n",
       "2         161300  2003   45        2. Married  1. White  3. Some College   \n",
       "3         155159  2003   43        2. Married  3. Asian  4. College Grad   \n",
       "4          11443  2005   50       4. Divorced  1. White       2. HS Grad   \n",
       "...          ...   ...  ...               ...       ...              ...   \n",
       "2995      376816  2008   44        2. Married  1. White  3. Some College   \n",
       "2996      302281  2007   30        2. Married  1. White       2. HS Grad   \n",
       "2997       10033  2005   27        2. Married  2. Black     1. < HS Grad   \n",
       "2998       14375  2005   27  1. Never Married  1. White  3. Some College   \n",
       "2999      453557  2009   55      5. Separated  1. White       2. HS Grad   \n",
       "\n",
       "                  region        jobclass          health health_ins   logwage  \\\n",
       "0     2. Middle Atlantic   1. Industrial       1. <=Good      2. No  4.318063   \n",
       "1     2. Middle Atlantic  2. Information  2. >=Very Good      2. No  4.255273   \n",
       "2     2. Middle Atlantic   1. Industrial       1. <=Good     1. Yes  4.875061   \n",
       "3     2. Middle Atlantic  2. Information  2. >=Very Good     1. Yes  5.041393   \n",
       "4     2. Middle Atlantic  2. Information       1. <=Good     1. Yes  4.318063   \n",
       "...                  ...             ...             ...        ...       ...   \n",
       "2995  2. Middle Atlantic   1. Industrial  2. >=Very Good     1. Yes  5.041393   \n",
       "2996  2. Middle Atlantic   1. Industrial  2. >=Very Good      2. No  4.602060   \n",
       "2997  2. Middle Atlantic   1. Industrial       1. <=Good      2. No  4.193125   \n",
       "2998  2. Middle Atlantic   1. Industrial  2. >=Very Good     1. Yes  4.477121   \n",
       "2999  2. Middle Atlantic   1. Industrial       1. <=Good     1. Yes  4.505150   \n",
       "\n",
       "            wage  \n",
       "0      75.043154  \n",
       "1      70.476020  \n",
       "2     130.982177  \n",
       "3     154.685293  \n",
       "4      75.043154  \n",
       "...          ...  \n",
       "2995  154.685293  \n",
       "2996   99.689464  \n",
       "2997   66.229408  \n",
       "2998   87.981033  \n",
       "2999   90.481913  \n",
       "\n",
       "[3000 rows x 12 columns]"
      ]
     },
     "execution_count": 24,
     "metadata": {},
     "output_type": "execute_result"
    }
   ],
   "source": [
    "import pandas as pd\n",
    "\n",
    "df = pd.read_csv('https://raw.githubusercontent.com/kirenz/datasets/master/wage.csv')\n",
    "df"
   ]
  },
  {
   "cell_type": "markdown",
   "metadata": {
    "slideshow": {
     "slide_type": "slide"
    }
   },
   "source": [
    "### Create label and feature\n",
    "\n",
    "- We only use the feature age to predict wage:"
   ]
  },
  {
   "cell_type": "code",
   "execution_count": 25,
   "metadata": {
    "slideshow": {
     "slide_type": "fragment"
    }
   },
   "outputs": [],
   "source": [
    "X = df[['age']]\n",
    "y = df[['wage']]"
   ]
  },
  {
   "cell_type": "markdown",
   "metadata": {
    "slideshow": {
     "slide_type": "slide"
    }
   },
   "source": [
    "### Data split"
   ]
  },
  {
   "cell_type": "markdown",
   "metadata": {
    "slideshow": {
     "slide_type": "fragment"
    }
   },
   "source": [
    "- Dividing data into train and test datasets"
   ]
  },
  {
   "cell_type": "code",
   "execution_count": 26,
   "metadata": {
    "slideshow": {
     "slide_type": "fragment"
    }
   },
   "outputs": [],
   "source": [
    "from sklearn.model_selection import train_test_split\n",
    "\n",
    "X_train, X_test, y_train, y_test = train_test_split(X, y, test_size=0.3, random_state = 1)"
   ]
  },
  {
   "cell_type": "markdown",
   "metadata": {
    "slideshow": {
     "slide_type": "slide"
    }
   },
   "source": [
    "### Data exploration\n",
    "\n",
    "- Visualize the relationship between age and wage:"
   ]
  },
  {
   "cell_type": "code",
   "execution_count": 27,
   "metadata": {
    "slideshow": {
     "slide_type": "fragment"
    }
   },
   "outputs": [
    {
     "data": {
      "image/png": "[encoded data removed]",
      "text/plain": [
       "<Figure size 432x288 with 1 Axes>"
      ]
     },
     "metadata": {},
     "output_type": "display_data"
    }
   ],
   "source": [
    "%matplotlib inline\n",
    "import seaborn as sns  \n",
    "\n",
    "# seaborn settings\n",
    "custom_params = {\"axes.spines.right\": False, \"axes.spines.top\": False}\n",
    "sns.set_theme(style=\"ticks\", rc=custom_params)\n",
    "\n",
    "# plot\n",
    "sns.scatterplot(x=X_train['age'], y=y_train['wage'], alpha=0.4);"
   ]
  },
  {
   "cell_type": "markdown",
   "metadata": {
    "slideshow": {
     "slide_type": "slide"
    }
   },
   "source": [
    "## Ridge regression"
   ]
  },
  {
   "cell_type": "markdown",
   "metadata": {},
   "source": [
    "- First, we obtain the optimal alpha parameter with cross validation\n",
    "- We try different values for alpha:"
   ]
  },
  {
   "cell_type": "code",
   "execution_count": 28,
   "metadata": {},
   "outputs": [
    {
     "data": {
      "text/plain": [
       "array([      0.000001,       0.00001 ,       0.0001  ,       0.001   ,\n",
       "             0.01    ,       0.1     ,       1.      ,      10.      ,\n",
       "           100.      ,    1000.      ,   10000.      ,  100000.      ,\n",
       "       1000000.      ])"
      ]
     },
     "execution_count": 28,
     "metadata": {},
     "output_type": "execute_result"
    }
   ],
   "source": [
    "import numpy as np\n",
    "np.set_printoptions(suppress=True)\n",
    "\n",
    "alphas=np.logspace(-6, 6, 13)\n",
    "alphas"
   ]
  },
  {
   "cell_type": "markdown",
   "metadata": {},
   "source": [
    "- Fit model"
   ]
  },
  {
   "cell_type": "code",
   "execution_count": 29,
   "metadata": {},
   "outputs": [
    {
     "data": {
      "text/plain": [
       "RidgeCV(alphas=array([      0.000001,       0.00001 ,       0.0001  ,       0.001   ,\n",
       "             0.01    ,       0.1     ,       1.      ,      10.      ,\n",
       "           100.      ,    1000.      ,   10000.      ,  100000.      ,\n",
       "       1000000.      ]))"
      ]
     },
     "execution_count": 29,
     "metadata": {},
     "output_type": "execute_result"
    }
   ],
   "source": [
    "from sklearn import linear_model\n",
    "\n",
    "reg = linear_model.RidgeCV(alphas=alphas)\n",
    "reg.fit(X_train,y_train)"
   ]
  },
  {
   "cell_type": "markdown",
   "metadata": {},
   "source": [
    "- Show best alpha"
   ]
  },
  {
   "cell_type": "code",
   "execution_count": 30,
   "metadata": {},
   "outputs": [
    {
     "data": {
      "text/plain": [
       "1000.0"
      ]
     },
     "execution_count": 30,
     "metadata": {},
     "output_type": "execute_result"
    }
   ],
   "source": [
    "reg.alpha_"
   ]
  },
  {
   "cell_type": "markdown",
   "metadata": {},
   "source": [
    "- Show coefficients"
   ]
  },
  {
   "cell_type": "code",
   "execution_count": 31,
   "metadata": {
    "slideshow": {
     "slide_type": "fragment"
    }
   },
   "outputs": [
    {
     "name": "stdout",
     "output_type": "stream",
     "text": [
      "[[0.71854335]]\n",
      "[80.69608773]\n"
     ]
    }
   ],
   "source": [
    "print(reg.coef_)\n",
    "print(reg.intercept_)"
   ]
  },
  {
   "cell_type": "markdown",
   "metadata": {},
   "source": [
    "- Write function to obtain rmse for training and test data"
   ]
  },
  {
   "cell_type": "code",
   "execution_count": 32,
   "metadata": {},
   "outputs": [],
   "source": [
    "from sklearn.metrics import mean_squared_error\n",
    "\n",
    "results = []\n",
    "\n",
    "# create function to obtain model rmse\n",
    "def model_results(model_name):\n",
    "\n",
    "    # Training data\n",
    "    pred_train = reg.predict(X_train)\n",
    "    rmse_train = round(mean_squared_error(y_train, pred_train, squared=False),4)\n",
    "\n",
    "    # Test data\n",
    "    pred_test = reg.predict(X_test)\n",
    "    rmse_test =round(mean_squared_error(y_test, pred_test, squared=False),4)\n",
    "\n",
    "    # Save model results\n",
    "    new_results = {\"model\": model_name, \"rmse_train\": rmse_train, \"rmse_test\": rmse_test}\n",
    "    results.append(new_results)  \n",
    "      \n",
    "    return results;"
   ]
  },
  {
   "cell_type": "code",
   "execution_count": 33,
   "metadata": {
    "slideshow": {
     "slide_type": "slide"
    }
   },
   "outputs": [
    {
     "data": {
      "text/plain": [
       "[{'model': 'Ridge', 'rmse_train': 40.7053, 'rmse_test': 41.4135}]"
      ]
     },
     "execution_count": 33,
     "metadata": {},
     "output_type": "execute_result"
    }
   ],
   "source": [
    "model_results(model_name=\"Ridge\")"
   ]
  },
  {
   "cell_type": "code",
   "execution_count": 34,
   "metadata": {
    "slideshow": {
     "slide_type": "slide"
    }
   },
   "outputs": [
    {
     "data": {
      "image/png": "[encoded data removed]",
      "text/plain": [
       "<Figure size 432x288 with 1 Axes>"
      ]
     },
     "metadata": {},
     "output_type": "display_data"
    }
   ],
   "source": [
    "sns.regplot(x=X_train['age'], \n",
    "            y=y_train['wage'], \n",
    "            ci=None, \n",
    "            line_kws={\"color\": \"orange\"});"
   ]
  },
  {
   "cell_type": "markdown",
   "metadata": {
    "slideshow": {
     "slide_type": "slide"
    }
   },
   "source": [
    "## Polynomial regression\n",
    "\n",
    "- Next, we use a pipeline to add non-linear features to a ridge regression model.\n",
    "\n",
    "- We use [`make_pipeline`](https://scikit-learn.org/stable/modules/generated/sklearn.pipeline.make_pipeline.html) which is a shorthand for the Pipeline constructor\n",
    "    - It does not require, and does not permit, naming the estimators. \n",
    "    - Instead, their names will be set to the lowercase of their types automatically:"
   ]
  },
  {
   "cell_type": "code",
   "execution_count": 35,
   "metadata": {
    "slideshow": {
     "slide_type": "slide"
    }
   },
   "outputs": [
    {
     "name": "stderr",
     "output_type": "stream",
     "text": [
      "/Users/jankirenz/opt/anaconda3/lib/python3.9/site-packages/sklearn/linear_model/_ridge.py:1791: RuntimeWarning: invalid value encountered in reciprocal\n",
      "  w = ((singvals_sq + alpha) ** -1) - (alpha ** -1)\n"
     ]
    },
    {
     "data": {
      "text/plain": [
       "Pipeline(steps=[('polynomialfeatures', PolynomialFeatures(degree=3)),\n",
       "                ('ridgecv',\n",
       "                 RidgeCV(alphas=array([      0.000001,       0.00001 ,       0.0001  ,       0.001   ,\n",
       "             0.01    ,       0.1     ,       1.      ,      10.      ,\n",
       "           100.      ,    1000.      ,   10000.      ,  100000.      ,\n",
       "       1000000.      ])))])"
      ]
     },
     "execution_count": 35,
     "metadata": {},
     "output_type": "execute_result"
    }
   ],
   "source": [
    "from sklearn.preprocessing import PolynomialFeatures\n",
    "from sklearn.pipeline import make_pipeline\n",
    "\n",
    "# use polynomial features with degree 3\n",
    "reg = make_pipeline(\n",
    "            PolynomialFeatures(degree=3), \n",
    "            linear_model.RidgeCV(alphas=alphas)\n",
    "            )\n",
    "\n",
    "reg.fit(X_train, y_train)"
   ]
  },
  {
   "cell_type": "code",
   "execution_count": 36,
   "metadata": {
    "slideshow": {
     "slide_type": "slide"
    }
   },
   "outputs": [
    {
     "data": {
      "text/plain": [
       "[{'model': 'Ridge', 'rmse_train': 40.7053, 'rmse_test': 41.4135},\n",
       " {'model': 'Polynomial Reg', 'rmse_train': 39.7717, 'rmse_test': 40.2511}]"
      ]
     },
     "execution_count": 36,
     "metadata": {},
     "output_type": "execute_result"
    }
   ],
   "source": [
    "model_results(model_name=\"Polynomial Reg\")"
   ]
  },
  {
   "cell_type": "code",
   "execution_count": 37,
   "metadata": {
    "slideshow": {
     "slide_type": "slide"
    }
   },
   "outputs": [
    {
     "data": {
      "image/png": "[encoded data removed]",
      "text/plain": [
       "<Figure size 432x288 with 1 Axes>"
      ]
     },
     "metadata": {},
     "output_type": "display_data"
    }
   ],
   "source": [
    "# plot\n",
    "sns.regplot(x=X_train['age'], \n",
    "            y=y_train['wage'], \n",
    "            ci=None, \n",
    "            order=3, \n",
    "            line_kws={\"color\": \"orange\"});"
   ]
  },
  {
   "cell_type": "markdown",
   "metadata": {
    "slideshow": {
     "slide_type": "slide"
    }
   },
   "source": [
    "## Splines (scikit-learn)\n",
    "\n",
    "*Note that spline transformers are a new feature in [scikit learn 1.0](https://scikit-learn.org/stable/auto_examples/release_highlights/plot_release_highlights_1_0_0.html). Therefore, make sure to use the latest version of scikit learn. Use `conda list scikit-learn` to see which scikit-learn version is installed. If you use Anaconda, you can update all packages using `conda update --all`*  \n",
    "\n",
    "### Spline transformer\n",
    "\n",
    "- The following function places the knots in a uniform (this is the default) or quantile fashion. \n",
    "\n",
    "- We only have to specify the desired number of knots, and then have [SplineTransformer](https://scikit-learn.org/stable/modules/generated/sklearn.preprocessing.SplineTransformer.html) automatically place the corresponding number of knots."
   ]
  },
  {
   "cell_type": "code",
   "execution_count": 38,
   "metadata": {
    "slideshow": {
     "slide_type": "slide"
    }
   },
   "outputs": [
    {
     "name": "stderr",
     "output_type": "stream",
     "text": [
      "/Users/jankirenz/opt/anaconda3/lib/python3.9/site-packages/sklearn/linear_model/_ridge.py:1791: RuntimeWarning: invalid value encountered in reciprocal\n",
      "  w = ((singvals_sq + alpha) ** -1) - (alpha ** -1)\n"
     ]
    },
    {
     "data": {
      "text/plain": [
       "Pipeline(steps=[('splinetransformer', SplineTransformer(n_knots=4)),\n",
       "                ('ridgecv',\n",
       "                 RidgeCV(alphas=array([      0.000001,       0.00001 ,       0.0001  ,       0.001   ,\n",
       "             0.01    ,       0.1     ,       1.      ,      10.      ,\n",
       "           100.      ,    1000.      ,   10000.      ,  100000.      ,\n",
       "       1000000.      ])))])"
      ]
     },
     "execution_count": 38,
     "metadata": {},
     "output_type": "execute_result"
    }
   ],
   "source": [
    "from sklearn.preprocessing import SplineTransformer\n",
    "\n",
    "# use a spline wit 4 knots and 3 degrees \n",
    "# we combine the spline with a ridge regressions\n",
    "reg = make_pipeline(\n",
    "                    SplineTransformer(n_knots=4, degree=3), \n",
    "                    linear_model.RidgeCV(alphas=alphas)\n",
    "                    )\n",
    "reg.fit(X_train, y_train)"
   ]
  },
  {
   "cell_type": "code",
   "execution_count": 39,
   "metadata": {
    "slideshow": {
     "slide_type": "fragment"
    }
   },
   "outputs": [
    {
     "data": {
      "text/plain": [
       "[{'model': 'Ridge', 'rmse_train': 40.7053, 'rmse_test': 41.4135},\n",
       " {'model': 'Polynomial Reg', 'rmse_train': 39.7717, 'rmse_test': 40.2511},\n",
       " {'model': 'Cubic Spline', 'rmse_train': 39.7456, 'rmse_test': 40.2444}]"
      ]
     },
     "execution_count": 39,
     "metadata": {},
     "output_type": "execute_result"
    }
   ],
   "source": [
    "model_results(model_name = \"Cubic Spline\")"
   ]
  },
  {
   "cell_type": "markdown",
   "metadata": {},
   "source": [
    "- Obtain knots to show them in the following plot (there are degree number of additional knots each to the left and to the right of the fitted interval. These are there for technical reasons, so we refrain from showing them)"
   ]
  },
  {
   "cell_type": "code",
   "execution_count": 40,
   "metadata": {},
   "outputs": [
    {
     "data": {
      "text/plain": [
       "array([18.        , 38.66666667, 59.33333333, 80.        ])"
      ]
     },
     "execution_count": 40,
     "metadata": {},
     "output_type": "execute_result"
    }
   ],
   "source": [
    "splt = SplineTransformer(n_knots=4, degree=3)\n",
    "splt.fit(X_train)\n",
    "knots = splt.bsplines_[0].t\n",
    "\n",
    "knots[3:-3]"
   ]
  },
  {
   "cell_type": "code",
   "execution_count": 41,
   "metadata": {
    "slideshow": {
     "slide_type": "slide"
    }
   },
   "outputs": [
    {
     "name": "stderr",
     "output_type": "stream",
     "text": [
      "/Users/jankirenz/opt/anaconda3/lib/python3.9/site-packages/sklearn/base.py:450: UserWarning: X does not have valid feature names, but SplineTransformer was fitted with feature names\n",
      "  warnings.warn(\n"
     ]
    },
    {
     "data": {
      "image/png": "[encoded data removed]",
      "text/plain": [
       "<Figure size 432x288 with 1 Axes>"
      ]
     },
     "metadata": {},
     "output_type": "display_data"
    }
   ],
   "source": [
    "import numpy as np\n",
    "import matplotlib.pyplot as plt\n",
    "\n",
    "# Create observations\n",
    "x_new = np.linspace(X_test.min(),X_test.max(), 100)\n",
    "# Make some predictions\n",
    "pred = reg.predict(x_new)\n",
    "\n",
    "# plot\n",
    "sns.scatterplot(x=X_train['age'], y=y_train['wage'])\n",
    "\n",
    "plt.plot(x_new, pred, label='Cubic spline with 4 knots and degree=3', color='orange')\n",
    "plt.vlines(knots[3:-3], ymin=0, ymax=300, linestyles=\"dashed\")\n",
    "plt.legend();"
   ]
  },
  {
   "cell_type": "markdown",
   "metadata": {},
   "source": [
    "### Periodic splines"
   ]
  },
  {
   "cell_type": "markdown",
   "metadata": {
    "slideshow": {
     "slide_type": "notes"
    }
   },
   "source": [
    "- In some settings, e.g. in time series data with seasonal effects, we expect a periodic continuation of the underlying signal. \n",
    "- Such effects can be modelled using periodic splines, which have equal function value and equal derivatives at the first and last knot. \n",
    "- Review this notebook to learn more about periodic splines in scikit learn:\n",
    "\n",
    "- [periodic splines](https://scikit-learn.org/stable/auto_examples/linear_model/plot_polynomial_interpolation.html#periodic-splines)\n",
    "\n"
   ]
  },
  {
   "cell_type": "markdown",
   "metadata": {
    "slideshow": {
     "slide_type": "slide"
    }
   },
   "source": [
    "## Splines (patsy)\n",
    "\n",
    "- Next, we use the module [patsy](https://patsy.readthedocs.io/en/latest/overview.html) to create non-linear transformations of the input data. \n",
    "- Additionaly, we use statsmodels to fit 2 models with different number of knots.\n",
    "\n",
    "- When we fit a spline, where should we place the knots? \n",
    "- The regression spline is most flexible in regions that contain a lot of knots, because in those regions the polynomial coefficients can change rapidly. \n",
    "- Hence, one option is to place more knots in places where we feel the function might vary most rapidly, and to place fewer knots where it seems more stable. While this option can work well, in practice it is common to place knots in a uniform fashion. \n",
    "- One way to do this is to specify the desired degrees of freedom, and then have the software automatically place the corresponding number of knots at uniform quantiles of the data."
   ]
  },
  {
   "cell_type": "code",
   "execution_count": 55,
   "metadata": {
    "slideshow": {
     "slide_type": "slide"
    }
   },
   "outputs": [],
   "source": [
    "from patsy import dmatrix\n",
    "\n",
    "# Generating cubic spline with 3 knots at 25, 40 and 60\n",
    "transformed_x = dmatrix(\"bs(train, knots=(25,40,60), degree=3, include_intercept=False)\", {\"train\": X_train}, return_type='dataframe')"
   ]
  },
  {
   "cell_type": "code",
   "execution_count": 56,
   "metadata": {},
   "outputs": [
    {
     "data": {
      "text/html": [
       "<div>\n",
       "<style scoped>\n",
       "    .dataframe tbody tr th:only-of-type {\n",
       "        vertical-align: middle;\n",
       "    }\n",
       "\n",
       "    .dataframe tbody tr th {\n",
       "        vertical-align: top;\n",
       "    }\n",
       "\n",
       "    .dataframe thead th {\n",
       "        text-align: right;\n",
       "    }\n",
       "</style>\n",
       "<table border=\"1\" class=\"dataframe\">\n",
       "  <thead>\n",
       "    <tr style=\"text-align: right;\">\n",
       "      <th></th>\n",
       "      <th>Intercept</th>\n",
       "      <th>bs(train, knots=(25, 40, 60), degree=3, include_intercept=False)[0]</th>\n",
       "      <th>bs(train, knots=(25, 40, 60), degree=3, include_intercept=False)[1]</th>\n",
       "      <th>bs(train, knots=(25, 40, 60), degree=3, include_intercept=False)[2]</th>\n",
       "      <th>bs(train, knots=(25, 40, 60), degree=3, include_intercept=False)[3]</th>\n",
       "      <th>bs(train, knots=(25, 40, 60), degree=3, include_intercept=False)[4]</th>\n",
       "      <th>bs(train, knots=(25, 40, 60), degree=3, include_intercept=False)[5]</th>\n",
       "    </tr>\n",
       "  </thead>\n",
       "  <tbody>\n",
       "    <tr>\n",
       "      <th>1045</th>\n",
       "      <td>1.0</td>\n",
       "      <td>0.000000</td>\n",
       "      <td>0.114796</td>\n",
       "      <td>0.618564</td>\n",
       "      <td>0.262733</td>\n",
       "      <td>0.003906</td>\n",
       "      <td>0.000000</td>\n",
       "    </tr>\n",
       "    <tr>\n",
       "      <th>2717</th>\n",
       "      <td>1.0</td>\n",
       "      <td>0.000000</td>\n",
       "      <td>0.024796</td>\n",
       "      <td>0.477428</td>\n",
       "      <td>0.456182</td>\n",
       "      <td>0.041594</td>\n",
       "      <td>0.000000</td>\n",
       "    </tr>\n",
       "    <tr>\n",
       "      <th>2835</th>\n",
       "      <td>1.0</td>\n",
       "      <td>0.070523</td>\n",
       "      <td>0.598567</td>\n",
       "      <td>0.319030</td>\n",
       "      <td>0.011879</td>\n",
       "      <td>0.000000</td>\n",
       "      <td>0.000000</td>\n",
       "    </tr>\n",
       "    <tr>\n",
       "      <th>2913</th>\n",
       "      <td>1.0</td>\n",
       "      <td>0.000000</td>\n",
       "      <td>0.000272</td>\n",
       "      <td>0.241156</td>\n",
       "      <td>0.576321</td>\n",
       "      <td>0.182250</td>\n",
       "      <td>0.000000</td>\n",
       "    </tr>\n",
       "    <tr>\n",
       "      <th>959</th>\n",
       "      <td>1.0</td>\n",
       "      <td>0.000000</td>\n",
       "      <td>0.034014</td>\n",
       "      <td>0.508194</td>\n",
       "      <td>0.426542</td>\n",
       "      <td>0.031250</td>\n",
       "      <td>0.000000</td>\n",
       "    </tr>\n",
       "    <tr>\n",
       "      <th>...</th>\n",
       "      <td>...</td>\n",
       "      <td>...</td>\n",
       "      <td>...</td>\n",
       "      <td>...</td>\n",
       "      <td>...</td>\n",
       "      <td>...</td>\n",
       "      <td>...</td>\n",
       "    </tr>\n",
       "    <tr>\n",
       "      <th>2763</th>\n",
       "      <td>1.0</td>\n",
       "      <td>0.000000</td>\n",
       "      <td>0.139320</td>\n",
       "      <td>0.628472</td>\n",
       "      <td>0.230208</td>\n",
       "      <td>0.002000</td>\n",
       "      <td>0.000000</td>\n",
       "    </tr>\n",
       "    <tr>\n",
       "      <th>905</th>\n",
       "      <td>1.0</td>\n",
       "      <td>0.000000</td>\n",
       "      <td>0.045272</td>\n",
       "      <td>0.536725</td>\n",
       "      <td>0.395222</td>\n",
       "      <td>0.022781</td>\n",
       "      <td>0.000000</td>\n",
       "    </tr>\n",
       "    <tr>\n",
       "      <th>1096</th>\n",
       "      <td>1.0</td>\n",
       "      <td>0.000000</td>\n",
       "      <td>0.000000</td>\n",
       "      <td>0.155886</td>\n",
       "      <td>0.554832</td>\n",
       "      <td>0.289156</td>\n",
       "      <td>0.000125</td>\n",
       "    </tr>\n",
       "    <tr>\n",
       "      <th>235</th>\n",
       "      <td>1.0</td>\n",
       "      <td>0.029752</td>\n",
       "      <td>0.535344</td>\n",
       "      <td>0.409657</td>\n",
       "      <td>0.025247</td>\n",
       "      <td>0.000000</td>\n",
       "      <td>0.000000</td>\n",
       "    </tr>\n",
       "    <tr>\n",
       "      <th>1061</th>\n",
       "      <td>1.0</td>\n",
       "      <td>0.183333</td>\n",
       "      <td>0.628299</td>\n",
       "      <td>0.186151</td>\n",
       "      <td>0.002216</td>\n",
       "      <td>0.000000</td>\n",
       "      <td>0.000000</td>\n",
       "    </tr>\n",
       "  </tbody>\n",
       "</table>\n",
       "<p>2100 rows × 7 columns</p>\n",
       "</div>"
      ],
      "text/plain": [
       "      Intercept  \\\n",
       "1045        1.0   \n",
       "2717        1.0   \n",
       "2835        1.0   \n",
       "2913        1.0   \n",
       "959         1.0   \n",
       "...         ...   \n",
       "2763        1.0   \n",
       "905         1.0   \n",
       "1096        1.0   \n",
       "235         1.0   \n",
       "1061        1.0   \n",
       "\n",
       "      bs(train, knots=(25, 40, 60), degree=3, include_intercept=False)[0]  \\\n",
       "1045                                           0.000000                     \n",
       "2717                                           0.000000                     \n",
       "2835                                           0.070523                     \n",
       "2913                                           0.000000                     \n",
       "959                                            0.000000                     \n",
       "...                                                 ...                     \n",
       "2763                                           0.000000                     \n",
       "905                                            0.000000                     \n",
       "1096                                           0.000000                     \n",
       "235                                            0.029752                     \n",
       "1061                                           0.183333                     \n",
       "\n",
       "      bs(train, knots=(25, 40, 60), degree=3, include_intercept=False)[1]  \\\n",
       "1045                                           0.114796                     \n",
       "2717                                           0.024796                     \n",
       "2835                                           0.598567                     \n",
       "2913                                           0.000272                     \n",
       "959                                            0.034014                     \n",
       "...                                                 ...                     \n",
       "2763                                           0.139320                     \n",
       "905                                            0.045272                     \n",
       "1096                                           0.000000                     \n",
       "235                                            0.535344                     \n",
       "1061                                           0.628299                     \n",
       "\n",
       "      bs(train, knots=(25, 40, 60), degree=3, include_intercept=False)[2]  \\\n",
       "1045                                           0.618564                     \n",
       "2717                                           0.477428                     \n",
       "2835                                           0.319030                     \n",
       "2913                                           0.241156                     \n",
       "959                                            0.508194                     \n",
       "...                                                 ...                     \n",
       "2763                                           0.628472                     \n",
       "905                                            0.536725                     \n",
       "1096                                           0.155886                     \n",
       "235                                            0.409657                     \n",
       "1061                                           0.186151                     \n",
       "\n",
       "      bs(train, knots=(25, 40, 60), degree=3, include_intercept=False)[3]  \\\n",
       "1045                                           0.262733                     \n",
       "2717                                           0.456182                     \n",
       "2835                                           0.011879                     \n",
       "2913                                           0.576321                     \n",
       "959                                            0.426542                     \n",
       "...                                                 ...                     \n",
       "2763                                           0.230208                     \n",
       "905                                            0.395222                     \n",
       "1096                                           0.554832                     \n",
       "235                                            0.025247                     \n",
       "1061                                           0.002216                     \n",
       "\n",
       "      bs(train, knots=(25, 40, 60), degree=3, include_intercept=False)[4]  \\\n",
       "1045                                           0.003906                     \n",
       "2717                                           0.041594                     \n",
       "2835                                           0.000000                     \n",
       "2913                                           0.182250                     \n",
       "959                                            0.031250                     \n",
       "...                                                 ...                     \n",
       "2763                                           0.002000                     \n",
       "905                                            0.022781                     \n",
       "1096                                           0.289156                     \n",
       "235                                            0.000000                     \n",
       "1061                                           0.000000                     \n",
       "\n",
       "      bs(train, knots=(25, 40, 60), degree=3, include_intercept=False)[5]  \n",
       "1045                                           0.000000                    \n",
       "2717                                           0.000000                    \n",
       "2835                                           0.000000                    \n",
       "2913                                           0.000000                    \n",
       "959                                            0.000000                    \n",
       "...                                                 ...                    \n",
       "2763                                           0.000000                    \n",
       "905                                            0.000000                    \n",
       "1096                                           0.000125                    \n",
       "235                                            0.000000                    \n",
       "1061                                           0.000000                    \n",
       "\n",
       "[2100 rows x 7 columns]"
      ]
     },
     "execution_count": 56,
     "metadata": {},
     "output_type": "execute_result"
    }
   ],
   "source": [
    "transformed_x"
   ]
  },
  {
   "cell_type": "markdown",
   "metadata": {
    "slideshow": {
     "slide_type": "slide"
    }
   },
   "source": [
    "We use statsmodels to estimate a generalized linear model:"
   ]
  },
  {
   "cell_type": "code",
   "execution_count": 57,
   "metadata": {
    "slideshow": {
     "slide_type": "fragment"
    }
   },
   "outputs": [
    {
     "data": {
      "text/plain": [
       "<statsmodels.genmod.generalized_linear_model.GLMResultsWrapper at 0x7fba1874e550>"
      ]
     },
     "execution_count": 57,
     "metadata": {},
     "output_type": "execute_result"
    }
   ],
   "source": [
    "import statsmodels.api as sm\n",
    "\n",
    "# Fitting generalised linear model on transformed dataset\n",
    "reg = sm.GLM(y_train, transformed_x)\n",
    "\n",
    "reg.fit()"
   ]
  },
  {
   "cell_type": "code",
   "execution_count": 52,
   "metadata": {},
   "outputs": [
    {
     "ename": "ValueError",
     "evalue": "shapes (2100,7) and (2100,7) not aligned: 7 (dim 1) != 2100 (dim 0)",
     "output_type": "error",
     "traceback": [
      "\u001b[0;31m---------------------------------------------------------------------------\u001b[0m",
      "\u001b[0;31mValueError\u001b[0m                                Traceback (most recent call last)",
      "\u001b[1;32m/Users/jankirenz/books/regression/docs/splines.ipynb Cell 49'\u001b[0m in \u001b[0;36m<cell line: 1>\u001b[0;34m()\u001b[0m\n\u001b[0;32m----> <a href='vscode-notebook-cell:/Users/jankirenz/books/regression/docs/splines.ipynb#ch0000062?line=0'>1</a>\u001b[0m reg\u001b[39m.\u001b[39;49mpredict(transformed_x)\n",
      "File \u001b[0;32m~/opt/anaconda3/lib/python3.9/site-packages/statsmodels/genmod/generalized_linear_model.py:902\u001b[0m, in \u001b[0;36mGLM.predict\u001b[0;34m(self, params, exog, exposure, offset, linear)\u001b[0m\n\u001b[1;32m    <a href='file:///Users/jankirenz/opt/anaconda3/lib/python3.9/site-packages/statsmodels/genmod/generalized_linear_model.py?line=898'>899</a>\u001b[0m \u001b[39mif\u001b[39;00m exog \u001b[39mis\u001b[39;00m \u001b[39mNone\u001b[39;00m:\n\u001b[1;32m    <a href='file:///Users/jankirenz/opt/anaconda3/lib/python3.9/site-packages/statsmodels/genmod/generalized_linear_model.py?line=899'>900</a>\u001b[0m     exog \u001b[39m=\u001b[39m \u001b[39mself\u001b[39m\u001b[39m.\u001b[39mexog\n\u001b[0;32m--> <a href='file:///Users/jankirenz/opt/anaconda3/lib/python3.9/site-packages/statsmodels/genmod/generalized_linear_model.py?line=901'>902</a>\u001b[0m linpred \u001b[39m=\u001b[39m np\u001b[39m.\u001b[39;49mdot(exog, params) \u001b[39m+\u001b[39m offset \u001b[39m+\u001b[39m exposure\n\u001b[1;32m    <a href='file:///Users/jankirenz/opt/anaconda3/lib/python3.9/site-packages/statsmodels/genmod/generalized_linear_model.py?line=902'>903</a>\u001b[0m \u001b[39mif\u001b[39;00m linear:\n\u001b[1;32m    <a href='file:///Users/jankirenz/opt/anaconda3/lib/python3.9/site-packages/statsmodels/genmod/generalized_linear_model.py?line=903'>904</a>\u001b[0m     \u001b[39mreturn\u001b[39;00m linpred\n",
      "File \u001b[0;32m<__array_function__ internals>:5\u001b[0m, in \u001b[0;36mdot\u001b[0;34m(*args, **kwargs)\u001b[0m\n",
      "\u001b[0;31mValueError\u001b[0m: shapes (2100,7) and (2100,7) not aligned: 7 (dim 1) != 2100 (dim 0)"
     ]
    }
   ],
   "source": [
    "reg.predict(transformed_x)"
   ]
  },
  {
   "cell_type": "markdown",
   "metadata": {},
   "source": [
    "- Obtain results:"
   ]
  },
  {
   "cell_type": "code",
   "execution_count": 48,
   "metadata": {
    "slideshow": {
     "slide_type": "slide"
    }
   },
   "outputs": [
    {
     "ename": "ValueError",
     "evalue": "shapes (2100,7) and (2100,7) not aligned: 7 (dim 1) != 2100 (dim 0)",
     "output_type": "error",
     "traceback": [
      "\u001b[0;31m---------------------------------------------------------------------------\u001b[0m",
      "\u001b[0;31mValueError\u001b[0m                                Traceback (most recent call last)",
      "\u001b[1;32m/Users/jankirenz/books/regression/docs/splines.ipynb Cell 50'\u001b[0m in \u001b[0;36m<cell line: 2>\u001b[0;34m()\u001b[0m\n\u001b[1;32m      <a href='vscode-notebook-cell:/Users/jankirenz/books/regression/docs/splines.ipynb#ch0000049?line=0'>1</a>\u001b[0m \u001b[39m# Training data\u001b[39;00m\n\u001b[0;32m----> <a href='vscode-notebook-cell:/Users/jankirenz/books/regression/docs/splines.ipynb#ch0000049?line=1'>2</a>\u001b[0m pred_train \u001b[39m=\u001b[39m reg\u001b[39m.\u001b[39;49mpredict(dmatrix(\u001b[39m\"\u001b[39;49m\u001b[39mbs(train, knots=(25,40,60), include_intercept=False)\u001b[39;49m\u001b[39m\"\u001b[39;49m, {\u001b[39m\"\u001b[39;49m\u001b[39mtrain\u001b[39;49m\u001b[39m\"\u001b[39;49m: X_train}, return_type\u001b[39m=\u001b[39;49m\u001b[39m'\u001b[39;49m\u001b[39mdataframe\u001b[39;49m\u001b[39m'\u001b[39;49m))\n",
      "File \u001b[0;32m~/opt/anaconda3/lib/python3.9/site-packages/statsmodels/genmod/generalized_linear_model.py:902\u001b[0m, in \u001b[0;36mGLM.predict\u001b[0;34m(self, params, exog, exposure, offset, linear)\u001b[0m\n\u001b[1;32m    <a href='file:///Users/jankirenz/opt/anaconda3/lib/python3.9/site-packages/statsmodels/genmod/generalized_linear_model.py?line=898'>899</a>\u001b[0m \u001b[39mif\u001b[39;00m exog \u001b[39mis\u001b[39;00m \u001b[39mNone\u001b[39;00m:\n\u001b[1;32m    <a href='file:///Users/jankirenz/opt/anaconda3/lib/python3.9/site-packages/statsmodels/genmod/generalized_linear_model.py?line=899'>900</a>\u001b[0m     exog \u001b[39m=\u001b[39m \u001b[39mself\u001b[39m\u001b[39m.\u001b[39mexog\n\u001b[0;32m--> <a href='file:///Users/jankirenz/opt/anaconda3/lib/python3.9/site-packages/statsmodels/genmod/generalized_linear_model.py?line=901'>902</a>\u001b[0m linpred \u001b[39m=\u001b[39m np\u001b[39m.\u001b[39;49mdot(exog, params) \u001b[39m+\u001b[39m offset \u001b[39m+\u001b[39m exposure\n\u001b[1;32m    <a href='file:///Users/jankirenz/opt/anaconda3/lib/python3.9/site-packages/statsmodels/genmod/generalized_linear_model.py?line=902'>903</a>\u001b[0m \u001b[39mif\u001b[39;00m linear:\n\u001b[1;32m    <a href='file:///Users/jankirenz/opt/anaconda3/lib/python3.9/site-packages/statsmodels/genmod/generalized_linear_model.py?line=903'>904</a>\u001b[0m     \u001b[39mreturn\u001b[39;00m linpred\n",
      "File \u001b[0;32m<__array_function__ internals>:5\u001b[0m, in \u001b[0;36mdot\u001b[0;34m(*args, **kwargs)\u001b[0m\n",
      "\u001b[0;31mValueError\u001b[0m: shapes (2100,7) and (2100,7) not aligned: 7 (dim 1) != 2100 (dim 0)"
     ]
    }
   ],
   "source": [
    "# Training data\n",
    "pred_train = reg.predict(dmatrix(\"bs(train, knots=(25,40,60), include_intercept=False)\", {\"train\": X_train}, return_type='dataframe'))\n",
    "#rmse_train = round(mean_squared_error(y_train, pred_train, squared=False),4)\n"
   ]
  },
  {
   "cell_type": "code",
   "execution_count": null,
   "metadata": {},
   "outputs": [],
   "source": [
    "\n",
    "# Test data\n",
    "pred_test = reg.predict(dmatrix(\"bs(test, knots=(25,40,60), include_intercept=False)\", {\"test\": X_test}, return_type='dataframe'))\n",
    "rmse_test =round(mean_squared_error(y_test, pred_test, squared=False),4)\n",
    "\n",
    "# Save model results\n",
    "new_results = {\"model\": \"Cubic spline (patsy)\", \"rmse_train\": rmse_train, \"rmse_test\": rmse_test}\n",
    "results.append(new_results)  \n",
    "\n",
    "results"
   ]
  },
  {
   "cell_type": "code",
   "execution_count": null,
   "metadata": {
    "slideshow": {
     "slide_type": "slide"
    }
   },
   "outputs": [],
   "source": [
    "import numpy as np\n",
    "import matplotlib.pyplot as plt\n",
    "\n",
    "#knots = [25,40,60]\n",
    "\n",
    "# Create observations\n",
    "xp = np.linspace(X_test.min(),X_test.max(), 100)\n",
    "# Make some predictions\n",
    "pred = reg.predict(dmatrix(\"bs(xp, knots=(25,40,60), include_intercept=False)\", {\"xp\": xp}, return_type='dataframe'))\n",
    "\n",
    "# plot\n",
    "sns.scatterplot(x=X_train['age'], y=y_train['wage'])\n",
    "\n",
    "plt.plot(xp, pred, label='Cubic spline with degree=3 (3 knots)', color='orange')\n",
    "#plt.vlines(25, ymin=0, ymax=300, linestyles=\"dashed\")\n",
    "\n",
    "plt.legend();"
   ]
  },
  {
   "cell_type": "markdown",
   "metadata": {
    "slideshow": {
     "slide_type": "slide"
    }
   },
   "source": [
    "### Natural spline\n",
    "\n",
    "- Finally, we fit a natural spline with patsy and statsmodels."
   ]
  },
  {
   "cell_type": "code",
   "execution_count": null,
   "metadata": {
    "slideshow": {
     "slide_type": "fragment"
    }
   },
   "outputs": [],
   "source": [
    "transformed_x3 = dmatrix(\"cr(train,df = 3)\", {\"train\": X_train}, return_type='dataframe')\n",
    "\n",
    "reg = sm.GLM(y_train, transformed_x3).fit()"
   ]
  },
  {
   "cell_type": "code",
   "execution_count": null,
   "metadata": {
    "slideshow": {
     "slide_type": "slide"
    }
   },
   "outputs": [],
   "source": [
    "# Training data\n",
    "pred_train = reg.predict(dmatrix(\"cr(train, df=3)\", {\"train\": X_train}, return_type='dataframe'))\n",
    "rmse_train = round(mean_squared_error(y_train, pred_train, squared=False),4)\n",
    "\n",
    "# Test data\n",
    "pred_test = reg.predict(dmatrix(\"cr(test, df=3)\", {\"test\": X_test}, return_type='dataframe'))\n",
    "rmse_test = round(mean_squared_error(y_test, pred_test, squared=False),4)\n",
    "\n",
    "# Save model results\n",
    "new_results = {\"model\": \"Natural spline (patsy)\", \"rmse_train\": rmse_train, \"rmse_test\": rmse_test}\n",
    "results.append(new_results)  \n",
    "\n",
    "results"
   ]
  },
  {
   "cell_type": "code",
   "execution_count": null,
   "metadata": {
    "slideshow": {
     "slide_type": "slide"
    }
   },
   "outputs": [],
   "source": [
    "# Make predictions\n",
    "pred = reg.predict(dmatrix(\"cr(xp, df=3)\", {\"xp\": xp}, return_type='dataframe'))\n",
    "\n",
    "# plot\n",
    "sns.scatterplot(x=X_train['age'], y=y_train['wage'])\n",
    "plt.plot(xp, pred, color='orange', label='Natural spline with df=3')\n",
    "plt.legend();"
   ]
  },
  {
   "cell_type": "markdown",
   "metadata": {},
   "source": [
    "## Models summary"
   ]
  },
  {
   "cell_type": "code",
   "execution_count": null,
   "metadata": {},
   "outputs": [],
   "source": [
    "df_results = pd.DataFrame(results) \n",
    "df_results"
   ]
  }
 ],
 "metadata": {
  "celltoolbar": "Slideshow",
  "kernelspec": {
   "display_name": "Python 3 (ipykernel)",
   "language": "python",
   "name": "python3"
  },
  "language_info": {
   "codemirror_mode": {
    "name": "ipython",
    "version": 3
   },
   "file_extension": ".py",
   "mimetype": "text/x-python",
   "name": "python",
   "nbconvert_exporter": "python",
   "pygments_lexer": "ipython3",
   "version": "3.9.12"
  },
  "varInspector": {
   "cols": {
    "lenName": 16,
    "lenType": 16,
    "lenVar": 40
   },
   "kernels_config": {
    "python": {
     "delete_cmd_postfix": "",
     "delete_cmd_prefix": "del ",
     "library": "var_list.py",
     "varRefreshCmd": "print(var_dic_list())"
    },
    "r": {
     "delete_cmd_postfix": ") ",
     "delete_cmd_prefix": "rm(",
     "library": "var_list.r",
     "varRefreshCmd": "cat(var_dic_list()) "
    }
   },
   "types_to_exclude": [
    "module",
    "function",
    "builtin_function_or_method",
    "instance",
    "_Feature"
   ],
   "window_display": false
  }
 },
 "nbformat": 4,
 "nbformat_minor": 2
}
