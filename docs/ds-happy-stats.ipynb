{
  "cells": [
    {
      "cell_type": "markdown",
      "metadata": {
        "id": "mhAU2RyeANXX"
      },
      "source": [
        "# First steps in Data Science\n",
        "\n",
        "Does money make people happier? Simple version without data splitting."
      ]
    },
    {
      "cell_type": "markdown",
      "metadata": {
        "id": "fMgJUzUJANXe"
      },
      "source": [
        "## Data preparation"
      ]
    },
    {
      "cell_type": "code",
      "execution_count": 5,
      "metadata": {
        "id": "SXK-6zitANXf"
      },
      "outputs": [],
      "source": [
        "import pandas as pd\n",
        "\n",
        "# Load the data from GitHub\n",
        "LINK = \"https://raw.githubusercontent.com/kirenz/datasets/master/oecd_gdp.csv\"\n",
        "df = pd.read_csv(LINK)"
      ]
    },
    {
      "cell_type": "code",
      "execution_count": 6,
      "metadata": {
        "id": "5EZd5vMHANXh",
        "outputId": "2759ba4e-812a-40fb-9a58-0edd4332f608"
      },
      "outputs": [
        {
          "data": {
            "text/html": [
              "<div>\n",
              "<style scoped>\n",
              "    .dataframe tbody tr th:only-of-type {\n",
              "        vertical-align: middle;\n",
              "    }\n",
              "\n",
              "    .dataframe tbody tr th {\n",
              "        vertical-align: top;\n",
              "    }\n",
              "\n",
              "    .dataframe thead th {\n",
              "        text-align: right;\n",
              "    }\n",
              "</style>\n",
              "<table border=\"1\" class=\"dataframe\">\n",
              "  <thead>\n",
              "    <tr style=\"text-align: right;\">\n",
              "      <th></th>\n",
              "      <th>Country</th>\n",
              "      <th>GDP per capita</th>\n",
              "      <th>Life satisfaction</th>\n",
              "    </tr>\n",
              "  </thead>\n",
              "  <tbody>\n",
              "    <tr>\n",
              "      <th>0</th>\n",
              "      <td>Russia</td>\n",
              "      <td>9054.914</td>\n",
              "      <td>6.0</td>\n",
              "    </tr>\n",
              "    <tr>\n",
              "      <th>1</th>\n",
              "      <td>Turkey</td>\n",
              "      <td>9437.372</td>\n",
              "      <td>5.6</td>\n",
              "    </tr>\n",
              "    <tr>\n",
              "      <th>2</th>\n",
              "      <td>Hungary</td>\n",
              "      <td>12239.894</td>\n",
              "      <td>4.9</td>\n",
              "    </tr>\n",
              "    <tr>\n",
              "      <th>3</th>\n",
              "      <td>Poland</td>\n",
              "      <td>12495.334</td>\n",
              "      <td>5.8</td>\n",
              "    </tr>\n",
              "    <tr>\n",
              "      <th>4</th>\n",
              "      <td>Slovak Republic</td>\n",
              "      <td>15991.736</td>\n",
              "      <td>6.1</td>\n",
              "    </tr>\n",
              "  </tbody>\n",
              "</table>\n",
              "</div>"
            ],
            "text/plain": [
              "           Country  GDP per capita  Life satisfaction\n",
              "0           Russia        9054.914                6.0\n",
              "1           Turkey        9437.372                5.6\n",
              "2          Hungary       12239.894                4.9\n",
              "3           Poland       12495.334                5.8\n",
              "4  Slovak Republic       15991.736                6.1"
            ]
          },
          "execution_count": 6,
          "metadata": {},
          "output_type": "execute_result"
        }
      ],
      "source": [
        "df.head()"
      ]
    },
    {
      "cell_type": "code",
      "execution_count": 7,
      "metadata": {
        "id": "QQOTHzMqANXk",
        "outputId": "4f3cd514-8aa1-49a8-e881-0e19a9a123a3"
      },
      "outputs": [
        {
          "name": "stdout",
          "output_type": "stream",
          "text": [
            "<class 'pandas.core.frame.DataFrame'>\n",
            "RangeIndex: 29 entries, 0 to 28\n",
            "Data columns (total 3 columns):\n",
            " #   Column             Non-Null Count  Dtype  \n",
            "---  ------             --------------  -----  \n",
            " 0   Country            29 non-null     object \n",
            " 1   GDP per capita     29 non-null     float64\n",
            " 2   Life satisfaction  29 non-null     float64\n",
            "dtypes: float64(2), object(1)\n",
            "memory usage: 824.0+ bytes\n"
          ]
        }
      ],
      "source": [
        "df.info()"
      ]
    },
    {
      "cell_type": "code",
      "execution_count": 8,
      "metadata": {
        "id": "X2sDmr43ANXk",
        "outputId": "fb980d47-72ad-4b46-fb42-723ca5ae01e3"
      },
      "outputs": [
        {
          "data": {
            "text/html": [
              "<div>\n",
              "<style scoped>\n",
              "    .dataframe tbody tr th:only-of-type {\n",
              "        vertical-align: middle;\n",
              "    }\n",
              "\n",
              "    .dataframe tbody tr th {\n",
              "        vertical-align: top;\n",
              "    }\n",
              "\n",
              "    .dataframe thead th {\n",
              "        text-align: right;\n",
              "    }\n",
              "</style>\n",
              "<table border=\"1\" class=\"dataframe\">\n",
              "  <thead>\n",
              "    <tr style=\"text-align: right;\">\n",
              "      <th></th>\n",
              "      <th>country</th>\n",
              "      <th>gdp_per_capita</th>\n",
              "      <th>life_satisfaction</th>\n",
              "    </tr>\n",
              "  </thead>\n",
              "  <tbody>\n",
              "    <tr>\n",
              "      <th>0</th>\n",
              "      <td>Russia</td>\n",
              "      <td>9054.914</td>\n",
              "      <td>6.0</td>\n",
              "    </tr>\n",
              "    <tr>\n",
              "      <th>1</th>\n",
              "      <td>Turkey</td>\n",
              "      <td>9437.372</td>\n",
              "      <td>5.6</td>\n",
              "    </tr>\n",
              "    <tr>\n",
              "      <th>2</th>\n",
              "      <td>Hungary</td>\n",
              "      <td>12239.894</td>\n",
              "      <td>4.9</td>\n",
              "    </tr>\n",
              "    <tr>\n",
              "      <th>3</th>\n",
              "      <td>Poland</td>\n",
              "      <td>12495.334</td>\n",
              "      <td>5.8</td>\n",
              "    </tr>\n",
              "    <tr>\n",
              "      <th>4</th>\n",
              "      <td>Slovak Republic</td>\n",
              "      <td>15991.736</td>\n",
              "      <td>6.1</td>\n",
              "    </tr>\n",
              "  </tbody>\n",
              "</table>\n",
              "</div>"
            ],
            "text/plain": [
              "           country  gdp_per_capita  life_satisfaction\n",
              "0           Russia        9054.914                6.0\n",
              "1           Turkey        9437.372                5.6\n",
              "2          Hungary       12239.894                4.9\n",
              "3           Poland       12495.334                5.8\n",
              "4  Slovak Republic       15991.736                6.1"
            ]
          },
          "execution_count": 8,
          "metadata": {},
          "output_type": "execute_result"
        }
      ],
      "source": [
        "# Change column names \n",
        "df.columns = df.columns.str.lower().str.replace(' ', '_')\n",
        "\n",
        "df.head()"
      ]
    },
    {
      "cell_type": "code",
      "execution_count": 9,
      "metadata": {
        "id": "VvkIae3MANXl",
        "outputId": "6f31afb3-6f89-4cf3-8900-2fe41d6d9c0f"
      },
      "outputs": [
        {
          "data": {
            "image/png": "[encoded data removed]",
            "text/plain": [
              "<Figure size 476.25x360 with 1 Axes>"
            ]
          },
          "metadata": {
            "needs_background": "light"
          },
          "output_type": "display_data"
        }
      ],
      "source": [
        "%matplotlib inline\n",
        "import seaborn as sns\n",
        "\n",
        "# Visualize the data\n",
        "sns.relplot(x=\"gdp_per_capita\", y='life_satisfaction', hue='country', data=df);"
      ]
    },
    {
      "cell_type": "markdown",
      "metadata": {
        "id": "N1HwEgczANXm"
      },
      "source": [
        "# Simple linear regression model"
      ]
    },
    {
      "cell_type": "code",
      "execution_count": 10,
      "metadata": {
        "id": "eB2eLj0_ANXo",
        "outputId": "2fbaf8e6-028c-4db5-d498-3fc326d6ed9c"
      },
      "outputs": [],
      "source": [
        "import statsmodels.formula.api as smf\n",
        "\n",
        "# Estimate the model \n",
        "lm = smf.ols(formula ='life_satisfaction ~ gdp_per_capita', data=df).fit()\n"
      ]
    },
    {
      "cell_type": "code",
      "execution_count": 11,
      "metadata": {
        "id": "y-hEHerdANXo",
        "outputId": "f587d727-0d14-4310-b15f-3918e86b5786"
      },
      "outputs": [
        {
          "data": {
            "text/html": [
              "<table class=\"simpletable\">\n",
              "<caption>OLS Regression Results</caption>\n",
              "<tr>\n",
              "  <th>Dep. Variable:</th>    <td>life_satisfaction</td> <th>  R-squared:         </th> <td>   0.734</td>\n",
              "</tr>\n",
              "<tr>\n",
              "  <th>Model:</th>                   <td>OLS</td>        <th>  Adj. R-squared:    </th> <td>   0.725</td>\n",
              "</tr>\n",
              "<tr>\n",
              "  <th>Method:</th>             <td>Least Squares</td>   <th>  F-statistic:       </th> <td>   74.67</td>\n",
              "</tr>\n",
              "<tr>\n",
              "  <th>Date:</th>             <td>Wed, 16 Mar 2022</td>  <th>  Prob (F-statistic):</th> <td>2.95e-09</td>\n",
              "</tr>\n",
              "<tr>\n",
              "  <th>Time:</th>                 <td>16:53:19</td>      <th>  Log-Likelihood:    </th> <td> -16.345</td>\n",
              "</tr>\n",
              "<tr>\n",
              "  <th>No. Observations:</th>      <td>    29</td>       <th>  AIC:               </th> <td>   36.69</td>\n",
              "</tr>\n",
              "<tr>\n",
              "  <th>Df Residuals:</th>          <td>    27</td>       <th>  BIC:               </th> <td>   39.42</td>\n",
              "</tr>\n",
              "<tr>\n",
              "  <th>Df Model:</th>              <td>     1</td>       <th>                     </th>     <td> </td>   \n",
              "</tr>\n",
              "<tr>\n",
              "  <th>Covariance Type:</th>      <td>nonrobust</td>     <th>                     </th>     <td> </td>   \n",
              "</tr>\n",
              "</table>\n",
              "<table class=\"simpletable\">\n",
              "<tr>\n",
              "         <td></td>           <th>coef</th>     <th>std err</th>      <th>t</th>      <th>P>|t|</th>  <th>[0.025</th>    <th>0.975]</th>  \n",
              "</tr>\n",
              "<tr>\n",
              "  <th>Intercept</th>      <td>    4.8531</td> <td>    0.207</td> <td>   23.481</td> <td> 0.000</td> <td>    4.429</td> <td>    5.277</td>\n",
              "</tr>\n",
              "<tr>\n",
              "  <th>gdp_per_capita</th> <td> 4.912e-05</td> <td> 5.68e-06</td> <td>    8.641</td> <td> 0.000</td> <td> 3.75e-05</td> <td> 6.08e-05</td>\n",
              "</tr>\n",
              "</table>\n",
              "<table class=\"simpletable\">\n",
              "<tr>\n",
              "  <th>Omnibus:</th>       <td> 0.308</td> <th>  Durbin-Watson:     </th> <td>   1.454</td>\n",
              "</tr>\n",
              "<tr>\n",
              "  <th>Prob(Omnibus):</th> <td> 0.857</td> <th>  Jarque-Bera (JB):  </th> <td>   0.486</td>\n",
              "</tr>\n",
              "<tr>\n",
              "  <th>Skew:</th>          <td>-0.094</td> <th>  Prob(JB):          </th> <td>   0.784</td>\n",
              "</tr>\n",
              "<tr>\n",
              "  <th>Kurtosis:</th>      <td> 2.394</td> <th>  Cond. No.          </th> <td>9.19e+04</td>\n",
              "</tr>\n",
              "</table><br/><br/>Notes:<br/>[1] Standard Errors assume that the covariance matrix of the errors is correctly specified.<br/>[2] The condition number is large, 9.19e+04. This might indicate that there are<br/>strong multicollinearity or other numerical problems."
            ],
            "text/plain": [
              "<class 'statsmodels.iolib.summary.Summary'>\n",
              "\"\"\"\n",
              "                            OLS Regression Results                            \n",
              "==============================================================================\n",
              "Dep. Variable:      life_satisfaction   R-squared:                       0.734\n",
              "Model:                            OLS   Adj. R-squared:                  0.725\n",
              "Method:                 Least Squares   F-statistic:                     74.67\n",
              "Date:                Wed, 16 Mar 2022   Prob (F-statistic):           2.95e-09\n",
              "Time:                        16:53:19   Log-Likelihood:                -16.345\n",
              "No. Observations:                  29   AIC:                             36.69\n",
              "Df Residuals:                      27   BIC:                             39.42\n",
              "Df Model:                           1                                         \n",
              "Covariance Type:            nonrobust                                         \n",
              "==================================================================================\n",
              "                     coef    std err          t      P>|t|      [0.025      0.975]\n",
              "----------------------------------------------------------------------------------\n",
              "Intercept          4.8531      0.207     23.481      0.000       4.429       5.277\n",
              "gdp_per_capita  4.912e-05   5.68e-06      8.641      0.000    3.75e-05    6.08e-05\n",
              "==============================================================================\n",
              "Omnibus:                        0.308   Durbin-Watson:                   1.454\n",
              "Prob(Omnibus):                  0.857   Jarque-Bera (JB):                0.486\n",
              "Skew:                          -0.094   Prob(JB):                        0.784\n",
              "Kurtosis:                       2.394   Cond. No.                     9.19e+04\n",
              "==============================================================================\n",
              "\n",
              "Notes:\n",
              "[1] Standard Errors assume that the covariance matrix of the errors is correctly specified.\n",
              "[2] The condition number is large, 9.19e+04. This might indicate that there are\n",
              "strong multicollinearity or other numerical problems.\n",
              "\"\"\""
            ]
          },
          "execution_count": 11,
          "metadata": {},
          "output_type": "execute_result"
        }
      ],
      "source": [
        "# Model coefficients\n",
        "lm.summary()"
      ]
    },
    {
      "cell_type": "code",
      "execution_count": 16,
      "metadata": {},
      "outputs": [
        {
          "data": {
            "image/png": "[encoded data removed]",
            "text/plain": [
              "<Figure size 360x360 with 1 Axes>"
            ]
          },
          "metadata": {
            "needs_background": "light"
          },
          "output_type": "display_data"
        }
      ],
      "source": [
        "# Plot regression line \n",
        "sns.lmplot(data=df, x=\"gdp_per_capita\", y=\"life_satisfaction\", ci=False);"
      ]
    },
    {
      "cell_type": "code",
      "execution_count": 17,
      "metadata": {
        "id": "Koe89z_1ANXp"
      },
      "outputs": [],
      "source": [
        "# Add the regression predictions (as \"pred\") to our DataFrame\n",
        "df['y_pred'] = lm.predict(df.gdp_per_capita)"
      ]
    },
    {
      "cell_type": "code",
      "execution_count": 18,
      "metadata": {
        "id": "Gaaot7yJANXp",
        "outputId": "9527accc-bc64-4d14-c00b-ee3637ebaeb6"
      },
      "outputs": [
        {
          "data": {
            "text/plain": [
              "0.18075033705835147"
            ]
          },
          "execution_count": 18,
          "metadata": {},
          "output_type": "execute_result"
        }
      ],
      "source": [
        "from statsmodels.tools.eval_measures import mse, rmse\n",
        "\n",
        "# Performance measures\n",
        "\n",
        "# MSE\n",
        "mse(df['life_satisfaction'], df['y_pred'])"
      ]
    },
    {
      "cell_type": "code",
      "execution_count": 19,
      "metadata": {},
      "outputs": [
        {
          "data": {
            "text/plain": [
              "0.42514742979153886"
            ]
          },
          "execution_count": 19,
          "metadata": {},
          "output_type": "execute_result"
        }
      ],
      "source": [
        "# RMSE\n",
        "rmse(df['life_satisfaction'], df['y_pred'])"
      ]
    }
  ],
  "metadata": {
    "colab": {
      "name": "ds-first-steps-happy-gdp.ipynb",
      "provenance": []
    },
    "interpreter": {
      "hash": "d361e8bd3ab8be8f3ea65790adb41c2b64f49b1477d0d1af835155fecf213182"
    },
    "kernelspec": {
      "display_name": "Python 3.8.2 64-bit ('base': conda)",
      "name": "python3"
    },
    "language_info": {
      "codemirror_mode": {
        "name": "ipython",
        "version": 3
      },
      "file_extension": ".py",
      "mimetype": "text/x-python",
      "name": "python",
      "nbconvert_exporter": "python",
      "pygments_lexer": "ipython3",
      "version": "3.9.7"
    },
    "nav_menu": {},
    "toc": {
      "navigate_menu": true,
      "number_sections": true,
      "sideBar": true,
      "threshold": 6,
      "toc_cell": false,
      "toc_section_display": "block",
      "toc_window_display": true
    },
    "toc_position": {
      "height": "616px",
      "left": "0px",
      "right": "20px",
      "top": "106px",
      "width": "213px"
    }
  },
  "nbformat": 4,
  "nbformat_minor": 0
}
