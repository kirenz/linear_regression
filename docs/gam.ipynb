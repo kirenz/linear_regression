{
 "cells": [
  {
   "cell_type": "markdown",
   "metadata": {
    "slideshow": {
     "slide_type": "slide"
    }
   },
   "source": [
    "# Generalized Additive Models (GAM)"
   ]
  },
  {
   "cell_type": "markdown",
   "metadata": {
    "slideshow": {
     "slide_type": "notes"
    }
   },
   "source": [
    "*The following code tutorial is mainly based on the [statsmodels documentation](https://www.statsmodels.org/v0.10.0/gam.html) about generalized additive models (GAM). To learn more about this method, review [\"An Introduction to Statistical Learning\"](https://www.statlearning.com/) from {cite:t}`James2021`. GAMs were originally developed by Trevor Hastie and Robert Tibshirani (who are two coauthors of {cite:t}`James2021`) to blend properties of generalized linear models with additive models.*"
   ]
  },
  {
   "cell_type": "markdown",
   "metadata": {
    "slideshow": {
     "slide_type": "slide"
    }
   },
   "source": [
    "- A generalized additive model (GAM) is a way to extend the multiple linear regression model {cite:p}`James2021`). \n",
    "- Remember that the basic regression model can be stated as:\n",
    "\n",
    "$$y_i = \\beta_0 + \\beta_1 x_{i1} + \\beta_2 x_{i2} + ... + \\beta_P x_{iP} + \\epsilon_i$$\n",
    "\n",
    "- which equals\n",
    "\n",
    "$$y_i = \\beta_0 + \\sum_{j=1}^{p} \\beta x_{ij} + \\epsilon_i$$\n",
    "\n",
    "- In order to allow for non-linear relationships between each feature and the response we need to replace each linear component $\\beta_j x_{ij}$ with a (smooth) nonlinear function $f_j (x_{ij})$. We would then write the model as:\n",
    "\n",
    "$$y_i = \\beta_0 + \\sum_{j=1}^{p} f(x_{ij}) + \\epsilon_i$$\n",
    "\n",
    "- This is an example of a GAM. It is called an *additive* model because we calculate a separate $f_j$ for each $X_j$, and then add together all of their contributions."
   ]
  },
  {
   "cell_type": "markdown",
   "metadata": {
    "slideshow": {
     "slide_type": "slide"
    }
   },
   "source": [
    "In particular, generalized additive models allow us to use and combine regression splines, smoothing splines and local regression to deal with multiple predictors in one model. This means you can combine the different methods in your model and are able to decide which method to use for every feature. Note that in most situations, the differences in the GAMs obtained using smoothing splines versus natural splines are small {cite:p}`James2021`).\n",
    "\n",
    "In [](splines.ipynb), we discussed regression splines, which we created by specifying a set of knots, producing a sequence of basis functions, and then using least squares to estimate the spline coefficients. \n",
    "\n",
    "In this tutorial, we use a GAM with a reguralized estimation of [smooth components using B-Splines](https://www.statsmodels.org/stable/generated/statsmodels.gam.smooth_basis.BSplines.html#statsmodels.gam.smooth_basis.BSplines). We could also use additive smooth components using [cyclic cubic regression splines](https://www.statsmodels.org/stable/generated/statsmodels.gam.smooth_basis.CyclicCubicSplines.html#statsmodels.gam.smooth_basis.CyclicCubicSplines)."
   ]
  },
  {
   "cell_type": "markdown",
   "metadata": {
    "slideshow": {
     "slide_type": "slide"
    }
   },
   "source": [
    "## Data preparation\n",
    "\n",
    "- See [](hitters_data.ipynb) for details about the data preprocessing steps.\n",
    "- We simply import the preprocessed data by using this [Python script](https://github.com/kirenz/regression/blob/main/docs/hitters_data.py) which will yield:\n",
    "  - X_train, X_test, y_train, y_test\n",
    "  - df_train and df_tests"
   ]
  },
  {
   "cell_type": "code",
   "execution_count": 1,
   "metadata": {
    "slideshow": {
     "slide_type": "fragment"
    }
   },
   "outputs": [],
   "source": [
    "from hitters_data import *"
   ]
  },
  {
   "cell_type": "code",
   "execution_count": 2,
   "metadata": {
    "slideshow": {
     "slide_type": "slide"
    }
   },
   "outputs": [
    {
     "data": {
      "text/html": [
       "<div>\n",
       "<style scoped>\n",
       "    .dataframe tbody tr th:only-of-type {\n",
       "        vertical-align: middle;\n",
       "    }\n",
       "\n",
       "    .dataframe tbody tr th {\n",
       "        vertical-align: top;\n",
       "    }\n",
       "\n",
       "    .dataframe thead th {\n",
       "        text-align: right;\n",
       "    }\n",
       "</style>\n",
       "<table border=\"1\" class=\"dataframe\">\n",
       "  <thead>\n",
       "    <tr style=\"text-align: right;\">\n",
       "      <th></th>\n",
       "      <th>AtBat</th>\n",
       "      <th>Hits</th>\n",
       "      <th>HmRun</th>\n",
       "      <th>Runs</th>\n",
       "      <th>RBI</th>\n",
       "      <th>Walks</th>\n",
       "      <th>Years</th>\n",
       "      <th>CAtBat</th>\n",
       "      <th>CHits</th>\n",
       "      <th>CHmRun</th>\n",
       "      <th>CRuns</th>\n",
       "      <th>CRBI</th>\n",
       "      <th>CWalks</th>\n",
       "      <th>PutOuts</th>\n",
       "      <th>Assists</th>\n",
       "      <th>Errors</th>\n",
       "      <th>League_N</th>\n",
       "      <th>Division_W</th>\n",
       "      <th>NewLeague_N</th>\n",
       "      <th>Salary</th>\n",
       "    </tr>\n",
       "  </thead>\n",
       "  <tbody>\n",
       "    <tr>\n",
       "      <th>260</th>\n",
       "      <td>0.644577</td>\n",
       "      <td>0.257439</td>\n",
       "      <td>-0.456963</td>\n",
       "      <td>0.101010</td>\n",
       "      <td>-0.763917</td>\n",
       "      <td>-0.975959</td>\n",
       "      <td>-0.070553</td>\n",
       "      <td>0.298535</td>\n",
       "      <td>0.239063</td>\n",
       "      <td>-0.407836</td>\n",
       "      <td>0.011298</td>\n",
       "      <td>-0.163736</td>\n",
       "      <td>-0.361084</td>\n",
       "      <td>-0.482387</td>\n",
       "      <td>1.746229</td>\n",
       "      <td>3.022233</td>\n",
       "      <td>1</td>\n",
       "      <td>1</td>\n",
       "      <td>1</td>\n",
       "      <td>875.0</td>\n",
       "    </tr>\n",
       "    <tr>\n",
       "      <th>92</th>\n",
       "      <td>-0.592807</td>\n",
       "      <td>-0.671359</td>\n",
       "      <td>-0.572936</td>\n",
       "      <td>-0.778318</td>\n",
       "      <td>-0.685806</td>\n",
       "      <td>-0.458312</td>\n",
       "      <td>-1.306911</td>\n",
       "      <td>-1.001403</td>\n",
       "      <td>-0.969702</td>\n",
       "      <td>-0.746705</td>\n",
       "      <td>-0.957639</td>\n",
       "      <td>-0.898919</td>\n",
       "      <td>-0.844319</td>\n",
       "      <td>-0.851547</td>\n",
       "      <td>0.022276</td>\n",
       "      <td>2.574735</td>\n",
       "      <td>0</td>\n",
       "      <td>0</td>\n",
       "      <td>0</td>\n",
       "      <td>70.0</td>\n",
       "    </tr>\n",
       "    <tr>\n",
       "      <th>137</th>\n",
       "      <td>-0.413075</td>\n",
       "      <td>-0.105019</td>\n",
       "      <td>-0.688910</td>\n",
       "      <td>-0.258715</td>\n",
       "      <td>-0.646751</td>\n",
       "      <td>-0.081841</td>\n",
       "      <td>1.577925</td>\n",
       "      <td>0.717456</td>\n",
       "      <td>0.706633</td>\n",
       "      <td>-0.010542</td>\n",
       "      <td>0.645511</td>\n",
       "      <td>0.259369</td>\n",
       "      <td>0.220252</td>\n",
       "      <td>-0.294452</td>\n",
       "      <td>-0.434676</td>\n",
       "      <td>0.635577</td>\n",
       "      <td>0</td>\n",
       "      <td>0</td>\n",
       "      <td>0</td>\n",
       "      <td>430.0</td>\n",
       "    </tr>\n",
       "    <tr>\n",
       "      <th>90</th>\n",
       "      <td>-0.613545</td>\n",
       "      <td>-0.558091</td>\n",
       "      <td>0.122907</td>\n",
       "      <td>-0.618440</td>\n",
       "      <td>-0.256196</td>\n",
       "      <td>-1.211253</td>\n",
       "      <td>-0.482672</td>\n",
       "      <td>-0.514087</td>\n",
       "      <td>-0.478077</td>\n",
       "      <td>-0.501317</td>\n",
       "      <td>-0.602362</td>\n",
       "      <td>-0.526826</td>\n",
       "      <td>-0.684451</td>\n",
       "      <td>0.786178</td>\n",
       "      <td>-0.545452</td>\n",
       "      <td>-0.706917</td>\n",
       "      <td>0</td>\n",
       "      <td>1</td>\n",
       "      <td>0</td>\n",
       "      <td>431.5</td>\n",
       "    </tr>\n",
       "    <tr>\n",
       "      <th>100</th>\n",
       "      <td>0.637665</td>\n",
       "      <td>0.982354</td>\n",
       "      <td>0.586803</td>\n",
       "      <td>0.260888</td>\n",
       "      <td>1.227914</td>\n",
       "      <td>1.706394</td>\n",
       "      <td>0.547626</td>\n",
       "      <td>1.267183</td>\n",
       "      <td>1.437305</td>\n",
       "      <td>2.384908</td>\n",
       "      <td>1.535171</td>\n",
       "      <td>2.041811</td>\n",
       "      <td>1.615457</td>\n",
       "      <td>2.504446</td>\n",
       "      <td>-0.213124</td>\n",
       "      <td>0.635577</td>\n",
       "      <td>0</td>\n",
       "      <td>0</td>\n",
       "      <td>0</td>\n",
       "      <td>2460.0</td>\n",
       "    </tr>\n",
       "    <tr>\n",
       "      <th>...</th>\n",
       "      <td>...</td>\n",
       "      <td>...</td>\n",
       "      <td>...</td>\n",
       "      <td>...</td>\n",
       "      <td>...</td>\n",
       "      <td>...</td>\n",
       "      <td>...</td>\n",
       "      <td>...</td>\n",
       "      <td>...</td>\n",
       "      <td>...</td>\n",
       "      <td>...</td>\n",
       "      <td>...</td>\n",
       "      <td>...</td>\n",
       "      <td>...</td>\n",
       "      <td>...</td>\n",
       "      <td>...</td>\n",
       "      <td>...</td>\n",
       "      <td>...</td>\n",
       "      <td>...</td>\n",
       "      <td>...</td>\n",
       "    </tr>\n",
       "    <tr>\n",
       "      <th>274</th>\n",
       "      <td>0.824309</td>\n",
       "      <td>0.733164</td>\n",
       "      <td>0.470829</td>\n",
       "      <td>0.740521</td>\n",
       "      <td>0.954525</td>\n",
       "      <td>0.859335</td>\n",
       "      <td>-0.688732</td>\n",
       "      <td>-0.824858</td>\n",
       "      <td>-0.808834</td>\n",
       "      <td>-0.571428</td>\n",
       "      <td>-0.787341</td>\n",
       "      <td>-0.685866</td>\n",
       "      <td>-0.648118</td>\n",
       "      <td>3.427344</td>\n",
       "      <td>0.326910</td>\n",
       "      <td>1.232241</td>\n",
       "      <td>1</td>\n",
       "      <td>0</td>\n",
       "      <td>1</td>\n",
       "      <td>200.0</td>\n",
       "    </tr>\n",
       "    <tr>\n",
       "      <th>196</th>\n",
       "      <td>0.423369</td>\n",
       "      <td>0.461321</td>\n",
       "      <td>1.862516</td>\n",
       "      <td>0.500704</td>\n",
       "      <td>1.618469</td>\n",
       "      <td>0.482865</td>\n",
       "      <td>1.165805</td>\n",
       "      <td>1.354814</td>\n",
       "      <td>1.246368</td>\n",
       "      <td>1.625375</td>\n",
       "      <td>1.112362</td>\n",
       "      <td>1.516681</td>\n",
       "      <td>0.681687</td>\n",
       "      <td>-1.002566</td>\n",
       "      <td>-0.822392</td>\n",
       "      <td>-1.303581</td>\n",
       "      <td>0</td>\n",
       "      <td>1</td>\n",
       "      <td>0</td>\n",
       "      <td>587.5</td>\n",
       "    </tr>\n",
       "    <tr>\n",
       "      <th>159</th>\n",
       "      <td>1.474109</td>\n",
       "      <td>1.254197</td>\n",
       "      <td>1.746542</td>\n",
       "      <td>1.140215</td>\n",
       "      <td>2.126191</td>\n",
       "      <td>-0.458312</td>\n",
       "      <td>-0.894792</td>\n",
       "      <td>-0.522636</td>\n",
       "      <td>-0.520174</td>\n",
       "      <td>-0.068968</td>\n",
       "      <td>-0.528958</td>\n",
       "      <td>-0.322776</td>\n",
       "      <td>-0.662651</td>\n",
       "      <td>-0.633407</td>\n",
       "      <td>1.310048</td>\n",
       "      <td>0.933909</td>\n",
       "      <td>0</td>\n",
       "      <td>1</td>\n",
       "      <td>0</td>\n",
       "      <td>200.0</td>\n",
       "    </tr>\n",
       "    <tr>\n",
       "      <th>17</th>\n",
       "      <td>-1.470728</td>\n",
       "      <td>-1.396275</td>\n",
       "      <td>-1.152806</td>\n",
       "      <td>-1.217982</td>\n",
       "      <td>-1.740306</td>\n",
       "      <td>-1.258312</td>\n",
       "      <td>-0.482672</td>\n",
       "      <td>-0.932153</td>\n",
       "      <td>-0.933620</td>\n",
       "      <td>-0.770075</td>\n",
       "      <td>-0.869554</td>\n",
       "      <td>-0.934928</td>\n",
       "      <td>-0.818885</td>\n",
       "      <td>-0.660255</td>\n",
       "      <td>0.403069</td>\n",
       "      <td>1.083075</td>\n",
       "      <td>0</td>\n",
       "      <td>1</td>\n",
       "      <td>0</td>\n",
       "      <td>175.0</td>\n",
       "    </tr>\n",
       "    <tr>\n",
       "      <th>162</th>\n",
       "      <td>-1.643547</td>\n",
       "      <td>-1.554850</td>\n",
       "      <td>-1.152806</td>\n",
       "      <td>-1.657646</td>\n",
       "      <td>-1.701250</td>\n",
       "      <td>-1.211253</td>\n",
       "      <td>-0.894792</td>\n",
       "      <td>-1.053127</td>\n",
       "      <td>-1.020819</td>\n",
       "      <td>-0.805130</td>\n",
       "      <td>-1.007554</td>\n",
       "      <td>-0.973938</td>\n",
       "      <td>-0.895185</td>\n",
       "      <td>0.111623</td>\n",
       "      <td>-0.690846</td>\n",
       "      <td>-1.005249</td>\n",
       "      <td>0</td>\n",
       "      <td>1</td>\n",
       "      <td>1</td>\n",
       "      <td>75.0</td>\n",
       "    </tr>\n",
       "  </tbody>\n",
       "</table>\n",
       "<p>184 rows × 20 columns</p>\n",
       "</div>"
      ],
      "text/plain": [
       "        AtBat      Hits     HmRun      Runs       RBI     Walks     Years  \\\n",
       "260  0.644577  0.257439 -0.456963  0.101010 -0.763917 -0.975959 -0.070553   \n",
       "92  -0.592807 -0.671359 -0.572936 -0.778318 -0.685806 -0.458312 -1.306911   \n",
       "137 -0.413075 -0.105019 -0.688910 -0.258715 -0.646751 -0.081841  1.577925   \n",
       "90  -0.613545 -0.558091  0.122907 -0.618440 -0.256196 -1.211253 -0.482672   \n",
       "100  0.637665  0.982354  0.586803  0.260888  1.227914  1.706394  0.547626   \n",
       "..        ...       ...       ...       ...       ...       ...       ...   \n",
       "274  0.824309  0.733164  0.470829  0.740521  0.954525  0.859335 -0.688732   \n",
       "196  0.423369  0.461321  1.862516  0.500704  1.618469  0.482865  1.165805   \n",
       "159  1.474109  1.254197  1.746542  1.140215  2.126191 -0.458312 -0.894792   \n",
       "17  -1.470728 -1.396275 -1.152806 -1.217982 -1.740306 -1.258312 -0.482672   \n",
       "162 -1.643547 -1.554850 -1.152806 -1.657646 -1.701250 -1.211253 -0.894792   \n",
       "\n",
       "       CAtBat     CHits    CHmRun     CRuns      CRBI    CWalks   PutOuts  \\\n",
       "260  0.298535  0.239063 -0.407836  0.011298 -0.163736 -0.361084 -0.482387   \n",
       "92  -1.001403 -0.969702 -0.746705 -0.957639 -0.898919 -0.844319 -0.851547   \n",
       "137  0.717456  0.706633 -0.010542  0.645511  0.259369  0.220252 -0.294452   \n",
       "90  -0.514087 -0.478077 -0.501317 -0.602362 -0.526826 -0.684451  0.786178   \n",
       "100  1.267183  1.437305  2.384908  1.535171  2.041811  1.615457  2.504446   \n",
       "..        ...       ...       ...       ...       ...       ...       ...   \n",
       "274 -0.824858 -0.808834 -0.571428 -0.787341 -0.685866 -0.648118  3.427344   \n",
       "196  1.354814  1.246368  1.625375  1.112362  1.516681  0.681687 -1.002566   \n",
       "159 -0.522636 -0.520174 -0.068968 -0.528958 -0.322776 -0.662651 -0.633407   \n",
       "17  -0.932153 -0.933620 -0.770075 -0.869554 -0.934928 -0.818885 -0.660255   \n",
       "162 -1.053127 -1.020819 -0.805130 -1.007554 -0.973938 -0.895185  0.111623   \n",
       "\n",
       "      Assists    Errors  League_N  Division_W  NewLeague_N  Salary  \n",
       "260  1.746229  3.022233         1           1            1   875.0  \n",
       "92   0.022276  2.574735         0           0            0    70.0  \n",
       "137 -0.434676  0.635577         0           0            0   430.0  \n",
       "90  -0.545452 -0.706917         0           1            0   431.5  \n",
       "100 -0.213124  0.635577         0           0            0  2460.0  \n",
       "..        ...       ...       ...         ...          ...     ...  \n",
       "274  0.326910  1.232241         1           0            1   200.0  \n",
       "196 -0.822392 -1.303581         0           1            0   587.5  \n",
       "159  1.310048  0.933909         0           1            0   200.0  \n",
       "17   0.403069  1.083075         0           1            0   175.0  \n",
       "162 -0.690846 -1.005249         0           1            1    75.0  \n",
       "\n",
       "[184 rows x 20 columns]"
      ]
     },
     "execution_count": 2,
     "metadata": {},
     "output_type": "execute_result"
    }
   ],
   "source": [
    "df_train"
   ]
  },
  {
   "cell_type": "markdown",
   "metadata": {
    "slideshow": {
     "slide_type": "slide"
    }
   },
   "source": [
    "## Spline basis\n",
    "\n",
    "First we have to create a basis spline (\"B-Spline\"). Here, we select only two features to demonstrate the procedere: `CRuns` and `Hits`."
   ]
  },
  {
   "cell_type": "code",
   "execution_count": 3,
   "metadata": {
    "slideshow": {
     "slide_type": "fragment"
    }
   },
   "outputs": [],
   "source": [
    "# choose features\n",
    "x_spline = df_train[['CRuns', 'Hits']]"
   ]
  },
  {
   "cell_type": "code",
   "execution_count": 4,
   "metadata": {
    "slideshow": {
     "slide_type": "slide"
    }
   },
   "outputs": [
    {
     "data": {
      "image/png": "[encoded data removed]",
      "text/plain": [
       "<Figure size 432x288 with 1 Axes>"
      ]
     },
     "metadata": {
      "needs_background": "light"
     },
     "output_type": "display_data"
    }
   ],
   "source": [
    "import seaborn as sns\n",
    "\n",
    "sns.scatterplot(x='CRuns', y='Salary', data=df_train);"
   ]
  },
  {
   "cell_type": "code",
   "execution_count": 5,
   "metadata": {
    "slideshow": {
     "slide_type": "slide"
    }
   },
   "outputs": [
    {
     "data": {
      "image/png": "[encoded data removed]",
      "text/plain": [
       "<Figure size 432x288 with 1 Axes>"
      ]
     },
     "metadata": {
      "needs_background": "light"
     },
     "output_type": "display_data"
    }
   ],
   "source": [
    "sns.scatterplot(x='Hits', y='Salary', data=df_train);"
   ]
  },
  {
   "cell_type": "markdown",
   "metadata": {
    "slideshow": {
     "slide_type": "notes"
    }
   },
   "source": [
    "- Now we need to divide the range of X into K distinct regions (for every feature). \n",
    "- Within each region, a polynomial function is fit to the data. \n",
    "\n",
    "In the statsmodels function `BSplines`, we need to provide `df` and `degree`:\n",
    "\n",
    "`df`: number of basis functions or degrees of freedom; should be equal in length to the number of columns of x; may be an integer if x has one column or is 1-D.  \n",
    "\n",
    "`degree`: degree(s) of the spline; the same length and type rules apply as to df.\n",
    "\n",
    "### Degrees of freedom\n",
    "\n",
    "- Instead of providing the number of knots, in statsmodels, we have to specify the degrees of freedom (df). \n",
    "- `df` defines how many parameters we have to estimate. \n",
    "- They have a specific relationship with the number of knots and the degree, which depends on the type of spline (see [Stackoverflow](https://stats.stackexchange.com/a/517479)):\n",
    "\n",
    "- In the case of **B-splines**: \n",
    "  - $df=𝑘+degree$ if you specify the knots or \n",
    "  - $𝑘=df−degree$ if you specify the degrees of freedom and the degree. \n",
    "\n",
    "As an example: \n",
    "\n",
    "- A cubic spline (degree=3) with 4 knots (K=4) will have $df=4+3=7$ degrees of freedom. If we use an intercept, we need to add an additional degree of freedom.\n",
    "- A cubic spline (degree=3) with 5 degrees of freedom (df=5) will have $𝑘=5−3=2$ knots (assuming the spline has no intercept).\n",
    "\n",
    "- In our case, we want to fit a cubic spline (degree=3) with an intercept and three knots (K=3). We use this values for both of our features (we also could use different values for one of the features). This equals $df=3+3+1=7$ for both of the features. This means that these degrees of freedom are used up by an intercept, plus six basis functions.\n",
    "\n",
    ":::{Note}\n",
    "The higher the degrees of freedom, the \"wigglier\" the spline gets because the number of knots is increased {cite:p}`James2021`.\n",
    ":::"
   ]
  },
  {
   "cell_type": "code",
   "execution_count": 6,
   "metadata": {
    "slideshow": {
     "slide_type": "slide"
    }
   },
   "outputs": [
    {
     "name": "stderr",
     "output_type": "stream",
     "text": [
      "/Users/jankirenz/opt/anaconda3/lib/python3.9/site-packages/statsmodels/compat/pandas.py:61: FutureWarning: pandas.Int64Index is deprecated and will be removed from pandas in a future version. Use pandas.Index with the appropriate dtype instead.\n",
      "  from pandas import Int64Index as NumericIndex\n"
     ]
    }
   ],
   "source": [
    "import statsmodels.api as sm\n",
    "from statsmodels.gam.api import BSplines\n",
    "\n",
    "# create basis spline\n",
    "bs = BSplines(x_spline, df=[7, 7], degree=[3, 3])"
   ]
  },
  {
   "cell_type": "markdown",
   "metadata": {
    "slideshow": {
     "slide_type": "slide"
    }
   },
   "source": [
    "## Model"
   ]
  },
  {
   "cell_type": "markdown",
   "metadata": {},
   "source": [
    "- In our model, we use an arbitrary penalization weight of 1 for both features\n",
    "- Note that optimal penalization weights alpha could be obtained through generalized k-fold cross-validation by using the function [select_penweight_kfold](https://www.statsmodels.org/dev/generated/statsmodels.gam.generalized_additive_model.GLMGam.select_penweight_kfold.html)."
   ]
  },
  {
   "cell_type": "code",
   "execution_count": 7,
   "metadata": {
    "slideshow": {
     "slide_type": "slide"
    }
   },
   "outputs": [],
   "source": [
    "import numpy as np\n",
    "from statsmodels.gam.api import GLMGam\n",
    "\n",
    "# regularization\n",
    "alpha = np.array([1, 1])\n",
    "\n",
    "# build model\n",
    "gam_bs = GLMGam.from_formula('Salary ~ CRuns + Hits', \n",
    "                                data=df_train, \n",
    "                                smoother=bs, \n",
    "                                alpha=alpha)"
   ]
  },
  {
   "cell_type": "code",
   "execution_count": 9,
   "metadata": {
    "slideshow": {
     "slide_type": "fragment"
    }
   },
   "outputs": [
    {
     "name": "stdout",
     "output_type": "stream",
     "text": [
      "                 Generalized Linear Model Regression Results                  \n",
      "==============================================================================\n",
      "Dep. Variable:                 Salary   No. Observations:                  184\n",
      "Model:                         GLMGam   Df Residuals:                   176.93\n",
      "Model Family:                Gaussian   Df Model:                         6.07\n",
      "Link Function:               identity   Scale:                          92428.\n",
      "Method:                         PIRLS   Log-Likelihood:                -1309.4\n",
      "Date:                Sat, 23 Apr 2022   Deviance:                   1.6353e+07\n",
      "Time:                        13:22:31   Pearson chi2:                 1.64e+07\n",
      "No. Iterations:                     3   Pseudo R-squ. (CS):             0.7112\n",
      "Covariance Type:            nonrobust                                         \n",
      "==============================================================================\n",
      "                 coef    std err          z      P>|z|      [0.025      0.975]\n",
      "------------------------------------------------------------------------------\n",
      "Intercept    492.8904   2.54e+09   1.94e-07      1.000   -4.99e+09    4.99e+09\n",
      "CRuns        156.2041   3.71e+07   4.21e-06      1.000   -7.27e+07    7.27e+07\n",
      "Hits          54.6951    1.1e+09   4.97e-08      1.000   -2.16e+09    2.16e+09\n",
      "CRuns_s0      29.5958   3.63e+06   8.15e-06      1.000   -7.12e+06    7.12e+06\n",
      "CRuns_s1     100.2968   1.23e+07   8.12e-06      1.000   -2.42e+07    2.42e+07\n",
      "CRuns_s2     266.6299      3e+07   8.87e-06      1.000   -5.89e+07    5.89e+07\n",
      "CRuns_s3     697.9509   1.05e+08   6.65e-06      1.000   -2.06e+08    2.06e+08\n",
      "CRuns_s4      71.3693   1.75e+08   4.08e-07      1.000   -3.43e+08    3.43e+08\n",
      "CRuns_s5    -297.1170   2.36e+08  -1.26e-06      1.000   -4.62e+08    4.62e+08\n",
      "Hits_s0     -151.3181   5.73e+08  -2.64e-07      1.000   -1.12e+09    1.12e+09\n",
      "Hits_s1     -312.7937    1.4e+09  -2.24e-07      1.000   -2.74e+09    2.74e+09\n",
      "Hits_s2     -252.9985   2.55e+09  -9.94e-08      1.000   -4.99e+09    4.99e+09\n",
      "Hits_s3      -33.8293   3.79e+09  -8.92e-09      1.000   -7.43e+09    7.43e+09\n",
      "Hits_s4      -12.2909   4.79e+09  -2.57e-09      1.000   -9.39e+09    9.39e+09\n",
      "Hits_s5      -49.8901   5.46e+09  -9.14e-09      1.000   -1.07e+10    1.07e+10\n",
      "==============================================================================\n"
     ]
    }
   ],
   "source": [
    "# fit model\n",
    "res_bs = gam_bs.fit()\n",
    "\n",
    "# print results\n",
    "print(res_bs.summary())"
   ]
  },
  {
   "cell_type": "markdown",
   "metadata": {
    "slideshow": {
     "slide_type": "slide"
    }
   },
   "source": [
    "## Plot"
   ]
  },
  {
   "cell_type": "markdown",
   "metadata": {
    "slideshow": {
     "slide_type": "fragment"
    }
   },
   "source": [
    "- The results classes provide a `plot_partial` method that plots the partial linear prediction of a smooth component. - The partial residual or component plus residual can be added as scatter point with cpr=True.\n",
    "\n",
    "- Spline for feature `CRuns`:"
   ]
  },
  {
   "cell_type": "code",
   "execution_count": 10,
   "metadata": {
    "slideshow": {
     "slide_type": "slide"
    }
   },
   "outputs": [
    {
     "data": {
      "image/png": "[encoded data removed]",
      "text/plain": [
       "<Figure size 432x288 with 1 Axes>"
      ]
     },
     "execution_count": 10,
     "metadata": {},
     "output_type": "execute_result"
    },
    {
     "data": {
      "image/png": "[encoded data removed]",
      "text/plain": [
       "<Figure size 432x288 with 1 Axes>"
      ]
     },
     "metadata": {
      "needs_background": "light"
     },
     "output_type": "display_data"
    }
   ],
   "source": [
    "res_bs.plot_partial(0, cpr=True, plot_se=False)"
   ]
  },
  {
   "cell_type": "markdown",
   "metadata": {
    "slideshow": {
     "slide_type": "slide"
    }
   },
   "source": [
    "- Spline for feature `Hits`:"
   ]
  },
  {
   "cell_type": "code",
   "execution_count": 11,
   "metadata": {
    "slideshow": {
     "slide_type": "slide"
    }
   },
   "outputs": [
    {
     "data": {
      "image/png": "[encoded data removed]",
      "text/plain": [
       "<Figure size 432x288 with 1 Axes>"
      ]
     },
     "execution_count": 11,
     "metadata": {},
     "output_type": "execute_result"
    },
    {
     "data": {
      "image/png": "[encoded data removed]",
      "text/plain": [
       "<Figure size 432x288 with 1 Axes>"
      ]
     },
     "metadata": {
      "needs_background": "light"
     },
     "output_type": "display_data"
    }
   ],
   "source": [
    "res_bs.plot_partial(1, cpr=True, plot_se=False)"
   ]
  },
  {
   "cell_type": "markdown",
   "metadata": {
    "slideshow": {
     "slide_type": "slide"
    }
   },
   "source": [
    "## First evaluation"
   ]
  },
  {
   "cell_type": "code",
   "execution_count": 12,
   "metadata": {
    "slideshow": {
     "slide_type": "fragment"
    }
   },
   "outputs": [],
   "source": [
    "df_train['y_pred'] = res_bs.predict()"
   ]
  },
  {
   "cell_type": "code",
   "execution_count": 13,
   "metadata": {
    "slideshow": {
     "slide_type": "fragment"
    }
   },
   "outputs": [
    {
     "name": "stdout",
     "output_type": "stream",
     "text": [
      "MSE: 88877.46838916994\n",
      "RMSE: 298.12324362446134\n"
     ]
    }
   ],
   "source": [
    "from statsmodels.tools.eval_measures import mse, rmse\n",
    "\n",
    "# MSE\n",
    "print('MSE:', mse(df_train['Salary'], df_train['y_pred']))\n",
    "print('RMSE:', rmse(df_train['Salary'], df_train['y_pred']))"
   ]
  }
 ],
 "metadata": {
  "celltoolbar": "Slideshow",
  "kernelspec": {
   "display_name": "Python 3 (ipykernel)",
   "language": "python",
   "name": "python3"
  },
  "language_info": {
   "codemirror_mode": {
    "name": "ipython",
    "version": 3
   },
   "file_extension": ".py",
   "mimetype": "text/x-python",
   "name": "python",
   "nbconvert_exporter": "python",
   "pygments_lexer": "ipython3",
   "version": "3.9.7"
  },
  "varInspector": {
   "cols": {
    "lenName": 16,
    "lenType": 16,
    "lenVar": 40
   },
   "kernels_config": {
    "python": {
     "delete_cmd_postfix": "",
     "delete_cmd_prefix": "del ",
     "library": "var_list.py",
     "varRefreshCmd": "print(var_dic_list())"
    },
    "r": {
     "delete_cmd_postfix": ") ",
     "delete_cmd_prefix": "rm(",
     "library": "var_list.r",
     "varRefreshCmd": "cat(var_dic_list()) "
    }
   },
   "types_to_exclude": [
    "module",
    "function",
    "builtin_function_or_method",
    "instance",
    "_Feature"
   ],
   "window_display": false
  }
 },
 "nbformat": 4,
 "nbformat_minor": 2
}
