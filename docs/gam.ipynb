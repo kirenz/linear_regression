{
 "cells": [
  {
   "cell_type": "markdown",
   "metadata": {
    "slideshow": {
     "slide_type": "slide"
    }
   },
   "source": [
    "# Generalized Additive Models (GAM)"
   ]
  },
  {
   "cell_type": "markdown",
   "metadata": {
    "slideshow": {
     "slide_type": "notes"
    }
   },
   "source": [
    "*The following code tutorial is mainly based on the [statsmodels documentation](https://www.statsmodels.org/v0.10.0/gam.html) about generalized additive models (GAM). To learn more about this method, review [\"An Introduction to Statistical Learning\"](https://www.statlearning.com/) from {cite:t}`James2021`. GAMs were originally developed by Trevor Hastie and Robert Tibshirani (who are two coauthors of {cite:t}`James2021`) to blend properties of generalized linear models with additive models.*"
   ]
  },
  {
   "cell_type": "markdown",
   "metadata": {
    "slideshow": {
     "slide_type": "slide"
    }
   },
   "source": [
    "- A generalized additive model (GAM) is a way to extend the multiple linear regression model {cite:p}`James2021`. \n",
    "- Remember that the basic regression model can be stated as:\n",
    "\n",
    "$$y_i = \\beta_0 + \\beta_1 x_{i1} + \\beta_2 x_{i2} + ... + \\beta_P x_{iP} + \\epsilon_i$$\n",
    "\n",
    "- which equals\n",
    "\n",
    "$$y_i = \\beta_0 + \\sum_{j=1}^{p} \\beta x_{ij} + \\epsilon_i$$"
   ]
  },
  {
   "cell_type": "markdown",
   "metadata": {},
   "source": [
    "\n",
    "\n",
    "- In order to allow for non-linear relationships between each feature and the response we need to replace each linear component $\\beta_j x_{ij}$ with a (smooth) nonlinear function $f_j (x_{ij})$. \n",
    "\n",
    "- We would then write the model as:\n",
    "\n",
    "$$y_i = \\beta_0 + \\sum_{j=1}^{p} f(x_{ij}) + \\epsilon_i$$\n",
    "\n",
    "- This is an example of a GAM. It is called an *additive* model because we calculate a separate $f_j$ for each $X_j$, and then add together all of their contributions."
   ]
  },
  {
   "cell_type": "markdown",
   "metadata": {
    "slideshow": {
     "slide_type": "slide"
    }
   },
   "source": [
    "- In particular, generalized additive models allow us to use and combine regression splines, smoothing splines and local regression to deal with multiple predictors in one model. This means you can combine the different methods in your model and are able to decide which method to use for every feature. \n",
    "\n",
    "- Note that in most situations, the differences in the GAMs obtained using smoothing splines versus natural splines are small {cite:p}`James2021`).\n",
    "\n",
    "- In [](splines.ipynb), we discussed regression splines, which we created by specifying a set of knots, producing a sequence of basis functions, and then using least squares to estimate the spline coefficients. "
   ]
  },
  {
   "cell_type": "markdown",
   "metadata": {},
   "source": [
    "\n",
    "- In this tutorial, we use a GAM with a reguralized estimation of [smooth components using B-Splines](https://www.statsmodels.org/stable/generated/statsmodels.gam.smooth_basis.BSplines.html#statsmodels.gam.smooth_basis.BSplines). \n",
    "\n",
    "- Note that we could also use additive smooth components using [cyclic cubic regression splines](https://www.statsmodels.org/stable/generated/statsmodels.gam.smooth_basis.CyclicCubicSplines.html#statsmodels.gam.smooth_basis.CyclicCubicSplines) (e.g. in time series data with seasonal effects)."
   ]
  },
  {
   "cell_type": "markdown",
   "metadata": {},
   "source": [
    "## Setup"
   ]
  },
  {
   "cell_type": "code",
   "execution_count": 57,
   "metadata": {},
   "outputs": [],
   "source": [
    "import numpy as np\n",
    "\n",
    "from statsmodels.gam.api import BSplines\n",
    "from statsmodels.gam.api import GLMGam\n",
    "from statsmodels.tools.eval_measures import mse, rmse\n",
    "\n",
    "%matplotlib inline\n",
    "import matplotlib.pyplot as plt\n",
    "import seaborn as sns"
   ]
  },
  {
   "cell_type": "markdown",
   "metadata": {
    "slideshow": {
     "slide_type": "slide"
    }
   },
   "source": [
    "## Data preparation\n",
    "\n",
    "- See [](hitters_data.ipynb) for details about the data preprocessing steps.\n",
    "- We simply import the preprocessed data by using this [Python script](https://github.com/kirenz/regression/blob/main/docs/hitters_data.py) which will yield:\n",
    "  - X_train, X_test, y_train, y_test\n",
    "  - df_train and df_tests"
   ]
  },
  {
   "cell_type": "code",
   "execution_count": 35,
   "metadata": {
    "slideshow": {
     "slide_type": "fragment"
    }
   },
   "outputs": [],
   "source": [
    "from hitters_data import *"
   ]
  },
  {
   "cell_type": "code",
   "execution_count": 36,
   "metadata": {
    "slideshow": {
     "slide_type": "slide"
    }
   },
   "outputs": [
    {
     "data": {
      "text/html": [
       "<div>\n",
       "<style scoped>\n",
       "    .dataframe tbody tr th:only-of-type {\n",
       "        vertical-align: middle;\n",
       "    }\n",
       "\n",
       "    .dataframe tbody tr th {\n",
       "        vertical-align: top;\n",
       "    }\n",
       "\n",
       "    .dataframe thead th {\n",
       "        text-align: right;\n",
       "    }\n",
       "</style>\n",
       "<table border=\"1\" class=\"dataframe\">\n",
       "  <thead>\n",
       "    <tr style=\"text-align: right;\">\n",
       "      <th></th>\n",
       "      <th>AtBat</th>\n",
       "      <th>Hits</th>\n",
       "      <th>HmRun</th>\n",
       "      <th>Runs</th>\n",
       "      <th>RBI</th>\n",
       "      <th>Walks</th>\n",
       "      <th>Years</th>\n",
       "      <th>CAtBat</th>\n",
       "      <th>CHits</th>\n",
       "      <th>CHmRun</th>\n",
       "      <th>...</th>\n",
       "      <th>CWalks</th>\n",
       "      <th>PutOuts</th>\n",
       "      <th>Assists</th>\n",
       "      <th>Errors</th>\n",
       "      <th>League_N</th>\n",
       "      <th>Division_W</th>\n",
       "      <th>NewLeague_N</th>\n",
       "      <th>Salary</th>\n",
       "      <th>y_pred</th>\n",
       "      <th>pred_train</th>\n",
       "    </tr>\n",
       "  </thead>\n",
       "  <tbody>\n",
       "    <tr>\n",
       "      <th>260</th>\n",
       "      <td>0.644577</td>\n",
       "      <td>0.257439</td>\n",
       "      <td>-0.456963</td>\n",
       "      <td>0.101010</td>\n",
       "      <td>-0.763917</td>\n",
       "      <td>-0.975959</td>\n",
       "      <td>-0.070553</td>\n",
       "      <td>0.298535</td>\n",
       "      <td>0.239063</td>\n",
       "      <td>-0.407836</td>\n",
       "      <td>...</td>\n",
       "      <td>-0.361084</td>\n",
       "      <td>-0.482387</td>\n",
       "      <td>1.746229</td>\n",
       "      <td>3.022233</td>\n",
       "      <td>1</td>\n",
       "      <td>1</td>\n",
       "      <td>1</td>\n",
       "      <td>875.0</td>\n",
       "      <td>662.397284</td>\n",
       "      <td>662.397284</td>\n",
       "    </tr>\n",
       "    <tr>\n",
       "      <th>92</th>\n",
       "      <td>-0.592807</td>\n",
       "      <td>-0.671359</td>\n",
       "      <td>-0.572936</td>\n",
       "      <td>-0.778318</td>\n",
       "      <td>-0.685806</td>\n",
       "      <td>-0.458312</td>\n",
       "      <td>-1.306911</td>\n",
       "      <td>-1.001403</td>\n",
       "      <td>-0.969702</td>\n",
       "      <td>-0.746705</td>\n",
       "      <td>...</td>\n",
       "      <td>-0.844319</td>\n",
       "      <td>-0.851547</td>\n",
       "      <td>0.022276</td>\n",
       "      <td>2.574735</td>\n",
       "      <td>0</td>\n",
       "      <td>0</td>\n",
       "      <td>0</td>\n",
       "      <td>70.0</td>\n",
       "      <td>106.459608</td>\n",
       "      <td>106.459608</td>\n",
       "    </tr>\n",
       "    <tr>\n",
       "      <th>137</th>\n",
       "      <td>-0.413075</td>\n",
       "      <td>-0.105019</td>\n",
       "      <td>-0.688910</td>\n",
       "      <td>-0.258715</td>\n",
       "      <td>-0.646751</td>\n",
       "      <td>-0.081841</td>\n",
       "      <td>1.577925</td>\n",
       "      <td>0.717456</td>\n",
       "      <td>0.706633</td>\n",
       "      <td>-0.010542</td>\n",
       "      <td>...</td>\n",
       "      <td>0.220252</td>\n",
       "      <td>-0.294452</td>\n",
       "      <td>-0.434676</td>\n",
       "      <td>0.635577</td>\n",
       "      <td>0</td>\n",
       "      <td>0</td>\n",
       "      <td>0</td>\n",
       "      <td>430.0</td>\n",
       "      <td>756.439710</td>\n",
       "      <td>756.439710</td>\n",
       "    </tr>\n",
       "    <tr>\n",
       "      <th>90</th>\n",
       "      <td>-0.613545</td>\n",
       "      <td>-0.558091</td>\n",
       "      <td>0.122907</td>\n",
       "      <td>-0.618440</td>\n",
       "      <td>-0.256196</td>\n",
       "      <td>-1.211253</td>\n",
       "      <td>-0.482672</td>\n",
       "      <td>-0.514087</td>\n",
       "      <td>-0.478077</td>\n",
       "      <td>-0.501317</td>\n",
       "      <td>...</td>\n",
       "      <td>-0.684451</td>\n",
       "      <td>0.786178</td>\n",
       "      <td>-0.545452</td>\n",
       "      <td>-0.706917</td>\n",
       "      <td>0</td>\n",
       "      <td>1</td>\n",
       "      <td>0</td>\n",
       "      <td>431.5</td>\n",
       "      <td>232.771697</td>\n",
       "      <td>232.771697</td>\n",
       "    </tr>\n",
       "    <tr>\n",
       "      <th>100</th>\n",
       "      <td>0.637665</td>\n",
       "      <td>0.982354</td>\n",
       "      <td>0.586803</td>\n",
       "      <td>0.260888</td>\n",
       "      <td>1.227914</td>\n",
       "      <td>1.706394</td>\n",
       "      <td>0.547626</td>\n",
       "      <td>1.267183</td>\n",
       "      <td>1.437305</td>\n",
       "      <td>2.384908</td>\n",
       "      <td>...</td>\n",
       "      <td>1.615457</td>\n",
       "      <td>2.504446</td>\n",
       "      <td>-0.213124</td>\n",
       "      <td>0.635577</td>\n",
       "      <td>0</td>\n",
       "      <td>0</td>\n",
       "      <td>0</td>\n",
       "      <td>2460.0</td>\n",
       "      <td>1121.121890</td>\n",
       "      <td>1121.121890</td>\n",
       "    </tr>\n",
       "    <tr>\n",
       "      <th>...</th>\n",
       "      <td>...</td>\n",
       "      <td>...</td>\n",
       "      <td>...</td>\n",
       "      <td>...</td>\n",
       "      <td>...</td>\n",
       "      <td>...</td>\n",
       "      <td>...</td>\n",
       "      <td>...</td>\n",
       "      <td>...</td>\n",
       "      <td>...</td>\n",
       "      <td>...</td>\n",
       "      <td>...</td>\n",
       "      <td>...</td>\n",
       "      <td>...</td>\n",
       "      <td>...</td>\n",
       "      <td>...</td>\n",
       "      <td>...</td>\n",
       "      <td>...</td>\n",
       "      <td>...</td>\n",
       "      <td>...</td>\n",
       "      <td>...</td>\n",
       "    </tr>\n",
       "    <tr>\n",
       "      <th>274</th>\n",
       "      <td>0.824309</td>\n",
       "      <td>0.733164</td>\n",
       "      <td>0.470829</td>\n",
       "      <td>0.740521</td>\n",
       "      <td>0.954525</td>\n",
       "      <td>0.859335</td>\n",
       "      <td>-0.688732</td>\n",
       "      <td>-0.824858</td>\n",
       "      <td>-0.808834</td>\n",
       "      <td>-0.571428</td>\n",
       "      <td>...</td>\n",
       "      <td>-0.648118</td>\n",
       "      <td>3.427344</td>\n",
       "      <td>0.326910</td>\n",
       "      <td>1.232241</td>\n",
       "      <td>1</td>\n",
       "      <td>0</td>\n",
       "      <td>1</td>\n",
       "      <td>200.0</td>\n",
       "      <td>317.381231</td>\n",
       "      <td>317.381231</td>\n",
       "    </tr>\n",
       "    <tr>\n",
       "      <th>196</th>\n",
       "      <td>0.423369</td>\n",
       "      <td>0.461321</td>\n",
       "      <td>1.862516</td>\n",
       "      <td>0.500704</td>\n",
       "      <td>1.618469</td>\n",
       "      <td>0.482865</td>\n",
       "      <td>1.165805</td>\n",
       "      <td>1.354814</td>\n",
       "      <td>1.246368</td>\n",
       "      <td>1.625375</td>\n",
       "      <td>...</td>\n",
       "      <td>0.681687</td>\n",
       "      <td>-1.002566</td>\n",
       "      <td>-0.822392</td>\n",
       "      <td>-1.303581</td>\n",
       "      <td>0</td>\n",
       "      <td>1</td>\n",
       "      <td>0</td>\n",
       "      <td>587.5</td>\n",
       "      <td>936.983487</td>\n",
       "      <td>936.983487</td>\n",
       "    </tr>\n",
       "    <tr>\n",
       "      <th>159</th>\n",
       "      <td>1.474109</td>\n",
       "      <td>1.254197</td>\n",
       "      <td>1.746542</td>\n",
       "      <td>1.140215</td>\n",
       "      <td>2.126191</td>\n",
       "      <td>-0.458312</td>\n",
       "      <td>-0.894792</td>\n",
       "      <td>-0.522636</td>\n",
       "      <td>-0.520174</td>\n",
       "      <td>-0.068968</td>\n",
       "      <td>...</td>\n",
       "      <td>-0.662651</td>\n",
       "      <td>-0.633407</td>\n",
       "      <td>1.310048</td>\n",
       "      <td>0.933909</td>\n",
       "      <td>0</td>\n",
       "      <td>1</td>\n",
       "      <td>0</td>\n",
       "      <td>200.0</td>\n",
       "      <td>622.401072</td>\n",
       "      <td>622.401072</td>\n",
       "    </tr>\n",
       "    <tr>\n",
       "      <th>17</th>\n",
       "      <td>-1.470728</td>\n",
       "      <td>-1.396275</td>\n",
       "      <td>-1.152806</td>\n",
       "      <td>-1.217982</td>\n",
       "      <td>-1.740306</td>\n",
       "      <td>-1.258312</td>\n",
       "      <td>-0.482672</td>\n",
       "      <td>-0.932153</td>\n",
       "      <td>-0.933620</td>\n",
       "      <td>-0.770075</td>\n",
       "      <td>...</td>\n",
       "      <td>-0.818885</td>\n",
       "      <td>-0.660255</td>\n",
       "      <td>0.403069</td>\n",
       "      <td>1.083075</td>\n",
       "      <td>0</td>\n",
       "      <td>1</td>\n",
       "      <td>0</td>\n",
       "      <td>175.0</td>\n",
       "      <td>31.929032</td>\n",
       "      <td>31.929032</td>\n",
       "    </tr>\n",
       "    <tr>\n",
       "      <th>162</th>\n",
       "      <td>-1.643547</td>\n",
       "      <td>-1.554850</td>\n",
       "      <td>-1.152806</td>\n",
       "      <td>-1.657646</td>\n",
       "      <td>-1.701250</td>\n",
       "      <td>-1.211253</td>\n",
       "      <td>-0.894792</td>\n",
       "      <td>-1.053127</td>\n",
       "      <td>-1.020819</td>\n",
       "      <td>-0.805130</td>\n",
       "      <td>...</td>\n",
       "      <td>-0.895185</td>\n",
       "      <td>0.111623</td>\n",
       "      <td>-0.690846</td>\n",
       "      <td>-1.005249</td>\n",
       "      <td>0</td>\n",
       "      <td>1</td>\n",
       "      <td>1</td>\n",
       "      <td>75.0</td>\n",
       "      <td>169.179139</td>\n",
       "      <td>169.179139</td>\n",
       "    </tr>\n",
       "  </tbody>\n",
       "</table>\n",
       "<p>184 rows × 22 columns</p>\n",
       "</div>"
      ],
      "text/plain": [
       "        AtBat      Hits     HmRun      Runs       RBI     Walks     Years  \\\n",
       "260  0.644577  0.257439 -0.456963  0.101010 -0.763917 -0.975959 -0.070553   \n",
       "92  -0.592807 -0.671359 -0.572936 -0.778318 -0.685806 -0.458312 -1.306911   \n",
       "137 -0.413075 -0.105019 -0.688910 -0.258715 -0.646751 -0.081841  1.577925   \n",
       "90  -0.613545 -0.558091  0.122907 -0.618440 -0.256196 -1.211253 -0.482672   \n",
       "100  0.637665  0.982354  0.586803  0.260888  1.227914  1.706394  0.547626   \n",
       "..        ...       ...       ...       ...       ...       ...       ...   \n",
       "274  0.824309  0.733164  0.470829  0.740521  0.954525  0.859335 -0.688732   \n",
       "196  0.423369  0.461321  1.862516  0.500704  1.618469  0.482865  1.165805   \n",
       "159  1.474109  1.254197  1.746542  1.140215  2.126191 -0.458312 -0.894792   \n",
       "17  -1.470728 -1.396275 -1.152806 -1.217982 -1.740306 -1.258312 -0.482672   \n",
       "162 -1.643547 -1.554850 -1.152806 -1.657646 -1.701250 -1.211253 -0.894792   \n",
       "\n",
       "       CAtBat     CHits    CHmRun  ...    CWalks   PutOuts   Assists  \\\n",
       "260  0.298535  0.239063 -0.407836  ... -0.361084 -0.482387  1.746229   \n",
       "92  -1.001403 -0.969702 -0.746705  ... -0.844319 -0.851547  0.022276   \n",
       "137  0.717456  0.706633 -0.010542  ...  0.220252 -0.294452 -0.434676   \n",
       "90  -0.514087 -0.478077 -0.501317  ... -0.684451  0.786178 -0.545452   \n",
       "100  1.267183  1.437305  2.384908  ...  1.615457  2.504446 -0.213124   \n",
       "..        ...       ...       ...  ...       ...       ...       ...   \n",
       "274 -0.824858 -0.808834 -0.571428  ... -0.648118  3.427344  0.326910   \n",
       "196  1.354814  1.246368  1.625375  ...  0.681687 -1.002566 -0.822392   \n",
       "159 -0.522636 -0.520174 -0.068968  ... -0.662651 -0.633407  1.310048   \n",
       "17  -0.932153 -0.933620 -0.770075  ... -0.818885 -0.660255  0.403069   \n",
       "162 -1.053127 -1.020819 -0.805130  ... -0.895185  0.111623 -0.690846   \n",
       "\n",
       "       Errors  League_N  Division_W  NewLeague_N  Salary       y_pred  \\\n",
       "260  3.022233         1           1            1   875.0   662.397284   \n",
       "92   2.574735         0           0            0    70.0   106.459608   \n",
       "137  0.635577         0           0            0   430.0   756.439710   \n",
       "90  -0.706917         0           1            0   431.5   232.771697   \n",
       "100  0.635577         0           0            0  2460.0  1121.121890   \n",
       "..        ...       ...         ...          ...     ...          ...   \n",
       "274  1.232241         1           0            1   200.0   317.381231   \n",
       "196 -1.303581         0           1            0   587.5   936.983487   \n",
       "159  0.933909         0           1            0   200.0   622.401072   \n",
       "17   1.083075         0           1            0   175.0    31.929032   \n",
       "162 -1.005249         0           1            1    75.0   169.179139   \n",
       "\n",
       "      pred_train  \n",
       "260   662.397284  \n",
       "92    106.459608  \n",
       "137   756.439710  \n",
       "90    232.771697  \n",
       "100  1121.121890  \n",
       "..           ...  \n",
       "274   317.381231  \n",
       "196   936.983487  \n",
       "159   622.401072  \n",
       "17     31.929032  \n",
       "162   169.179139  \n",
       "\n",
       "[184 rows x 22 columns]"
      ]
     },
     "execution_count": 36,
     "metadata": {},
     "output_type": "execute_result"
    }
   ],
   "source": [
    "df_train"
   ]
  },
  {
   "cell_type": "markdown",
   "metadata": {
    "slideshow": {
     "slide_type": "slide"
    }
   },
   "source": [
    "## Spline basis\n",
    "\n",
    "- First we have to create a basis spline (\"B-Spline\"). \n",
    "- In this example, we only select two features: `CRuns` and `Hits`."
   ]
  },
  {
   "cell_type": "code",
   "execution_count": 37,
   "metadata": {
    "slideshow": {
     "slide_type": "fragment"
    }
   },
   "outputs": [],
   "source": [
    "# choose features\n",
    "x_spline = df_train[['CRuns', 'Hits']]"
   ]
  },
  {
   "cell_type": "code",
   "execution_count": 38,
   "metadata": {
    "slideshow": {
     "slide_type": "slide"
    }
   },
   "outputs": [
    {
     "data": {
      "image/png": "[encoded data removed]",
      "text/plain": [
       "<Figure size 432x288 with 1 Axes>"
      ]
     },
     "metadata": {
      "needs_background": "light"
     },
     "output_type": "display_data"
    }
   ],
   "source": [
    "sns.scatterplot(x='CRuns', y='Salary', data=df_train);"
   ]
  },
  {
   "cell_type": "code",
   "execution_count": 39,
   "metadata": {
    "slideshow": {
     "slide_type": "slide"
    }
   },
   "outputs": [
    {
     "data": {
      "image/png": "[encoded data removed]",
      "text/plain": [
       "<Figure size 432x288 with 1 Axes>"
      ]
     },
     "metadata": {
      "needs_background": "light"
     },
     "output_type": "display_data"
    }
   ],
   "source": [
    "sns.scatterplot(x='Hits', y='Salary', data=df_train);"
   ]
  },
  {
   "cell_type": "markdown",
   "metadata": {
    "slideshow": {
     "slide_type": "notes"
    }
   },
   "source": [
    "- Now we need to divide the range of X into K distinct regions (for every feature). \n",
    "- Within each region, a polynomial function is fit to the data. \n",
    "\n",
    "- In the statsmodels function `BSplines`, we need to provide `df` and `degree`:\n",
    "\n",
    "  - `df`: number of basis functions or degrees of freedom; should be equal in length to the number of columns of x; may be an integer if x has one column or is 1-D.  \n",
    "\n",
    "  - `degree`: degree(s) of the spline; the same length and type rules apply as to df."
   ]
  },
  {
   "cell_type": "markdown",
   "metadata": {},
   "source": [
    "\n",
    "### Degrees of freedom\n",
    "\n",
    "- Instead of providing the number of knots, in statsmodels, we have to specify the degrees of freedom (df). \n",
    "- `df` defines how many parameters we have to estimate. \n",
    "- They have a specific relationship with the number of knots and the degree, which depends on the type of spline (see [Stackoverflow](https://stats.stackexchange.com/a/517479)):\n",
    "\n",
    "- In the case of **B-splines**: \n",
    "  - $df=𝑘+degree$ if you specify the knots or \n",
    "  - $𝑘=df−degree$ if you specify the degrees of freedom and the degree. "
   ]
  },
  {
   "cell_type": "markdown",
   "metadata": {},
   "source": [
    "\n",
    "As an example: \n",
    "\n",
    "- A cubic spline (degree=3) with 4 knots (K=4) will have $df=4+3=7$ degrees of freedom. If we use an intercept, we need to add an additional degree of freedom.\n",
    "- A cubic spline (degree=3) with 5 degrees of freedom (df=5) will have $𝑘=5−3=2$ knots (assuming the spline has no intercept).\n",
    "\n",
    ":::{Note}\n",
    "The higher the degrees of freedom, the \"wigglier\" the spline gets because the number of knots is increased {cite:p}`James2021`.\n",
    ":::"
   ]
  },
  {
   "cell_type": "markdown",
   "metadata": {
    "slideshow": {
     "slide_type": "slide"
    }
   },
   "source": [
    "## Model"
   ]
  },
  {
   "cell_type": "markdown",
   "metadata": {},
   "source": [
    "- We want to fit a cubic spline (degree=3) with an intercept and three knots (K=3). \n",
    "- We use this values for both of our features (we also could use different values for one of the features). \n",
    "- This equals $df=3+3+1=7$ for both of the features. This means that these degrees of freedom are used up by an intercept, plus six basis functions.\n",
    "\n"
   ]
  },
  {
   "cell_type": "code",
   "execution_count": 40,
   "metadata": {
    "slideshow": {
     "slide_type": "slide"
    }
   },
   "outputs": [],
   "source": [
    "# create basis spline\n",
    "bs = BSplines(x_spline, df=[7, 7], degree=[3, 3])"
   ]
  },
  {
   "cell_type": "code",
   "execution_count": 41,
   "metadata": {
    "slideshow": {
     "slide_type": "slide"
    }
   },
   "outputs": [],
   "source": [
    "# fit model\n",
    "reg = GLMGam.from_formula('Salary ~ CRuns + Hits', \n",
    "                                data=df_train, \n",
    "                                smoother=bs).fit()"
   ]
  },
  {
   "cell_type": "code",
   "execution_count": 42,
   "metadata": {
    "slideshow": {
     "slide_type": "fragment"
    }
   },
   "outputs": [
    {
     "name": "stdout",
     "output_type": "stream",
     "text": [
      "                 Generalized Linear Model Regression Results                  \n",
      "==============================================================================\n",
      "Dep. Variable:                 Salary   No. Observations:                  184\n",
      "Model:                         GLMGam   Df Residuals:                   171.00\n",
      "Model Family:                Gaussian   Df Model:                        12.00\n",
      "Link Function:               identity   Scale:                          90949.\n",
      "Method:                         PIRLS   Log-Likelihood:                -1304.8\n",
      "Date:                Sat, 23 Apr 2022   Deviance:                   1.5552e+07\n",
      "Time:                        14:34:52   Pearson chi2:                 1.56e+07\n",
      "No. Iterations:                     3   Pseudo R-squ. (CS):             0.7307\n",
      "Covariance Type:            nonrobust                                         \n",
      "==============================================================================\n",
      "                 coef    std err          z      P>|z|      [0.025      0.975]\n",
      "------------------------------------------------------------------------------\n",
      "Intercept    690.7415    160.681      4.299      0.000     375.813    1005.670\n",
      "CRuns         98.7724     74.429      1.327      0.184     -47.106     244.651\n",
      "Hits         -98.4006    112.343     -0.876      0.381    -318.588     121.787\n",
      "CRuns_s0    -312.2840    407.009     -0.767      0.443   -1110.007     485.439\n",
      "CRuns_s1    -206.0292    267.477     -0.770      0.441    -730.274     318.216\n",
      "CRuns_s2     114.0089    284.464      0.401      0.689    -443.531     671.548\n",
      "CRuns_s3     432.3174    322.183      1.342      0.180    -199.150    1063.785\n",
      "CRuns_s4     208.7568    418.248      0.499      0.618    -610.994    1028.508\n",
      "CRuns_s5    -216.1141    255.883     -0.845      0.398    -717.636     285.408\n",
      "Hits_s0     -605.1108    497.421     -1.216      0.224   -1580.038     369.816\n",
      "Hits_s1     -412.2057    280.829     -1.468      0.142    -962.620     138.208\n",
      "Hits_s2     -244.4009    207.209     -1.179      0.238    -650.523     161.722\n",
      "Hits_s3      109.4752    176.015      0.622      0.534    -235.508     454.458\n",
      "Hits_s4      507.2235    255.672      1.984      0.047       6.116    1008.331\n",
      "Hits_s5       68.8706    231.932      0.297      0.767    -385.708     523.450\n",
      "==============================================================================\n"
     ]
    }
   ],
   "source": [
    "# print results\n",
    "print(reg.summary())"
   ]
  },
  {
   "cell_type": "markdown",
   "metadata": {
    "slideshow": {
     "slide_type": "slide"
    }
   },
   "source": [
    "## Plot"
   ]
  },
  {
   "cell_type": "markdown",
   "metadata": {
    "slideshow": {
     "slide_type": "fragment"
    }
   },
   "source": [
    "- The results classes provide a `plot_partial` method that plots the partial linear prediction of a smooth component. \n",
    "- The partial residual or component plus residual can be added as scatter point with `cpr=True`.\n",
    "\n",
    "- Spline for feature `CRuns`:"
   ]
  },
  {
   "cell_type": "code",
   "execution_count": 43,
   "metadata": {
    "slideshow": {
     "slide_type": "slide"
    }
   },
   "outputs": [
    {
     "data": {
      "image/png": "[encoded data removed]",
      "text/plain": [
       "<Figure size 432x288 with 1 Axes>"
      ]
     },
     "execution_count": 43,
     "metadata": {},
     "output_type": "execute_result"
    },
    {
     "data": {
      "image/png": "[encoded data removed]",
      "text/plain": [
       "<Figure size 432x288 with 1 Axes>"
      ]
     },
     "metadata": {
      "needs_background": "light"
     },
     "output_type": "display_data"
    }
   ],
   "source": [
    "reg.plot_partial(0, cpr=True, plot_se=False)"
   ]
  },
  {
   "cell_type": "markdown",
   "metadata": {
    "slideshow": {
     "slide_type": "slide"
    }
   },
   "source": [
    "- Spline for feature `Hits`:"
   ]
  },
  {
   "cell_type": "code",
   "execution_count": 44,
   "metadata": {
    "slideshow": {
     "slide_type": "slide"
    }
   },
   "outputs": [
    {
     "data": {
      "image/png": "[encoded data removed]",
      "text/plain": [
       "<Figure size 432x288 with 1 Axes>"
      ]
     },
     "execution_count": 44,
     "metadata": {},
     "output_type": "execute_result"
    },
    {
     "data": {
      "image/png": "[encoded data removed]",
      "text/plain": [
       "<Figure size 432x288 with 1 Axes>"
      ]
     },
     "metadata": {
      "needs_background": "light"
     },
     "output_type": "display_data"
    }
   ],
   "source": [
    "reg.plot_partial(1, cpr=True, plot_se=False)"
   ]
  },
  {
   "cell_type": "markdown",
   "metadata": {
    "slideshow": {
     "slide_type": "slide"
    }
   },
   "source": [
    "## Model evaluation"
   ]
  },
  {
   "cell_type": "markdown",
   "metadata": {},
   "source": [
    "### Training data"
   ]
  },
  {
   "cell_type": "code",
   "execution_count": 45,
   "metadata": {},
   "outputs": [],
   "source": [
    "# Training data\n",
    "df_train['pred_train'] = reg.predict()\n",
    "rmse_train = round(rmse(df_train['Salary'], df_train['pred_train']),4)"
   ]
  },
  {
   "cell_type": "code",
   "execution_count": 60,
   "metadata": {},
   "outputs": [
    {
     "data": {
      "image/png": "[encoded data removed]",
      "text/plain": [
       "<Figure size 432x288 with 1 Axes>"
      ]
     },
     "metadata": {
      "needs_background": "light"
     },
     "output_type": "display_data"
    },
    {
     "data": {
      "image/png": "[encoded data removed]",
      "text/plain": [
       "<Figure size 432x288 with 1 Axes>"
      ]
     },
     "metadata": {
      "needs_background": "light"
     },
     "output_type": "display_data"
    }
   ],
   "source": [
    "# plot training data\n",
    "features = ['CRuns', 'Hits']\n",
    "\n",
    "for i in features:\n",
    "    g = sns.scatterplot(x=i, y='Salary', data=df_train)\n",
    "    plt.title(i)\n",
    "    plt.show();"
   ]
  },
  {
   "cell_type": "markdown",
   "metadata": {},
   "source": [
    "### Test data"
   ]
  },
  {
   "cell_type": "markdown",
   "metadata": {},
   "source": [
    "- We need to make sure that our test data falls inside the boundaries of the outermost knots (otherwise, we get an error)"
   ]
  },
  {
   "cell_type": "code",
   "execution_count": 46,
   "metadata": {},
   "outputs": [],
   "source": [
    "# Obtain limits of training data features\n",
    "x0_min = X_train['CRuns'].min()\n",
    "x0_max = X_train['CRuns'].max()\n",
    "\n",
    "x1_min = X_train['Hits'].min()\n",
    "x1_max = X_train['Hits'].max()"
   ]
  },
  {
   "cell_type": "code",
   "execution_count": 47,
   "metadata": {},
   "outputs": [],
   "source": [
    "# Only keep test data within training data limits\n",
    "df_test = df_test[(df_test[\"CRuns\"] > x0_min) & (df_test[\"CRuns\"] < x0_max)]\n",
    "df_test = df_test[(df_test[\"Hits\"] > x1_min) & (df_test[\"Hits\"] < x1_max)]"
   ]
  },
  {
   "cell_type": "code",
   "execution_count": 61,
   "metadata": {},
   "outputs": [
    {
     "data": {
      "image/png": "[encoded data removed]",
      "text/plain": [
       "<Figure size 432x288 with 1 Axes>"
      ]
     },
     "metadata": {
      "needs_background": "light"
     },
     "output_type": "display_data"
    },
    {
     "data": {
      "image/png": "[encoded data removed]",
      "text/plain": [
       "<Figure size 432x288 with 1 Axes>"
      ]
     },
     "metadata": {
      "needs_background": "light"
     },
     "output_type": "display_data"
    }
   ],
   "source": [
    "# plot test data\n",
    "for i in features:\n",
    "    g = sns.scatterplot(x=i, y='Salary', data=df_test)\n",
    "    plt.title(i)\n",
    "    plt.show();"
   ]
  },
  {
   "cell_type": "code",
   "execution_count": 48,
   "metadata": {},
   "outputs": [],
   "source": [
    "# Obtain test RMSE\n",
    "df_test['pred_test'] = reg.predict(df_test, exog_smooth= df_test[['CRuns', 'Hits']])\n",
    "rmse_test = round(rmse(df_test['Salary'], df_test['pred_test']),4)"
   ]
  },
  {
   "cell_type": "code",
   "execution_count": 49,
   "metadata": {},
   "outputs": [
    {
     "data": {
      "text/plain": [
       "{'model': 'GAM', 'rmse_train': 290.7294, 'rmse_test': 272.6471}"
      ]
     },
     "execution_count": 49,
     "metadata": {},
     "output_type": "execute_result"
    }
   ],
   "source": [
    "# Save model results\n",
    "results = {\"model\": \"GAM\", \"rmse_train\": rmse_train, \"rmse_test\": rmse_test}\n",
    "\n",
    "results"
   ]
  }
 ],
 "metadata": {
  "celltoolbar": "Slideshow",
  "kernelspec": {
   "display_name": "Python 3 (ipykernel)",
   "language": "python",
   "name": "python3"
  },
  "language_info": {
   "codemirror_mode": {
    "name": "ipython",
    "version": 3
   },
   "file_extension": ".py",
   "mimetype": "text/x-python",
   "name": "python",
   "nbconvert_exporter": "python",
   "pygments_lexer": "ipython3",
   "version": "3.9.12"
  },
  "varInspector": {
   "cols": {
    "lenName": 16,
    "lenType": 16,
    "lenVar": 40
   },
   "kernels_config": {
    "python": {
     "delete_cmd_postfix": "",
     "delete_cmd_prefix": "del ",
     "library": "var_list.py",
     "varRefreshCmd": "print(var_dic_list())"
    },
    "r": {
     "delete_cmd_postfix": ") ",
     "delete_cmd_prefix": "rm(",
     "library": "var_list.r",
     "varRefreshCmd": "cat(var_dic_list()) "
    }
   },
   "types_to_exclude": [
    "module",
    "function",
    "builtin_function_or_method",
    "instance",
    "_Feature"
   ],
   "window_display": false
  }
 },
 "nbformat": 4,
 "nbformat_minor": 2
}
