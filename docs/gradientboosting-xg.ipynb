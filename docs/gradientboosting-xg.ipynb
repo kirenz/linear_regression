{
 "cells": [
  {
   "cell_type": "markdown",
   "metadata": {},
   "source": [
    "# Gradient Boosting with XGBoost"
   ]
  },
  {
   "cell_type": "markdown",
   "metadata": {},
   "source": [
    "\n",
    "\n",
    "We illustrate the following regression method on a data set called \"Hitters\", which includes 20 variables and 322 observations of major league baseball players. The goal is to predict a baseball player’s salary on the basis of various features associated with performance in the previous year. We don't cover the topic of exploratory data analysis in this notebook. \n",
    "\n",
    "- Visit [this documentation](https://cran.r-project.org/web/packages/ISLR/ISLR.pdf) if you want to learn more about the data"
   ]
  },
  {
   "cell_type": "markdown",
   "metadata": {},
   "source": [
    "## Setup"
   ]
  },
  {
   "cell_type": "code",
   "execution_count": 67,
   "metadata": {},
   "outputs": [
    {
     "name": "stdout",
     "output_type": "stream",
     "text": [
      "XGB Version: 1.6.0\n"
     ]
    }
   ],
   "source": [
    "%matplotlib inline\n",
    "\n",
    "import numpy as np\n",
    "import matplotlib.pyplot as plt\n",
    "\n",
    "import xgboost as xgb\n",
    "print(\"XGB Version:\", xgb.__version__)\n",
    "\n",
    "from sklearn.metrics import mean_squared_error\n",
    "from sklearn.inspection import permutation_importance"
   ]
  },
  {
   "cell_type": "markdown",
   "metadata": {},
   "source": [
    "## Data\n",
    "\n",
    "- See [](hitters_data.ipynb) for details about the data preprocessing steps.\n",
    "- We simply import the preprocessed data by using this [Python script](https://github.com/kirenz/regression/blob/main/docs/hitters_data.py) which will yield:\n",
    "  - X_train, X_test, y_train, y_test\n",
    "  - df_train and df_tests\n",
    "  - feature_names"
   ]
  },
  {
   "cell_type": "code",
   "execution_count": 50,
   "metadata": {},
   "outputs": [],
   "source": [
    "from hitters_data import *"
   ]
  },
  {
   "cell_type": "markdown",
   "metadata": {},
   "source": [
    "## Model"
   ]
  },
  {
   "cell_type": "markdown",
   "metadata": {},
   "source": [
    "- Define hyperparameters"
   ]
  },
  {
   "cell_type": "code",
   "execution_count": 52,
   "metadata": {},
   "outputs": [],
   "source": [
    "params = {\n",
    "    \"n_estimators\":500,\n",
    "    \"max_depth\": 4,\n",
    "    \"learning_rate\": 0.01,\n",
    "    \"eval_metric\": \"rmse\"\n",
    "}"
   ]
  },
  {
   "cell_type": "markdown",
   "metadata": {},
   "source": [
    "- Prepare evaulation data"
   ]
  },
  {
   "cell_type": "code",
   "execution_count": 51,
   "metadata": {},
   "outputs": [],
   "source": [
    "eval_set = [(X_train, y_train), (X_test, y_test)]"
   ]
  },
  {
   "cell_type": "markdown",
   "metadata": {},
   "source": [
    "- Build and fit model"
   ]
  },
  {
   "cell_type": "code",
   "execution_count": 53,
   "metadata": {},
   "outputs": [
    {
     "name": "stdout",
     "output_type": "stream",
     "text": [
      "[0]\tvalidation_0-rmse:693.13939\tvalidation_1-rmse:694.51649\n",
      "[1]\tvalidation_0-rmse:687.25191\tvalidation_1-rmse:688.37644\n",
      "[2]\tvalidation_0-rmse:681.42445\tvalidation_1-rmse:682.31515\n",
      "[3]\tvalidation_0-rmse:675.64867\tvalidation_1-rmse:677.35826\n",
      "[4]\tvalidation_0-rmse:669.93320\tvalidation_1-rmse:672.46290\n",
      "[5]\tvalidation_0-rmse:664.27350\tvalidation_1-rmse:666.60591\n",
      "[6]\tvalidation_0-rmse:658.67121\tvalidation_1-rmse:661.82838\n",
      "[7]\tvalidation_0-rmse:653.12688\tvalidation_1-rmse:656.90319\n",
      "[8]\tvalidation_0-rmse:647.63961\tvalidation_1-rmse:652.24138\n",
      "[9]\tvalidation_0-rmse:642.19390\tvalidation_1-rmse:646.64970\n",
      "[10]\tvalidation_0-rmse:636.80992\tvalidation_1-rmse:641.92285\n",
      "[11]\tvalidation_0-rmse:631.48134\tvalidation_1-rmse:637.27762\n",
      "[12]\tvalidation_0-rmse:626.19614\tvalidation_1-rmse:631.90670\n",
      "[13]\tvalidation_0-rmse:620.97255\tvalidation_1-rmse:627.37414\n",
      "[14]\tvalidation_0-rmse:615.80413\tvalidation_1-rmse:622.82286\n",
      "[15]\tvalidation_0-rmse:610.68529\tvalidation_1-rmse:618.45032\n",
      "[16]\tvalidation_0-rmse:605.60407\tvalidation_1-rmse:613.33537\n",
      "[17]\tvalidation_0-rmse:600.57906\tvalidation_1-rmse:609.34508\n",
      "[18]\tvalidation_0-rmse:595.60970\tvalidation_1-rmse:605.29294\n",
      "[19]\tvalidation_0-rmse:590.69058\tvalidation_1-rmse:601.35710\n",
      "[20]\tvalidation_0-rmse:585.80052\tvalidation_1-rmse:596.47644\n",
      "[21]\tvalidation_0-rmse:580.97580\tvalidation_1-rmse:592.68846\n",
      "[22]\tvalidation_0-rmse:576.20465\tvalidation_1-rmse:588.83853\n",
      "[23]\tvalidation_0-rmse:571.47605\tvalidation_1-rmse:585.00430\n",
      "[24]\tvalidation_0-rmse:566.76789\tvalidation_1-rmse:580.46276\n",
      "[25]\tvalidation_0-rmse:562.13473\tvalidation_1-rmse:576.72806\n",
      "[26]\tvalidation_0-rmse:557.55151\tvalidation_1-rmse:573.04329\n",
      "[27]\tvalidation_0-rmse:552.98293\tvalidation_1-rmse:568.56142\n",
      "[28]\tvalidation_0-rmse:548.47424\tvalidation_1-rmse:564.78179\n",
      "[29]\tvalidation_0-rmse:544.02571\tvalidation_1-rmse:561.24016\n",
      "[30]\tvalidation_0-rmse:539.58015\tvalidation_1-rmse:557.70367\n",
      "[31]\tvalidation_0-rmse:535.22326\tvalidation_1-rmse:554.25781\n",
      "[32]\tvalidation_0-rmse:530.91185\tvalidation_1-rmse:550.87278\n",
      "[33]\tvalidation_0-rmse:526.59696\tvalidation_1-rmse:546.80625\n",
      "[34]\tvalidation_0-rmse:522.37363\tvalidation_1-rmse:543.51320\n",
      "[35]\tvalidation_0-rmse:518.14474\tvalidation_1-rmse:539.55518\n",
      "[36]\tvalidation_0-rmse:513.98339\tvalidation_1-rmse:536.03011\n",
      "[37]\tvalidation_0-rmse:509.83863\tvalidation_1-rmse:532.21427\n",
      "[38]\tvalidation_0-rmse:505.74956\tvalidation_1-rmse:528.81269\n",
      "[39]\tvalidation_0-rmse:501.70899\tvalidation_1-rmse:525.42317\n",
      "[40]\tvalidation_0-rmse:497.69725\tvalidation_1-rmse:522.18693\n",
      "[41]\tvalidation_0-rmse:493.72723\tvalidation_1-rmse:519.00022\n",
      "[42]\tvalidation_0-rmse:489.80529\tvalidation_1-rmse:515.74005\n",
      "[43]\tvalidation_0-rmse:485.91322\tvalidation_1-rmse:512.64781\n",
      "[44]\tvalidation_0-rmse:482.06295\tvalidation_1-rmse:509.52443\n",
      "[45]\tvalidation_0-rmse:478.25068\tvalidation_1-rmse:506.52609\n",
      "[46]\tvalidation_0-rmse:474.47971\tvalidation_1-rmse:503.42672\n",
      "[47]\tvalidation_0-rmse:470.70649\tvalidation_1-rmse:500.40295\n",
      "[48]\tvalidation_0-rmse:466.97397\tvalidation_1-rmse:497.36221\n",
      "[49]\tvalidation_0-rmse:463.27880\tvalidation_1-rmse:494.61958\n",
      "[50]\tvalidation_0-rmse:459.65838\tvalidation_1-rmse:491.68158\n",
      "[51]\tvalidation_0-rmse:456.06147\tvalidation_1-rmse:488.72183\n",
      "[52]\tvalidation_0-rmse:452.47318\tvalidation_1-rmse:485.84497\n",
      "[53]\tvalidation_0-rmse:448.96065\tvalidation_1-rmse:483.02340\n",
      "[54]\tvalidation_0-rmse:445.46803\tvalidation_1-rmse:480.26018\n",
      "[55]\tvalidation_0-rmse:441.95344\tvalidation_1-rmse:477.30999\n",
      "[56]\tvalidation_0-rmse:438.50062\tvalidation_1-rmse:474.73601\n",
      "[57]\tvalidation_0-rmse:435.05589\tvalidation_1-rmse:471.86991\n",
      "[58]\tvalidation_0-rmse:431.64718\tvalidation_1-rmse:469.04795\n",
      "[59]\tvalidation_0-rmse:428.27422\tvalidation_1-rmse:466.28069\n",
      "[60]\tvalidation_0-rmse:424.93665\tvalidation_1-rmse:463.54723\n",
      "[61]\tvalidation_0-rmse:421.63382\tvalidation_1-rmse:460.81340\n",
      "[62]\tvalidation_0-rmse:418.37774\tvalidation_1-rmse:458.46727\n",
      "[63]\tvalidation_0-rmse:415.11194\tvalidation_1-rmse:455.81148\n",
      "[64]\tvalidation_0-rmse:411.88154\tvalidation_1-rmse:453.19066\n",
      "[65]\tvalidation_0-rmse:408.68623\tvalidation_1-rmse:450.60448\n",
      "[66]\tvalidation_0-rmse:405.50412\tvalidation_1-rmse:448.06727\n",
      "[67]\tvalidation_0-rmse:402.38503\tvalidation_1-rmse:445.78194\n",
      "[68]\tvalidation_0-rmse:399.29885\tvalidation_1-rmse:443.54422\n",
      "[69]\tvalidation_0-rmse:396.25464\tvalidation_1-rmse:441.37530\n",
      "[70]\tvalidation_0-rmse:393.19315\tvalidation_1-rmse:438.95477\n",
      "[71]\tvalidation_0-rmse:390.16389\tvalidation_1-rmse:436.96168\n",
      "[72]\tvalidation_0-rmse:387.16462\tvalidation_1-rmse:435.01067\n",
      "[73]\tvalidation_0-rmse:384.22464\tvalidation_1-rmse:432.93375\n",
      "[74]\tvalidation_0-rmse:381.27889\tvalidation_1-rmse:430.63654\n",
      "[75]\tvalidation_0-rmse:378.36459\tvalidation_1-rmse:428.77442\n",
      "[76]\tvalidation_0-rmse:375.47929\tvalidation_1-rmse:426.93097\n",
      "[77]\tvalidation_0-rmse:372.65632\tvalidation_1-rmse:424.99205\n",
      "[78]\tvalidation_0-rmse:369.80734\tvalidation_1-rmse:423.03681\n",
      "[79]\tvalidation_0-rmse:367.00453\tvalidation_1-rmse:420.98049\n",
      "[80]\tvalidation_0-rmse:364.23938\tvalidation_1-rmse:418.95155\n",
      "[81]\tvalidation_0-rmse:361.47124\tvalidation_1-rmse:417.09274\n",
      "[82]\tvalidation_0-rmse:358.73081\tvalidation_1-rmse:415.27657\n",
      "[83]\tvalidation_0-rmse:356.05356\tvalidation_1-rmse:413.35653\n",
      "[84]\tvalidation_0-rmse:353.41414\tvalidation_1-rmse:411.60577\n",
      "[85]\tvalidation_0-rmse:350.76698\tvalidation_1-rmse:409.71070\n",
      "[86]\tvalidation_0-rmse:348.16643\tvalidation_1-rmse:407.88669\n",
      "[87]\tvalidation_0-rmse:345.58631\tvalidation_1-rmse:406.07257\n",
      "[88]\tvalidation_0-rmse:342.99238\tvalidation_1-rmse:404.39158\n",
      "[89]\tvalidation_0-rmse:340.47707\tvalidation_1-rmse:402.79080\n",
      "[90]\tvalidation_0-rmse:337.94161\tvalidation_1-rmse:400.98397\n",
      "[91]\tvalidation_0-rmse:335.45995\tvalidation_1-rmse:399.25509\n",
      "[92]\tvalidation_0-rmse:332.96261\tvalidation_1-rmse:397.68571\n",
      "[93]\tvalidation_0-rmse:330.54601\tvalidation_1-rmse:396.18096\n",
      "[94]\tvalidation_0-rmse:328.14699\tvalidation_1-rmse:394.57812\n",
      "[95]\tvalidation_0-rmse:325.72900\tvalidation_1-rmse:392.90109\n",
      "[96]\tvalidation_0-rmse:323.37909\tvalidation_1-rmse:391.50384\n",
      "[97]\tvalidation_0-rmse:321.03917\tvalidation_1-rmse:389.93766\n",
      "[98]\tvalidation_0-rmse:318.72407\tvalidation_1-rmse:388.40825\n",
      "[99]\tvalidation_0-rmse:316.47226\tvalidation_1-rmse:386.86321\n",
      "[100]\tvalidation_0-rmse:314.16498\tvalidation_1-rmse:385.52558\n",
      "[101]\tvalidation_0-rmse:311.87188\tvalidation_1-rmse:384.18696\n",
      "[102]\tvalidation_0-rmse:309.65677\tvalidation_1-rmse:382.91783\n",
      "[103]\tvalidation_0-rmse:307.45228\tvalidation_1-rmse:381.50659\n",
      "[104]\tvalidation_0-rmse:305.22490\tvalidation_1-rmse:380.23442\n",
      "[105]\tvalidation_0-rmse:303.07585\tvalidation_1-rmse:379.02638\n",
      "[106]\tvalidation_0-rmse:300.89407\tvalidation_1-rmse:377.61254\n",
      "[107]\tvalidation_0-rmse:298.77484\tvalidation_1-rmse:376.28225\n",
      "[108]\tvalidation_0-rmse:296.68660\tvalidation_1-rmse:375.00989\n",
      "[109]\tvalidation_0-rmse:294.62114\tvalidation_1-rmse:373.88861\n",
      "[110]\tvalidation_0-rmse:292.56652\tvalidation_1-rmse:372.64312\n",
      "[111]\tvalidation_0-rmse:290.56931\tvalidation_1-rmse:371.35190\n",
      "[112]\tvalidation_0-rmse:288.50461\tvalidation_1-rmse:370.25851\n",
      "[113]\tvalidation_0-rmse:286.46936\tvalidation_1-rmse:369.20170\n",
      "[114]\tvalidation_0-rmse:284.49553\tvalidation_1-rmse:368.04068\n",
      "[115]\tvalidation_0-rmse:282.54886\tvalidation_1-rmse:366.98198\n",
      "[116]\tvalidation_0-rmse:280.56136\tvalidation_1-rmse:365.77954\n",
      "[117]\tvalidation_0-rmse:278.65429\tvalidation_1-rmse:364.74823\n",
      "[118]\tvalidation_0-rmse:276.76655\tvalidation_1-rmse:363.74425\n",
      "[119]\tvalidation_0-rmse:274.89853\tvalidation_1-rmse:362.78623\n",
      "[120]\tvalidation_0-rmse:272.98431\tvalidation_1-rmse:361.65647\n",
      "[121]\tvalidation_0-rmse:271.15398\tvalidation_1-rmse:360.73108\n",
      "[122]\tvalidation_0-rmse:269.27111\tvalidation_1-rmse:359.64877\n",
      "[123]\tvalidation_0-rmse:267.47209\tvalidation_1-rmse:358.74611\n",
      "[124]\tvalidation_0-rmse:265.64092\tvalidation_1-rmse:357.85911\n",
      "[125]\tvalidation_0-rmse:263.88607\tvalidation_1-rmse:356.99376\n",
      "[126]\tvalidation_0-rmse:262.02611\tvalidation_1-rmse:355.85213\n",
      "[127]\tvalidation_0-rmse:260.18526\tvalidation_1-rmse:354.73455\n",
      "[128]\tvalidation_0-rmse:258.41324\tvalidation_1-rmse:353.70764\n",
      "[129]\tvalidation_0-rmse:256.60630\tvalidation_1-rmse:352.63092\n",
      "[130]\tvalidation_0-rmse:254.81800\tvalidation_1-rmse:351.57734\n",
      "[131]\tvalidation_0-rmse:253.04817\tvalidation_1-rmse:350.54658\n",
      "[132]\tvalidation_0-rmse:251.37469\tvalidation_1-rmse:349.47587\n",
      "[133]\tvalidation_0-rmse:249.63779\tvalidation_1-rmse:348.48331\n",
      "[134]\tvalidation_0-rmse:247.91893\tvalidation_1-rmse:347.51268\n",
      "[135]\tvalidation_0-rmse:246.30478\tvalidation_1-rmse:346.85083\n",
      "[136]\tvalidation_0-rmse:244.61784\tvalidation_1-rmse:345.85634\n",
      "[137]\tvalidation_0-rmse:242.96964\tvalidation_1-rmse:345.00769\n",
      "[138]\tvalidation_0-rmse:241.31359\tvalidation_1-rmse:344.11124\n",
      "[139]\tvalidation_0-rmse:239.67485\tvalidation_1-rmse:343.23527\n",
      "[140]\tvalidation_0-rmse:238.05327\tvalidation_1-rmse:342.37948\n",
      "[141]\tvalidation_0-rmse:236.47585\tvalidation_1-rmse:341.60712\n",
      "[142]\tvalidation_0-rmse:234.88414\tvalidation_1-rmse:340.78485\n",
      "[143]\tvalidation_0-rmse:233.30918\tvalidation_1-rmse:339.98190\n",
      "[144]\tvalidation_0-rmse:231.75405\tvalidation_1-rmse:339.21364\n",
      "[145]\tvalidation_0-rmse:230.28445\tvalidation_1-rmse:338.34886\n",
      "[146]\tvalidation_0-rmse:228.75769\tvalidation_1-rmse:337.60862\n",
      "[147]\tvalidation_0-rmse:227.24667\tvalidation_1-rmse:336.89102\n",
      "[148]\tvalidation_0-rmse:225.77662\tvalidation_1-rmse:336.30535\n",
      "[149]\tvalidation_0-rmse:224.30568\tvalidation_1-rmse:335.63373\n",
      "[150]\tvalidation_0-rmse:222.86245\tvalidation_1-rmse:335.03142\n",
      "[151]\tvalidation_0-rmse:221.43399\tvalidation_1-rmse:334.48210\n",
      "[152]\tvalidation_0-rmse:220.04507\tvalidation_1-rmse:333.97098\n",
      "[153]\tvalidation_0-rmse:218.64291\tvalidation_1-rmse:333.41472\n",
      "[154]\tvalidation_0-rmse:217.25524\tvalidation_1-rmse:332.91148\n",
      "[155]\tvalidation_0-rmse:215.85980\tvalidation_1-rmse:332.30984\n",
      "[156]\tvalidation_0-rmse:214.49731\tvalidation_1-rmse:331.79020\n",
      "[157]\tvalidation_0-rmse:213.14879\tvalidation_1-rmse:331.31520\n",
      "[158]\tvalidation_0-rmse:211.83368\tvalidation_1-rmse:330.87303\n",
      "[159]\tvalidation_0-rmse:210.51027\tvalidation_1-rmse:330.39231\n",
      "[160]\tvalidation_0-rmse:209.22083\tvalidation_1-rmse:329.98324\n",
      "[161]\tvalidation_0-rmse:207.92206\tvalidation_1-rmse:329.56281\n",
      "[162]\tvalidation_0-rmse:206.60965\tvalidation_1-rmse:329.03534\n",
      "[163]\tvalidation_0-rmse:205.33481\tvalidation_1-rmse:328.60896\n",
      "[164]\tvalidation_0-rmse:204.07307\tvalidation_1-rmse:328.20955\n",
      "[165]\tvalidation_0-rmse:202.81819\tvalidation_1-rmse:327.83031\n",
      "[166]\tvalidation_0-rmse:201.59743\tvalidation_1-rmse:327.48191\n",
      "[167]\tvalidation_0-rmse:200.37180\tvalidation_1-rmse:327.11637\n",
      "[168]\tvalidation_0-rmse:199.14096\tvalidation_1-rmse:326.71480\n",
      "[169]\tvalidation_0-rmse:197.93808\tvalidation_1-rmse:326.36631\n",
      "[170]\tvalidation_0-rmse:196.66635\tvalidation_1-rmse:325.77495\n",
      "[171]\tvalidation_0-rmse:195.40832\tvalidation_1-rmse:325.20119\n",
      "[172]\tvalidation_0-rmse:194.16389\tvalidation_1-rmse:324.64246\n",
      "[173]\tvalidation_0-rmse:192.93285\tvalidation_1-rmse:324.09495\n",
      "[174]\tvalidation_0-rmse:191.79615\tvalidation_1-rmse:323.81533\n",
      "[175]\tvalidation_0-rmse:190.58806\tvalidation_1-rmse:323.29604\n",
      "[176]\tvalidation_0-rmse:189.39261\tvalidation_1-rmse:322.79512\n",
      "[177]\tvalidation_0-rmse:188.21004\tvalidation_1-rmse:322.30094\n",
      "[178]\tvalidation_0-rmse:187.03992\tvalidation_1-rmse:321.82969\n",
      "[179]\tvalidation_0-rmse:185.93788\tvalidation_1-rmse:321.60069\n",
      "[180]\tvalidation_0-rmse:184.79044\tvalidation_1-rmse:321.13697\n",
      "[181]\tvalidation_0-rmse:183.65537\tvalidation_1-rmse:320.70354\n",
      "[182]\tvalidation_0-rmse:182.53219\tvalidation_1-rmse:320.24793\n",
      "[183]\tvalidation_0-rmse:181.42080\tvalidation_1-rmse:319.83462\n",
      "[184]\tvalidation_0-rmse:180.32079\tvalidation_1-rmse:319.40622\n",
      "[185]\tvalidation_0-rmse:179.23232\tvalidation_1-rmse:318.99946\n",
      "[186]\tvalidation_0-rmse:178.14289\tvalidation_1-rmse:318.71458\n",
      "[187]\tvalidation_0-rmse:177.07399\tvalidation_1-rmse:318.32019\n",
      "[188]\tvalidation_0-rmse:176.01657\tvalidation_1-rmse:317.94569\n",
      "[189]\tvalidation_0-rmse:174.97008\tvalidation_1-rmse:317.58723\n",
      "[190]\tvalidation_0-rmse:173.93447\tvalidation_1-rmse:317.22538\n",
      "[191]\tvalidation_0-rmse:172.90930\tvalidation_1-rmse:316.86419\n",
      "[192]\tvalidation_0-rmse:171.89481\tvalidation_1-rmse:316.53521\n",
      "[193]\tvalidation_0-rmse:170.85768\tvalidation_1-rmse:316.30952\n",
      "[194]\tvalidation_0-rmse:169.86114\tvalidation_1-rmse:315.98105\n",
      "[195]\tvalidation_0-rmse:168.87506\tvalidation_1-rmse:315.66036\n",
      "[196]\tvalidation_0-rmse:167.90544\tvalidation_1-rmse:315.34438\n",
      "[197]\tvalidation_0-rmse:166.92132\tvalidation_1-rmse:315.10478\n",
      "[198]\tvalidation_0-rmse:165.96242\tvalidation_1-rmse:314.81488\n",
      "[199]\tvalidation_0-rmse:164.99626\tvalidation_1-rmse:314.53016\n",
      "[200]\tvalidation_0-rmse:164.05389\tvalidation_1-rmse:314.40498\n",
      "[201]\tvalidation_0-rmse:163.11098\tvalidation_1-rmse:314.11761\n",
      "[202]\tvalidation_0-rmse:162.12935\tvalidation_1-rmse:313.92343\n",
      "[203]\tvalidation_0-rmse:161.18972\tvalidation_1-rmse:313.62158\n",
      "[204]\tvalidation_0-rmse:160.23139\tvalidation_1-rmse:313.44234\n",
      "[205]\tvalidation_0-rmse:159.28366\tvalidation_1-rmse:313.23872\n",
      "[206]\tvalidation_0-rmse:158.38114\tvalidation_1-rmse:312.98518\n",
      "[207]\tvalidation_0-rmse:157.45084\tvalidation_1-rmse:312.82085\n",
      "[208]\tvalidation_0-rmse:156.53080\tvalidation_1-rmse:312.63194\n",
      "[209]\tvalidation_0-rmse:155.63745\tvalidation_1-rmse:312.36621\n",
      "[210]\tvalidation_0-rmse:154.77808\tvalidation_1-rmse:312.24586\n",
      "[211]\tvalidation_0-rmse:153.91405\tvalidation_1-rmse:312.01881\n",
      "[212]\tvalidation_0-rmse:153.05043\tvalidation_1-rmse:311.84493\n",
      "[213]\tvalidation_0-rmse:152.18849\tvalidation_1-rmse:311.60513\n",
      "[214]\tvalidation_0-rmse:151.31496\tvalidation_1-rmse:311.51638\n",
      "[215]\tvalidation_0-rmse:150.47991\tvalidation_1-rmse:311.36420\n",
      "[216]\tvalidation_0-rmse:149.62266\tvalidation_1-rmse:311.25167\n",
      "[217]\tvalidation_0-rmse:148.77492\tvalidation_1-rmse:311.12549\n",
      "[218]\tvalidation_0-rmse:147.94904\tvalidation_1-rmse:310.91079\n",
      "[219]\tvalidation_0-rmse:147.11676\tvalidation_1-rmse:310.80718\n",
      "[220]\tvalidation_0-rmse:146.31765\tvalidation_1-rmse:310.67817\n",
      "[221]\tvalidation_0-rmse:145.50095\tvalidation_1-rmse:310.60920\n",
      "[222]\tvalidation_0-rmse:144.71398\tvalidation_1-rmse:310.45846\n",
      "[223]\tvalidation_0-rmse:143.91229\tvalidation_1-rmse:310.36486\n",
      "[224]\tvalidation_0-rmse:143.11967\tvalidation_1-rmse:310.23246\n",
      "[225]\tvalidation_0-rmse:142.33204\tvalidation_1-rmse:310.13880\n",
      "[226]\tvalidation_0-rmse:141.55398\tvalidation_1-rmse:310.05252\n",
      "[227]\tvalidation_0-rmse:140.78477\tvalidation_1-rmse:309.96885\n",
      "[228]\tvalidation_0-rmse:140.01635\tvalidation_1-rmse:309.88281\n",
      "[229]\tvalidation_0-rmse:139.28946\tvalidation_1-rmse:309.79287\n",
      "[230]\tvalidation_0-rmse:138.53388\tvalidation_1-rmse:309.71833\n",
      "[231]\tvalidation_0-rmse:137.79192\tvalidation_1-rmse:309.60479\n",
      "[232]\tvalidation_0-rmse:137.08579\tvalidation_1-rmse:309.52197\n",
      "[233]\tvalidation_0-rmse:136.34835\tvalidation_1-rmse:309.45531\n",
      "[234]\tvalidation_0-rmse:135.61835\tvalidation_1-rmse:309.39859\n",
      "[235]\tvalidation_0-rmse:134.90277\tvalidation_1-rmse:309.33064\n",
      "[236]\tvalidation_0-rmse:134.22172\tvalidation_1-rmse:309.25412\n",
      "[237]\tvalidation_0-rmse:133.50919\tvalidation_1-rmse:309.19205\n",
      "[238]\tvalidation_0-rmse:132.84173\tvalidation_1-rmse:309.10337\n",
      "[239]\tvalidation_0-rmse:132.18175\tvalidation_1-rmse:309.01684\n",
      "[240]\tvalidation_0-rmse:131.48645\tvalidation_1-rmse:308.96802\n",
      "[241]\tvalidation_0-rmse:130.83304\tvalidation_1-rmse:308.89322\n",
      "[242]\tvalidation_0-rmse:130.15014\tvalidation_1-rmse:308.85005\n",
      "[243]\tvalidation_0-rmse:129.50878\tvalidation_1-rmse:308.77680\n",
      "[244]\tvalidation_0-rmse:128.84021\tvalidation_1-rmse:308.72675\n",
      "[245]\tvalidation_0-rmse:128.18414\tvalidation_1-rmse:308.63927\n",
      "[246]\tvalidation_0-rmse:127.52470\tvalidation_1-rmse:308.59920\n",
      "[247]\tvalidation_0-rmse:126.87597\tvalidation_1-rmse:308.55273\n",
      "[248]\tvalidation_0-rmse:126.23455\tvalidation_1-rmse:308.49777\n",
      "[249]\tvalidation_0-rmse:125.59161\tvalidation_1-rmse:308.46299\n",
      "[250]\tvalidation_0-rmse:124.99325\tvalidation_1-rmse:308.41082\n",
      "[251]\tvalidation_0-rmse:124.40145\tvalidation_1-rmse:308.34988\n",
      "[252]\tvalidation_0-rmse:123.77673\tvalidation_1-rmse:308.32098\n",
      "[253]\tvalidation_0-rmse:123.20003\tvalidation_1-rmse:308.26585\n",
      "[254]\tvalidation_0-rmse:122.59442\tvalidation_1-rmse:308.27673\n",
      "[255]\tvalidation_0-rmse:122.02370\tvalidation_1-rmse:308.23362\n",
      "[256]\tvalidation_0-rmse:121.42041\tvalidation_1-rmse:308.19672\n",
      "[257]\tvalidation_0-rmse:120.86039\tvalidation_1-rmse:308.15715\n",
      "[258]\tvalidation_0-rmse:120.27191\tvalidation_1-rmse:308.17736\n",
      "[259]\tvalidation_0-rmse:119.72591\tvalidation_1-rmse:308.12409\n",
      "[260]\tvalidation_0-rmse:119.18189\tvalidation_1-rmse:308.08887\n",
      "[261]\tvalidation_0-rmse:118.60317\tvalidation_1-rmse:308.08318\n",
      "[262]\tvalidation_0-rmse:118.06922\tvalidation_1-rmse:308.03407\n",
      "[263]\tvalidation_0-rmse:117.50797\tvalidation_1-rmse:308.05014\n",
      "[264]\tvalidation_0-rmse:116.98703\tvalidation_1-rmse:308.04638\n",
      "[265]\tvalidation_0-rmse:116.45604\tvalidation_1-rmse:307.88681\n",
      "[266]\tvalidation_0-rmse:115.90811\tvalidation_1-rmse:307.92542\n",
      "[267]\tvalidation_0-rmse:115.35389\tvalidation_1-rmse:307.92709\n",
      "[268]\tvalidation_0-rmse:114.84268\tvalidation_1-rmse:307.85874\n",
      "[269]\tvalidation_0-rmse:114.24087\tvalidation_1-rmse:307.86465\n",
      "[270]\tvalidation_0-rmse:113.74241\tvalidation_1-rmse:307.86178\n",
      "[271]\tvalidation_0-rmse:113.24540\tvalidation_1-rmse:307.79800\n",
      "[272]\tvalidation_0-rmse:112.65785\tvalidation_1-rmse:307.82606\n",
      "[273]\tvalidation_0-rmse:112.16972\tvalidation_1-rmse:307.75418\n",
      "[274]\tvalidation_0-rmse:111.59231\tvalidation_1-rmse:307.77985\n",
      "[275]\tvalidation_0-rmse:111.11325\tvalidation_1-rmse:307.71087\n",
      "[276]\tvalidation_0-rmse:110.54561\tvalidation_1-rmse:307.75465\n",
      "[277]\tvalidation_0-rmse:110.07591\tvalidation_1-rmse:307.74748\n",
      "[278]\tvalidation_0-rmse:109.60982\tvalidation_1-rmse:307.69303\n",
      "[279]\tvalidation_0-rmse:109.04453\tvalidation_1-rmse:307.71573\n",
      "[280]\tvalidation_0-rmse:108.58707\tvalidation_1-rmse:307.65318\n",
      "[281]\tvalidation_0-rmse:108.04164\tvalidation_1-rmse:307.69850\n",
      "[282]\tvalidation_0-rmse:107.59133\tvalidation_1-rmse:307.70005\n",
      "[283]\tvalidation_0-rmse:107.14621\tvalidation_1-rmse:307.64083\n",
      "[284]\tvalidation_0-rmse:106.61332\tvalidation_1-rmse:307.67019\n",
      "[285]\tvalidation_0-rmse:106.18318\tvalidation_1-rmse:307.58804\n",
      "[286]\tvalidation_0-rmse:105.75746\tvalidation_1-rmse:307.50730\n",
      "[287]\tvalidation_0-rmse:105.23611\tvalidation_1-rmse:307.51877\n",
      "[288]\tvalidation_0-rmse:104.81458\tvalidation_1-rmse:307.49256\n",
      "[289]\tvalidation_0-rmse:104.40008\tvalidation_1-rmse:307.41461\n",
      "[290]\tvalidation_0-rmse:103.98987\tvalidation_1-rmse:307.33801\n",
      "[291]\tvalidation_0-rmse:103.48439\tvalidation_1-rmse:307.36817\n",
      "[292]\tvalidation_0-rmse:103.08178\tvalidation_1-rmse:307.29372\n",
      "[293]\tvalidation_0-rmse:102.57760\tvalidation_1-rmse:307.26046\n",
      "[294]\tvalidation_0-rmse:102.13768\tvalidation_1-rmse:307.29811\n",
      "[295]\tvalidation_0-rmse:101.73956\tvalidation_1-rmse:307.27509\n",
      "[296]\tvalidation_0-rmse:101.25381\tvalidation_1-rmse:307.30329\n",
      "[297]\tvalidation_0-rmse:100.86181\tvalidation_1-rmse:307.27217\n",
      "[298]\tvalidation_0-rmse:100.38378\tvalidation_1-rmse:307.27839\n",
      "[299]\tvalidation_0-rmse:99.99892\tvalidation_1-rmse:307.24820\n",
      "[300]\tvalidation_0-rmse:99.51752\tvalidation_1-rmse:307.19126\n",
      "[301]\tvalidation_0-rmse:99.10806\tvalidation_1-rmse:307.12279\n",
      "[302]\tvalidation_0-rmse:98.63723\tvalidation_1-rmse:307.17882\n",
      "[303]\tvalidation_0-rmse:98.25244\tvalidation_1-rmse:307.12301\n",
      "[304]\tvalidation_0-rmse:97.87202\tvalidation_1-rmse:307.08443\n",
      "[305]\tvalidation_0-rmse:97.49583\tvalidation_1-rmse:307.04650\n",
      "[306]\tvalidation_0-rmse:97.04672\tvalidation_1-rmse:307.08285\n",
      "[307]\tvalidation_0-rmse:96.66029\tvalidation_1-rmse:307.05379\n",
      "[308]\tvalidation_0-rmse:96.29460\tvalidation_1-rmse:307.01755\n",
      "[309]\tvalidation_0-rmse:95.91588\tvalidation_1-rmse:307.00527\n",
      "[310]\tvalidation_0-rmse:95.47944\tvalidation_1-rmse:307.01287\n",
      "[311]\tvalidation_0-rmse:95.13741\tvalidation_1-rmse:306.99925\n",
      "[312]\tvalidation_0-rmse:94.76900\tvalidation_1-rmse:306.96306\n",
      "[313]\tvalidation_0-rmse:94.33536\tvalidation_1-rmse:307.01723\n",
      "[314]\tvalidation_0-rmse:94.00234\tvalidation_1-rmse:306.96223\n",
      "[315]\tvalidation_0-rmse:93.64377\tvalidation_1-rmse:306.95234\n",
      "[316]\tvalidation_0-rmse:93.22823\tvalidation_1-rmse:306.97943\n",
      "[317]\tvalidation_0-rmse:92.90425\tvalidation_1-rmse:306.92601\n",
      "[318]\tvalidation_0-rmse:92.56760\tvalidation_1-rmse:306.92621\n",
      "[319]\tvalidation_0-rmse:92.15231\tvalidation_1-rmse:306.98038\n",
      "[320]\tvalidation_0-rmse:91.80877\tvalidation_1-rmse:306.94723\n",
      "[321]\tvalidation_0-rmse:91.49615\tvalidation_1-rmse:306.91574\n",
      "[322]\tvalidation_0-rmse:91.15917\tvalidation_1-rmse:306.90828\n",
      "[323]\tvalidation_0-rmse:90.75653\tvalidation_1-rmse:306.96253\n",
      "[324]\tvalidation_0-rmse:90.42597\tvalidation_1-rmse:306.93112\n",
      "[325]\tvalidation_0-rmse:90.02999\tvalidation_1-rmse:306.96992\n",
      "[326]\tvalidation_0-rmse:89.68598\tvalidation_1-rmse:306.91687\n",
      "[327]\tvalidation_0-rmse:89.37191\tvalidation_1-rmse:306.91821\n",
      "[328]\tvalidation_0-rmse:88.98269\tvalidation_1-rmse:306.98782\n",
      "[329]\tvalidation_0-rmse:88.68998\tvalidation_1-rmse:306.93996\n",
      "[330]\tvalidation_0-rmse:88.35701\tvalidation_1-rmse:306.88964\n",
      "[331]\tvalidation_0-rmse:88.02810\tvalidation_1-rmse:306.84073\n",
      "[332]\tvalidation_0-rmse:87.72784\tvalidation_1-rmse:306.84492\n",
      "[333]\tvalidation_0-rmse:87.34617\tvalidation_1-rmse:306.92379\n",
      "[334]\tvalidation_0-rmse:87.04848\tvalidation_1-rmse:306.98099\n",
      "[335]\tvalidation_0-rmse:86.67693\tvalidation_1-rmse:307.07091\n",
      "[336]\tvalidation_0-rmse:86.37455\tvalidation_1-rmse:307.04320\n",
      "[337]\tvalidation_0-rmse:86.05903\tvalidation_1-rmse:306.99742\n",
      "[338]\tvalidation_0-rmse:85.74738\tvalidation_1-rmse:306.95290\n",
      "[339]\tvalidation_0-rmse:85.38268\tvalidation_1-rmse:306.99586\n",
      "[340]\tvalidation_0-rmse:85.09961\tvalidation_1-rmse:307.05228\n",
      "[341]\tvalidation_0-rmse:84.74696\tvalidation_1-rmse:307.03556\n",
      "[342]\tvalidation_0-rmse:84.45834\tvalidation_1-rmse:307.00970\n",
      "[343]\tvalidation_0-rmse:84.10468\tvalidation_1-rmse:307.06663\n",
      "[344]\tvalidation_0-rmse:83.80569\tvalidation_1-rmse:307.02486\n",
      "[345]\tvalidation_0-rmse:83.45989\tvalidation_1-rmse:307.05779\n",
      "[346]\tvalidation_0-rmse:83.16612\tvalidation_1-rmse:307.01743\n",
      "[347]\tvalidation_0-rmse:82.88867\tvalidation_1-rmse:306.99305\n",
      "[348]\tvalidation_0-rmse:82.60000\tvalidation_1-rmse:306.95407\n",
      "[349]\tvalidation_0-rmse:82.26058\tvalidation_1-rmse:307.02377\n",
      "[350]\tvalidation_0-rmse:81.92932\tvalidation_1-rmse:307.00969\n",
      "[351]\tvalidation_0-rmse:81.64935\tvalidation_1-rmse:306.94924\n",
      "[352]\tvalidation_0-rmse:81.32419\tvalidation_1-rmse:306.93589\n",
      "[353]\tvalidation_0-rmse:81.05245\tvalidation_1-rmse:306.87636\n",
      "[354]\tvalidation_0-rmse:80.69480\tvalidation_1-rmse:306.83167\n",
      "[355]\tvalidation_0-rmse:80.41897\tvalidation_1-rmse:306.79527\n",
      "[356]\tvalidation_0-rmse:80.14658\tvalidation_1-rmse:306.75986\n",
      "[357]\tvalidation_0-rmse:79.83236\tvalidation_1-rmse:306.74751\n",
      "[358]\tvalidation_0-rmse:79.57083\tvalidation_1-rmse:306.69070\n",
      "[359]\tvalidation_0-rmse:79.25441\tvalidation_1-rmse:306.73935\n",
      "[360]\tvalidation_0-rmse:78.99306\tvalidation_1-rmse:306.68336\n",
      "[361]\tvalidation_0-rmse:78.73001\tvalidation_1-rmse:306.64985\n",
      "[362]\tvalidation_0-rmse:78.42153\tvalidation_1-rmse:306.73585\n",
      "[363]\tvalidation_0-rmse:78.16291\tvalidation_1-rmse:306.70350\n",
      "[364]\tvalidation_0-rmse:77.83291\tvalidation_1-rmse:306.68140\n",
      "[365]\tvalidation_0-rmse:77.58340\tvalidation_1-rmse:306.62852\n",
      "[366]\tvalidation_0-rmse:77.25912\tvalidation_1-rmse:306.57997\n",
      "[367]\tvalidation_0-rmse:76.92931\tvalidation_1-rmse:306.53909\n",
      "[368]\tvalidation_0-rmse:76.60359\tvalidation_1-rmse:306.49932\n",
      "[369]\tvalidation_0-rmse:76.35542\tvalidation_1-rmse:306.46872\n",
      "[370]\tvalidation_0-rmse:76.11830\tvalidation_1-rmse:306.41813\n",
      "[371]\tvalidation_0-rmse:75.86698\tvalidation_1-rmse:306.38906\n",
      "[372]\tvalidation_0-rmse:75.55580\tvalidation_1-rmse:306.38308\n",
      "[373]\tvalidation_0-rmse:75.24073\tvalidation_1-rmse:306.34506\n",
      "[374]\tvalidation_0-rmse:74.98594\tvalidation_1-rmse:306.36816\n",
      "[375]\tvalidation_0-rmse:74.75504\tvalidation_1-rmse:306.31993\n",
      "[376]\tvalidation_0-rmse:74.45298\tvalidation_1-rmse:306.27445\n",
      "[377]\tvalidation_0-rmse:74.14747\tvalidation_1-rmse:306.23815\n",
      "[378]\tvalidation_0-rmse:73.84581\tvalidation_1-rmse:306.20283\n",
      "[379]\tvalidation_0-rmse:73.61474\tvalidation_1-rmse:306.17499\n",
      "[380]\tvalidation_0-rmse:73.39859\tvalidation_1-rmse:306.21637\n",
      "[381]\tvalidation_0-rmse:73.17406\tvalidation_1-rmse:306.26655\n",
      "[382]\tvalidation_0-rmse:72.88440\tvalidation_1-rmse:306.22235\n",
      "[383]\tvalidation_0-rmse:72.66491\tvalidation_1-rmse:306.23151\n",
      "[384]\tvalidation_0-rmse:72.44589\tvalidation_1-rmse:306.28118\n",
      "[385]\tvalidation_0-rmse:72.15724\tvalidation_1-rmse:306.24770\n",
      "[386]\tvalidation_0-rmse:71.94320\tvalidation_1-rmse:306.25709\n",
      "[387]\tvalidation_0-rmse:71.74484\tvalidation_1-rmse:306.27208\n",
      "[388]\tvalidation_0-rmse:71.54864\tvalidation_1-rmse:306.27841\n",
      "[389]\tvalidation_0-rmse:71.27110\tvalidation_1-rmse:306.23461\n",
      "[390]\tvalidation_0-rmse:70.99204\tvalidation_1-rmse:306.19810\n",
      "[391]\tvalidation_0-rmse:70.75212\tvalidation_1-rmse:306.23904\n",
      "[392]\tvalidation_0-rmse:70.47875\tvalidation_1-rmse:306.20792\n",
      "[393]\tvalidation_0-rmse:70.20881\tvalidation_1-rmse:306.17340\n",
      "[394]\tvalidation_0-rmse:69.99018\tvalidation_1-rmse:306.14689\n",
      "[395]\tvalidation_0-rmse:69.74942\tvalidation_1-rmse:306.19430\n",
      "[396]\tvalidation_0-rmse:69.55897\tvalidation_1-rmse:306.20601\n",
      "[397]\tvalidation_0-rmse:69.35988\tvalidation_1-rmse:306.25009\n",
      "[398]\tvalidation_0-rmse:69.09824\tvalidation_1-rmse:306.20756\n",
      "[399]\tvalidation_0-rmse:68.86436\tvalidation_1-rmse:306.24684\n",
      "[400]\tvalidation_0-rmse:68.63761\tvalidation_1-rmse:306.27387\n",
      "[401]\tvalidation_0-rmse:68.45449\tvalidation_1-rmse:306.29302\n",
      "[402]\tvalidation_0-rmse:68.26277\tvalidation_1-rmse:306.33245\n",
      "[403]\tvalidation_0-rmse:68.00992\tvalidation_1-rmse:306.30376\n",
      "[404]\tvalidation_0-rmse:67.77730\tvalidation_1-rmse:306.29535\n",
      "[405]\tvalidation_0-rmse:67.55434\tvalidation_1-rmse:306.32247\n",
      "[406]\tvalidation_0-rmse:67.37286\tvalidation_1-rmse:306.35340\n",
      "[407]\tvalidation_0-rmse:67.14563\tvalidation_1-rmse:306.34544\n",
      "[408]\tvalidation_0-rmse:66.92811\tvalidation_1-rmse:306.37222\n",
      "[409]\tvalidation_0-rmse:66.75536\tvalidation_1-rmse:306.37951\n",
      "[410]\tvalidation_0-rmse:66.58510\tvalidation_1-rmse:306.39463\n",
      "[411]\tvalidation_0-rmse:66.39072\tvalidation_1-rmse:306.39269\n",
      "[412]\tvalidation_0-rmse:66.15342\tvalidation_1-rmse:306.36156\n",
      "[413]\tvalidation_0-rmse:65.91923\tvalidation_1-rmse:306.33114\n",
      "[414]\tvalidation_0-rmse:65.74614\tvalidation_1-rmse:306.30653\n",
      "[415]\tvalidation_0-rmse:65.53892\tvalidation_1-rmse:306.33481\n",
      "[416]\tvalidation_0-rmse:65.35989\tvalidation_1-rmse:306.31223\n",
      "[417]\tvalidation_0-rmse:65.11854\tvalidation_1-rmse:306.30555\n",
      "[418]\tvalidation_0-rmse:64.95130\tvalidation_1-rmse:306.34119\n",
      "[419]\tvalidation_0-rmse:64.71419\tvalidation_1-rmse:306.33514\n",
      "[420]\tvalidation_0-rmse:64.55525\tvalidation_1-rmse:306.33135\n",
      "[421]\tvalidation_0-rmse:64.38091\tvalidation_1-rmse:306.34532\n",
      "[422]\tvalidation_0-rmse:64.20891\tvalidation_1-rmse:306.35959\n",
      "[423]\tvalidation_0-rmse:64.03841\tvalidation_1-rmse:306.33545\n",
      "[424]\tvalidation_0-rmse:63.81630\tvalidation_1-rmse:306.30938\n",
      "[425]\tvalidation_0-rmse:63.64852\tvalidation_1-rmse:306.32396\n",
      "[426]\tvalidation_0-rmse:63.49631\tvalidation_1-rmse:306.33986\n",
      "[427]\tvalidation_0-rmse:63.27735\tvalidation_1-rmse:306.29543\n",
      "[428]\tvalidation_0-rmse:63.11369\tvalidation_1-rmse:306.31022\n",
      "[429]\tvalidation_0-rmse:62.93776\tvalidation_1-rmse:306.33226\n",
      "[430]\tvalidation_0-rmse:62.71859\tvalidation_1-rmse:306.27546\n",
      "[431]\tvalidation_0-rmse:62.57125\tvalidation_1-rmse:306.29056\n",
      "[432]\tvalidation_0-rmse:62.41262\tvalidation_1-rmse:306.30554\n",
      "[433]\tvalidation_0-rmse:62.20263\tvalidation_1-rmse:306.23830\n",
      "[434]\tvalidation_0-rmse:62.04443\tvalidation_1-rmse:306.19914\n",
      "[435]\tvalidation_0-rmse:61.85550\tvalidation_1-rmse:306.21292\n",
      "[436]\tvalidation_0-rmse:61.65032\tvalidation_1-rmse:306.20113\n",
      "[437]\tvalidation_0-rmse:61.44564\tvalidation_1-rmse:306.17296\n",
      "[438]\tvalidation_0-rmse:61.30551\tvalidation_1-rmse:306.15851\n",
      "[439]\tvalidation_0-rmse:61.10491\tvalidation_1-rmse:306.14715\n",
      "[440]\tvalidation_0-rmse:60.95547\tvalidation_1-rmse:306.10440\n",
      "[441]\tvalidation_0-rmse:60.81552\tvalidation_1-rmse:306.08520\n",
      "[442]\tvalidation_0-rmse:60.66829\tvalidation_1-rmse:306.10104\n",
      "[443]\tvalidation_0-rmse:60.53053\tvalidation_1-rmse:306.08202\n",
      "[444]\tvalidation_0-rmse:60.38453\tvalidation_1-rmse:306.02955\n",
      "[445]\tvalidation_0-rmse:60.23857\tvalidation_1-rmse:306.01665\n",
      "[446]\tvalidation_0-rmse:60.09630\tvalidation_1-rmse:305.97265\n",
      "[447]\tvalidation_0-rmse:59.95342\tvalidation_1-rmse:305.98830\n",
      "[448]\tvalidation_0-rmse:59.81169\tvalidation_1-rmse:305.98841\n",
      "[449]\tvalidation_0-rmse:59.61739\tvalidation_1-rmse:305.93782\n",
      "[450]\tvalidation_0-rmse:59.46388\tvalidation_1-rmse:305.86271\n",
      "[451]\tvalidation_0-rmse:59.29792\tvalidation_1-rmse:305.88019\n",
      "[452]\tvalidation_0-rmse:59.15904\tvalidation_1-rmse:305.84301\n",
      "[453]\tvalidation_0-rmse:59.01805\tvalidation_1-rmse:305.83135\n",
      "[454]\tvalidation_0-rmse:58.88109\tvalidation_1-rmse:305.84575\n",
      "[455]\tvalidation_0-rmse:58.70597\tvalidation_1-rmse:305.83924\n",
      "[456]\tvalidation_0-rmse:58.56403\tvalidation_1-rmse:305.78556\n",
      "[457]\tvalidation_0-rmse:58.42604\tvalidation_1-rmse:305.77896\n",
      "[458]\tvalidation_0-rmse:58.28618\tvalidation_1-rmse:305.74850\n",
      "[459]\tvalidation_0-rmse:58.11518\tvalidation_1-rmse:305.78357\n",
      "[460]\tvalidation_0-rmse:57.98339\tvalidation_1-rmse:305.79772\n",
      "[461]\tvalidation_0-rmse:57.84631\tvalidation_1-rmse:305.75170\n",
      "[462]\tvalidation_0-rmse:57.67909\tvalidation_1-rmse:305.78624\n",
      "[463]\tvalidation_0-rmse:57.54605\tvalidation_1-rmse:305.77402\n",
      "[464]\tvalidation_0-rmse:57.41161\tvalidation_1-rmse:305.72153\n",
      "[465]\tvalidation_0-rmse:57.28393\tvalidation_1-rmse:305.73550\n",
      "[466]\tvalidation_0-rmse:57.15161\tvalidation_1-rmse:305.70801\n",
      "[467]\tvalidation_0-rmse:56.98880\tvalidation_1-rmse:305.74500\n",
      "[468]\tvalidation_0-rmse:56.85858\tvalidation_1-rmse:305.70106\n",
      "[469]\tvalidation_0-rmse:56.73454\tvalidation_1-rmse:305.71491\n",
      "[470]\tvalidation_0-rmse:56.58828\tvalidation_1-rmse:305.73817\n",
      "[471]\tvalidation_0-rmse:56.45745\tvalidation_1-rmse:305.74046\n",
      "[472]\tvalidation_0-rmse:56.32228\tvalidation_1-rmse:305.75358\n",
      "[473]\tvalidation_0-rmse:56.19484\tvalidation_1-rmse:305.74139\n",
      "[474]\tvalidation_0-rmse:56.06877\tvalidation_1-rmse:305.71412\n",
      "[475]\tvalidation_0-rmse:55.93609\tvalidation_1-rmse:305.72753\n",
      "[476]\tvalidation_0-rmse:55.80866\tvalidation_1-rmse:305.67926\n",
      "[477]\tvalidation_0-rmse:55.68184\tvalidation_1-rmse:305.68137\n",
      "[478]\tvalidation_0-rmse:55.54832\tvalidation_1-rmse:305.64533\n",
      "[479]\tvalidation_0-rmse:55.41002\tvalidation_1-rmse:305.61982\n",
      "[480]\tvalidation_0-rmse:55.29272\tvalidation_1-rmse:305.63293\n",
      "[481]\tvalidation_0-rmse:55.17205\tvalidation_1-rmse:305.60692\n",
      "[482]\tvalidation_0-rmse:55.04990\tvalidation_1-rmse:305.59497\n",
      "[483]\tvalidation_0-rmse:54.91509\tvalidation_1-rmse:305.57013\n",
      "[484]\tvalidation_0-rmse:54.80084\tvalidation_1-rmse:305.58320\n",
      "[485]\tvalidation_0-rmse:54.64078\tvalidation_1-rmse:305.57989\n",
      "[486]\tvalidation_0-rmse:54.52850\tvalidation_1-rmse:305.59148\n",
      "[487]\tvalidation_0-rmse:54.40850\tvalidation_1-rmse:305.54441\n",
      "[488]\tvalidation_0-rmse:54.28989\tvalidation_1-rmse:305.49861\n",
      "[489]\tvalidation_0-rmse:54.18004\tvalidation_1-rmse:305.51109\n",
      "[490]\tvalidation_0-rmse:54.06323\tvalidation_1-rmse:305.46611\n",
      "[491]\tvalidation_0-rmse:53.91733\tvalidation_1-rmse:305.49654\n",
      "[492]\tvalidation_0-rmse:53.77780\tvalidation_1-rmse:305.44339\n",
      "[493]\tvalidation_0-rmse:53.67108\tvalidation_1-rmse:305.45669\n",
      "[494]\tvalidation_0-rmse:53.54399\tvalidation_1-rmse:305.43307\n",
      "[495]\tvalidation_0-rmse:53.43903\tvalidation_1-rmse:305.45383\n",
      "[496]\tvalidation_0-rmse:53.30287\tvalidation_1-rmse:305.40057\n",
      "[497]\tvalidation_0-rmse:53.19952\tvalidation_1-rmse:305.39805\n",
      "[498]\tvalidation_0-rmse:53.06552\tvalidation_1-rmse:305.34492\n",
      "[499]\tvalidation_0-rmse:52.96382\tvalidation_1-rmse:305.34810\n"
     ]
    },
    {
     "data": {
      "text/plain": [
       "XGBRegressor(base_score=0.5, booster='gbtree', callbacks=None,\n",
       "             colsample_bylevel=1, colsample_bynode=1, colsample_bytree=1,\n",
       "             early_stopping_rounds=None, enable_categorical=False,\n",
       "             eval_metric='rmse', gamma=0, gpu_id=-1, grow_policy='depthwise',\n",
       "             importance_type=None, interaction_constraints='',\n",
       "             learning_rate=0.01, max_bin=256, max_cat_to_onehot=4,\n",
       "             max_delta_step=0, max_depth=4, max_leaves=0, min_child_weight=1,\n",
       "             missing=nan, monotone_constraints='()', n_estimators=500, n_jobs=0,\n",
       "             num_parallel_tree=1, predictor='auto', random_state=0, reg_alpha=0,\n",
       "             reg_lambda=1, ...)"
      ]
     },
     "execution_count": 53,
     "metadata": {},
     "output_type": "execute_result"
    }
   ],
   "source": [
    "reg = xgb.XGBRegressor(**params)\n",
    "\n",
    "reg.fit(X_train, y_train, eval_set=eval_set)"
   ]
  },
  {
   "cell_type": "markdown",
   "metadata": {},
   "source": [
    "- Make predictions"
   ]
  },
  {
   "cell_type": "code",
   "execution_count": 63,
   "metadata": {},
   "outputs": [],
   "source": [
    "y_pred = reg.predict(X_test)"
   ]
  },
  {
   "cell_type": "markdown",
   "metadata": {},
   "source": [
    "- Obtain RMSE"
   ]
  },
  {
   "cell_type": "code",
   "execution_count": 66,
   "metadata": {},
   "outputs": [
    {
     "data": {
      "text/plain": [
       "305.34809490903564"
      ]
     },
     "execution_count": 66,
     "metadata": {},
     "output_type": "execute_result"
    }
   ],
   "source": [
    "mean_squared_error(y_test, y_pred, squared = False)"
   ]
  },
  {
   "cell_type": "markdown",
   "metadata": {},
   "source": [
    "- Save te model"
   ]
  },
  {
   "cell_type": "code",
   "execution_count": 65,
   "metadata": {},
   "outputs": [],
   "source": [
    "# Save model into JSON format.\n",
    "reg.save_model(\"regressor.json\")"
   ]
  },
  {
   "cell_type": "markdown",
   "metadata": {},
   "source": [
    "### Plot training test deviance"
   ]
  },
  {
   "cell_type": "markdown",
   "metadata": {},
   "source": [
    "\n",
    "- Obtain evaluation metrics"
   ]
  },
  {
   "cell_type": "code",
   "execution_count": 57,
   "metadata": {},
   "outputs": [],
   "source": [
    "results = reg.evals_result()"
   ]
  },
  {
   "cell_type": "code",
   "execution_count": null,
   "metadata": {},
   "outputs": [],
   "source": [
    "- Plot "
   ]
  },
  {
   "cell_type": "code",
   "execution_count": 58,
   "metadata": {},
   "outputs": [
    {
     "data": {
      "image/png": "[encoded data removed]",
      "text/plain": [
       "<Figure size 432x288 with 1 Axes>"
      ]
     },
     "metadata": {
      "needs_background": "light"
     },
     "output_type": "display_data"
    }
   ],
   "source": [
    "# Prepare x-axis\n",
    "epochs = len(results['validation_0']['rmse'])\n",
    "x_axis = range(0, epochs)\n",
    "\n",
    "# Make plot\n",
    "fig, ax = plt.subplots()\n",
    "\n",
    "ax.plot(x_axis, results['validation_0']['rmse'], label='Train')\n",
    "ax.plot(x_axis, results['validation_1']['rmse'], label='Test')\n",
    "#ax.legend()\n",
    "\n",
    "plt.title('XGBoost RMSE')\n",
    "plt.xlabel(\"Boosting Iterations\")\n",
    "plt.ylabel(\"RMSE Deviance\")\n",
    "plt.legend(loc=\"upper right\");\n"
   ]
  },
  {
   "cell_type": "markdown",
   "metadata": {},
   "source": [
    "## Feature importance\n",
    "\n",
    "- Next, we take a look at the tree based feature importance and the permutation importance.\n",
    "\n",
    "### Mean decrease in impurity (MDI)\n",
    "\n",
    "- Mean decrease in impurity (MDI) is a measure of feature importance for decision tree models.\n",
    "\n",
    "- They are computed as the mean and standard deviation of accumulation of the impurity decrease within each tree.\n",
    "\n",
    "- Note that impurity-based importances are computed on training set statistics and therefore do not reflect the ability of feature to be useful to make predictions that generalize to the test set (when the model has enough capacity).\n",
    "\n",
    "- Also note that impurity-based importances are biased towards high cardinality features (i.e., features with many unique values). See Permutation feature importance as an alternative below."
   ]
  },
  {
   "cell_type": "markdown",
   "metadata": {},
   "source": [
    "- Feature importances are provided by the function `plot_importance` "
   ]
  },
  {
   "cell_type": "code",
   "execution_count": 59,
   "metadata": {},
   "outputs": [
    {
     "data": {
      "image/png": "[encoded data removed]",
      "text/plain": [
       "<Figure size 432x288 with 1 Axes>"
      ]
     },
     "metadata": {
      "needs_background": "light"
     },
     "output_type": "display_data"
    }
   ],
   "source": [
    "xgb.plot_importance(reg);"
   ]
  },
  {
   "cell_type": "markdown",
   "metadata": {},
   "source": [
    "\n",
    "\n",
    "#### Permutation feature importance\n",
    "\n",
    "- Permutation feature importance overcomes limitations of the impurity-based feature importance ([scikit learn](https://scikit-learn.org/stable/auto_examples/ensemble/plot_forest_importances.html)): \n",
    "  - they do not have a bias toward high-cardinality features\n",
    "  - they can be computed on a left-out test set.\n",
    "\n",
    "It is a model inspection technique that can be used for any fitted estimator when the data is tabular (see [scikit learn](https://scikit-learn.org/stable/modules/permutation_importance.html#permutation-importance) for more details):\n",
    "\n",
    "- The permutation feature importance is defined to be the decrease in a model score when a single feature value is randomly shuffled. \n",
    "- This procedure breaks the relationship between the feature and the target, thus the drop in the model score is indicative of how much the model depends on the feature. \n",
    "- This technique benefits from being model agnostic and can be calculated many times with different permutations of the feature.\n",
    "- The permutation importance is calculated on the training set to show how much the model relies on each feature during training."
   ]
  },
  {
   "cell_type": "markdown",
   "metadata": {},
   "source": [
    "- Features are shuffled n times and the model refitted to estimate the importance of it. "
   ]
  },
  {
   "cell_type": "markdown",
   "metadata": {},
   "source": [
    "\n",
    "Note however that when two features are correlated and one of the features is permuted, the model will still have access to the feature through its correlated feature. This will result in a lower importance value for both features, where they might actually be important. One way to handle this is to cluster features that are correlated and only keep one feature from each cluster. This strategy is explored in this example: [Permutation Importance with Multicollinear or Correlated Features](https://scikit-learn.org/stable/auto_examples/inspection/plot_permutation_importance_multicollinear.html#handling-multicollinear-features)."
   ]
  },
  {
   "cell_type": "code",
   "execution_count": 60,
   "metadata": {},
   "outputs": [],
   "source": [
    "result = permutation_importance(\n",
    "    reg, X_test, y_test, n_repeats=10, random_state=42, n_jobs=2\n",
    ")\n",
    "\n",
    "tree_importances = pd.Series(result.importances_mean, index=feature_names)"
   ]
  },
  {
   "cell_type": "code",
   "execution_count": 61,
   "metadata": {},
   "outputs": [
    {
     "data": {
      "image/png": "[encoded data removed]",
      "text/plain": [
       "<Figure size 432x288 with 1 Axes>"
      ]
     },
     "metadata": {
      "needs_background": "light"
     },
     "output_type": "display_data"
    }
   ],
   "source": [
    "# sort features according to importance\n",
    "sorted_idx = np.argsort(tree_importances)\n",
    "pos = np.arange(sorted_idx.shape[0])\n",
    "\n",
    "# plot feature importances\n",
    "plt.barh(pos, tree_importances[sorted_idx], align=\"center\")\n",
    "\n",
    "plt.yticks(pos, np.array(feature_names)[sorted_idx])\n",
    "plt.title(\"Feature Importance (MDI)\")\n",
    "plt.xlabel(\"Mean decrease in impurity\");"
   ]
  },
  {
   "cell_type": "markdown",
   "metadata": {},
   "source": [
    "- Same data plotted as boxplot:"
   ]
  },
  {
   "cell_type": "code",
   "execution_count": 62,
   "metadata": {},
   "outputs": [
    {
     "data": {
      "image/png": "[encoded data removed]",
      "text/plain": [
       "<Figure size 432x288 with 1 Axes>"
      ]
     },
     "metadata": {
      "needs_background": "light"
     },
     "output_type": "display_data"
    }
   ],
   "source": [
    "plt.boxplot(\n",
    "    result.importances[sorted_idx].T,\n",
    "    vert=False,\n",
    "    labels=np.array(feature_names)[sorted_idx],\n",
    ")\n",
    "\n",
    "plt.title(\"Permutation Importance (test set)\")\n",
    "plt.show()"
   ]
  },
  {
   "cell_type": "markdown",
   "metadata": {},
   "source": [
    "- We observe that the same features are detected as most important using both methods. Although the relative importances vary (especially for feature `Years`)."
   ]
  }
 ],
 "metadata": {
  "interpreter": {
   "hash": "463226f144cc21b006ce6927bfc93dd00694e52c8bc6857abb6e555b983749e9"
  },
  "kernelspec": {
   "display_name": "Python 3.7.11 64-bit ('base': conda)",
   "language": "python",
   "name": "python3"
  },
  "language_info": {
   "codemirror_mode": {
    "name": "ipython",
    "version": 3
   },
   "file_extension": ".py",
   "mimetype": "text/x-python",
   "name": "python",
   "nbconvert_exporter": "python",
   "pygments_lexer": "ipython3",
   "version": "3.9.12"
  },
  "orig_nbformat": 4
 },
 "nbformat": 4,
 "nbformat_minor": 2
}
