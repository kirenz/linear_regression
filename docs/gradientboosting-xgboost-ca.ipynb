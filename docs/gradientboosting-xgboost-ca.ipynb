{
 "cells": [
  {
   "cell_type": "markdown",
   "metadata": {},
   "source": [
    "# XGBoost regression"
   ]
  },
  {
   "cell_type": "markdown",
   "metadata": {},
   "source": [
    "## Setup"
   ]
  },
  {
   "cell_type": "code",
   "execution_count": 1,
   "metadata": {},
   "outputs": [
    {
     "name": "stdout",
     "output_type": "stream",
     "text": [
      "XGB Version: 1.5.0\n"
     ]
    }
   ],
   "source": [
    "%matplotlib inline\n",
    "\n",
    "import warnings\n",
    "warnings.simplefilter(action='ignore', category=FutureWarning)\n",
    "\n",
    "import numpy as np\n",
    "import pandas as pd\n",
    "import matplotlib.pyplot as plt\n",
    "\n",
    "import xgboost as xgb\n",
    "print(\"XGB Version:\", xgb.__version__)\n",
    "\n",
    "from sklearn import datasets\n",
    "from sklearn.model_selection import train_test_split\n",
    "from sklearn.metrics import mean_squared_error\n",
    "from sklearn.inspection import permutation_importance\n",
    "from sklearn.model_selection import GridSearchCV"
   ]
  },
  {
   "cell_type": "markdown",
   "metadata": {},
   "source": [
    "## Data\n",
    "\n",
    "We use data drawn from the 1990 U.S. Census (see this [data description](https://developers.google.com/machine-learning/crash-course/california-housing-data-description) for more information)."
   ]
  },
  {
   "cell_type": "markdown",
   "metadata": {},
   "source": [
    "### Data import"
   ]
  },
  {
   "cell_type": "code",
   "execution_count": 2,
   "metadata": {},
   "outputs": [],
   "source": [
    "X, y = datasets.fetch_california_housing(return_X_y=True, as_frame=True) \n",
    "\n",
    "feature_names = X.columns"
   ]
  },
  {
   "cell_type": "code",
   "execution_count": 26,
   "metadata": {},
   "outputs": [
    {
     "name": "stdout",
     "output_type": "stream",
     "text": [
      "<class 'pandas.core.frame.DataFrame'>\n",
      "RangeIndex: 20640 entries, 0 to 20639\n",
      "Data columns (total 8 columns):\n",
      " #   Column      Non-Null Count  Dtype  \n",
      "---  ------      --------------  -----  \n",
      " 0   MedInc      20640 non-null  float64\n",
      " 1   HouseAge    20640 non-null  float64\n",
      " 2   AveRooms    20640 non-null  float64\n",
      " 3   AveBedrms   20640 non-null  float64\n",
      " 4   Population  20640 non-null  float64\n",
      " 5   AveOccup    20640 non-null  float64\n",
      " 6   Latitude    20640 non-null  float64\n",
      " 7   Longitude   20640 non-null  float64\n",
      "dtypes: float64(8)\n",
      "memory usage: 1.3 MB\n"
     ]
    }
   ],
   "source": [
    "X.info()\n"
   ]
  },
  {
   "cell_type": "code",
   "execution_count": 27,
   "metadata": {},
   "outputs": [
    {
     "data": {
      "text/html": [
       "<div>\n",
       "<style scoped>\n",
       "    .dataframe tbody tr th:only-of-type {\n",
       "        vertical-align: middle;\n",
       "    }\n",
       "\n",
       "    .dataframe tbody tr th {\n",
       "        vertical-align: top;\n",
       "    }\n",
       "\n",
       "    .dataframe thead th {\n",
       "        text-align: right;\n",
       "    }\n",
       "</style>\n",
       "<table border=\"1\" class=\"dataframe\">\n",
       "  <thead>\n",
       "    <tr style=\"text-align: right;\">\n",
       "      <th></th>\n",
       "      <th>count</th>\n",
       "      <th>mean</th>\n",
       "      <th>std</th>\n",
       "      <th>min</th>\n",
       "      <th>25%</th>\n",
       "      <th>50%</th>\n",
       "      <th>75%</th>\n",
       "      <th>max</th>\n",
       "    </tr>\n",
       "  </thead>\n",
       "  <tbody>\n",
       "    <tr>\n",
       "      <th>MedInc</th>\n",
       "      <td>20640.0</td>\n",
       "      <td>3.870671</td>\n",
       "      <td>1.899822</td>\n",
       "      <td>0.499900</td>\n",
       "      <td>2.563400</td>\n",
       "      <td>3.534800</td>\n",
       "      <td>4.743250</td>\n",
       "      <td>15.000100</td>\n",
       "    </tr>\n",
       "    <tr>\n",
       "      <th>HouseAge</th>\n",
       "      <td>20640.0</td>\n",
       "      <td>28.639486</td>\n",
       "      <td>12.585558</td>\n",
       "      <td>1.000000</td>\n",
       "      <td>18.000000</td>\n",
       "      <td>29.000000</td>\n",
       "      <td>37.000000</td>\n",
       "      <td>52.000000</td>\n",
       "    </tr>\n",
       "    <tr>\n",
       "      <th>AveRooms</th>\n",
       "      <td>20640.0</td>\n",
       "      <td>5.429000</td>\n",
       "      <td>2.474173</td>\n",
       "      <td>0.846154</td>\n",
       "      <td>4.440716</td>\n",
       "      <td>5.229129</td>\n",
       "      <td>6.052381</td>\n",
       "      <td>141.909091</td>\n",
       "    </tr>\n",
       "    <tr>\n",
       "      <th>AveBedrms</th>\n",
       "      <td>20640.0</td>\n",
       "      <td>1.096675</td>\n",
       "      <td>0.473911</td>\n",
       "      <td>0.333333</td>\n",
       "      <td>1.006079</td>\n",
       "      <td>1.048780</td>\n",
       "      <td>1.099526</td>\n",
       "      <td>34.066667</td>\n",
       "    </tr>\n",
       "    <tr>\n",
       "      <th>Population</th>\n",
       "      <td>20640.0</td>\n",
       "      <td>1425.476744</td>\n",
       "      <td>1132.462122</td>\n",
       "      <td>3.000000</td>\n",
       "      <td>787.000000</td>\n",
       "      <td>1166.000000</td>\n",
       "      <td>1725.000000</td>\n",
       "      <td>35682.000000</td>\n",
       "    </tr>\n",
       "    <tr>\n",
       "      <th>AveOccup</th>\n",
       "      <td>20640.0</td>\n",
       "      <td>3.070655</td>\n",
       "      <td>10.386050</td>\n",
       "      <td>0.692308</td>\n",
       "      <td>2.429741</td>\n",
       "      <td>2.818116</td>\n",
       "      <td>3.282261</td>\n",
       "      <td>1243.333333</td>\n",
       "    </tr>\n",
       "    <tr>\n",
       "      <th>Latitude</th>\n",
       "      <td>20640.0</td>\n",
       "      <td>35.631861</td>\n",
       "      <td>2.135952</td>\n",
       "      <td>32.540000</td>\n",
       "      <td>33.930000</td>\n",
       "      <td>34.260000</td>\n",
       "      <td>37.710000</td>\n",
       "      <td>41.950000</td>\n",
       "    </tr>\n",
       "    <tr>\n",
       "      <th>Longitude</th>\n",
       "      <td>20640.0</td>\n",
       "      <td>-119.569704</td>\n",
       "      <td>2.003532</td>\n",
       "      <td>-124.350000</td>\n",
       "      <td>-121.800000</td>\n",
       "      <td>-118.490000</td>\n",
       "      <td>-118.010000</td>\n",
       "      <td>-114.310000</td>\n",
       "    </tr>\n",
       "  </tbody>\n",
       "</table>\n",
       "</div>"
      ],
      "text/plain": [
       "              count         mean          std         min         25%  \\\n",
       "MedInc      20640.0     3.870671     1.899822    0.499900    2.563400   \n",
       "HouseAge    20640.0    28.639486    12.585558    1.000000   18.000000   \n",
       "AveRooms    20640.0     5.429000     2.474173    0.846154    4.440716   \n",
       "AveBedrms   20640.0     1.096675     0.473911    0.333333    1.006079   \n",
       "Population  20640.0  1425.476744  1132.462122    3.000000  787.000000   \n",
       "AveOccup    20640.0     3.070655    10.386050    0.692308    2.429741   \n",
       "Latitude    20640.0    35.631861     2.135952   32.540000   33.930000   \n",
       "Longitude   20640.0  -119.569704     2.003532 -124.350000 -121.800000   \n",
       "\n",
       "                    50%          75%           max  \n",
       "MedInc         3.534800     4.743250     15.000100  \n",
       "HouseAge      29.000000    37.000000     52.000000  \n",
       "AveRooms       5.229129     6.052381    141.909091  \n",
       "AveBedrms      1.048780     1.099526     34.066667  \n",
       "Population  1166.000000  1725.000000  35682.000000  \n",
       "AveOccup       2.818116     3.282261   1243.333333  \n",
       "Latitude      34.260000    37.710000     41.950000  \n",
       "Longitude   -118.490000  -118.010000   -114.310000  "
      ]
     },
     "execution_count": 27,
     "metadata": {},
     "output_type": "execute_result"
    }
   ],
   "source": [
    "X.describe().T"
   ]
  },
  {
   "cell_type": "markdown",
   "metadata": {},
   "source": [
    "### Data splitting"
   ]
  },
  {
   "cell_type": "code",
   "execution_count": 4,
   "metadata": {},
   "outputs": [],
   "source": [
    "X_train, X_test, y_train, y_test = train_test_split(X, y, test_size=0.1, random_state=0)"
   ]
  },
  {
   "cell_type": "markdown",
   "metadata": {},
   "source": [
    "## Model"
   ]
  },
  {
   "cell_type": "markdown",
   "metadata": {},
   "source": [
    "It's also worth mentioning that though you are using trees as your base learners, you can also use XGBoost's relatively less popular linear base learners and one other tree learner known as dart. All you have to do is set the booster parameter to either gbtree (default),gblinear or dart.\n"
   ]
  },
  {
   "cell_type": "markdown",
   "metadata": {},
   "source": [
    "### Hyperparameters"
   ]
  },
  {
   "cell_type": "markdown",
   "metadata": {},
   "source": [
    "XGBoost provides many hyperparameters but we will only consider a few of them (see the [XGBoost documentation](https://xgboost.readthedocs.io/en/latest/parameter.html#general-parameters) for an complete overview). Note that we will use the [scikit-learn wrapper interface](https://xgboost.readthedocs.io/en/latest/python/python_api.html#module-xgboost.sklearn):\n",
    "\n",
    "\n",
    "- `objective`: determines the loss function to be used like `reg:squarederror` for regression problems, `binary:logistic` for logistic regression for binary classification or `multi:softmax`  to do multiclass classification using the softmax objectiv (note that there are more options).\n",
    "\n",
    "\n",
    "- `n_estimators`: Number of gradient boosted trees. Equivalent to number of boosting rounds.\n",
    "\n",
    "\n",
    "- `max_depth`: Maximum tree depth for base learners.\n",
    "\n",
    "\n",
    "- `learning_rate`: Boosting learning rate (xgb’s “eta”). Range is [0,1]\n",
    "\n",
    "\n",
    "- `subsample`: Subsample ratio of the training instance. Setting it to 0.5 means that XGBoost would randomly sample half of the training data prior to growing trees. \n",
    "\n",
    "\n",
    "- `colsample_bytree`: Subsample ratio of columns when constructing each tree. Subsampling occurs once for every tree constructed.\n",
    "\n",
    "\n",
    "- `colsample_bylevel`: Subsample ratio of columns for each level. Subsampling occurs once for every new depth level reached in a tree. Columns are subsampled from the set of columns chosen for the current tree.\n",
    "\n",
    "\n",
    "- `gamma`: Minimum loss reduction required to make a further partition on a leaf node of the tree. A higher value leads to fewer splits. \n",
    "\n",
    "\n",
    "- `reg_alpha`: L1 regularization term on weights (xgb’s alpha). A large value leads to more regularization.\n",
    "\n",
    "\n",
    "- `reg_lambda`: L2 regularization term on weights (xgb’s lambda).\n",
    "\n",
    "- `eval_metric` (default is according to objective). Evaluation metrics for validation data, a default metric will be assigned according to objective (`rmse` for regression, and `logloss` for classificationestimator\n",
    ").\n",
    "\n",
    "\n",
    "- `random_state`: Random number seed.\n",
    "\n",
    "- `early_stopping_rounds`: If you have a validation set, you can use early stopping to find the optimal number of boosting rounds. Early stopping requires at least one set in evals. If there’s more than one, it will use the last. Note that we include this parameter in our fit function.\n"
   ]
  },
  {
   "cell_type": "markdown",
   "metadata": {},
   "source": [
    "- Define hyperparameters"
   ]
  },
  {
   "cell_type": "code",
   "execution_count": 81,
   "metadata": {},
   "outputs": [],
   "source": [
    "params = {\n",
    "    \"objective\": \"reg:squarederror\",\n",
    "    \"n_estimators\":10,\n",
    "    \"max_depth\": 4,\n",
    "    \"learning_rate\": 0.01,\n",
    "    \"subsample\": 0.8,\n",
    "    \"colsample_bytree\": 0.9,\n",
    "    \"colsample_bylevel\": 0.8,\n",
    "    \"reg_lambda\": 0.1,\n",
    "    \"eval_metric\": \"rmse\",\n",
    "    \"random_state\": 42,\n",
    "}"
   ]
  },
  {
   "cell_type": "markdown",
   "metadata": {},
   "source": [
    "### Evaluation set"
   ]
  },
  {
   "cell_type": "markdown",
   "metadata": {},
   "source": [
    "- Prepare evaluation data:\n",
    "  - If there’s more than one item in `eval_set`, the last entry will be used for early stopping.\n",
    "  - If we want to plot the learning curves for both training and test data, we need to provide both training and test data as eval_set"
   ]
  },
  {
   "cell_type": "code",
   "execution_count": 15,
   "metadata": {},
   "outputs": [],
   "source": [
    "eval_set = [(X_train, y_train), (X_test, y_test)]"
   ]
  },
  {
   "cell_type": "markdown",
   "metadata": {},
   "source": [
    "### Fit model"
   ]
  },
  {
   "cell_type": "code",
   "execution_count": 79,
   "metadata": {},
   "outputs": [],
   "source": [
    "reg = xgb.XGBRegressor(**params)"
   ]
  },
  {
   "cell_type": "code",
   "execution_count": 80,
   "metadata": {},
   "outputs": [
    {
     "name": "stdout",
     "output_type": "stream",
     "text": [
      "[16:25:53] WARNING: ../src/learner.cc:576: \n",
      "Parameters: { \"num_boost_round\" } might not be used.\n",
      "\n",
      "  This could be a false alarm, with some parameters getting used by language bindings but\n",
      "  then being mistakenly passed down to XGBoost core, or some parameter actually being used\n",
      "  but getting flagged wrongly here. Please open an issue if you find any such cases.\n",
      "\n",
      "\n",
      "[0]\tvalidation_0-rmse:1.93048\tvalidation_1-rmse:1.93384\n",
      "[1]\tvalidation_0-rmse:1.91447\tvalidation_1-rmse:1.91806\n",
      "[2]\tvalidation_0-rmse:1.89835\tvalidation_1-rmse:1.90210\n",
      "[3]\tvalidation_0-rmse:1.88263\tvalidation_1-rmse:1.88655\n",
      "[4]\tvalidation_0-rmse:1.86680\tvalidation_1-rmse:1.87087\n",
      "[5]\tvalidation_0-rmse:1.85118\tvalidation_1-rmse:1.85546\n",
      "[6]\tvalidation_0-rmse:1.83595\tvalidation_1-rmse:1.84029\n",
      "[7]\tvalidation_0-rmse:1.82082\tvalidation_1-rmse:1.82521\n",
      "[8]\tvalidation_0-rmse:1.80580\tvalidation_1-rmse:1.81026\n",
      "[9]\tvalidation_0-rmse:1.79095\tvalidation_1-rmse:1.79555\n",
      "[10]\tvalidation_0-rmse:1.77636\tvalidation_1-rmse:1.78108\n",
      "[11]\tvalidation_0-rmse:1.76202\tvalidation_1-rmse:1.76700\n",
      "[12]\tvalidation_0-rmse:1.74736\tvalidation_1-rmse:1.75246\n",
      "[13]\tvalidation_0-rmse:1.73323\tvalidation_1-rmse:1.73846\n",
      "[14]\tvalidation_0-rmse:1.71923\tvalidation_1-rmse:1.72450\n",
      "[15]\tvalidation_0-rmse:1.70513\tvalidation_1-rmse:1.71050\n",
      "[16]\tvalidation_0-rmse:1.69123\tvalidation_1-rmse:1.69668\n",
      "[17]\tvalidation_0-rmse:1.67756\tvalidation_1-rmse:1.68306\n",
      "[18]\tvalidation_0-rmse:1.66502\tvalidation_1-rmse:1.67074\n",
      "[19]\tvalidation_0-rmse:1.65172\tvalidation_1-rmse:1.65752\n",
      "[20]\tvalidation_0-rmse:1.63842\tvalidation_1-rmse:1.64431\n",
      "[21]\tvalidation_0-rmse:1.62543\tvalidation_1-rmse:1.63137\n",
      "[22]\tvalidation_0-rmse:1.61299\tvalidation_1-rmse:1.61907\n",
      "[23]\tvalidation_0-rmse:1.60025\tvalidation_1-rmse:1.60646\n",
      "[24]\tvalidation_0-rmse:1.58807\tvalidation_1-rmse:1.59432\n",
      "[25]\tvalidation_0-rmse:1.57543\tvalidation_1-rmse:1.58181\n",
      "[26]\tvalidation_0-rmse:1.56304\tvalidation_1-rmse:1.56954\n",
      "[27]\tvalidation_0-rmse:1.55095\tvalidation_1-rmse:1.55762\n",
      "[28]\tvalidation_0-rmse:1.53884\tvalidation_1-rmse:1.54561\n",
      "[29]\tvalidation_0-rmse:1.52723\tvalidation_1-rmse:1.53409\n",
      "[30]\tvalidation_0-rmse:1.51563\tvalidation_1-rmse:1.52249\n",
      "[31]\tvalidation_0-rmse:1.50494\tvalidation_1-rmse:1.51199\n",
      "[32]\tvalidation_0-rmse:1.49339\tvalidation_1-rmse:1.50053\n",
      "[33]\tvalidation_0-rmse:1.48205\tvalidation_1-rmse:1.48937\n",
      "[34]\tvalidation_0-rmse:1.47081\tvalidation_1-rmse:1.47825\n",
      "[35]\tvalidation_0-rmse:1.45963\tvalidation_1-rmse:1.46719\n",
      "[36]\tvalidation_0-rmse:1.44866\tvalidation_1-rmse:1.45636\n",
      "[37]\tvalidation_0-rmse:1.43760\tvalidation_1-rmse:1.44551\n",
      "[38]\tvalidation_0-rmse:1.42694\tvalidation_1-rmse:1.43506\n",
      "[39]\tvalidation_0-rmse:1.41620\tvalidation_1-rmse:1.42453\n",
      "[40]\tvalidation_0-rmse:1.40553\tvalidation_1-rmse:1.41394\n",
      "[41]\tvalidation_0-rmse:1.39526\tvalidation_1-rmse:1.40389\n",
      "[42]\tvalidation_0-rmse:1.38525\tvalidation_1-rmse:1.39399\n",
      "[43]\tvalidation_0-rmse:1.37511\tvalidation_1-rmse:1.38403\n",
      "[44]\tvalidation_0-rmse:1.36491\tvalidation_1-rmse:1.37391\n",
      "[45]\tvalidation_0-rmse:1.35489\tvalidation_1-rmse:1.36405\n",
      "[46]\tvalidation_0-rmse:1.34504\tvalidation_1-rmse:1.35421\n",
      "[47]\tvalidation_0-rmse:1.33529\tvalidation_1-rmse:1.34457\n",
      "[48]\tvalidation_0-rmse:1.32567\tvalidation_1-rmse:1.33517\n",
      "[49]\tvalidation_0-rmse:1.31654\tvalidation_1-rmse:1.32614\n",
      "[50]\tvalidation_0-rmse:1.30778\tvalidation_1-rmse:1.31749\n",
      "[51]\tvalidation_0-rmse:1.29843\tvalidation_1-rmse:1.30826\n",
      "[52]\tvalidation_0-rmse:1.28974\tvalidation_1-rmse:1.29973\n",
      "[53]\tvalidation_0-rmse:1.28067\tvalidation_1-rmse:1.29085\n",
      "[54]\tvalidation_0-rmse:1.27158\tvalidation_1-rmse:1.28184\n",
      "[55]\tvalidation_0-rmse:1.26271\tvalidation_1-rmse:1.27318\n",
      "[56]\tvalidation_0-rmse:1.25456\tvalidation_1-rmse:1.26528\n",
      "[57]\tvalidation_0-rmse:1.24586\tvalidation_1-rmse:1.25667\n",
      "[58]\tvalidation_0-rmse:1.23739\tvalidation_1-rmse:1.24832\n",
      "[59]\tvalidation_0-rmse:1.22964\tvalidation_1-rmse:1.24081\n",
      "[60]\tvalidation_0-rmse:1.22119\tvalidation_1-rmse:1.23246\n",
      "[61]\tvalidation_0-rmse:1.21291\tvalidation_1-rmse:1.22422\n",
      "[62]\tvalidation_0-rmse:1.20540\tvalidation_1-rmse:1.21691\n",
      "[63]\tvalidation_0-rmse:1.19726\tvalidation_1-rmse:1.20889\n",
      "[64]\tvalidation_0-rmse:1.18909\tvalidation_1-rmse:1.20084\n",
      "[65]\tvalidation_0-rmse:1.18114\tvalidation_1-rmse:1.19304\n",
      "[66]\tvalidation_0-rmse:1.17324\tvalidation_1-rmse:1.18530\n",
      "[67]\tvalidation_0-rmse:1.16542\tvalidation_1-rmse:1.17757\n",
      "[68]\tvalidation_0-rmse:1.15770\tvalidation_1-rmse:1.17003\n",
      "[69]\tvalidation_0-rmse:1.15037\tvalidation_1-rmse:1.16288\n",
      "[70]\tvalidation_0-rmse:1.14287\tvalidation_1-rmse:1.15549\n",
      "[71]\tvalidation_0-rmse:1.13552\tvalidation_1-rmse:1.14826\n",
      "[72]\tvalidation_0-rmse:1.12832\tvalidation_1-rmse:1.14125\n",
      "[73]\tvalidation_0-rmse:1.12095\tvalidation_1-rmse:1.13404\n",
      "[74]\tvalidation_0-rmse:1.11387\tvalidation_1-rmse:1.12712\n",
      "[75]\tvalidation_0-rmse:1.10684\tvalidation_1-rmse:1.12021\n",
      "[76]\tvalidation_0-rmse:1.09997\tvalidation_1-rmse:1.11346\n",
      "[77]\tvalidation_0-rmse:1.09317\tvalidation_1-rmse:1.10683\n",
      "[78]\tvalidation_0-rmse:1.08641\tvalidation_1-rmse:1.10024\n",
      "[79]\tvalidation_0-rmse:1.07994\tvalidation_1-rmse:1.09391\n",
      "[80]\tvalidation_0-rmse:1.07335\tvalidation_1-rmse:1.08747\n",
      "[81]\tvalidation_0-rmse:1.06679\tvalidation_1-rmse:1.08098\n",
      "[82]\tvalidation_0-rmse:1.06040\tvalidation_1-rmse:1.07474\n",
      "[83]\tvalidation_0-rmse:1.05405\tvalidation_1-rmse:1.06851\n",
      "[84]\tvalidation_0-rmse:1.04792\tvalidation_1-rmse:1.06245\n",
      "[85]\tvalidation_0-rmse:1.04170\tvalidation_1-rmse:1.05632\n",
      "[86]\tvalidation_0-rmse:1.03543\tvalidation_1-rmse:1.05018\n",
      "[87]\tvalidation_0-rmse:1.02935\tvalidation_1-rmse:1.04415\n",
      "[88]\tvalidation_0-rmse:1.02334\tvalidation_1-rmse:1.03822\n",
      "[89]\tvalidation_0-rmse:1.01745\tvalidation_1-rmse:1.03247\n",
      "[90]\tvalidation_0-rmse:1.01171\tvalidation_1-rmse:1.02685\n",
      "[91]\tvalidation_0-rmse:1.00596\tvalidation_1-rmse:1.02115\n",
      "[92]\tvalidation_0-rmse:1.00032\tvalidation_1-rmse:1.01567\n",
      "[93]\tvalidation_0-rmse:0.99477\tvalidation_1-rmse:1.01022\n",
      "[94]\tvalidation_0-rmse:0.98911\tvalidation_1-rmse:1.00477\n",
      "[95]\tvalidation_0-rmse:0.98365\tvalidation_1-rmse:0.99943\n",
      "[96]\tvalidation_0-rmse:0.97832\tvalidation_1-rmse:0.99428\n",
      "[97]\tvalidation_0-rmse:0.97305\tvalidation_1-rmse:0.98908\n",
      "[98]\tvalidation_0-rmse:0.96755\tvalidation_1-rmse:0.98368\n",
      "[99]\tvalidation_0-rmse:0.96235\tvalidation_1-rmse:0.97862\n"
     ]
    },
    {
     "data": {
      "text/plain": [
       "XGBRegressor(base_score=0.5, booster='gbtree', colsample_bylevel=0.8,\n",
       "             colsample_bynode=1, colsample_bytree=0.9, enable_categorical=False,\n",
       "             eval_metric='rmse', gamma=0, gpu_id=-1, importance_type=None,\n",
       "             interaction_constraints='', learning_rate=0.01, max_delta_step=0,\n",
       "             max_depth=4, min_child_weight=1, missing=nan,\n",
       "             monotone_constraints='()', n_estimators=100, n_jobs=10,\n",
       "             num_boost_round=10, num_parallel_tree=1, predictor='auto',\n",
       "             random_state=42, reg_alpha=0, reg_lambda=0.1, scale_pos_weight=1,\n",
       "             subsample=0.8, tree_method='exact', validate_parameters=1,\n",
       "             verbosity=None)"
      ]
     },
     "execution_count": 80,
     "metadata": {},
     "output_type": "execute_result"
    }
   ],
   "source": [
    "reg.fit(X_train, \n",
    "        y_train, \n",
    "        verbose=True,\n",
    "        eval_set= eval_set,\n",
    "        early_stopping_rounds= 5\n",
    "        )"
   ]
  },
  {
   "cell_type": "markdown",
   "metadata": {},
   "source": [
    "### Evaluation"
   ]
  },
  {
   "cell_type": "code",
   "execution_count": 56,
   "metadata": {},
   "outputs": [
    {
     "data": {
      "text/plain": [
       "{'validation_0': OrderedDict([('rmse',\n",
       "               [1.930481,\n",
       "                1.914465,\n",
       "                1.898349,\n",
       "                1.882632,\n",
       "                1.866801,\n",
       "                1.851181,\n",
       "                1.835948,\n",
       "                1.820825,\n",
       "                1.805799,\n",
       "                1.790947])]),\n",
       " 'validation_1': OrderedDict([('rmse',\n",
       "               [1.933837,\n",
       "                1.918065,\n",
       "                1.902101,\n",
       "                1.886554,\n",
       "                1.870871,\n",
       "                1.855461,\n",
       "                1.840294,\n",
       "                1.825211,\n",
       "                1.810264,\n",
       "                1.795553])])}"
      ]
     },
     "execution_count": 56,
     "metadata": {},
     "output_type": "execute_result"
    }
   ],
   "source": [
    "reg.evals_result()"
   ]
  },
  {
   "cell_type": "markdown",
   "metadata": {},
   "source": [
    "- Next, we obtain our best iteration (this attribute is 0-based, for instance if the best iteration is the 5th round, then best_iteration is 4)."
   ]
  },
  {
   "cell_type": "code",
   "execution_count": 57,
   "metadata": {},
   "outputs": [
    {
     "data": {
      "text/plain": [
       "9"
      ]
     },
     "execution_count": 57,
     "metadata": {},
     "output_type": "execute_result"
    }
   ],
   "source": [
    "reg.best_iteration"
   ]
  },
  {
   "cell_type": "markdown",
   "metadata": {},
   "source": [
    "- Make predictions"
   ]
  },
  {
   "cell_type": "code",
   "execution_count": 58,
   "metadata": {},
   "outputs": [],
   "source": [
    "y_pred = reg.predict(X_test)"
   ]
  },
  {
   "cell_type": "markdown",
   "metadata": {},
   "source": [
    "- Obtain RMSE"
   ]
  },
  {
   "cell_type": "code",
   "execution_count": 59,
   "metadata": {},
   "outputs": [
    {
     "data": {
      "text/plain": [
       "1.7955535144593275"
      ]
     },
     "execution_count": 59,
     "metadata": {},
     "output_type": "execute_result"
    }
   ],
   "source": [
    "mean_squared_error(y_test, y_pred, squared = False)"
   ]
  },
  {
   "cell_type": "markdown",
   "metadata": {},
   "source": [
    "- Save the model"
   ]
  },
  {
   "cell_type": "code",
   "execution_count": 60,
   "metadata": {},
   "outputs": [],
   "source": [
    "# Save model into JSON format.\n",
    "reg.save_model(\"regressor.json\")"
   ]
  },
  {
   "cell_type": "markdown",
   "metadata": {},
   "source": [
    "### Plot training test deviance"
   ]
  },
  {
   "cell_type": "markdown",
   "metadata": {},
   "source": [
    "\n",
    "- Obtain evaluation metrics"
   ]
  },
  {
   "cell_type": "code",
   "execution_count": 61,
   "metadata": {},
   "outputs": [],
   "source": [
    "results = reg.evals_result()"
   ]
  },
  {
   "cell_type": "markdown",
   "metadata": {},
   "source": [
    "- Plot training test deviance"
   ]
  },
  {
   "cell_type": "code",
   "execution_count": 62,
   "metadata": {},
   "outputs": [
    {
     "data": {
      "image/png": "[encoded data removed]",
      "text/plain": [
       "<Figure size 432x288 with 1 Axes>"
      ]
     },
     "metadata": {
      "needs_background": "light"
     },
     "output_type": "display_data"
    }
   ],
   "source": [
    "# Prepare x-axis\n",
    "epochs = len(results['validation_0']['rmse'])\n",
    "x_axis = range(0, epochs)\n",
    "\n",
    "fig, ax = plt.subplots()\n",
    "\n",
    "ax.plot(x_axis, results['validation_0']['rmse'], label='Train')\n",
    "ax.plot(x_axis, results['validation_1']['rmse'], label='Test')\n",
    "\n",
    "plt.title('XGBoost RMSE')\n",
    "plt.xlabel(\"Boosting Iterations\")\n",
    "plt.ylabel(\"RMSE Deviance\")\n",
    "plt.legend(loc=\"upper right\");\n"
   ]
  },
  {
   "cell_type": "markdown",
   "metadata": {},
   "source": [
    "## Feature importance\n",
    "\n",
    "- Next, we take a look at the tree based feature importance and the permutation importance.\n",
    "\n",
    "### Mean decrease in impurity (MDI)\n",
    "\n",
    "- Mean decrease in impurity (MDI) is a measure of feature importance for decision tree models. \n",
    "\n",
    "```{Note}\n",
    "Visit [this notebook](https://kirenz.github.io/feature-engineering/docs/mdi.html#) to learn more about MDI\n",
    "```"
   ]
  },
  {
   "cell_type": "code",
   "execution_count": 63,
   "metadata": {},
   "outputs": [
    {
     "data": {
      "text/plain": [
       "array([0.47760484, 0.07838012, 0.17815246, 0.01194204, 0.01055134,\n",
       "       0.12292594, 0.06152495, 0.05891829], dtype=float32)"
      ]
     },
     "execution_count": 63,
     "metadata": {},
     "output_type": "execute_result"
    }
   ],
   "source": [
    "reg.feature_importances_"
   ]
  },
  {
   "cell_type": "markdown",
   "metadata": {},
   "source": [
    "- Feature importances are provided by the function `plot_importance` "
   ]
  },
  {
   "cell_type": "code",
   "execution_count": 64,
   "metadata": {},
   "outputs": [
    {
     "data": {
      "image/png": "[encoded data removed]",
      "text/plain": [
       "<Figure size 432x288 with 1 Axes>"
      ]
     },
     "metadata": {
      "needs_background": "light"
     },
     "output_type": "display_data"
    }
   ],
   "source": [
    "xgb.plot_importance(reg);"
   ]
  },
  {
   "cell_type": "markdown",
   "metadata": {},
   "source": [
    "### Permutation feature importance\n",
    "\n",
    "The permutation feature importance is defined to be the decrease in a model score when a single feature value is randomly shuffled. \n",
    "\n",
    "```{Note}\n",
    "Visit [this notebook](https://kirenz.github.io/feature-engineering/docs/permutation-feature-importance.html) to learn more about permutation feature importance.\n",
    "```"
   ]
  },
  {
   "cell_type": "code",
   "execution_count": 65,
   "metadata": {},
   "outputs": [
    {
     "name": "stderr",
     "output_type": "stream",
     "text": [
      "/Users/jankirenz/opt/anaconda3/envs/xgboost/lib/python3.9/site-packages/xgboost/compat.py:36: FutureWarning: pandas.Int64Index is deprecated and will be removed from pandas in a future version. Use pandas.Index with the appropriate dtype instead.\n",
      "  from pandas import MultiIndex, Int64Index\n",
      "/Users/jankirenz/opt/anaconda3/envs/xgboost/lib/python3.9/site-packages/xgboost/compat.py:36: FutureWarning: pandas.Int64Index is deprecated and will be removed from pandas in a future version. Use pandas.Index with the appropriate dtype instead.\n",
      "  from pandas import MultiIndex, Int64Index\n"
     ]
    }
   ],
   "source": [
    "\n",
    "result = permutation_importance(\n",
    "    reg, X_test, y_test, n_repeats=10, random_state=42, n_jobs=2\n",
    ")"
   ]
  },
  {
   "cell_type": "code",
   "execution_count": 66,
   "metadata": {},
   "outputs": [],
   "source": [
    "tree_importances = pd.Series(result.importances_mean, index=feature_names)"
   ]
  },
  {
   "cell_type": "code",
   "execution_count": 67,
   "metadata": {},
   "outputs": [
    {
     "data": {
      "image/png": "[encoded data removed]",
      "text/plain": [
       "<Figure size 432x288 with 1 Axes>"
      ]
     },
     "metadata": {
      "needs_background": "light"
     },
     "output_type": "display_data"
    }
   ],
   "source": [
    "# sort features according to importance\n",
    "sorted_idx = np.argsort(tree_importances)\n",
    "pos = np.arange(sorted_idx.shape[0])\n",
    "\n",
    "# plot feature importances\n",
    "plt.barh(pos, tree_importances[sorted_idx], align=\"center\")\n",
    "\n",
    "plt.yticks(pos, np.array(feature_names)[sorted_idx])\n",
    "plt.title(\"Feature Importance (MDI)\")\n",
    "plt.xlabel(\"Mean decrease in impurity\");"
   ]
  },
  {
   "cell_type": "markdown",
   "metadata": {},
   "source": [
    "- Same data plotted as boxplot:"
   ]
  },
  {
   "cell_type": "code",
   "execution_count": 47,
   "metadata": {},
   "outputs": [
    {
     "data": {
      "image/png": "[encoded data removed]",
      "text/plain": [
       "<Figure size 432x288 with 1 Axes>"
      ]
     },
     "metadata": {
      "needs_background": "light"
     },
     "output_type": "display_data"
    }
   ],
   "source": [
    "plt.boxplot(\n",
    "    result.importances[sorted_idx].T,\n",
    "    vert=False,\n",
    "    labels=np.array(feature_names)[sorted_idx],\n",
    ")\n",
    "\n",
    "plt.title(\"Permutation Importance (test set)\")\n",
    "plt.show()"
   ]
  },
  {
   "cell_type": "markdown",
   "metadata": {},
   "source": [
    "- We observe that the same features are detected as most important using both methods. Although the relative importances vary (especially for feature `Years`)."
   ]
  },
  {
   "cell_type": "markdown",
   "metadata": {},
   "source": [
    "### Visualize tree"
   ]
  },
  {
   "cell_type": "markdown",
   "metadata": {},
   "source": [
    "conda install -c anaconda graphviz\n"
   ]
  },
  {
   "cell_type": "code",
   "execution_count": 83,
   "metadata": {},
   "outputs": [
    {
     "ename": "ImportError",
     "evalue": "You must install graphviz to plot tree",
     "output_type": "error",
     "traceback": [
      "\u001b[0;31m---------------------------------------------------------------------------\u001b[0m",
      "\u001b[0;31mModuleNotFoundError\u001b[0m                       Traceback (most recent call last)",
      "File \u001b[0;32m~/opt/anaconda3/envs/xgboost/lib/python3.9/site-packages/xgboost/plotting.py:171\u001b[0m, in \u001b[0;36mto_graphviz\u001b[0;34m(booster, fmap, num_trees, rankdir, yes_color, no_color, condition_node_params, leaf_node_params, **kwargs)\u001b[0m\n\u001b[1;32m    <a href='file:///Users/jankirenz/opt/anaconda3/envs/xgboost/lib/python3.9/site-packages/xgboost/plotting.py?line=169'>170</a>\u001b[0m \u001b[39mtry\u001b[39;00m:\n\u001b[0;32m--> <a href='file:///Users/jankirenz/opt/anaconda3/envs/xgboost/lib/python3.9/site-packages/xgboost/plotting.py?line=170'>171</a>\u001b[0m     \u001b[39mfrom\u001b[39;00m \u001b[39mgraphviz\u001b[39;00m \u001b[39mimport\u001b[39;00m Source\n\u001b[1;32m    <a href='file:///Users/jankirenz/opt/anaconda3/envs/xgboost/lib/python3.9/site-packages/xgboost/plotting.py?line=171'>172</a>\u001b[0m \u001b[39mexcept\u001b[39;00m \u001b[39mImportError\u001b[39;00m \u001b[39mas\u001b[39;00m e:\n",
      "\u001b[0;31mModuleNotFoundError\u001b[0m: No module named 'graphviz'",
      "\nThe above exception was the direct cause of the following exception:\n",
      "\u001b[0;31mImportError\u001b[0m                               Traceback (most recent call last)",
      "\u001b[1;32m/Users/jankirenz/books/regression/docs/gradientboosting-xgboost-ca.ipynb Cell 51'\u001b[0m in \u001b[0;36m<cell line: 1>\u001b[0;34m()\u001b[0m\n\u001b[0;32m----> <a href='vscode-notebook-cell:/Users/jankirenz/books/regression/docs/gradientboosting-xgboost-ca.ipynb#ch0000088?line=0'>1</a>\u001b[0m xgb\u001b[39m.\u001b[39;49mplot_tree(reg ,num_trees\u001b[39m=\u001b[39;49m\u001b[39m0\u001b[39;49m)\n\u001b[1;32m      <a href='vscode-notebook-cell:/Users/jankirenz/books/regression/docs/gradientboosting-xgboost-ca.ipynb#ch0000088?line=2'>3</a>\u001b[0m plt\u001b[39m.\u001b[39mrcParams[\u001b[39m'\u001b[39m\u001b[39mfigure.figsize\u001b[39m\u001b[39m'\u001b[39m] \u001b[39m=\u001b[39m [\u001b[39m50\u001b[39m, \u001b[39m10\u001b[39m]\n\u001b[1;32m      <a href='vscode-notebook-cell:/Users/jankirenz/books/regression/docs/gradientboosting-xgboost-ca.ipynb#ch0000088?line=3'>4</a>\u001b[0m plt\u001b[39m.\u001b[39mshow()\n",
      "File \u001b[0;32m~/opt/anaconda3/envs/xgboost/lib/python3.9/site-packages/xgboost/plotting.py:247\u001b[0m, in \u001b[0;36mplot_tree\u001b[0;34m(booster, fmap, num_trees, rankdir, ax, **kwargs)\u001b[0m\n\u001b[1;32m    <a href='file:///Users/jankirenz/opt/anaconda3/envs/xgboost/lib/python3.9/site-packages/xgboost/plotting.py?line=243'>244</a>\u001b[0m \u001b[39mif\u001b[39;00m ax \u001b[39mis\u001b[39;00m \u001b[39mNone\u001b[39;00m:\n\u001b[1;32m    <a href='file:///Users/jankirenz/opt/anaconda3/envs/xgboost/lib/python3.9/site-packages/xgboost/plotting.py?line=244'>245</a>\u001b[0m     _, ax \u001b[39m=\u001b[39m plt\u001b[39m.\u001b[39msubplots(\u001b[39m1\u001b[39m, \u001b[39m1\u001b[39m)\n\u001b[0;32m--> <a href='file:///Users/jankirenz/opt/anaconda3/envs/xgboost/lib/python3.9/site-packages/xgboost/plotting.py?line=246'>247</a>\u001b[0m g \u001b[39m=\u001b[39m to_graphviz(booster, fmap\u001b[39m=\u001b[39;49mfmap, num_trees\u001b[39m=\u001b[39;49mnum_trees, rankdir\u001b[39m=\u001b[39;49mrankdir,\n\u001b[1;32m    <a href='file:///Users/jankirenz/opt/anaconda3/envs/xgboost/lib/python3.9/site-packages/xgboost/plotting.py?line=247'>248</a>\u001b[0m                 \u001b[39m*\u001b[39;49m\u001b[39m*\u001b[39;49mkwargs)\n\u001b[1;32m    <a href='file:///Users/jankirenz/opt/anaconda3/envs/xgboost/lib/python3.9/site-packages/xgboost/plotting.py?line=249'>250</a>\u001b[0m s \u001b[39m=\u001b[39m BytesIO()\n\u001b[1;32m    <a href='file:///Users/jankirenz/opt/anaconda3/envs/xgboost/lib/python3.9/site-packages/xgboost/plotting.py?line=250'>251</a>\u001b[0m s\u001b[39m.\u001b[39mwrite(g\u001b[39m.\u001b[39mpipe(\u001b[39mformat\u001b[39m\u001b[39m=\u001b[39m\u001b[39m'\u001b[39m\u001b[39mpng\u001b[39m\u001b[39m'\u001b[39m))\n",
      "File \u001b[0;32m~/opt/anaconda3/envs/xgboost/lib/python3.9/site-packages/xgboost/plotting.py:173\u001b[0m, in \u001b[0;36mto_graphviz\u001b[0;34m(booster, fmap, num_trees, rankdir, yes_color, no_color, condition_node_params, leaf_node_params, **kwargs)\u001b[0m\n\u001b[1;32m    <a href='file:///Users/jankirenz/opt/anaconda3/envs/xgboost/lib/python3.9/site-packages/xgboost/plotting.py?line=170'>171</a>\u001b[0m     \u001b[39mfrom\u001b[39;00m \u001b[39mgraphviz\u001b[39;00m \u001b[39mimport\u001b[39;00m Source\n\u001b[1;32m    <a href='file:///Users/jankirenz/opt/anaconda3/envs/xgboost/lib/python3.9/site-packages/xgboost/plotting.py?line=171'>172</a>\u001b[0m \u001b[39mexcept\u001b[39;00m \u001b[39mImportError\u001b[39;00m \u001b[39mas\u001b[39;00m e:\n\u001b[0;32m--> <a href='file:///Users/jankirenz/opt/anaconda3/envs/xgboost/lib/python3.9/site-packages/xgboost/plotting.py?line=172'>173</a>\u001b[0m     \u001b[39mraise\u001b[39;00m \u001b[39mImportError\u001b[39;00m(\u001b[39m'\u001b[39m\u001b[39mYou must install graphviz to plot tree\u001b[39m\u001b[39m'\u001b[39m) \u001b[39mfrom\u001b[39;00m \u001b[39me\u001b[39;00m\n\u001b[1;32m    <a href='file:///Users/jankirenz/opt/anaconda3/envs/xgboost/lib/python3.9/site-packages/xgboost/plotting.py?line=173'>174</a>\u001b[0m \u001b[39mif\u001b[39;00m \u001b[39misinstance\u001b[39m(booster, XGBModel):\n\u001b[1;32m    <a href='file:///Users/jankirenz/opt/anaconda3/envs/xgboost/lib/python3.9/site-packages/xgboost/plotting.py?line=174'>175</a>\u001b[0m     booster \u001b[39m=\u001b[39m booster\u001b[39m.\u001b[39mget_booster()\n",
      "\u001b[0;31mImportError\u001b[0m: You must install graphviz to plot tree"
     ]
    },
    {
     "data": {
      "image/png": "[encoded data removed]",
      "text/plain": [
       "<Figure size 432x288 with 1 Axes>"
      ]
     },
     "metadata": {
      "needs_background": "light"
     },
     "output_type": "display_data"
    }
   ],
   "source": [
    "xgb.plot_tree(reg ,num_trees=0)\n",
    "\n",
    "plt.rcParams['figure.figsize'] = [50, 10]\n",
    "plt.show()"
   ]
  },
  {
   "cell_type": "code",
   "execution_count": null,
   "metadata": {},
   "outputs": [],
   "source": []
  },
  {
   "cell_type": "code",
   "execution_count": null,
   "metadata": {},
   "outputs": [],
   "source": []
  },
  {
   "cell_type": "markdown",
   "metadata": {},
   "source": [
    "## Crossvalidation"
   ]
  },
  {
   "cell_type": "markdown",
   "metadata": {},
   "source": [
    "In order to build more robust models, it is common to do a k-fold cross validation where all the entries in the original training dataset are used for both training as well as validation. Also, each entry is used for validation just once. "
   ]
  },
  {
   "cell_type": "markdown",
   "metadata": {},
   "source": [
    "First, we will convert the dataset into an optimized data structure called Dmatrix that XGBoost supports and gives it acclaimed performance and efficiency gains. "
   ]
  },
  {
   "cell_type": "code",
   "execution_count": 70,
   "metadata": {},
   "outputs": [],
   "source": [
    "dmatrix = xgb.DMatrix(data=X,label=y)\n"
   ]
  },
  {
   "cell_type": "code",
   "execution_count": null,
   "metadata": {},
   "outputs": [],
   "source": []
  },
  {
   "cell_type": "markdown",
   "metadata": {},
   "source": [
    "Almost the same hyperparameteras as before. We just drop num_estimators and instead use `num_boost_round`in fit."
   ]
  },
  {
   "cell_type": "code",
   "execution_count": 87,
   "metadata": {},
   "outputs": [],
   "source": [
    "params_cv = {\n",
    "    \"objective\": \"reg:squarederror\",\n",
    "    \"max_depth\": 4,\n",
    "    \"learning_rate\": 0.01,\n",
    "    \"subsample\": 0.8,\n",
    "    \"colsample_bytree\": 0.9,\n",
    "    \"colsample_bylevel\": 0.8,\n",
    "    \"reg_lambda\": 0.1,\n",
    "    \"eval_metric\": \"rmse\",\n",
    "    \"random_state\": 42,\n",
    "}"
   ]
  },
  {
   "cell_type": "markdown",
   "metadata": {},
   "source": [
    "XGBoost supports k-fold cross validation via the cv() method. All you have to do is specify the nfolds parameter, which is the number of cross validation sets you want to build. "
   ]
  },
  {
   "cell_type": "code",
   "execution_count": 88,
   "metadata": {},
   "outputs": [],
   "source": [
    "reg_cv = xgb.cv(dtrain=dmatrix, \n",
    "                nfold=3,\n",
    "                params=params_cv,\n",
    "                num_boost_round=5,\n",
    "                early_stopping_rounds=10,\n",
    "                metrics=\"rmse\", \n",
    "                as_pandas=True, \n",
    "                seed=123)"
   ]
  },
  {
   "cell_type": "code",
   "execution_count": 89,
   "metadata": {},
   "outputs": [
    {
     "data": {
      "text/html": [
       "<div>\n",
       "<style scoped>\n",
       "    .dataframe tbody tr th:only-of-type {\n",
       "        vertical-align: middle;\n",
       "    }\n",
       "\n",
       "    .dataframe tbody tr th {\n",
       "        vertical-align: top;\n",
       "    }\n",
       "\n",
       "    .dataframe thead th {\n",
       "        text-align: right;\n",
       "    }\n",
       "</style>\n",
       "<table border=\"1\" class=\"dataframe\">\n",
       "  <thead>\n",
       "    <tr style=\"text-align: right;\">\n",
       "      <th></th>\n",
       "      <th>train-rmse-mean</th>\n",
       "      <th>train-rmse-std</th>\n",
       "      <th>test-rmse-mean</th>\n",
       "      <th>test-rmse-std</th>\n",
       "    </tr>\n",
       "  </thead>\n",
       "  <tbody>\n",
       "    <tr>\n",
       "      <th>0</th>\n",
       "      <td>1.930837</td>\n",
       "      <td>0.008074</td>\n",
       "      <td>1.930872</td>\n",
       "      <td>0.016105</td>\n",
       "    </tr>\n",
       "    <tr>\n",
       "      <th>1</th>\n",
       "      <td>1.914908</td>\n",
       "      <td>0.008166</td>\n",
       "      <td>1.914989</td>\n",
       "      <td>0.015754</td>\n",
       "    </tr>\n",
       "    <tr>\n",
       "      <th>2</th>\n",
       "      <td>1.898777</td>\n",
       "      <td>0.008120</td>\n",
       "      <td>1.898905</td>\n",
       "      <td>0.015530</td>\n",
       "    </tr>\n",
       "    <tr>\n",
       "      <th>3</th>\n",
       "      <td>1.882705</td>\n",
       "      <td>0.008067</td>\n",
       "      <td>1.882887</td>\n",
       "      <td>0.015337</td>\n",
       "    </tr>\n",
       "    <tr>\n",
       "      <th>4</th>\n",
       "      <td>1.866842</td>\n",
       "      <td>0.007958</td>\n",
       "      <td>1.867077</td>\n",
       "      <td>0.015233</td>\n",
       "    </tr>\n",
       "  </tbody>\n",
       "</table>\n",
       "</div>"
      ],
      "text/plain": [
       "   train-rmse-mean  train-rmse-std  test-rmse-mean  test-rmse-std\n",
       "0         1.930837        0.008074        1.930872       0.016105\n",
       "1         1.914908        0.008166        1.914989       0.015754\n",
       "2         1.898777        0.008120        1.898905       0.015530\n",
       "3         1.882705        0.008067        1.882887       0.015337\n",
       "4         1.866842        0.007958        1.867077       0.015233"
      ]
     },
     "execution_count": 89,
     "metadata": {},
     "output_type": "execute_result"
    }
   ],
   "source": [
    "reg_cv.head()"
   ]
  },
  {
   "cell_type": "markdown",
   "metadata": {},
   "source": [
    "Extract and print the final boosting round metric.\n",
    "\n"
   ]
  },
  {
   "cell_type": "code",
   "execution_count": 76,
   "metadata": {},
   "outputs": [
    {
     "name": "stdout",
     "output_type": "stream",
     "text": [
      "9    1.791268\n",
      "Name: test-rmse-mean, dtype: float64\n"
     ]
    }
   ],
   "source": [
    "print((reg_cv[\"test-rmse-mean\"]).tail(1))"
   ]
  },
  {
   "cell_type": "markdown",
   "metadata": {},
   "source": [
    "## Hyperparameter Tuning"
   ]
  },
  {
   "cell_type": "code",
   "execution_count": 50,
   "metadata": {},
   "outputs": [],
   "source": [
    "params = { 'max_depth': [3,6],\n",
    "           'learning_rate': [0.01, 0.05],\n",
    "           'n_estimators': [10, 50],\n",
    "           'colsample_bytree': [0.3, 0.7]}"
   ]
  },
  {
   "cell_type": "code",
   "execution_count": 51,
   "metadata": {},
   "outputs": [],
   "source": [
    "xgbr = xgb.XGBRegressor(seed = 20)\n"
   ]
  },
  {
   "cell_type": "code",
   "execution_count": 52,
   "metadata": {},
   "outputs": [],
   "source": [
    "clf = GridSearchCV(estimator=xgbr, \n",
    "                   param_grid=params,\n",
    "                   scoring='neg_mean_squared_error', \n",
    "                   verbose=1)\n"
   ]
  },
  {
   "cell_type": "code",
   "execution_count": 53,
   "metadata": {},
   "outputs": [
    {
     "name": "stdout",
     "output_type": "stream",
     "text": [
      "Fitting 5 folds for each of 16 candidates, totalling 80 fits\n"
     ]
    },
    {
     "data": {
      "text/plain": [
       "GridSearchCV(estimator=XGBRegressor(base_score=None, booster=None,\n",
       "                                    colsample_bylevel=None,\n",
       "                                    colsample_bynode=None,\n",
       "                                    colsample_bytree=None,\n",
       "                                    enable_categorical=False, gamma=None,\n",
       "                                    gpu_id=None, importance_type=None,\n",
       "                                    interaction_constraints=None,\n",
       "                                    learning_rate=None, max_delta_step=None,\n",
       "                                    max_depth=None, min_child_weight=None,\n",
       "                                    missing=nan, monotone_constraints=None,\n",
       "                                    n_esti...=None,\n",
       "                                    num_parallel_tree=None, predictor=None,\n",
       "                                    random_state=None, reg_alpha=None,\n",
       "                                    reg_lambda=None, scale_pos_weight=None,\n",
       "                                    seed=20, subsample=None, tree_method=None,\n",
       "                                    validate_parameters=None, verbosity=None),\n",
       "             param_grid={'colsample_bytree': [0.3, 0.7],\n",
       "                         'learning_rate': [0.01, 0.05], 'max_depth': [3, 6],\n",
       "                         'n_estimators': [10, 50]},\n",
       "             scoring='neg_mean_squared_error', verbose=1)"
      ]
     },
     "execution_count": 53,
     "metadata": {},
     "output_type": "execute_result"
    }
   ],
   "source": [
    "clf.fit(X, y)\n"
   ]
  },
  {
   "cell_type": "code",
   "execution_count": 54,
   "metadata": {},
   "outputs": [
    {
     "name": "stdout",
     "output_type": "stream",
     "text": [
      "Best parameters: {'colsample_bytree': 0.7, 'learning_rate': 0.05, 'max_depth': 6, 'n_estimators': 50}\n",
      "Lowest RMSE:  0.7115304756489487\n"
     ]
    }
   ],
   "source": [
    "print(\"Best parameters:\", clf.best_params_)\n",
    "print(\"Lowest RMSE: \", (-clf.best_score_)**(1/2.0))"
   ]
  }
 ],
 "metadata": {
  "interpreter": {
   "hash": "6a01d42f1bca357d17db5cd2969669edc05dfcda44cca1f90c739658f82fb53d"
  },
  "kernelspec": {
   "display_name": "Python 3.9.12 ('xgboost')",
   "language": "python",
   "name": "python3"
  },
  "language_info": {
   "codemirror_mode": {
    "name": "ipython",
    "version": 3
   },
   "file_extension": ".py",
   "mimetype": "text/x-python",
   "name": "python",
   "nbconvert_exporter": "python",
   "pygments_lexer": "ipython3",
   "version": "3.9.12"
  },
  "orig_nbformat": 4
 },
 "nbformat": 4,
 "nbformat_minor": 2
}
