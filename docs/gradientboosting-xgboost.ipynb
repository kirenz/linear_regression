{
 "cells": [
  {
   "cell_type": "markdown",
   "metadata": {},
   "source": [
    "# Gradient Boosting with XGBoost"
   ]
  },
  {
   "cell_type": "markdown",
   "metadata": {},
   "source": [
    "\n",
    "\n",
    "We illustrate the following regression method on a data set called \"Hitters\", which includes 20 variables and 322 observations of major league baseball players. The goal is to predict a baseball player’s salary on the basis of various features associated with performance in the previous year. We don't cover the topic of exploratory data analysis in this notebook. \n",
    "\n",
    "- Visit [this documentation](https://cran.r-project.org/web/packages/ISLR/ISLR.pdf) if you want to learn more about the data"
   ]
  },
  {
   "cell_type": "markdown",
   "metadata": {},
   "source": [
    "## Setup"
   ]
  },
  {
   "cell_type": "code",
   "execution_count": 1,
   "metadata": {},
   "outputs": [
    {
     "name": "stdout",
     "output_type": "stream",
     "text": [
      "XGB Version: 1.6.0\n"
     ]
    }
   ],
   "source": [
    "%matplotlib inline\n",
    "\n",
    "import warnings\n",
    "warnings.simplefilter(action='ignore', category=FutureWarning)\n",
    "\n",
    "import numpy as np\n",
    "import matplotlib.pyplot as plt\n",
    "\n",
    "import xgboost as xgb\n",
    "print(\"XGB Version:\", xgb.__version__)\n",
    "\n",
    "from sklearn.metrics import mean_squared_error\n",
    "from sklearn.inspection import permutation_importance"
   ]
  },
  {
   "cell_type": "markdown",
   "metadata": {},
   "source": [
    "## Data\n",
    "\n",
    "- See [](hitters_data.ipynb) for details about the data preprocessing steps.\n",
    "- We simply import the preprocessed data by using this [Python script](https://github.com/kirenz/regression/blob/main/docs/hitters_data.py) which will yield:\n",
    "  - X_train, X_test, y_train, y_test\n",
    "  - df_train and df_tests\n",
    "  - feature_names"
   ]
  },
  {
   "cell_type": "code",
   "execution_count": 2,
   "metadata": {},
   "outputs": [],
   "source": [
    "from hitters_data import *"
   ]
  },
  {
   "cell_type": "markdown",
   "metadata": {},
   "source": [
    "## Model"
   ]
  },
  {
   "cell_type": "markdown",
   "metadata": {},
   "source": [
    "- Define hyperparameters"
   ]
  },
  {
   "cell_type": "code",
   "execution_count": 33,
   "metadata": {},
   "outputs": [],
   "source": [
    "params = {\n",
    "    \"n_estimators\":50,\n",
    "    \"max_depth\": 4,\n",
    "    \"learning_rate\": 0.01,\n",
    "    \"eval_metric\": \"rmse\",\n",
    "    \"early_stopping_rounds\": 5,\n",
    "}"
   ]
  },
  {
   "cell_type": "markdown",
   "metadata": {},
   "source": [
    "- Prepare evaluation data\n",
    "- If there’s more than one item in eval_set, the last entry will be used for early stopping.\n",
    "- If we want to plot the learning curves for both training and test data, we need to provide both training and test data as eval_set"
   ]
  },
  {
   "cell_type": "code",
   "execution_count": 34,
   "metadata": {},
   "outputs": [],
   "source": [
    "eval_set = [(X_train, y_train), (X_test, y_test)]"
   ]
  },
  {
   "cell_type": "markdown",
   "metadata": {},
   "source": [
    "- Build and fit model"
   ]
  },
  {
   "cell_type": "code",
   "execution_count": 35,
   "metadata": {},
   "outputs": [
    {
     "name": "stdout",
     "output_type": "stream",
     "text": [
      "[0]\tvalidation_0-rmse:693.13939\tvalidation_1-rmse:694.51649\n",
      "[1]\tvalidation_0-rmse:687.25191\tvalidation_1-rmse:688.37644\n",
      "[2]\tvalidation_0-rmse:681.42445\tvalidation_1-rmse:682.31515\n",
      "[3]\tvalidation_0-rmse:675.64867\tvalidation_1-rmse:677.35826\n",
      "[4]\tvalidation_0-rmse:669.93320\tvalidation_1-rmse:672.46290\n",
      "[5]\tvalidation_0-rmse:664.27350\tvalidation_1-rmse:666.60591\n",
      "[6]\tvalidation_0-rmse:658.67121\tvalidation_1-rmse:661.82838\n",
      "[7]\tvalidation_0-rmse:653.12688\tvalidation_1-rmse:656.90319\n",
      "[8]\tvalidation_0-rmse:647.63961\tvalidation_1-rmse:652.24138\n",
      "[9]\tvalidation_0-rmse:642.19390\tvalidation_1-rmse:646.64970\n",
      "[10]\tvalidation_0-rmse:636.80992\tvalidation_1-rmse:641.92285\n",
      "[11]\tvalidation_0-rmse:631.48134\tvalidation_1-rmse:637.27762\n",
      "[12]\tvalidation_0-rmse:626.19614\tvalidation_1-rmse:631.90670\n",
      "[13]\tvalidation_0-rmse:620.97255\tvalidation_1-rmse:627.37414\n",
      "[14]\tvalidation_0-rmse:615.80413\tvalidation_1-rmse:622.82286\n",
      "[15]\tvalidation_0-rmse:610.68529\tvalidation_1-rmse:618.45032\n",
      "[16]\tvalidation_0-rmse:605.60407\tvalidation_1-rmse:613.33537\n",
      "[17]\tvalidation_0-rmse:600.57906\tvalidation_1-rmse:609.34508\n",
      "[18]\tvalidation_0-rmse:595.60970\tvalidation_1-rmse:605.29294\n",
      "[19]\tvalidation_0-rmse:590.69058\tvalidation_1-rmse:601.35710\n",
      "[20]\tvalidation_0-rmse:585.80052\tvalidation_1-rmse:596.47644\n",
      "[21]\tvalidation_0-rmse:580.97580\tvalidation_1-rmse:592.68846\n",
      "[22]\tvalidation_0-rmse:576.20465\tvalidation_1-rmse:588.83853\n",
      "[23]\tvalidation_0-rmse:571.47605\tvalidation_1-rmse:585.00430\n",
      "[24]\tvalidation_0-rmse:566.76789\tvalidation_1-rmse:580.46276\n",
      "[25]\tvalidation_0-rmse:562.13473\tvalidation_1-rmse:576.72806\n",
      "[26]\tvalidation_0-rmse:557.55151\tvalidation_1-rmse:573.04329\n",
      "[27]\tvalidation_0-rmse:552.98293\tvalidation_1-rmse:568.56142\n",
      "[28]\tvalidation_0-rmse:548.47424\tvalidation_1-rmse:564.78179\n",
      "[29]\tvalidation_0-rmse:544.02571\tvalidation_1-rmse:561.24016\n",
      "[30]\tvalidation_0-rmse:539.58015\tvalidation_1-rmse:557.70367\n",
      "[31]\tvalidation_0-rmse:535.22326\tvalidation_1-rmse:554.25781\n",
      "[32]\tvalidation_0-rmse:530.91185\tvalidation_1-rmse:550.87278\n",
      "[33]\tvalidation_0-rmse:526.59696\tvalidation_1-rmse:546.80625\n",
      "[34]\tvalidation_0-rmse:522.37363\tvalidation_1-rmse:543.51320\n",
      "[35]\tvalidation_0-rmse:518.14474\tvalidation_1-rmse:539.55518\n",
      "[36]\tvalidation_0-rmse:513.98339\tvalidation_1-rmse:536.03011\n",
      "[37]\tvalidation_0-rmse:509.83863\tvalidation_1-rmse:532.21427\n",
      "[38]\tvalidation_0-rmse:505.74956\tvalidation_1-rmse:528.81269\n",
      "[39]\tvalidation_0-rmse:501.70899\tvalidation_1-rmse:525.42317\n",
      "[40]\tvalidation_0-rmse:497.69725\tvalidation_1-rmse:522.18693\n",
      "[41]\tvalidation_0-rmse:493.72723\tvalidation_1-rmse:519.00022\n",
      "[42]\tvalidation_0-rmse:489.80529\tvalidation_1-rmse:515.74005\n",
      "[43]\tvalidation_0-rmse:485.91322\tvalidation_1-rmse:512.64781\n",
      "[44]\tvalidation_0-rmse:482.06295\tvalidation_1-rmse:509.52443\n",
      "[45]\tvalidation_0-rmse:478.25068\tvalidation_1-rmse:506.52609\n",
      "[46]\tvalidation_0-rmse:474.47971\tvalidation_1-rmse:503.42672\n",
      "[47]\tvalidation_0-rmse:470.70649\tvalidation_1-rmse:500.40295\n",
      "[48]\tvalidation_0-rmse:466.97397\tvalidation_1-rmse:497.36221\n",
      "[49]\tvalidation_0-rmse:463.27880\tvalidation_1-rmse:494.61958\n"
     ]
    },
    {
     "data": {
      "text/plain": [
       "XGBRegressor(base_score=0.5, booster='gbtree', callbacks=None,\n",
       "             colsample_bylevel=1, colsample_bynode=1, colsample_bytree=1,\n",
       "             early_stopping_rounds=5, enable_categorical=False,\n",
       "             eval_metric='rmse', gamma=0, gpu_id=-1, grow_policy='depthwise',\n",
       "             importance_type=None, interaction_constraints='',\n",
       "             learning_rate=0.01, max_bin=256, max_cat_to_onehot=4,\n",
       "             max_delta_step=0, max_depth=4, max_leaves=0, min_child_weight=1,\n",
       "             missing=nan, monotone_constraints='()', n_estimators=50, n_jobs=0,\n",
       "             num_parallel_tree=1, predictor='auto', random_state=0, reg_alpha=0,\n",
       "             reg_lambda=1, ...)"
      ]
     },
     "execution_count": 35,
     "metadata": {},
     "output_type": "execute_result"
    }
   ],
   "source": [
    "reg = xgb.XGBRegressor(**params)\n",
    "\n",
    "reg.fit(X_train, \n",
    "        y_train, \n",
    "        verbose=True,\n",
    "        eval_set= eval_set)"
   ]
  },
  {
   "cell_type": "code",
   "execution_count": 36,
   "metadata": {},
   "outputs": [
    {
     "data": {
      "text/plain": [
       "{'validation_0': OrderedDict([('rmse',\n",
       "               [693.1393857817644,\n",
       "                687.251910336823,\n",
       "                681.4244486825938,\n",
       "                675.6486724934836,\n",
       "                669.9331957060579,\n",
       "                664.2735039780409,\n",
       "                658.671209041782,\n",
       "                653.1268798100191,\n",
       "                647.639606963932,\n",
       "                642.1938985362038,\n",
       "                636.8099213158795,\n",
       "                631.4813365059504,\n",
       "                626.1961417611866,\n",
       "                620.9725471757737,\n",
       "                615.8041338657043,\n",
       "                610.6852890748453,\n",
       "                605.6040657347364,\n",
       "                600.5790575659756,\n",
       "                595.6096960389444,\n",
       "                590.6905825682088,\n",
       "                585.8005198863074,\n",
       "                580.9758014008682,\n",
       "                576.2046450150377,\n",
       "                571.4760470741261,\n",
       "                566.767889207885,\n",
       "                562.1347310337889,\n",
       "                557.5515139366653,\n",
       "                552.9829316203304,\n",
       "                548.4742444704232,\n",
       "                544.0257116458743,\n",
       "                539.580154381951,\n",
       "                535.223258825213,\n",
       "                530.9118515684579,\n",
       "                526.5969631915748,\n",
       "                522.3736292449992,\n",
       "                518.1447439056208,\n",
       "                513.98339041067,\n",
       "                509.8386269079192,\n",
       "                505.74956087337966,\n",
       "                501.7089946678633,\n",
       "                497.6972510812428,\n",
       "                493.72722733765556,\n",
       "                489.80528828448985,\n",
       "                485.91321877813294,\n",
       "                482.0629503106967,\n",
       "                478.2506824740748,\n",
       "                474.47970550622546,\n",
       "                470.7064900045892,\n",
       "                466.9739728063445,\n",
       "                463.27879631757037])]),\n",
       " 'validation_1': OrderedDict([('rmse',\n",
       "               [694.5164913542402,\n",
       "                688.3764374445906,\n",
       "                682.3151532702786,\n",
       "                677.3582590211814,\n",
       "                672.4628989003214,\n",
       "                666.6059087893586,\n",
       "                661.828382190362,\n",
       "                656.9031869172235,\n",
       "                652.2413750710891,\n",
       "                646.6496957785371,\n",
       "                641.9228547034586,\n",
       "                637.2776215615506,\n",
       "                631.9067047861197,\n",
       "                627.3741448283788,\n",
       "                622.8228568933258,\n",
       "                618.4503207716183,\n",
       "                613.3353736633013,\n",
       "                609.3450808941212,\n",
       "                605.2929405305549,\n",
       "                601.3570998696786,\n",
       "                596.476439502,\n",
       "                592.6884623416338,\n",
       "                588.8385297352924,\n",
       "                585.0042993486803,\n",
       "                580.4627558767744,\n",
       "                576.7280633186635,\n",
       "                573.043293650581,\n",
       "                568.561421543709,\n",
       "                564.7817911843646,\n",
       "                561.2401620562998,\n",
       "                557.7036728408804,\n",
       "                554.2578132311166,\n",
       "                550.8727841910988,\n",
       "                546.8062486649543,\n",
       "                543.5132044476993,\n",
       "                539.555182177302,\n",
       "                536.0301120486204,\n",
       "                532.2142708827711,\n",
       "                528.8126933842323,\n",
       "                525.4231683723752,\n",
       "                522.1869348578584,\n",
       "                519.0002165116805,\n",
       "                515.7400461083421,\n",
       "                512.6478116927028,\n",
       "                509.52442998205976,\n",
       "                506.52609169547287,\n",
       "                503.4267241371655,\n",
       "                500.40295281777617,\n",
       "                497.3622109130281,\n",
       "                494.61957750664214])])}"
      ]
     },
     "execution_count": 36,
     "metadata": {},
     "output_type": "execute_result"
    }
   ],
   "source": [
    "reg.evals_result()"
   ]
  },
  {
   "cell_type": "markdown",
   "metadata": {},
   "source": [
    "- The best iteration obtained by early stopping. This attribute is 0-based, for instance if the best iteration is the first round, then best_iteration is 0.\n",
    "\n"
   ]
  },
  {
   "cell_type": "code",
   "execution_count": 37,
   "metadata": {},
   "outputs": [
    {
     "data": {
      "text/plain": [
       "49"
      ]
     },
     "execution_count": 37,
     "metadata": {},
     "output_type": "execute_result"
    }
   ],
   "source": [
    "reg.best_iteration"
   ]
  },
  {
   "cell_type": "markdown",
   "metadata": {},
   "source": [
    "- The best score obtained by early stopping.\n",
    "\n"
   ]
  },
  {
   "cell_type": "code",
   "execution_count": 38,
   "metadata": {},
   "outputs": [
    {
     "data": {
      "text/plain": [
       "494.61957750664214"
      ]
     },
     "execution_count": 38,
     "metadata": {},
     "output_type": "execute_result"
    }
   ],
   "source": [
    "reg.best_score"
   ]
  },
  {
   "cell_type": "markdown",
   "metadata": {},
   "source": [
    "- Make predictions"
   ]
  },
  {
   "cell_type": "code",
   "execution_count": 29,
   "metadata": {},
   "outputs": [],
   "source": [
    "y_pred = reg.predict(X_test)"
   ]
  },
  {
   "cell_type": "markdown",
   "metadata": {},
   "source": [
    "- Obtain RMSE"
   ]
  },
  {
   "cell_type": "code",
   "execution_count": 30,
   "metadata": {},
   "outputs": [
    {
     "data": {
      "text/plain": [
       "646.6496988230952"
      ]
     },
     "execution_count": 30,
     "metadata": {},
     "output_type": "execute_result"
    }
   ],
   "source": [
    "mean_squared_error(y_test, y_pred, squared = False)"
   ]
  },
  {
   "cell_type": "markdown",
   "metadata": {},
   "source": [
    "- Save the model"
   ]
  },
  {
   "cell_type": "code",
   "execution_count": 8,
   "metadata": {},
   "outputs": [],
   "source": [
    "# Save model into JSON format.\n",
    "reg.save_model(\"regressor.json\")"
   ]
  },
  {
   "cell_type": "markdown",
   "metadata": {},
   "source": [
    "### Plot training test deviance"
   ]
  },
  {
   "cell_type": "markdown",
   "metadata": {},
   "source": [
    "\n",
    "- Obtain evaluation metrics"
   ]
  },
  {
   "cell_type": "code",
   "execution_count": 31,
   "metadata": {},
   "outputs": [],
   "source": [
    "results = reg.evals_result()"
   ]
  },
  {
   "cell_type": "markdown",
   "metadata": {},
   "source": [
    "- Plot training test deviance"
   ]
  },
  {
   "cell_type": "code",
   "execution_count": 32,
   "metadata": {},
   "outputs": [
    {
     "data": {
      "image/png": "[encoded data removed]",
      "text/plain": [
       "<Figure size 432x288 with 1 Axes>"
      ]
     },
     "metadata": {
      "needs_background": "light"
     },
     "output_type": "display_data"
    }
   ],
   "source": [
    "# Prepare x-axis\n",
    "epochs = len(results['validation_0']['rmse'])\n",
    "x_axis = range(0, epochs)\n",
    "\n",
    "fig, ax = plt.subplots()\n",
    "\n",
    "ax.plot(x_axis, results['validation_0']['rmse'], label='Train')\n",
    "ax.plot(x_axis, results['validation_1']['rmse'], label='Test')\n",
    "\n",
    "plt.title('XGBoost RMSE')\n",
    "plt.xlabel(\"Boosting Iterations\")\n",
    "plt.ylabel(\"RMSE Deviance\")\n",
    "plt.legend(loc=\"upper right\");\n"
   ]
  },
  {
   "cell_type": "markdown",
   "metadata": {},
   "source": [
    "## Feature importance\n",
    "\n",
    "- Next, we take a look at the tree based feature importance and the permutation importance.\n",
    "\n",
    "### Mean decrease in impurity (MDI)\n",
    "\n",
    "- Mean decrease in impurity (MDI) is a measure of feature importance for decision tree models. \n",
    "\n",
    "```{Note}\n",
    "Visit [this notebook](https://kirenz.github.io/feature-engineering/docs/mdi.html#) to learn more about MDI\n",
    "```"
   ]
  },
  {
   "cell_type": "code",
   "execution_count": 17,
   "metadata": {},
   "outputs": [
    {
     "data": {
      "text/plain": [
       "array([0.02807194, 0.10650408, 0.        , 0.11918869, 0.00033896,\n",
       "       0.2395267 , 0.03154753, 0.28353286, 0.        , 0.07748905,\n",
       "       0.02259106, 0.07989479, 0.        , 0.        , 0.        ,\n",
       "       0.        , 0.01131431, 0.        , 0.        ], dtype=float32)"
      ]
     },
     "execution_count": 17,
     "metadata": {},
     "output_type": "execute_result"
    }
   ],
   "source": [
    "reg.feature_importances_"
   ]
  },
  {
   "cell_type": "code",
   "execution_count": 18,
   "metadata": {},
   "outputs": [
    {
     "data": {
      "text/plain": [
       "array(['AtBat', 'Hits', 'HmRun', 'Runs', 'RBI', 'Walks', 'Years',\n",
       "       'CAtBat', 'CHits', 'CHmRun', 'CRuns', 'CRBI', 'CWalks', 'PutOuts',\n",
       "       'Assists', 'Errors', 'League_N', 'Division_W', 'NewLeague_N'],\n",
       "      dtype='<U11')"
      ]
     },
     "execution_count": 18,
     "metadata": {},
     "output_type": "execute_result"
    }
   ],
   "source": [
    "reg.feature_names_in_"
   ]
  },
  {
   "cell_type": "markdown",
   "metadata": {},
   "source": [
    "- Feature importances are provided by the function `plot_importance` "
   ]
  },
  {
   "cell_type": "code",
   "execution_count": 19,
   "metadata": {},
   "outputs": [
    {
     "data": {
      "image/png": "[encoded data removed]",
      "text/plain": [
       "<Figure size 432x288 with 1 Axes>"
      ]
     },
     "metadata": {
      "needs_background": "light"
     },
     "output_type": "display_data"
    }
   ],
   "source": [
    "xgb.plot_importance(reg);"
   ]
  },
  {
   "cell_type": "markdown",
   "metadata": {},
   "source": [
    "### Permutation feature importance\n",
    "\n",
    "The permutation feature importance is defined to be the decrease in a model score when a single feature value is randomly shuffled. \n",
    "\n",
    "```{Note}\n",
    "Visit [this notebook](https://kirenz.github.io/feature-engineering/docs/permutation-feature-importance.html) to learn more about permutation feature importance.\n",
    "```"
   ]
  },
  {
   "cell_type": "code",
   "execution_count": 12,
   "metadata": {},
   "outputs": [],
   "source": [
    "\n",
    "result = permutation_importance(\n",
    "    reg, X_test, y_test, n_repeats=10, random_state=42, n_jobs=2\n",
    ")"
   ]
  },
  {
   "cell_type": "code",
   "execution_count": 13,
   "metadata": {},
   "outputs": [
    {
     "data": {
      "text/plain": [
       "Index(['AtBat', 'Hits', 'HmRun', 'Runs', 'RBI', 'Walks', 'Years', 'CAtBat',\n",
       "       'CHits', 'CHmRun', 'CRuns', 'CRBI', 'CWalks', 'PutOuts', 'Assists',\n",
       "       'Errors', 'League_N', 'Division_W', 'NewLeague_N'],\n",
       "      dtype='object')"
      ]
     },
     "execution_count": 13,
     "metadata": {},
     "output_type": "execute_result"
    }
   ],
   "source": [
    "feature_names"
   ]
  },
  {
   "cell_type": "code",
   "execution_count": 14,
   "metadata": {},
   "outputs": [],
   "source": [
    "tree_importances = pd.Series(result.importances_mean, index=feature_names)"
   ]
  },
  {
   "cell_type": "code",
   "execution_count": 15,
   "metadata": {},
   "outputs": [
    {
     "data": {
      "image/png": "[encoded data removed]",
      "text/plain": [
       "<Figure size 432x288 with 1 Axes>"
      ]
     },
     "metadata": {
      "needs_background": "light"
     },
     "output_type": "display_data"
    }
   ],
   "source": [
    "# sort features according to importance\n",
    "sorted_idx = np.argsort(tree_importances)\n",
    "pos = np.arange(sorted_idx.shape[0])\n",
    "\n",
    "# plot feature importances\n",
    "plt.barh(pos, tree_importances[sorted_idx], align=\"center\")\n",
    "\n",
    "plt.yticks(pos, np.array(feature_names)[sorted_idx])\n",
    "plt.title(\"Feature Importance (MDI)\")\n",
    "plt.xlabel(\"Mean decrease in impurity\");"
   ]
  },
  {
   "cell_type": "markdown",
   "metadata": {},
   "source": [
    "- Same data plotted as boxplot:"
   ]
  },
  {
   "cell_type": "code",
   "execution_count": 16,
   "metadata": {},
   "outputs": [
    {
     "data": {
      "image/png": "[encoded data removed]",
      "text/plain": [
       "<Figure size 432x288 with 1 Axes>"
      ]
     },
     "metadata": {
      "needs_background": "light"
     },
     "output_type": "display_data"
    }
   ],
   "source": [
    "plt.boxplot(\n",
    "    result.importances[sorted_idx].T,\n",
    "    vert=False,\n",
    "    labels=np.array(feature_names)[sorted_idx],\n",
    ")\n",
    "\n",
    "plt.title(\"Permutation Importance (test set)\")\n",
    "plt.show()"
   ]
  },
  {
   "cell_type": "markdown",
   "metadata": {},
   "source": [
    "- We observe that the same features are detected as most important using both methods. Although the relative importances vary (especially for feature `Years`)."
   ]
  },
  {
   "cell_type": "markdown",
   "metadata": {},
   "source": [
    "## Hyperparameter Tuning"
   ]
  }
 ],
 "metadata": {
  "interpreter": {
   "hash": "463226f144cc21b006ce6927bfc93dd00694e52c8bc6857abb6e555b983749e9"
  },
  "kernelspec": {
   "display_name": "Python 3.7.11 64-bit ('base': conda)",
   "language": "python",
   "name": "python3"
  },
  "language_info": {
   "codemirror_mode": {
    "name": "ipython",
    "version": 3
   },
   "file_extension": ".py",
   "mimetype": "text/x-python",
   "name": "python",
   "nbconvert_exporter": "python",
   "pygments_lexer": "ipython3",
   "version": "3.9.12"
  },
  "orig_nbformat": 4
 },
 "nbformat": 4,
 "nbformat_minor": 2
}
