{
 "cells": [
  {
   "cell_type": "code",
   "execution_count": 3,
   "metadata": {},
   "outputs": [],
   "source": [
    "import xgboost as xgb"
   ]
  },
  {
   "cell_type": "code",
   "execution_count": null,
   "metadata": {},
   "outputs": [],
   "source": [
    "Mac: `brew install libomp``"
   ]
  },
  {
   "cell_type": "code",
   "execution_count": 5,
   "metadata": {},
   "outputs": [
    {
     "ename": "XGBoostError",
     "evalue": "[22:56:07] /Users/runner/work/xgboost/xgboost/dmlc-core/src/io.cc:57: Please compile with DMLC_USE_S3=1 to use S3\nStack trace:\n  [bt] (0) 1   libxgboost.dylib                    0x00000001112974a4 dmlc::LogMessageFatal::~LogMessageFatal() + 116\n  [bt] (1) 2   libxgboost.dylib                    0x000000011147878d dmlc::io::FileSystem::GetInstance(dmlc::io::URI const&) + 653\n  [bt] (2) 3   libxgboost.dylib                    0x000000011147932a dmlc::Stream::Create(char const*, char const*, bool) + 42\n  [bt] (3) 4   libxgboost.dylib                    0x00000001112e879a xgboost::TryLoadBinary(std::__1::basic_string<char, std::__1::char_traits<char>, std::__1::allocator<char> >, bool) + 58\n  [bt] (4) 5   libxgboost.dylib                    0x00000001112e9183 xgboost::DMatrix::Load(std::__1::basic_string<char, std::__1::char_traits<char>, std::__1::allocator<char> > const&, bool, bool, std::__1::basic_string<char, std::__1::char_traits<char>, std::__1::allocator<char> > const&) + 2067\n  [bt] (5) 6   libxgboost.dylib                    0x0000000111285cfc XGDMatrixCreateFromFile + 316\n  [bt] (6) 7   libffi.7.dylib                      0x000000010ae20ead ffi_call_unix64 + 85\n  [bt] (7) 8   ???                                 0x00007ff7b56b3790 0x0 + 140701877352336\n\n",
     "output_type": "error",
     "traceback": [
      "\u001b[0;31m---------------------------------------------------------------------------\u001b[0m",
      "\u001b[0;31mXGBoostError\u001b[0m                              Traceback (most recent call last)",
      "\u001b[1;32m/Users/jankirenz/books/regression/docs/xgboost.ipynb Cell 3'\u001b[0m in \u001b[0;36m<cell line: 2>\u001b[0;34m()\u001b[0m\n\u001b[1;32m      <a href='vscode-notebook-cell:/Users/jankirenz/books/regression/docs/xgboost.ipynb#ch0000001?line=0'>1</a>\u001b[0m \u001b[39m# read in data\u001b[39;00m\n\u001b[0;32m----> <a href='vscode-notebook-cell:/Users/jankirenz/books/regression/docs/xgboost.ipynb#ch0000001?line=1'>2</a>\u001b[0m dtrain \u001b[39m=\u001b[39m xgb\u001b[39m.\u001b[39;49mDMatrix(\u001b[39m'\u001b[39;49m\u001b[39mhttps://raw.githubusercontent.com/dmlc/xgboost/master/demo/data/agaricus.txt.train\u001b[39;49m\u001b[39m'\u001b[39;49m)\n",
      "File \u001b[0;32m~/opt/anaconda3/envs/xgboost/lib/python3.9/site-packages/xgboost/core.py:506\u001b[0m, in \u001b[0;36m_deprecate_positional_args.<locals>.inner_f\u001b[0;34m(*args, **kwargs)\u001b[0m\n\u001b[1;32m    <a href='file:///Users/jankirenz/opt/anaconda3/envs/xgboost/lib/python3.9/site-packages/xgboost/core.py?line=503'>504</a>\u001b[0m \u001b[39mfor\u001b[39;00m k, arg \u001b[39min\u001b[39;00m \u001b[39mzip\u001b[39m(sig\u001b[39m.\u001b[39mparameters, args):\n\u001b[1;32m    <a href='file:///Users/jankirenz/opt/anaconda3/envs/xgboost/lib/python3.9/site-packages/xgboost/core.py?line=504'>505</a>\u001b[0m     kwargs[k] \u001b[39m=\u001b[39m arg\n\u001b[0;32m--> <a href='file:///Users/jankirenz/opt/anaconda3/envs/xgboost/lib/python3.9/site-packages/xgboost/core.py?line=505'>506</a>\u001b[0m \u001b[39mreturn\u001b[39;00m f(\u001b[39m*\u001b[39;49m\u001b[39m*\u001b[39;49mkwargs)\n",
      "File \u001b[0;32m~/opt/anaconda3/envs/xgboost/lib/python3.9/site-packages/xgboost/core.py:616\u001b[0m, in \u001b[0;36mDMatrix.__init__\u001b[0;34m(self, data, label, weight, base_margin, missing, silent, feature_names, feature_types, nthread, group, qid, label_lower_bound, label_upper_bound, feature_weights, enable_categorical)\u001b[0m\n\u001b[1;32m    <a href='file:///Users/jankirenz/opt/anaconda3/envs/xgboost/lib/python3.9/site-packages/xgboost/core.py?line=612'>613</a>\u001b[0m     \u001b[39massert\u001b[39;00m \u001b[39mself\u001b[39m\u001b[39m.\u001b[39mhandle \u001b[39mis\u001b[39;00m \u001b[39mnot\u001b[39;00m \u001b[39mNone\u001b[39;00m\n\u001b[1;32m    <a href='file:///Users/jankirenz/opt/anaconda3/envs/xgboost/lib/python3.9/site-packages/xgboost/core.py?line=613'>614</a>\u001b[0m     \u001b[39mreturn\u001b[39;00m\n\u001b[0;32m--> <a href='file:///Users/jankirenz/opt/anaconda3/envs/xgboost/lib/python3.9/site-packages/xgboost/core.py?line=615'>616</a>\u001b[0m handle, feature_names, feature_types \u001b[39m=\u001b[39m dispatch_data_backend(\n\u001b[1;32m    <a href='file:///Users/jankirenz/opt/anaconda3/envs/xgboost/lib/python3.9/site-packages/xgboost/core.py?line=616'>617</a>\u001b[0m     data,\n\u001b[1;32m    <a href='file:///Users/jankirenz/opt/anaconda3/envs/xgboost/lib/python3.9/site-packages/xgboost/core.py?line=617'>618</a>\u001b[0m     missing\u001b[39m=\u001b[39;49m\u001b[39mself\u001b[39;49m\u001b[39m.\u001b[39;49mmissing,\n\u001b[1;32m    <a href='file:///Users/jankirenz/opt/anaconda3/envs/xgboost/lib/python3.9/site-packages/xgboost/core.py?line=618'>619</a>\u001b[0m     threads\u001b[39m=\u001b[39;49m\u001b[39mself\u001b[39;49m\u001b[39m.\u001b[39;49mnthread,\n\u001b[1;32m    <a href='file:///Users/jankirenz/opt/anaconda3/envs/xgboost/lib/python3.9/site-packages/xgboost/core.py?line=619'>620</a>\u001b[0m     feature_names\u001b[39m=\u001b[39;49mfeature_names,\n\u001b[1;32m    <a href='file:///Users/jankirenz/opt/anaconda3/envs/xgboost/lib/python3.9/site-packages/xgboost/core.py?line=620'>621</a>\u001b[0m     feature_types\u001b[39m=\u001b[39;49mfeature_types,\n\u001b[1;32m    <a href='file:///Users/jankirenz/opt/anaconda3/envs/xgboost/lib/python3.9/site-packages/xgboost/core.py?line=621'>622</a>\u001b[0m     enable_categorical\u001b[39m=\u001b[39;49menable_categorical,\n\u001b[1;32m    <a href='file:///Users/jankirenz/opt/anaconda3/envs/xgboost/lib/python3.9/site-packages/xgboost/core.py?line=622'>623</a>\u001b[0m )\n\u001b[1;32m    <a href='file:///Users/jankirenz/opt/anaconda3/envs/xgboost/lib/python3.9/site-packages/xgboost/core.py?line=623'>624</a>\u001b[0m \u001b[39massert\u001b[39;00m handle \u001b[39mis\u001b[39;00m \u001b[39mnot\u001b[39;00m \u001b[39mNone\u001b[39;00m\n\u001b[1;32m    <a href='file:///Users/jankirenz/opt/anaconda3/envs/xgboost/lib/python3.9/site-packages/xgboost/core.py?line=624'>625</a>\u001b[0m \u001b[39mself\u001b[39m\u001b[39m.\u001b[39mhandle \u001b[39m=\u001b[39m handle\n",
      "File \u001b[0;32m~/opt/anaconda3/envs/xgboost/lib/python3.9/site-packages/xgboost/data.py:766\u001b[0m, in \u001b[0;36mdispatch_data_backend\u001b[0;34m(data, missing, threads, feature_names, feature_types, enable_categorical)\u001b[0m\n\u001b[1;32m    <a href='file:///Users/jankirenz/opt/anaconda3/envs/xgboost/lib/python3.9/site-packages/xgboost/data.py?line=762'>763</a>\u001b[0m     \u001b[39mreturn\u001b[39;00m _from_numpy_array(data, missing, threads, feature_names,\n\u001b[1;32m    <a href='file:///Users/jankirenz/opt/anaconda3/envs/xgboost/lib/python3.9/site-packages/xgboost/data.py?line=763'>764</a>\u001b[0m                              feature_types)\n\u001b[1;32m    <a href='file:///Users/jankirenz/opt/anaconda3/envs/xgboost/lib/python3.9/site-packages/xgboost/data.py?line=764'>765</a>\u001b[0m \u001b[39mif\u001b[39;00m _is_uri(data):\n\u001b[0;32m--> <a href='file:///Users/jankirenz/opt/anaconda3/envs/xgboost/lib/python3.9/site-packages/xgboost/data.py?line=765'>766</a>\u001b[0m     \u001b[39mreturn\u001b[39;00m _from_uri(data, missing, feature_names, feature_types)\n\u001b[1;32m    <a href='file:///Users/jankirenz/opt/anaconda3/envs/xgboost/lib/python3.9/site-packages/xgboost/data.py?line=766'>767</a>\u001b[0m \u001b[39mif\u001b[39;00m _is_list(data):\n\u001b[1;32m    <a href='file:///Users/jankirenz/opt/anaconda3/envs/xgboost/lib/python3.9/site-packages/xgboost/data.py?line=767'>768</a>\u001b[0m     \u001b[39mreturn\u001b[39;00m _from_list(data, missing, threads, feature_names, feature_types)\n",
      "File \u001b[0;32m~/opt/anaconda3/envs/xgboost/lib/python3.9/site-packages/xgboost/data.py:681\u001b[0m, in \u001b[0;36m_from_uri\u001b[0;34m(data, missing, feature_names, feature_types)\u001b[0m\n\u001b[1;32m    <a href='file:///Users/jankirenz/opt/anaconda3/envs/xgboost/lib/python3.9/site-packages/xgboost/data.py?line=678'>679</a>\u001b[0m handle \u001b[39m=\u001b[39m ctypes\u001b[39m.\u001b[39mc_void_p()\n\u001b[1;32m    <a href='file:///Users/jankirenz/opt/anaconda3/envs/xgboost/lib/python3.9/site-packages/xgboost/data.py?line=679'>680</a>\u001b[0m data \u001b[39m=\u001b[39m os\u001b[39m.\u001b[39mfspath(os\u001b[39m.\u001b[39mpath\u001b[39m.\u001b[39mexpanduser(data))\n\u001b[0;32m--> <a href='file:///Users/jankirenz/opt/anaconda3/envs/xgboost/lib/python3.9/site-packages/xgboost/data.py?line=680'>681</a>\u001b[0m _check_call(_LIB\u001b[39m.\u001b[39;49mXGDMatrixCreateFromFile(c_str(data),\n\u001b[1;32m    <a href='file:///Users/jankirenz/opt/anaconda3/envs/xgboost/lib/python3.9/site-packages/xgboost/data.py?line=681'>682</a>\u001b[0m                                          ctypes\u001b[39m.\u001b[39;49mc_int(\u001b[39m1\u001b[39;49m),\n\u001b[1;32m    <a href='file:///Users/jankirenz/opt/anaconda3/envs/xgboost/lib/python3.9/site-packages/xgboost/data.py?line=682'>683</a>\u001b[0m                                          ctypes\u001b[39m.\u001b[39;49mbyref(handle)))\n\u001b[1;32m    <a href='file:///Users/jankirenz/opt/anaconda3/envs/xgboost/lib/python3.9/site-packages/xgboost/data.py?line=683'>684</a>\u001b[0m \u001b[39mreturn\u001b[39;00m handle, feature_names, feature_types\n",
      "File \u001b[0;32m~/opt/anaconda3/envs/xgboost/lib/python3.9/site-packages/xgboost/core.py:218\u001b[0m, in \u001b[0;36m_check_call\u001b[0;34m(ret)\u001b[0m\n\u001b[1;32m    <a href='file:///Users/jankirenz/opt/anaconda3/envs/xgboost/lib/python3.9/site-packages/xgboost/core.py?line=206'>207</a>\u001b[0m \u001b[39m\"\"\"Check the return value of C API call\u001b[39;00m\n\u001b[1;32m    <a href='file:///Users/jankirenz/opt/anaconda3/envs/xgboost/lib/python3.9/site-packages/xgboost/core.py?line=207'>208</a>\u001b[0m \n\u001b[1;32m    <a href='file:///Users/jankirenz/opt/anaconda3/envs/xgboost/lib/python3.9/site-packages/xgboost/core.py?line=208'>209</a>\u001b[0m \u001b[39mThis function will raise exception when error occurs.\u001b[39;00m\n\u001b[0;32m   (...)\u001b[0m\n\u001b[1;32m    <a href='file:///Users/jankirenz/opt/anaconda3/envs/xgboost/lib/python3.9/site-packages/xgboost/core.py?line=214'>215</a>\u001b[0m \u001b[39m    return value from API calls\u001b[39;00m\n\u001b[1;32m    <a href='file:///Users/jankirenz/opt/anaconda3/envs/xgboost/lib/python3.9/site-packages/xgboost/core.py?line=215'>216</a>\u001b[0m \u001b[39m\"\"\"\u001b[39;00m\n\u001b[1;32m    <a href='file:///Users/jankirenz/opt/anaconda3/envs/xgboost/lib/python3.9/site-packages/xgboost/core.py?line=216'>217</a>\u001b[0m \u001b[39mif\u001b[39;00m ret \u001b[39m!=\u001b[39m \u001b[39m0\u001b[39m:\n\u001b[0;32m--> <a href='file:///Users/jankirenz/opt/anaconda3/envs/xgboost/lib/python3.9/site-packages/xgboost/core.py?line=217'>218</a>\u001b[0m     \u001b[39mraise\u001b[39;00m XGBoostError(py_str(_LIB\u001b[39m.\u001b[39mXGBGetLastError()))\n",
      "\u001b[0;31mXGBoostError\u001b[0m: [22:56:07] /Users/runner/work/xgboost/xgboost/dmlc-core/src/io.cc:57: Please compile with DMLC_USE_S3=1 to use S3\nStack trace:\n  [bt] (0) 1   libxgboost.dylib                    0x00000001112974a4 dmlc::LogMessageFatal::~LogMessageFatal() + 116\n  [bt] (1) 2   libxgboost.dylib                    0x000000011147878d dmlc::io::FileSystem::GetInstance(dmlc::io::URI const&) + 653\n  [bt] (2) 3   libxgboost.dylib                    0x000000011147932a dmlc::Stream::Create(char const*, char const*, bool) + 42\n  [bt] (3) 4   libxgboost.dylib                    0x00000001112e879a xgboost::TryLoadBinary(std::__1::basic_string<char, std::__1::char_traits<char>, std::__1::allocator<char> >, bool) + 58\n  [bt] (4) 5   libxgboost.dylib                    0x00000001112e9183 xgboost::DMatrix::Load(std::__1::basic_string<char, std::__1::char_traits<char>, std::__1::allocator<char> > const&, bool, bool, std::__1::basic_string<char, std::__1::char_traits<char>, std::__1::allocator<char> > const&) + 2067\n  [bt] (5) 6   libxgboost.dylib                    0x0000000111285cfc XGDMatrixCreateFromFile + 316\n  [bt] (6) 7   libffi.7.dylib                      0x000000010ae20ead ffi_call_unix64 + 85\n  [bt] (7) 8   ???                                 0x00007ff7b56b3790 0x0 + 140701877352336\n\n"
     ]
    }
   ],
   "source": [
    "\n",
    "# read in data\n",
    "dtrain = xgb.DMatrix('https://raw.githubusercontent.com/dmlc/xgboost/master/demo/data/agaricus.txt.train')\n",
    "#dtest = xgb.DMatrix('demo/data/agaricus.txt.test')\n"
   ]
  },
  {
   "cell_type": "code",
   "execution_count": null,
   "metadata": {},
   "outputs": [],
   "source": [
    "\n",
    "# specify parameters via map\n",
    "param = {'max_depth':2, 'eta':1, 'objective':'binary:logistic' }\n",
    "num_round = 2\n",
    "\n",
    "bst = xgb.train(param, dtrain, num_round)\n"
   ]
  },
  {
   "cell_type": "code",
   "execution_count": null,
   "metadata": {},
   "outputs": [],
   "source": [
    "\n",
    "# make prediction\n",
    "preds = bst.predict(dtest)"
   ]
  }
 ],
 "metadata": {
  "interpreter": {
   "hash": "463226f144cc21b006ce6927bfc93dd00694e52c8bc6857abb6e555b983749e9"
  },
  "kernelspec": {
   "display_name": "Python 3.9.12 ('base')",
   "language": "python",
   "name": "python3"
  },
  "language_info": {
   "codemirror_mode": {
    "name": "ipython",
    "version": 3
   },
   "file_extension": ".py",
   "mimetype": "text/x-python",
   "name": "python",
   "nbconvert_exporter": "python",
   "pygments_lexer": "ipython3",
   "version": "3.9.12"
  },
  "orig_nbformat": 4
 },
 "nbformat": 4,
 "nbformat_minor": 2
}
